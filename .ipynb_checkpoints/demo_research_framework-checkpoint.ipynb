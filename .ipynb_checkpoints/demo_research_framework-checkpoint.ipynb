{
 "cells": [
  {
   "cell_type": "code",
   "execution_count": 164,
   "id": "initial_id",
   "metadata": {
    "collapsed": true,
    "ExecuteTime": {
     "end_time": "2023-10-03T22:53:58.394843900Z",
     "start_time": "2023-10-03T22:53:58.140055400Z"
    }
   },
   "outputs": [],
   "source": [
    "import numpy as np\n",
    "import pandas as pd\n",
    "from sklearn.linear_model import LinearRegression\n",
    "import matplotlib.pyplot as plt\n",
    "import seaborn as sns"
   ]
  },
  {
   "cell_type": "markdown",
   "source": [
    "# Separating first 400 date_id as train set and the rest as test set"
   ],
   "metadata": {
    "collapsed": false
   },
   "id": "c00703a00e9b538f"
  },
  {
   "cell_type": "code",
   "execution_count": 140,
   "outputs": [],
   "source": [
    "# data = pd.read_csv('train.csv')"
   ],
   "metadata": {
    "collapsed": false,
    "ExecuteTime": {
     "end_time": "2023-10-03T21:57:55.040356300Z",
     "start_time": "2023-10-03T21:57:54.856019400Z"
    }
   },
   "id": "7f385444ceecfaf0"
  },
  {
   "cell_type": "code",
   "execution_count": 141,
   "outputs": [],
   "source": [
    "# data['date_id'].unique()"
   ],
   "metadata": {
    "collapsed": false,
    "ExecuteTime": {
     "end_time": "2023-10-03T21:57:55.040356300Z",
     "start_time": "2023-10-03T21:57:54.859536600Z"
    }
   },
   "id": "fb522c311dd6fef0"
  },
  {
   "cell_type": "code",
   "execution_count": 142,
   "outputs": [],
   "source": [
    "# data['date_id'].value_counts().sort_index()# i.e. some earlier date_id have different value count than later date_id"
   ],
   "metadata": {
    "collapsed": false,
    "ExecuteTime": {
     "end_time": "2023-10-03T21:57:55.089345Z",
     "start_time": "2023-10-03T21:57:54.866685200Z"
    }
   },
   "id": "361dfdab8ae56eec"
  },
  {
   "cell_type": "code",
   "execution_count": 143,
   "outputs": [],
   "source": [
    "# train_set, test_set = data[data['date_id']<=400], data[data['date_id']>400]"
   ],
   "metadata": {
    "collapsed": false,
    "ExecuteTime": {
     "end_time": "2023-10-03T21:57:55.170446300Z",
     "start_time": "2023-10-03T21:57:54.869682700Z"
    }
   },
   "id": "aceb307bbd66fe79"
  },
  {
   "cell_type": "code",
   "execution_count": 144,
   "outputs": [],
   "source": [
    "# train_set.to_csv('research_train_set.csv', index=False)\n",
    "# train_set.to_csv('research_test_set.csv', index=False)"
   ],
   "metadata": {
    "collapsed": false,
    "ExecuteTime": {
     "end_time": "2023-10-03T21:57:55.224455400Z",
     "start_time": "2023-10-03T21:57:54.877122800Z"
    }
   },
   "id": "c40b368f5a91acf3"
  },
  {
   "cell_type": "markdown",
   "source": [
    "# Read in train and test set"
   ],
   "metadata": {
    "collapsed": false
   },
   "id": "6e4d66e81a46b224"
  },
  {
   "cell_type": "code",
   "execution_count": 145,
   "outputs": [],
   "source": [
    "train_set = pd.read_csv('research_train_set.csv')\n",
    "test_set = pd.read_csv('research_test_set.csv')"
   ],
   "metadata": {
    "collapsed": false,
    "ExecuteTime": {
     "end_time": "2023-10-03T21:58:11.010760200Z",
     "start_time": "2023-10-03T21:57:54.881129700Z"
    }
   },
   "id": "58c88f0dcb4cfd4c"
  },
  {
   "cell_type": "code",
   "execution_count": 146,
   "outputs": [
    {
     "name": "stdout",
     "output_type": "stream",
     "text": [
      "0.5 0.5\n"
     ]
    }
   ],
   "source": [
    "print(len(train_set)/(len(train_set)+len(test_set)), len(test_set)/(len(train_set)+len(test_set)))# truely a 50% split"
   ],
   "metadata": {
    "collapsed": false,
    "ExecuteTime": {
     "end_time": "2023-10-03T21:58:11.124919600Z",
     "start_time": "2023-10-03T21:58:11.107090700Z"
    }
   },
   "id": "fb67b5eb4599d0c4"
  },
  {
   "cell_type": "code",
   "execution_count": 147,
   "outputs": [
    {
     "data": {
      "text/plain": "   stock_id  date_id  seconds_in_bucket  imbalance_size  \\\n0         0        0                  0      3180602.69   \n1         1        0                  0       166603.91   \n2         2        0                  0       302879.87   \n3         3        0                  0     11917682.27   \n4         4        0                  0       447549.96   \n\n   imbalance_buy_sell_flag  reference_price  matched_size  far_price  \\\n0                        1         0.999812   13380276.64        NaN   \n1                       -1         0.999896    1642214.25        NaN   \n2                       -1         0.999561    1819368.03        NaN   \n3                       -1         1.000171   18389745.62        NaN   \n4                       -1         0.999532   17860614.95        NaN   \n\n   near_price  bid_price  bid_size  ask_price   ask_size  wap    target  \\\n0         NaN   0.999812  60651.50   1.000026    8493.03  1.0 -3.029704   \n1         NaN   0.999896   3233.04   1.000660   20605.09  1.0 -5.519986   \n2         NaN   0.999403  37956.00   1.000298   18995.00  1.0 -8.389950   \n3         NaN   0.999999   2324.90   1.000214  479032.40  1.0 -4.010200   \n4         NaN   0.999394  16485.54   1.000016     434.10  1.0 -7.349849   \n\n   time_id row_id  \n0        0  0_0_0  \n1        0  0_0_1  \n2        0  0_0_2  \n3        0  0_0_3  \n4        0  0_0_4  ",
      "text/html": "<div>\n<style scoped>\n    .dataframe tbody tr th:only-of-type {\n        vertical-align: middle;\n    }\n\n    .dataframe tbody tr th {\n        vertical-align: top;\n    }\n\n    .dataframe thead th {\n        text-align: right;\n    }\n</style>\n<table border=\"1\" class=\"dataframe\">\n  <thead>\n    <tr style=\"text-align: right;\">\n      <th></th>\n      <th>stock_id</th>\n      <th>date_id</th>\n      <th>seconds_in_bucket</th>\n      <th>imbalance_size</th>\n      <th>imbalance_buy_sell_flag</th>\n      <th>reference_price</th>\n      <th>matched_size</th>\n      <th>far_price</th>\n      <th>near_price</th>\n      <th>bid_price</th>\n      <th>bid_size</th>\n      <th>ask_price</th>\n      <th>ask_size</th>\n      <th>wap</th>\n      <th>target</th>\n      <th>time_id</th>\n      <th>row_id</th>\n    </tr>\n  </thead>\n  <tbody>\n    <tr>\n      <th>0</th>\n      <td>0</td>\n      <td>0</td>\n      <td>0</td>\n      <td>3180602.69</td>\n      <td>1</td>\n      <td>0.999812</td>\n      <td>13380276.64</td>\n      <td>NaN</td>\n      <td>NaN</td>\n      <td>0.999812</td>\n      <td>60651.50</td>\n      <td>1.000026</td>\n      <td>8493.03</td>\n      <td>1.0</td>\n      <td>-3.029704</td>\n      <td>0</td>\n      <td>0_0_0</td>\n    </tr>\n    <tr>\n      <th>1</th>\n      <td>1</td>\n      <td>0</td>\n      <td>0</td>\n      <td>166603.91</td>\n      <td>-1</td>\n      <td>0.999896</td>\n      <td>1642214.25</td>\n      <td>NaN</td>\n      <td>NaN</td>\n      <td>0.999896</td>\n      <td>3233.04</td>\n      <td>1.000660</td>\n      <td>20605.09</td>\n      <td>1.0</td>\n      <td>-5.519986</td>\n      <td>0</td>\n      <td>0_0_1</td>\n    </tr>\n    <tr>\n      <th>2</th>\n      <td>2</td>\n      <td>0</td>\n      <td>0</td>\n      <td>302879.87</td>\n      <td>-1</td>\n      <td>0.999561</td>\n      <td>1819368.03</td>\n      <td>NaN</td>\n      <td>NaN</td>\n      <td>0.999403</td>\n      <td>37956.00</td>\n      <td>1.000298</td>\n      <td>18995.00</td>\n      <td>1.0</td>\n      <td>-8.389950</td>\n      <td>0</td>\n      <td>0_0_2</td>\n    </tr>\n    <tr>\n      <th>3</th>\n      <td>3</td>\n      <td>0</td>\n      <td>0</td>\n      <td>11917682.27</td>\n      <td>-1</td>\n      <td>1.000171</td>\n      <td>18389745.62</td>\n      <td>NaN</td>\n      <td>NaN</td>\n      <td>0.999999</td>\n      <td>2324.90</td>\n      <td>1.000214</td>\n      <td>479032.40</td>\n      <td>1.0</td>\n      <td>-4.010200</td>\n      <td>0</td>\n      <td>0_0_3</td>\n    </tr>\n    <tr>\n      <th>4</th>\n      <td>4</td>\n      <td>0</td>\n      <td>0</td>\n      <td>447549.96</td>\n      <td>-1</td>\n      <td>0.999532</td>\n      <td>17860614.95</td>\n      <td>NaN</td>\n      <td>NaN</td>\n      <td>0.999394</td>\n      <td>16485.54</td>\n      <td>1.000016</td>\n      <td>434.10</td>\n      <td>1.0</td>\n      <td>-7.349849</td>\n      <td>0</td>\n      <td>0_0_4</td>\n    </tr>\n  </tbody>\n</table>\n</div>"
     },
     "execution_count": 147,
     "metadata": {},
     "output_type": "execute_result"
    }
   ],
   "source": [
    "train_set.head()"
   ],
   "metadata": {
    "collapsed": false,
    "ExecuteTime": {
     "end_time": "2023-10-03T21:58:11.197493Z",
     "start_time": "2023-10-03T21:58:11.113917700Z"
    }
   },
   "id": "c7b774bfe98aceb0"
  },
  {
   "cell_type": "markdown",
   "source": [
    "# Factor Ideas:\n",
    "1. volatility weighted synthetic index: Target computation have its own synthetic index computation component.\n",
    "2. historical beta: correlation between stock and index\n",
    "3. AR1: target usually bonce between two periods. \n",
    "4. volatility: historical volatility of the stock will continue\n",
    "5. order book imbalance shift around: how many times order books imbalance changes, indicates disagreement between buyers and sellers.\n",
    "6. order book imbalance shift magnitude: small difference shift doesn't matter if the magnitude is small.\n",
    "7. seconds_in_bucket: how stocks always perform in the same 10 seconds -> indicates possible algorithmic trading.\n",
    "8. seconds_in_bucket volatility: historically how volatile the stock is in the same 10 seconds.\n",
    "9. maximum bonce in x seconds: give the algo a feeling of how normal range should be\n",
    "10. near price - far price: the difference of the market running auction or the market running auction + continous market trading.\n",
    "11. (near price-far price)/ (far price* second in bucket): the percentage of the market running auction or the market running auction + continous market trading. indicator of market inefficiency. adjust for seconds in bucket.\n",
    "12. time 0 and time 540 might be special: time 0: people may not be ready to trade, but algos are. time 540: last chance to trade.\n",
    "13. spoofing: \"fake orders\" posted design to build order imbalance, so that it encourages the buy/sell of the stock such that it goes in the direction of the spoofer's order.\n",
    "variance of the order book imbalance suggests spoofing. since we cannot cancel after 3:50, we can only do spoofing with both side large order that cancel each other out.\n",
    "\n",
    "14. Rough fill probability: the probability for the best bid-ask price being filled. \n",
    "t=0, bid-ask price = 100-101. bid-ask vol = 1000-1000 \n",
    "t=1, bid-ask price = 100-101. bid-ask vol = 500-500\n",
    "then rough fill probability for bid-ask = 0.5 0.5\n",
    "15. stock agreeableness: if the matching size is large relative to the order book imbalance size (compare to the cross-sectional median), then the buyer and seller agree on the price \n",
    "16. volume sitting on the order book (less best-bid-and-ask) = imbalance size - bid_size-ask_size\n",
    "16. wap sitting on the order book: because wap is weighted average price for all order sitting on the order book,so we can extract parts that is not the best bid and ask price\n",
    "17. best slot1 imbalance size: same calculation as imbalance size\n",
    "18. difference in imbalance size: (imbalance_size-matched_size)/(matched_size+imbalance_size)\n",
    "19. <s>spread: best ask price - best bid price. indicate the trading cost of crossing the spread.</s>\n",
    "20. <s>spread difference: spread at time t - spread at time t-1. indicate the volatility of the spread.</s>\n",
    "20. <s>spread volatility_ts: std of spread starting from first 5 observations of the day</s>\n",
    "21. deviation of price from the closing price (closing price is the price at second_in_basket 0)\n",
    "22. <s>volume imbalance at best-bid-and-ask: (bid_size-ask_size)/(bid_size+ask_size)</s>\n",
    "23. MOC flag: nasdaq don't accept moc order after 3:55. i.e. second in bucket >= 300\n",
    "23. longer memory: correlation with certain window."
   ],
   "metadata": {
    "collapsed": false
   },
   "id": "a528566b5b08d8e"
  },
  {
   "cell_type": "code",
   "execution_count": 148,
   "outputs": [],
   "source": [
    "def spread(df):\n",
    "    \"\"\"\n",
    "    spread at the first slot\n",
    "    :param df: training set (fixed for every factor) \n",
    "    :return: np.ndarray\n",
    "    \"\"\"\n",
    "    res = df['ask_price']-df['bid_price']\n",
    "    return res.values"
   ],
   "metadata": {
    "collapsed": false,
    "ExecuteTime": {
     "end_time": "2023-10-03T21:58:11.197493Z",
     "start_time": "2023-10-03T21:58:11.153711100Z"
    }
   },
   "id": "61fcc01a651228d6"
  },
  {
   "cell_type": "code",
   "execution_count": 149,
   "outputs": [],
   "source": [
    "def spread_diff(df):\n",
    "    \"\"\"\n",
    "    spread difference between two observations\n",
    "    :param df: training set (fixed for every factor) \n",
    "    :return: np.ndarray\n",
    "    \"\"\"\n",
    "    res = df.loc[:,['stock_id','date_id','seconds_in_bucket']]\n",
    "    res['spread'] = df['ask_price']-df['bid_price']\n",
    "    res = res.groupby(['stock_id','date_id'])['spread'].diff().fillna(0)\n",
    "    return res.values"
   ],
   "metadata": {
    "collapsed": false,
    "ExecuteTime": {
     "end_time": "2023-10-03T21:58:11.197493Z",
     "start_time": "2023-10-03T21:58:11.162432200Z"
    }
   },
   "id": "50cdcd0038230c6c"
  },
  {
   "cell_type": "code",
   "execution_count": 150,
   "outputs": [],
   "source": [
    "def spread_vol_5(df):\n",
    "    \"\"\"\n",
    "    spread volatility rolling 5 observations\n",
    "    :param df: training set (fixed for every factor) \n",
    "    :return: np.ndarray\n",
    "    \"\"\"\n",
    "    res = df.loc[:,['stock_id','date_id','seconds_in_bucket']]\n",
    "    res['spread'] = df['ask_price']-df['bid_price']\n",
    "    return res.groupby(['stock_id','date_id'])['spread'].rolling(5).std().reset_index().sort_values('level_2')['spread'].values# this sort value is important because it preserves the original order of the data"
   ],
   "metadata": {
    "collapsed": false,
    "ExecuteTime": {
     "end_time": "2023-10-03T21:58:11.198500900Z",
     "start_time": "2023-10-03T21:58:11.169471600Z"
    }
   },
   "id": "3d722cd73572c9bf"
  },
  {
   "cell_type": "code",
   "execution_count": 151,
   "outputs": [],
   "source": [
    "def s1_vol_imbalance(df):\n",
    "    \"\"\"\n",
    "    volume imbalance at the first slot\n",
    "    :param df: training set (fixed for every factor) \n",
    "    :return: np.ndarray\n",
    "    \"\"\"\n",
    "    res = (df['bid_size']-df['ask_size'])/(df['bid_size']+df['ask_size'])\n",
    "    return res.values"
   ],
   "metadata": {
    "collapsed": false,
    "ExecuteTime": {
     "end_time": "2023-10-03T21:58:11.198500900Z",
     "start_time": "2023-10-03T21:58:11.175997600Z"
    }
   },
   "id": "2b721fc764f006d4"
  },
  {
   "cell_type": "code",
   "execution_count": 171,
   "outputs": [],
   "source": [
    "def MOC_flag(df):\n",
    "    res = df['seconds_in_bucket'].apply(lambda x: 1 if x>=300 else 0)\n",
    "    return res.values"
   ],
   "metadata": {
    "collapsed": false,
    "ExecuteTime": {
     "end_time": "2023-10-05T14:40:58.363165300Z",
     "start_time": "2023-10-05T14:40:58.330033100Z"
    }
   },
   "id": "526aada31575187d"
  },
  {
   "cell_type": "markdown",
   "source": [
    "# Call all factors"
   ],
   "metadata": {
    "collapsed": false
   },
   "id": "b5be87234efca3ff"
  },
  {
   "cell_type": "code",
   "execution_count": 174,
   "outputs": [],
   "source": [
    "original_factor = ['seconds_in_bucket', 'imbalance_size',\n",
    "       'imbalance_buy_sell_flag', 'reference_price', 'matched_size',\n",
    "        'bid_price', 'bid_size', 'ask_price',\n",
    "       'ask_size', 'wap',]#10 of them. far price and near price are excluded because 80% nan\n",
    "factor_name = ['spread','spread_diff','spread_vol_5','s1_vol_imbalance','MOC_flag']"
   ],
   "metadata": {
    "collapsed": false,
    "ExecuteTime": {
     "end_time": "2023-10-05T14:41:44.151686700Z",
     "start_time": "2023-10-05T14:41:44.015373500Z"
    }
   },
   "id": "ed01aebb3009ca31"
  },
  {
   "cell_type": "code",
   "execution_count": 175,
   "outputs": [],
   "source": [
    "factors = {}"
   ],
   "metadata": {
    "collapsed": false,
    "ExecuteTime": {
     "end_time": "2023-10-05T14:41:44.324212300Z",
     "start_time": "2023-10-05T14:41:44.018378600Z"
    }
   },
   "id": "3559e3f8a88cb8d1"
  },
  {
   "cell_type": "code",
   "execution_count": 176,
   "outputs": [],
   "source": [
    "for factor in original_factor:\n",
    "    factors[factor] = train_set[factor].values"
   ],
   "metadata": {
    "collapsed": false,
    "ExecuteTime": {
     "end_time": "2023-10-05T14:41:44.325211800Z",
     "start_time": "2023-10-05T14:41:44.039496700Z"
    }
   },
   "id": "9107dbec36634f8a"
  },
  {
   "cell_type": "code",
   "execution_count": 177,
   "outputs": [],
   "source": [
    "for factor in factor_name:\n",
    "    factors[factor] = eval(factor)(train_set)"
   ],
   "metadata": {
    "collapsed": false,
    "ExecuteTime": {
     "end_time": "2023-10-05T14:41:51.807892100Z",
     "start_time": "2023-10-05T14:41:44.044661300Z"
    }
   },
   "id": "85dbb799af07b599"
  },
  {
   "cell_type": "code",
   "execution_count": 178,
   "outputs": [],
   "source": [
    "factors = (np.vstack(list(factors.values())))"
   ],
   "metadata": {
    "collapsed": false,
    "ExecuteTime": {
     "end_time": "2023-10-05T14:41:51.969674700Z",
     "start_time": "2023-10-05T14:41:51.810938100Z"
    }
   },
   "id": "d3972b8e0cd4c164"
  },
  {
   "cell_type": "code",
   "execution_count": 179,
   "outputs": [
    {
     "data": {
      "text/plain": "(15, 4357980)"
     },
     "execution_count": 179,
     "metadata": {},
     "output_type": "execute_result"
    }
   ],
   "source": [
    "factors.shape"
   ],
   "metadata": {
    "collapsed": false,
    "ExecuteTime": {
     "end_time": "2023-10-05T14:41:51.987375400Z",
     "start_time": "2023-10-05T14:41:51.971674600Z"
    }
   },
   "id": "fc26185490b2ba94"
  },
  {
   "cell_type": "markdown",
   "source": [
    "# Fit a linear regression model \n",
    "to fit regular models we need to exclude nan value"
   ],
   "metadata": {
    "collapsed": false
   },
   "id": "3ff4d26d921f6199"
  },
  {
   "cell_type": "code",
   "execution_count": 192,
   "outputs": [],
   "source": [
    "import plotly.express as px"
   ],
   "metadata": {
    "collapsed": false,
    "ExecuteTime": {
     "end_time": "2023-10-05T14:46:31.688322700Z",
     "start_time": "2023-10-05T14:46:31.115782Z"
    }
   },
   "id": "7243aa87c6fe269d"
  },
  {
   "cell_type": "code",
   "execution_count": 199,
   "outputs": [
    {
     "data": {
      "application/vnd.plotly.v1+json": {
       "data": [
        {
         "coloraxis": "coloraxis",
         "name": "0",
         "texttemplate": "%{z}",
         "x": [
          "seconds_in_bucket",
          "imbalance_size",
          "imbalance_buy_sell_flag",
          "reference_price",
          "matched_size",
          "bid_price",
          "bid_size",
          "ask_price",
          "ask_size",
          "wap",
          "spread",
          "spread_diff",
          "spread_vol_5",
          "s1_vol_imbalance",
          "MOC_flag",
          "target"
         ],
         "y": [
          "seconds_in_bucket",
          "imbalance_size",
          "imbalance_buy_sell_flag",
          "reference_price",
          "matched_size",
          "bid_price",
          "bid_size",
          "ask_price",
          "ask_size",
          "wap",
          "spread",
          "spread_diff",
          "spread_vol_5",
          "s1_vol_imbalance",
          "MOC_flag",
          "target"
         ],
         "z": [
          [
           1.0,
           0.13295271913257983,
           0.005126249636086833,
           0.0018477666852602845,
           0.06686088960349759,
           0.0120510593614851,
           0.1549082673138345,
           0.009165779352503749,
           0.13753657578284542,
           0.0014313613378104254,
           0.10693334138510802,
           0.00530798630084699,
           0.10809810996711937,
           0.003936501725012693,
           0.8660254037844056,
           0.0015820397718383518
          ],
          [
           0.13295271913257983,
           1.0,
           0.008404617386644636,
           0.0032061441501269757,
           0.48697343625730616,
           0.005779905192051944,
           0.019406887658032407,
           0.011362085861783841,
           0.02150068074724048,
           0.0028023415542822337,
           0.08649690072689778,
           0.0056538001303644185,
           0.02572918428414959,
           9.93859768898971E-4,
           0.14339080444894323,
           0.001608032913185757
          ],
          [
           0.005126249636086833,
           0.008404617386644636,
           1.0,
           0.18365273857649128,
           0.007366719420291664,
           0.1335909538919013,
           0.03470456679864286,
           0.1349315670060103,
           0.012006649610949958,
           0.13632454505735425,
           0.010182291814195143,
           3.129227095534591E-4,
           0.007919846847919442,
           0.05573268590062563,
           0.006667417767070951,
           0.01819963167192249
          ],
          [
           0.0018477666852602845,
           0.0032061441501269757,
           0.18365273857649128,
           1.0,
           0.011445290553161274,
           0.9881071845288256,
           0.006807741861323551,
           0.9889119955864993,
           0.006175792948735415,
           0.9910189329701589,
           0.02926160329285039,
           5.310660917624993E-4,
           0.019685912191612247,
           0.034401453627219046,
           4.761913512214702E-4,
           0.021240022031336816
          ],
          [
           0.06686088960349759,
           0.48697343625730616,
           0.007366719420291664,
           0.011445290553161274,
           1.0,
           0.025877558840661282,
           0.078992752958703,
           0.0017942467794337838,
           0.08022233986936378,
           0.012058330307163566,
           0.13920746744329152,
           9.367931665190625E-4,
           0.06592266247308219,
           0.001960695991756903,
           0.06968698738695227,
           0.0011929208577008406
          ],
          [
           0.0120510593614851,
           0.005779905192051944,
           0.1335909538919013,
           0.9881071845288256,
           0.025877558840661282,
           1.0,
           2.3525744574880096E-4,
           0.9803425713898717,
           0.007477918245086071,
           0.9918879334762947,
           0.0738616485689192,
           0.021881514759460673,
           0.02034662718726834,
           0.026714972283403682,
           0.009508935909492963,
           0.025994654306188036
          ],
          [
           0.1549082673138345,
           0.019406887658032407,
           0.03470456679864286,
           0.006807741861323551,
           0.078992752958703,
           2.3525744574880096E-4,
           1.0,
           0.005682948236110081,
           0.27451148655166174,
           0.016721938078055127,
           0.029907598753752047,
           0.011304386867664665,
           0.1620412892439712,
           0.2398110127586234,
           0.13097826468334778,
           0.017087546445941845
          ],
          [
           0.009165779352503749,
           0.011362085861783841,
           0.1349315670060103,
           0.9889119955864993,
           0.0017942467794337838,
           0.9803425713898717,
           0.005682948236110081,
           1.0,
           0.0032239822859197425,
           0.9916463409505583,
           0.12435426938453577,
           0.021577862844512487,
           0.06388873397551946,
           0.026987029965482037,
           0.00930125466881954,
           0.02440586400923617
          ],
          [
           0.13753657578284542,
           0.02150068074724048,
           0.012006649610949958,
           0.006175792948735415,
           0.08022233986936378,
           0.007477918245086071,
           0.27451148655166174,
           0.0032239822859197425,
           1.0,
           0.017159308221245995,
           0.021310874507803442,
           0.009319756756359973,
           0.13828835845187695,
           0.20781015458192809,
           0.11833554792710903,
           0.014185760861167044
          ],
          [
           0.0014313613378104254,
           0.0028023415542822337,
           0.13632454505735425,
           0.9910189329701589,
           0.012058330307163566,
           0.9918879334762947,
           0.016721938078055127,
           0.9916463409505583,
           0.017159308221245995,
           1.0,
           0.024068949124230358,
           3.5722711362894344E-4,
           0.021108275971494544,
           0.08572296159022812,
           1.7269481020279628E-4,
           0.036649015887485065
          ],
          [
           0.10693334138510802,
           0.08649690072689778,
           0.010182291814195143,
           0.02926160329285039,
           0.13920746744329152,
           0.0738616485689192,
           0.029907598753752047,
           0.12435426938453577,
           0.021310874507803442,
           0.024068949124230358,
           1.0,
           0.21910770744273683,
           0.4252492336322175,
           0.0020562660769005052,
           0.0948337439163661,
           0.0073677642427378825
          ],
          [
           0.00530798630084699,
           0.0056538001303644185,
           3.129227095534591E-4,
           5.310660917624993E-4,
           9.367931665190625E-4,
           0.021881514759460673,
           0.011304386867664665,
           0.021577862844512487,
           0.009319756756359973,
           3.5722711362894344E-4,
           0.21910770744273683,
           1.0,
           0.020189749350525258,
           3.875353553807695E-5,
           0.024023740147122725,
           4.250393289041825E-4
          ],
          [
           0.10809810996711937,
           0.02572918428414959,
           0.007919846847919442,
           0.019685912191612247,
           0.06592266247308219,
           0.02034662718726834,
           0.1620412892439712,
           0.06388873397551946,
           0.13828835845187695,
           0.021108275971494544,
           0.4252492336322175,
           0.020189749350525258,
           1.0,
           9.153754368897466E-4,
           0.04923301647592338,
           0.006382665467551736
          ],
          [
           0.003936501725012693,
           9.93859768898971E-4,
           0.05573268590062563,
           0.034401453627219046,
           0.001960695991756903,
           0.026714972283403682,
           0.2398110127586234,
           0.026987029965482037,
           0.20781015458192809,
           0.08572296159022812,
           0.0020562660769005052,
           3.875353553807695E-5,
           9.153754368897466E-4,
           1.0,
           0.007239223607246551,
           0.11183238779789925
          ],
          [
           0.8660254037844056,
           0.14339080444894323,
           0.006667417767070951,
           4.761913512214702E-4,
           0.06968698738695227,
           0.009508935909492963,
           0.13097826468334778,
           0.00930125466881954,
           0.11833554792710903,
           1.7269481020279628E-4,
           0.0948337439163661,
           0.024023740147122725,
           0.04923301647592338,
           0.007239223607246551,
           1.0,
           0.0027179107963744608
          ],
          [
           0.0015820397718383518,
           0.001608032913185757,
           0.01819963167192249,
           0.021240022031336816,
           0.0011929208577008406,
           0.025994654306188036,
           0.017087546445941845,
           0.02440586400923617,
           0.014185760861167044,
           0.036649015887485065,
           0.0073677642427378825,
           4.250393289041825E-4,
           0.006382665467551736,
           0.11183238779789925,
           0.0027179107963744608,
           1.0
          ]
         ],
         "type": "heatmap",
         "xaxis": "x",
         "yaxis": "y",
         "hovertemplate": "x: %{x}<br>y: %{y}<br>color: %{z}<extra></extra>"
        }
       ],
       "layout": {
        "template": {
         "data": {
          "histogram2dcontour": [
           {
            "type": "histogram2dcontour",
            "colorbar": {
             "outlinewidth": 0,
             "ticks": ""
            },
            "colorscale": [
             [
              0.0,
              "#0d0887"
             ],
             [
              0.1111111111111111,
              "#46039f"
             ],
             [
              0.2222222222222222,
              "#7201a8"
             ],
             [
              0.3333333333333333,
              "#9c179e"
             ],
             [
              0.4444444444444444,
              "#bd3786"
             ],
             [
              0.5555555555555556,
              "#d8576b"
             ],
             [
              0.6666666666666666,
              "#ed7953"
             ],
             [
              0.7777777777777778,
              "#fb9f3a"
             ],
             [
              0.8888888888888888,
              "#fdca26"
             ],
             [
              1.0,
              "#f0f921"
             ]
            ]
           }
          ],
          "choropleth": [
           {
            "type": "choropleth",
            "colorbar": {
             "outlinewidth": 0,
             "ticks": ""
            }
           }
          ],
          "histogram2d": [
           {
            "type": "histogram2d",
            "colorbar": {
             "outlinewidth": 0,
             "ticks": ""
            },
            "colorscale": [
             [
              0.0,
              "#0d0887"
             ],
             [
              0.1111111111111111,
              "#46039f"
             ],
             [
              0.2222222222222222,
              "#7201a8"
             ],
             [
              0.3333333333333333,
              "#9c179e"
             ],
             [
              0.4444444444444444,
              "#bd3786"
             ],
             [
              0.5555555555555556,
              "#d8576b"
             ],
             [
              0.6666666666666666,
              "#ed7953"
             ],
             [
              0.7777777777777778,
              "#fb9f3a"
             ],
             [
              0.8888888888888888,
              "#fdca26"
             ],
             [
              1.0,
              "#f0f921"
             ]
            ]
           }
          ],
          "heatmap": [
           {
            "type": "heatmap",
            "colorbar": {
             "outlinewidth": 0,
             "ticks": ""
            },
            "colorscale": [
             [
              0.0,
              "#0d0887"
             ],
             [
              0.1111111111111111,
              "#46039f"
             ],
             [
              0.2222222222222222,
              "#7201a8"
             ],
             [
              0.3333333333333333,
              "#9c179e"
             ],
             [
              0.4444444444444444,
              "#bd3786"
             ],
             [
              0.5555555555555556,
              "#d8576b"
             ],
             [
              0.6666666666666666,
              "#ed7953"
             ],
             [
              0.7777777777777778,
              "#fb9f3a"
             ],
             [
              0.8888888888888888,
              "#fdca26"
             ],
             [
              1.0,
              "#f0f921"
             ]
            ]
           }
          ],
          "heatmapgl": [
           {
            "type": "heatmapgl",
            "colorbar": {
             "outlinewidth": 0,
             "ticks": ""
            },
            "colorscale": [
             [
              0.0,
              "#0d0887"
             ],
             [
              0.1111111111111111,
              "#46039f"
             ],
             [
              0.2222222222222222,
              "#7201a8"
             ],
             [
              0.3333333333333333,
              "#9c179e"
             ],
             [
              0.4444444444444444,
              "#bd3786"
             ],
             [
              0.5555555555555556,
              "#d8576b"
             ],
             [
              0.6666666666666666,
              "#ed7953"
             ],
             [
              0.7777777777777778,
              "#fb9f3a"
             ],
             [
              0.8888888888888888,
              "#fdca26"
             ],
             [
              1.0,
              "#f0f921"
             ]
            ]
           }
          ],
          "contourcarpet": [
           {
            "type": "contourcarpet",
            "colorbar": {
             "outlinewidth": 0,
             "ticks": ""
            }
           }
          ],
          "contour": [
           {
            "type": "contour",
            "colorbar": {
             "outlinewidth": 0,
             "ticks": ""
            },
            "colorscale": [
             [
              0.0,
              "#0d0887"
             ],
             [
              0.1111111111111111,
              "#46039f"
             ],
             [
              0.2222222222222222,
              "#7201a8"
             ],
             [
              0.3333333333333333,
              "#9c179e"
             ],
             [
              0.4444444444444444,
              "#bd3786"
             ],
             [
              0.5555555555555556,
              "#d8576b"
             ],
             [
              0.6666666666666666,
              "#ed7953"
             ],
             [
              0.7777777777777778,
              "#fb9f3a"
             ],
             [
              0.8888888888888888,
              "#fdca26"
             ],
             [
              1.0,
              "#f0f921"
             ]
            ]
           }
          ],
          "surface": [
           {
            "type": "surface",
            "colorbar": {
             "outlinewidth": 0,
             "ticks": ""
            },
            "colorscale": [
             [
              0.0,
              "#0d0887"
             ],
             [
              0.1111111111111111,
              "#46039f"
             ],
             [
              0.2222222222222222,
              "#7201a8"
             ],
             [
              0.3333333333333333,
              "#9c179e"
             ],
             [
              0.4444444444444444,
              "#bd3786"
             ],
             [
              0.5555555555555556,
              "#d8576b"
             ],
             [
              0.6666666666666666,
              "#ed7953"
             ],
             [
              0.7777777777777778,
              "#fb9f3a"
             ],
             [
              0.8888888888888888,
              "#fdca26"
             ],
             [
              1.0,
              "#f0f921"
             ]
            ]
           }
          ],
          "mesh3d": [
           {
            "type": "mesh3d",
            "colorbar": {
             "outlinewidth": 0,
             "ticks": ""
            }
           }
          ],
          "scatter": [
           {
            "fillpattern": {
             "fillmode": "overlay",
             "size": 10,
             "solidity": 0.2
            },
            "type": "scatter"
           }
          ],
          "parcoords": [
           {
            "type": "parcoords",
            "line": {
             "colorbar": {
              "outlinewidth": 0,
              "ticks": ""
             }
            }
           }
          ],
          "scatterpolargl": [
           {
            "type": "scatterpolargl",
            "marker": {
             "colorbar": {
              "outlinewidth": 0,
              "ticks": ""
             }
            }
           }
          ],
          "bar": [
           {
            "error_x": {
             "color": "#2a3f5f"
            },
            "error_y": {
             "color": "#2a3f5f"
            },
            "marker": {
             "line": {
              "color": "#E5ECF6",
              "width": 0.5
             },
             "pattern": {
              "fillmode": "overlay",
              "size": 10,
              "solidity": 0.2
             }
            },
            "type": "bar"
           }
          ],
          "scattergeo": [
           {
            "type": "scattergeo",
            "marker": {
             "colorbar": {
              "outlinewidth": 0,
              "ticks": ""
             }
            }
           }
          ],
          "scatterpolar": [
           {
            "type": "scatterpolar",
            "marker": {
             "colorbar": {
              "outlinewidth": 0,
              "ticks": ""
             }
            }
           }
          ],
          "histogram": [
           {
            "marker": {
             "pattern": {
              "fillmode": "overlay",
              "size": 10,
              "solidity": 0.2
             }
            },
            "type": "histogram"
           }
          ],
          "scattergl": [
           {
            "type": "scattergl",
            "marker": {
             "colorbar": {
              "outlinewidth": 0,
              "ticks": ""
             }
            }
           }
          ],
          "scatter3d": [
           {
            "type": "scatter3d",
            "line": {
             "colorbar": {
              "outlinewidth": 0,
              "ticks": ""
             }
            },
            "marker": {
             "colorbar": {
              "outlinewidth": 0,
              "ticks": ""
             }
            }
           }
          ],
          "scattermapbox": [
           {
            "type": "scattermapbox",
            "marker": {
             "colorbar": {
              "outlinewidth": 0,
              "ticks": ""
             }
            }
           }
          ],
          "scatterternary": [
           {
            "type": "scatterternary",
            "marker": {
             "colorbar": {
              "outlinewidth": 0,
              "ticks": ""
             }
            }
           }
          ],
          "scattercarpet": [
           {
            "type": "scattercarpet",
            "marker": {
             "colorbar": {
              "outlinewidth": 0,
              "ticks": ""
             }
            }
           }
          ],
          "carpet": [
           {
            "aaxis": {
             "endlinecolor": "#2a3f5f",
             "gridcolor": "white",
             "linecolor": "white",
             "minorgridcolor": "white",
             "startlinecolor": "#2a3f5f"
            },
            "baxis": {
             "endlinecolor": "#2a3f5f",
             "gridcolor": "white",
             "linecolor": "white",
             "minorgridcolor": "white",
             "startlinecolor": "#2a3f5f"
            },
            "type": "carpet"
           }
          ],
          "table": [
           {
            "cells": {
             "fill": {
              "color": "#EBF0F8"
             },
             "line": {
              "color": "white"
             }
            },
            "header": {
             "fill": {
              "color": "#C8D4E3"
             },
             "line": {
              "color": "white"
             }
            },
            "type": "table"
           }
          ],
          "barpolar": [
           {
            "marker": {
             "line": {
              "color": "#E5ECF6",
              "width": 0.5
             },
             "pattern": {
              "fillmode": "overlay",
              "size": 10,
              "solidity": 0.2
             }
            },
            "type": "barpolar"
           }
          ],
          "pie": [
           {
            "automargin": true,
            "type": "pie"
           }
          ]
         },
         "layout": {
          "autotypenumbers": "strict",
          "colorway": [
           "#636efa",
           "#EF553B",
           "#00cc96",
           "#ab63fa",
           "#FFA15A",
           "#19d3f3",
           "#FF6692",
           "#B6E880",
           "#FF97FF",
           "#FECB52"
          ],
          "font": {
           "color": "#2a3f5f"
          },
          "hovermode": "closest",
          "hoverlabel": {
           "align": "left"
          },
          "paper_bgcolor": "white",
          "plot_bgcolor": "#E5ECF6",
          "polar": {
           "bgcolor": "#E5ECF6",
           "angularaxis": {
            "gridcolor": "white",
            "linecolor": "white",
            "ticks": ""
           },
           "radialaxis": {
            "gridcolor": "white",
            "linecolor": "white",
            "ticks": ""
           }
          },
          "ternary": {
           "bgcolor": "#E5ECF6",
           "aaxis": {
            "gridcolor": "white",
            "linecolor": "white",
            "ticks": ""
           },
           "baxis": {
            "gridcolor": "white",
            "linecolor": "white",
            "ticks": ""
           },
           "caxis": {
            "gridcolor": "white",
            "linecolor": "white",
            "ticks": ""
           }
          },
          "coloraxis": {
           "colorbar": {
            "outlinewidth": 0,
            "ticks": ""
           }
          },
          "colorscale": {
           "sequential": [
            [
             0.0,
             "#0d0887"
            ],
            [
             0.1111111111111111,
             "#46039f"
            ],
            [
             0.2222222222222222,
             "#7201a8"
            ],
            [
             0.3333333333333333,
             "#9c179e"
            ],
            [
             0.4444444444444444,
             "#bd3786"
            ],
            [
             0.5555555555555556,
             "#d8576b"
            ],
            [
             0.6666666666666666,
             "#ed7953"
            ],
            [
             0.7777777777777778,
             "#fb9f3a"
            ],
            [
             0.8888888888888888,
             "#fdca26"
            ],
            [
             1.0,
             "#f0f921"
            ]
           ],
           "sequentialminus": [
            [
             0.0,
             "#0d0887"
            ],
            [
             0.1111111111111111,
             "#46039f"
            ],
            [
             0.2222222222222222,
             "#7201a8"
            ],
            [
             0.3333333333333333,
             "#9c179e"
            ],
            [
             0.4444444444444444,
             "#bd3786"
            ],
            [
             0.5555555555555556,
             "#d8576b"
            ],
            [
             0.6666666666666666,
             "#ed7953"
            ],
            [
             0.7777777777777778,
             "#fb9f3a"
            ],
            [
             0.8888888888888888,
             "#fdca26"
            ],
            [
             1.0,
             "#f0f921"
            ]
           ],
           "diverging": [
            [
             0,
             "#8e0152"
            ],
            [
             0.1,
             "#c51b7d"
            ],
            [
             0.2,
             "#de77ae"
            ],
            [
             0.3,
             "#f1b6da"
            ],
            [
             0.4,
             "#fde0ef"
            ],
            [
             0.5,
             "#f7f7f7"
            ],
            [
             0.6,
             "#e6f5d0"
            ],
            [
             0.7,
             "#b8e186"
            ],
            [
             0.8,
             "#7fbc41"
            ],
            [
             0.9,
             "#4d9221"
            ],
            [
             1,
             "#276419"
            ]
           ]
          },
          "xaxis": {
           "gridcolor": "white",
           "linecolor": "white",
           "ticks": "",
           "title": {
            "standoff": 15
           },
           "zerolinecolor": "white",
           "automargin": true,
           "zerolinewidth": 2
          },
          "yaxis": {
           "gridcolor": "white",
           "linecolor": "white",
           "ticks": "",
           "title": {
            "standoff": 15
           },
           "zerolinecolor": "white",
           "automargin": true,
           "zerolinewidth": 2
          },
          "scene": {
           "xaxis": {
            "backgroundcolor": "#E5ECF6",
            "gridcolor": "white",
            "linecolor": "white",
            "showbackground": true,
            "ticks": "",
            "zerolinecolor": "white",
            "gridwidth": 2
           },
           "yaxis": {
            "backgroundcolor": "#E5ECF6",
            "gridcolor": "white",
            "linecolor": "white",
            "showbackground": true,
            "ticks": "",
            "zerolinecolor": "white",
            "gridwidth": 2
           },
           "zaxis": {
            "backgroundcolor": "#E5ECF6",
            "gridcolor": "white",
            "linecolor": "white",
            "showbackground": true,
            "ticks": "",
            "zerolinecolor": "white",
            "gridwidth": 2
           }
          },
          "shapedefaults": {
           "line": {
            "color": "#2a3f5f"
           }
          },
          "annotationdefaults": {
           "arrowcolor": "#2a3f5f",
           "arrowhead": 0,
           "arrowwidth": 1
          },
          "geo": {
           "bgcolor": "white",
           "landcolor": "#E5ECF6",
           "subunitcolor": "white",
           "showland": true,
           "showlakes": true,
           "lakecolor": "white"
          },
          "title": {
           "x": 0.05
          },
          "mapbox": {
           "style": "light"
          }
         }
        },
        "xaxis": {
         "anchor": "y",
         "domain": [
          0.0,
          1.0
         ]
        },
        "yaxis": {
         "anchor": "x",
         "domain": [
          0.0,
          1.0
         ],
         "autorange": "reversed"
        },
        "coloraxis": {
         "colorscale": [
          [
           0.0,
           "#0d0887"
          ],
          [
           0.1111111111111111,
           "#46039f"
          ],
          [
           0.2222222222222222,
           "#7201a8"
          ],
          [
           0.3333333333333333,
           "#9c179e"
          ],
          [
           0.4444444444444444,
           "#bd3786"
          ],
          [
           0.5555555555555556,
           "#d8576b"
          ],
          [
           0.6666666666666666,
           "#ed7953"
          ],
          [
           0.7777777777777778,
           "#fb9f3a"
          ],
          [
           0.8888888888888888,
           "#fdca26"
          ],
          [
           1.0,
           "#f0f921"
          ]
         ]
        },
        "margin": {
         "t": 60
        },
        "title": {
         "text": "Correlation Heatmap"
        }
       },
       "config": {
        "plotlyServerURL": "https://plot.ly"
       }
      },
      "text/html": "<div>                            <div id=\"0643caf0-7b54-4961-a5b3-9422861d601a\" class=\"plotly-graph-div\" style=\"height:525px; width:100%;\"></div>            <script type=\"text/javascript\">                require([\"plotly\"], function(Plotly) {                    window.PLOTLYENV=window.PLOTLYENV || {};                                    if (document.getElementById(\"0643caf0-7b54-4961-a5b3-9422861d601a\")) {                    Plotly.newPlot(                        \"0643caf0-7b54-4961-a5b3-9422861d601a\",                        [{\"coloraxis\":\"coloraxis\",\"name\":\"0\",\"texttemplate\":\"%{z}\",\"x\":[\"seconds_in_bucket\",\"imbalance_size\",\"imbalance_buy_sell_flag\",\"reference_price\",\"matched_size\",\"bid_price\",\"bid_size\",\"ask_price\",\"ask_size\",\"wap\",\"spread\",\"spread_diff\",\"spread_vol_5\",\"s1_vol_imbalance\",\"MOC_flag\",\"target\"],\"y\":[\"seconds_in_bucket\",\"imbalance_size\",\"imbalance_buy_sell_flag\",\"reference_price\",\"matched_size\",\"bid_price\",\"bid_size\",\"ask_price\",\"ask_size\",\"wap\",\"spread\",\"spread_diff\",\"spread_vol_5\",\"s1_vol_imbalance\",\"MOC_flag\",\"target\"],\"z\":[[1.0,0.13295271913257983,0.005126249636086833,0.0018477666852602845,0.06686088960349759,0.0120510593614851,0.1549082673138345,0.009165779352503749,0.13753657578284542,0.0014313613378104254,0.10693334138510802,0.00530798630084699,0.10809810996711937,0.003936501725012693,0.8660254037844056,0.0015820397718383518],[0.13295271913257983,1.0,0.008404617386644636,0.0032061441501269757,0.48697343625730616,0.005779905192051944,0.019406887658032407,0.011362085861783841,0.02150068074724048,0.0028023415542822337,0.08649690072689778,0.0056538001303644185,0.02572918428414959,0.000993859768898971,0.14339080444894323,0.001608032913185757],[0.005126249636086833,0.008404617386644636,1.0,0.18365273857649128,0.007366719420291664,0.1335909538919013,0.03470456679864286,0.1349315670060103,0.012006649610949958,0.13632454505735425,0.010182291814195143,0.0003129227095534591,0.007919846847919442,0.05573268590062563,0.006667417767070951,0.01819963167192249],[0.0018477666852602845,0.0032061441501269757,0.18365273857649128,1.0,0.011445290553161274,0.9881071845288256,0.006807741861323551,0.9889119955864993,0.006175792948735415,0.9910189329701589,0.02926160329285039,0.0005310660917624993,0.019685912191612247,0.034401453627219046,0.0004761913512214702,0.021240022031336816],[0.06686088960349759,0.48697343625730616,0.007366719420291664,0.011445290553161274,1.0,0.025877558840661282,0.078992752958703,0.0017942467794337838,0.08022233986936378,0.012058330307163566,0.13920746744329152,0.0009367931665190625,0.06592266247308219,0.001960695991756903,0.06968698738695227,0.0011929208577008406],[0.0120510593614851,0.005779905192051944,0.1335909538919013,0.9881071845288256,0.025877558840661282,1.0,0.00023525744574880096,0.9803425713898717,0.007477918245086071,0.9918879334762947,0.0738616485689192,0.021881514759460673,0.02034662718726834,0.026714972283403682,0.009508935909492963,0.025994654306188036],[0.1549082673138345,0.019406887658032407,0.03470456679864286,0.006807741861323551,0.078992752958703,0.00023525744574880096,1.0,0.005682948236110081,0.27451148655166174,0.016721938078055127,0.029907598753752047,0.011304386867664665,0.1620412892439712,0.2398110127586234,0.13097826468334778,0.017087546445941845],[0.009165779352503749,0.011362085861783841,0.1349315670060103,0.9889119955864993,0.0017942467794337838,0.9803425713898717,0.005682948236110081,1.0,0.0032239822859197425,0.9916463409505583,0.12435426938453577,0.021577862844512487,0.06388873397551946,0.026987029965482037,0.00930125466881954,0.02440586400923617],[0.13753657578284542,0.02150068074724048,0.012006649610949958,0.006175792948735415,0.08022233986936378,0.007477918245086071,0.27451148655166174,0.0032239822859197425,1.0,0.017159308221245995,0.021310874507803442,0.009319756756359973,0.13828835845187695,0.20781015458192809,0.11833554792710903,0.014185760861167044],[0.0014313613378104254,0.0028023415542822337,0.13632454505735425,0.9910189329701589,0.012058330307163566,0.9918879334762947,0.016721938078055127,0.9916463409505583,0.017159308221245995,1.0,0.024068949124230358,0.00035722711362894344,0.021108275971494544,0.08572296159022812,0.00017269481020279628,0.036649015887485065],[0.10693334138510802,0.08649690072689778,0.010182291814195143,0.02926160329285039,0.13920746744329152,0.0738616485689192,0.029907598753752047,0.12435426938453577,0.021310874507803442,0.024068949124230358,1.0,0.21910770744273683,0.4252492336322175,0.0020562660769005052,0.0948337439163661,0.0073677642427378825],[0.00530798630084699,0.0056538001303644185,0.0003129227095534591,0.0005310660917624993,0.0009367931665190625,0.021881514759460673,0.011304386867664665,0.021577862844512487,0.009319756756359973,0.00035722711362894344,0.21910770744273683,1.0,0.020189749350525258,3.875353553807695e-05,0.024023740147122725,0.0004250393289041825],[0.10809810996711937,0.02572918428414959,0.007919846847919442,0.019685912191612247,0.06592266247308219,0.02034662718726834,0.1620412892439712,0.06388873397551946,0.13828835845187695,0.021108275971494544,0.4252492336322175,0.020189749350525258,1.0,0.0009153754368897466,0.04923301647592338,0.006382665467551736],[0.003936501725012693,0.000993859768898971,0.05573268590062563,0.034401453627219046,0.001960695991756903,0.026714972283403682,0.2398110127586234,0.026987029965482037,0.20781015458192809,0.08572296159022812,0.0020562660769005052,3.875353553807695e-05,0.0009153754368897466,1.0,0.007239223607246551,0.11183238779789925],[0.8660254037844056,0.14339080444894323,0.006667417767070951,0.0004761913512214702,0.06968698738695227,0.009508935909492963,0.13097826468334778,0.00930125466881954,0.11833554792710903,0.00017269481020279628,0.0948337439163661,0.024023740147122725,0.04923301647592338,0.007239223607246551,1.0,0.0027179107963744608],[0.0015820397718383518,0.001608032913185757,0.01819963167192249,0.021240022031336816,0.0011929208577008406,0.025994654306188036,0.017087546445941845,0.02440586400923617,0.014185760861167044,0.036649015887485065,0.0073677642427378825,0.0004250393289041825,0.006382665467551736,0.11183238779789925,0.0027179107963744608,1.0]],\"type\":\"heatmap\",\"xaxis\":\"x\",\"yaxis\":\"y\",\"hovertemplate\":\"x: %{x}\\u003cbr\\u003ey: %{y}\\u003cbr\\u003ecolor: %{z}\\u003cextra\\u003e\\u003c\\u002fextra\\u003e\"}],                        {\"template\":{\"data\":{\"histogram2dcontour\":[{\"type\":\"histogram2dcontour\",\"colorbar\":{\"outlinewidth\":0,\"ticks\":\"\"},\"colorscale\":[[0.0,\"#0d0887\"],[0.1111111111111111,\"#46039f\"],[0.2222222222222222,\"#7201a8\"],[0.3333333333333333,\"#9c179e\"],[0.4444444444444444,\"#bd3786\"],[0.5555555555555556,\"#d8576b\"],[0.6666666666666666,\"#ed7953\"],[0.7777777777777778,\"#fb9f3a\"],[0.8888888888888888,\"#fdca26\"],[1.0,\"#f0f921\"]]}],\"choropleth\":[{\"type\":\"choropleth\",\"colorbar\":{\"outlinewidth\":0,\"ticks\":\"\"}}],\"histogram2d\":[{\"type\":\"histogram2d\",\"colorbar\":{\"outlinewidth\":0,\"ticks\":\"\"},\"colorscale\":[[0.0,\"#0d0887\"],[0.1111111111111111,\"#46039f\"],[0.2222222222222222,\"#7201a8\"],[0.3333333333333333,\"#9c179e\"],[0.4444444444444444,\"#bd3786\"],[0.5555555555555556,\"#d8576b\"],[0.6666666666666666,\"#ed7953\"],[0.7777777777777778,\"#fb9f3a\"],[0.8888888888888888,\"#fdca26\"],[1.0,\"#f0f921\"]]}],\"heatmap\":[{\"type\":\"heatmap\",\"colorbar\":{\"outlinewidth\":0,\"ticks\":\"\"},\"colorscale\":[[0.0,\"#0d0887\"],[0.1111111111111111,\"#46039f\"],[0.2222222222222222,\"#7201a8\"],[0.3333333333333333,\"#9c179e\"],[0.4444444444444444,\"#bd3786\"],[0.5555555555555556,\"#d8576b\"],[0.6666666666666666,\"#ed7953\"],[0.7777777777777778,\"#fb9f3a\"],[0.8888888888888888,\"#fdca26\"],[1.0,\"#f0f921\"]]}],\"heatmapgl\":[{\"type\":\"heatmapgl\",\"colorbar\":{\"outlinewidth\":0,\"ticks\":\"\"},\"colorscale\":[[0.0,\"#0d0887\"],[0.1111111111111111,\"#46039f\"],[0.2222222222222222,\"#7201a8\"],[0.3333333333333333,\"#9c179e\"],[0.4444444444444444,\"#bd3786\"],[0.5555555555555556,\"#d8576b\"],[0.6666666666666666,\"#ed7953\"],[0.7777777777777778,\"#fb9f3a\"],[0.8888888888888888,\"#fdca26\"],[1.0,\"#f0f921\"]]}],\"contourcarpet\":[{\"type\":\"contourcarpet\",\"colorbar\":{\"outlinewidth\":0,\"ticks\":\"\"}}],\"contour\":[{\"type\":\"contour\",\"colorbar\":{\"outlinewidth\":0,\"ticks\":\"\"},\"colorscale\":[[0.0,\"#0d0887\"],[0.1111111111111111,\"#46039f\"],[0.2222222222222222,\"#7201a8\"],[0.3333333333333333,\"#9c179e\"],[0.4444444444444444,\"#bd3786\"],[0.5555555555555556,\"#d8576b\"],[0.6666666666666666,\"#ed7953\"],[0.7777777777777778,\"#fb9f3a\"],[0.8888888888888888,\"#fdca26\"],[1.0,\"#f0f921\"]]}],\"surface\":[{\"type\":\"surface\",\"colorbar\":{\"outlinewidth\":0,\"ticks\":\"\"},\"colorscale\":[[0.0,\"#0d0887\"],[0.1111111111111111,\"#46039f\"],[0.2222222222222222,\"#7201a8\"],[0.3333333333333333,\"#9c179e\"],[0.4444444444444444,\"#bd3786\"],[0.5555555555555556,\"#d8576b\"],[0.6666666666666666,\"#ed7953\"],[0.7777777777777778,\"#fb9f3a\"],[0.8888888888888888,\"#fdca26\"],[1.0,\"#f0f921\"]]}],\"mesh3d\":[{\"type\":\"mesh3d\",\"colorbar\":{\"outlinewidth\":0,\"ticks\":\"\"}}],\"scatter\":[{\"fillpattern\":{\"fillmode\":\"overlay\",\"size\":10,\"solidity\":0.2},\"type\":\"scatter\"}],\"parcoords\":[{\"type\":\"parcoords\",\"line\":{\"colorbar\":{\"outlinewidth\":0,\"ticks\":\"\"}}}],\"scatterpolargl\":[{\"type\":\"scatterpolargl\",\"marker\":{\"colorbar\":{\"outlinewidth\":0,\"ticks\":\"\"}}}],\"bar\":[{\"error_x\":{\"color\":\"#2a3f5f\"},\"error_y\":{\"color\":\"#2a3f5f\"},\"marker\":{\"line\":{\"color\":\"#E5ECF6\",\"width\":0.5},\"pattern\":{\"fillmode\":\"overlay\",\"size\":10,\"solidity\":0.2}},\"type\":\"bar\"}],\"scattergeo\":[{\"type\":\"scattergeo\",\"marker\":{\"colorbar\":{\"outlinewidth\":0,\"ticks\":\"\"}}}],\"scatterpolar\":[{\"type\":\"scatterpolar\",\"marker\":{\"colorbar\":{\"outlinewidth\":0,\"ticks\":\"\"}}}],\"histogram\":[{\"marker\":{\"pattern\":{\"fillmode\":\"overlay\",\"size\":10,\"solidity\":0.2}},\"type\":\"histogram\"}],\"scattergl\":[{\"type\":\"scattergl\",\"marker\":{\"colorbar\":{\"outlinewidth\":0,\"ticks\":\"\"}}}],\"scatter3d\":[{\"type\":\"scatter3d\",\"line\":{\"colorbar\":{\"outlinewidth\":0,\"ticks\":\"\"}},\"marker\":{\"colorbar\":{\"outlinewidth\":0,\"ticks\":\"\"}}}],\"scattermapbox\":[{\"type\":\"scattermapbox\",\"marker\":{\"colorbar\":{\"outlinewidth\":0,\"ticks\":\"\"}}}],\"scatterternary\":[{\"type\":\"scatterternary\",\"marker\":{\"colorbar\":{\"outlinewidth\":0,\"ticks\":\"\"}}}],\"scattercarpet\":[{\"type\":\"scattercarpet\",\"marker\":{\"colorbar\":{\"outlinewidth\":0,\"ticks\":\"\"}}}],\"carpet\":[{\"aaxis\":{\"endlinecolor\":\"#2a3f5f\",\"gridcolor\":\"white\",\"linecolor\":\"white\",\"minorgridcolor\":\"white\",\"startlinecolor\":\"#2a3f5f\"},\"baxis\":{\"endlinecolor\":\"#2a3f5f\",\"gridcolor\":\"white\",\"linecolor\":\"white\",\"minorgridcolor\":\"white\",\"startlinecolor\":\"#2a3f5f\"},\"type\":\"carpet\"}],\"table\":[{\"cells\":{\"fill\":{\"color\":\"#EBF0F8\"},\"line\":{\"color\":\"white\"}},\"header\":{\"fill\":{\"color\":\"#C8D4E3\"},\"line\":{\"color\":\"white\"}},\"type\":\"table\"}],\"barpolar\":[{\"marker\":{\"line\":{\"color\":\"#E5ECF6\",\"width\":0.5},\"pattern\":{\"fillmode\":\"overlay\",\"size\":10,\"solidity\":0.2}},\"type\":\"barpolar\"}],\"pie\":[{\"automargin\":true,\"type\":\"pie\"}]},\"layout\":{\"autotypenumbers\":\"strict\",\"colorway\":[\"#636efa\",\"#EF553B\",\"#00cc96\",\"#ab63fa\",\"#FFA15A\",\"#19d3f3\",\"#FF6692\",\"#B6E880\",\"#FF97FF\",\"#FECB52\"],\"font\":{\"color\":\"#2a3f5f\"},\"hovermode\":\"closest\",\"hoverlabel\":{\"align\":\"left\"},\"paper_bgcolor\":\"white\",\"plot_bgcolor\":\"#E5ECF6\",\"polar\":{\"bgcolor\":\"#E5ECF6\",\"angularaxis\":{\"gridcolor\":\"white\",\"linecolor\":\"white\",\"ticks\":\"\"},\"radialaxis\":{\"gridcolor\":\"white\",\"linecolor\":\"white\",\"ticks\":\"\"}},\"ternary\":{\"bgcolor\":\"#E5ECF6\",\"aaxis\":{\"gridcolor\":\"white\",\"linecolor\":\"white\",\"ticks\":\"\"},\"baxis\":{\"gridcolor\":\"white\",\"linecolor\":\"white\",\"ticks\":\"\"},\"caxis\":{\"gridcolor\":\"white\",\"linecolor\":\"white\",\"ticks\":\"\"}},\"coloraxis\":{\"colorbar\":{\"outlinewidth\":0,\"ticks\":\"\"}},\"colorscale\":{\"sequential\":[[0.0,\"#0d0887\"],[0.1111111111111111,\"#46039f\"],[0.2222222222222222,\"#7201a8\"],[0.3333333333333333,\"#9c179e\"],[0.4444444444444444,\"#bd3786\"],[0.5555555555555556,\"#d8576b\"],[0.6666666666666666,\"#ed7953\"],[0.7777777777777778,\"#fb9f3a\"],[0.8888888888888888,\"#fdca26\"],[1.0,\"#f0f921\"]],\"sequentialminus\":[[0.0,\"#0d0887\"],[0.1111111111111111,\"#46039f\"],[0.2222222222222222,\"#7201a8\"],[0.3333333333333333,\"#9c179e\"],[0.4444444444444444,\"#bd3786\"],[0.5555555555555556,\"#d8576b\"],[0.6666666666666666,\"#ed7953\"],[0.7777777777777778,\"#fb9f3a\"],[0.8888888888888888,\"#fdca26\"],[1.0,\"#f0f921\"]],\"diverging\":[[0,\"#8e0152\"],[0.1,\"#c51b7d\"],[0.2,\"#de77ae\"],[0.3,\"#f1b6da\"],[0.4,\"#fde0ef\"],[0.5,\"#f7f7f7\"],[0.6,\"#e6f5d0\"],[0.7,\"#b8e186\"],[0.8,\"#7fbc41\"],[0.9,\"#4d9221\"],[1,\"#276419\"]]},\"xaxis\":{\"gridcolor\":\"white\",\"linecolor\":\"white\",\"ticks\":\"\",\"title\":{\"standoff\":15},\"zerolinecolor\":\"white\",\"automargin\":true,\"zerolinewidth\":2},\"yaxis\":{\"gridcolor\":\"white\",\"linecolor\":\"white\",\"ticks\":\"\",\"title\":{\"standoff\":15},\"zerolinecolor\":\"white\",\"automargin\":true,\"zerolinewidth\":2},\"scene\":{\"xaxis\":{\"backgroundcolor\":\"#E5ECF6\",\"gridcolor\":\"white\",\"linecolor\":\"white\",\"showbackground\":true,\"ticks\":\"\",\"zerolinecolor\":\"white\",\"gridwidth\":2},\"yaxis\":{\"backgroundcolor\":\"#E5ECF6\",\"gridcolor\":\"white\",\"linecolor\":\"white\",\"showbackground\":true,\"ticks\":\"\",\"zerolinecolor\":\"white\",\"gridwidth\":2},\"zaxis\":{\"backgroundcolor\":\"#E5ECF6\",\"gridcolor\":\"white\",\"linecolor\":\"white\",\"showbackground\":true,\"ticks\":\"\",\"zerolinecolor\":\"white\",\"gridwidth\":2}},\"shapedefaults\":{\"line\":{\"color\":\"#2a3f5f\"}},\"annotationdefaults\":{\"arrowcolor\":\"#2a3f5f\",\"arrowhead\":0,\"arrowwidth\":1},\"geo\":{\"bgcolor\":\"white\",\"landcolor\":\"#E5ECF6\",\"subunitcolor\":\"white\",\"showland\":true,\"showlakes\":true,\"lakecolor\":\"white\"},\"title\":{\"x\":0.05},\"mapbox\":{\"style\":\"light\"}}},\"xaxis\":{\"anchor\":\"y\",\"domain\":[0.0,1.0]},\"yaxis\":{\"anchor\":\"x\",\"domain\":[0.0,1.0],\"autorange\":\"reversed\"},\"coloraxis\":{\"colorscale\":[[0.0,\"#0d0887\"],[0.1111111111111111,\"#46039f\"],[0.2222222222222222,\"#7201a8\"],[0.3333333333333333,\"#9c179e\"],[0.4444444444444444,\"#bd3786\"],[0.5555555555555556,\"#d8576b\"],[0.6666666666666666,\"#ed7953\"],[0.7777777777777778,\"#fb9f3a\"],[0.8888888888888888,\"#fdca26\"],[1.0,\"#f0f921\"]]},\"margin\":{\"t\":60},\"title\":{\"text\":\"Correlation Heatmap\"}},                        {\"responsive\": true}                    ).then(function(){\n                            \nvar gd = document.getElementById('0643caf0-7b54-4961-a5b3-9422861d601a');\nvar x = new MutationObserver(function (mutations, observer) {{\n        var display = window.getComputedStyle(gd).display;\n        if (!display || display === 'none') {{\n            console.log([gd, 'removed!']);\n            Plotly.purge(gd);\n            observer.disconnect();\n        }}\n}});\n\n// Listen for the removal of the full notebook cells\nvar notebookContainer = gd.closest('#notebook-container');\nif (notebookContainer) {{\n    x.observe(notebookContainer, {childList: true});\n}}\n\n// Listen for the clearing of the current output cell\nvar outputEl = gd.closest('.output');\nif (outputEl) {{\n    x.observe(outputEl, {childList: true});\n}}\n\n                        })                };                });            </script>        </div>"
     },
     "metadata": {},
     "output_type": "display_data"
    }
   ],
   "source": [
    "df = pd.DataFrame(np.vstack([factors,train_set['target'].values]).T, columns=original_factor+factor_name+['target']).dropna()\n",
    "# correlation heatmap\n",
    "fig = px.imshow(abs(df.corr()),text_auto=True,aspect='auto',)\n",
    "fig.update_layout(title='Correlation Heatmap')\n",
    "fig.show()"
   ],
   "metadata": {
    "collapsed": false,
    "ExecuteTime": {
     "end_time": "2023-10-05T14:51:12.077995700Z",
     "start_time": "2023-10-05T14:51:08.879629600Z"
    }
   },
   "id": "c2cd644daa67df33"
  },
  {
   "cell_type": "code",
   "execution_count": 181,
   "outputs": [
    {
     "data": {
      "text/plain": "11    0.000425\n4     0.001193\n0     0.001582\n1     0.001608\n14    0.002718\n12    0.006383\n10    0.007368\n8     0.014186\n6     0.017088\n2     0.018200\n3     0.021240\n7     0.024406\n5     0.025995\n9     0.036649\n13    0.111832\nName: 15, dtype: float64"
     },
     "execution_count": 181,
     "metadata": {},
     "output_type": "execute_result"
    }
   ],
   "source": [
    "abs(df.corr().iloc[-1,:-1]).sort_values()"
   ],
   "metadata": {
    "collapsed": false,
    "ExecuteTime": {
     "end_time": "2023-10-05T14:41:58.467547800Z",
     "start_time": "2023-10-05T14:41:55.893088700Z"
    }
   },
   "id": "ccd168a5e1f24d6a"
  },
  {
   "cell_type": "code",
   "execution_count": 182,
   "outputs": [],
   "source": [
    "res = test_set.loc[:,['stock_id','date_id','seconds_in_bucket']]\n",
    "res['spread'] = test_set['ask_price']-test_set['bid_price']"
   ],
   "metadata": {
    "collapsed": false,
    "ExecuteTime": {
     "end_time": "2023-10-05T14:41:58.871489500Z",
     "start_time": "2023-10-05T14:41:58.467547800Z"
    }
   },
   "id": "9269c0ed2bf24945"
  },
  {
   "cell_type": "code",
   "execution_count": 183,
   "outputs": [
    {
     "data": {
      "text/plain": "array([           nan,            nan,            nan, ...,\n       5.45912081e-05, 0.00000000e+00, 0.00000000e+00])"
     },
     "execution_count": 183,
     "metadata": {},
     "output_type": "execute_result"
    }
   ],
   "source": [
    "res.groupby(['stock_id','date_id'])['spread'].rolling(5).std().reset_index().sort_values('level_2')['spread'].values"
   ],
   "metadata": {
    "collapsed": false,
    "ExecuteTime": {
     "end_time": "2023-10-05T14:42:03.864878500Z",
     "start_time": "2023-10-05T14:41:58.874490900Z"
    }
   },
   "id": "4e1e5c95fec793cd"
  },
  {
   "cell_type": "code",
   "execution_count": 184,
   "outputs": [
    {
     "data": {
      "text/plain": "         stock_id  date_id  seconds_in_bucket    spread\n0               0        0                  0  0.000214\n1               1        0                  0  0.000764\n2               2        0                  0  0.000895\n3               3        0                  0  0.000215\n4               4        0                  0  0.000622\n...           ...      ...                ...       ...\n4357975       195      400                540  0.000111\n4357976       196      400                540  0.000263\n4357977       197      400                540  0.000101\n4357978       198      400                540  0.000279\n4357979       199      400                540  0.000318\n\n[4357980 rows x 4 columns]",
      "text/html": "<div>\n<style scoped>\n    .dataframe tbody tr th:only-of-type {\n        vertical-align: middle;\n    }\n\n    .dataframe tbody tr th {\n        vertical-align: top;\n    }\n\n    .dataframe thead th {\n        text-align: right;\n    }\n</style>\n<table border=\"1\" class=\"dataframe\">\n  <thead>\n    <tr style=\"text-align: right;\">\n      <th></th>\n      <th>stock_id</th>\n      <th>date_id</th>\n      <th>seconds_in_bucket</th>\n      <th>spread</th>\n    </tr>\n  </thead>\n  <tbody>\n    <tr>\n      <th>0</th>\n      <td>0</td>\n      <td>0</td>\n      <td>0</td>\n      <td>0.000214</td>\n    </tr>\n    <tr>\n      <th>1</th>\n      <td>1</td>\n      <td>0</td>\n      <td>0</td>\n      <td>0.000764</td>\n    </tr>\n    <tr>\n      <th>2</th>\n      <td>2</td>\n      <td>0</td>\n      <td>0</td>\n      <td>0.000895</td>\n    </tr>\n    <tr>\n      <th>3</th>\n      <td>3</td>\n      <td>0</td>\n      <td>0</td>\n      <td>0.000215</td>\n    </tr>\n    <tr>\n      <th>4</th>\n      <td>4</td>\n      <td>0</td>\n      <td>0</td>\n      <td>0.000622</td>\n    </tr>\n    <tr>\n      <th>...</th>\n      <td>...</td>\n      <td>...</td>\n      <td>...</td>\n      <td>...</td>\n    </tr>\n    <tr>\n      <th>4357975</th>\n      <td>195</td>\n      <td>400</td>\n      <td>540</td>\n      <td>0.000111</td>\n    </tr>\n    <tr>\n      <th>4357976</th>\n      <td>196</td>\n      <td>400</td>\n      <td>540</td>\n      <td>0.000263</td>\n    </tr>\n    <tr>\n      <th>4357977</th>\n      <td>197</td>\n      <td>400</td>\n      <td>540</td>\n      <td>0.000101</td>\n    </tr>\n    <tr>\n      <th>4357978</th>\n      <td>198</td>\n      <td>400</td>\n      <td>540</td>\n      <td>0.000279</td>\n    </tr>\n    <tr>\n      <th>4357979</th>\n      <td>199</td>\n      <td>400</td>\n      <td>540</td>\n      <td>0.000318</td>\n    </tr>\n  </tbody>\n</table>\n<p>4357980 rows × 4 columns</p>\n</div>"
     },
     "execution_count": 184,
     "metadata": {},
     "output_type": "execute_result"
    }
   ],
   "source": [
    "res"
   ],
   "metadata": {
    "collapsed": false,
    "ExecuteTime": {
     "end_time": "2023-10-05T14:42:03.886708400Z",
     "start_time": "2023-10-05T14:42:03.865878300Z"
    }
   },
   "id": "ca0061de19c52099"
  },
  {
   "cell_type": "code",
   "execution_count": 185,
   "outputs": [
    {
     "data": {
      "text/plain": "         stock_id  date_id  seconds_in_bucket  imbalance_size  \\\n0               0        0                  0      3180602.69   \n1               1        0                  0       166603.91   \n2               2        0                  0       302879.87   \n3               3        0                  0     11917682.27   \n4               4        0                  0       447549.96   \n...           ...      ...                ...             ...   \n4357975       195      400                540       970377.20   \n4357976       196      400                540        67450.10   \n4357977       197      400                540       376153.58   \n4357978       198      400                540       183655.04   \n4357979       199      400                540            0.00   \n\n         imbalance_buy_sell_flag  reference_price  matched_size  far_price  \\\n0                              1         0.999812   13380276.64        NaN   \n1                             -1         0.999896    1642214.25        NaN   \n2                             -1         0.999561    1819368.03        NaN   \n3                             -1         1.000171   18389745.62        NaN   \n4                             -1         0.999532   17860614.95        NaN   \n...                          ...              ...           ...        ...   \n4357975                       -1         0.998844   22995348.39   0.998620   \n4357976                       -1         0.998683    6428925.92   0.998420   \n4357977                        1         0.999465   14505279.32   0.999866   \n4357978                       -1         0.999938   59839618.44   0.999938   \n4357979                        0         1.000176   15460934.27   1.000176   \n\n         near_price  bid_price   bid_size  ask_price   ask_size       wap  \\\n0               NaN   0.999812   60651.50   1.000026    8493.03  1.000000   \n1               NaN   0.999896    3233.04   1.000660   20605.09  1.000000   \n2               NaN   0.999403   37956.00   1.000298   18995.00  1.000000   \n3               NaN   0.999999    2324.90   1.000214  479032.40  1.000000   \n4               NaN   0.999394   16485.54   1.000016     434.10  1.000000   \n...             ...        ...        ...        ...        ...       ...   \n4357975    0.998620   0.998844   99960.00   0.998955   78370.28  0.998906   \n4357976    0.998420   0.998683   36887.40   0.998946  123977.36  0.998743   \n4357977    0.999766   0.999364   20413.90   0.999465   31470.44  0.999404   \n4357978    0.999938   0.999938  562673.79   1.000217  579856.56  1.000076   \n4357979    1.000176   0.999858  116442.52   1.000176  131785.99  1.000007   \n\n           target  time_id       row_id  \n0       -3.029704        0        0_0_0  \n1       -5.519986        0        0_0_1  \n2       -8.389950        0        0_0_2  \n3       -4.010200        0        0_0_3  \n4       -7.349849        0        0_0_4  \n...           ...      ...          ...  \n4357975  1.640320    22054  400_540_195  \n4357976 -3.939867    22054  400_540_196  \n4357977  1.289845    22054  400_540_197  \n4357978 -7.489920    22054  400_540_198  \n4357979 -1.649857    22054  400_540_199  \n\n[4357980 rows x 17 columns]",
      "text/html": "<div>\n<style scoped>\n    .dataframe tbody tr th:only-of-type {\n        vertical-align: middle;\n    }\n\n    .dataframe tbody tr th {\n        vertical-align: top;\n    }\n\n    .dataframe thead th {\n        text-align: right;\n    }\n</style>\n<table border=\"1\" class=\"dataframe\">\n  <thead>\n    <tr style=\"text-align: right;\">\n      <th></th>\n      <th>stock_id</th>\n      <th>date_id</th>\n      <th>seconds_in_bucket</th>\n      <th>imbalance_size</th>\n      <th>imbalance_buy_sell_flag</th>\n      <th>reference_price</th>\n      <th>matched_size</th>\n      <th>far_price</th>\n      <th>near_price</th>\n      <th>bid_price</th>\n      <th>bid_size</th>\n      <th>ask_price</th>\n      <th>ask_size</th>\n      <th>wap</th>\n      <th>target</th>\n      <th>time_id</th>\n      <th>row_id</th>\n    </tr>\n  </thead>\n  <tbody>\n    <tr>\n      <th>0</th>\n      <td>0</td>\n      <td>0</td>\n      <td>0</td>\n      <td>3180602.69</td>\n      <td>1</td>\n      <td>0.999812</td>\n      <td>13380276.64</td>\n      <td>NaN</td>\n      <td>NaN</td>\n      <td>0.999812</td>\n      <td>60651.50</td>\n      <td>1.000026</td>\n      <td>8493.03</td>\n      <td>1.000000</td>\n      <td>-3.029704</td>\n      <td>0</td>\n      <td>0_0_0</td>\n    </tr>\n    <tr>\n      <th>1</th>\n      <td>1</td>\n      <td>0</td>\n      <td>0</td>\n      <td>166603.91</td>\n      <td>-1</td>\n      <td>0.999896</td>\n      <td>1642214.25</td>\n      <td>NaN</td>\n      <td>NaN</td>\n      <td>0.999896</td>\n      <td>3233.04</td>\n      <td>1.000660</td>\n      <td>20605.09</td>\n      <td>1.000000</td>\n      <td>-5.519986</td>\n      <td>0</td>\n      <td>0_0_1</td>\n    </tr>\n    <tr>\n      <th>2</th>\n      <td>2</td>\n      <td>0</td>\n      <td>0</td>\n      <td>302879.87</td>\n      <td>-1</td>\n      <td>0.999561</td>\n      <td>1819368.03</td>\n      <td>NaN</td>\n      <td>NaN</td>\n      <td>0.999403</td>\n      <td>37956.00</td>\n      <td>1.000298</td>\n      <td>18995.00</td>\n      <td>1.000000</td>\n      <td>-8.389950</td>\n      <td>0</td>\n      <td>0_0_2</td>\n    </tr>\n    <tr>\n      <th>3</th>\n      <td>3</td>\n      <td>0</td>\n      <td>0</td>\n      <td>11917682.27</td>\n      <td>-1</td>\n      <td>1.000171</td>\n      <td>18389745.62</td>\n      <td>NaN</td>\n      <td>NaN</td>\n      <td>0.999999</td>\n      <td>2324.90</td>\n      <td>1.000214</td>\n      <td>479032.40</td>\n      <td>1.000000</td>\n      <td>-4.010200</td>\n      <td>0</td>\n      <td>0_0_3</td>\n    </tr>\n    <tr>\n      <th>4</th>\n      <td>4</td>\n      <td>0</td>\n      <td>0</td>\n      <td>447549.96</td>\n      <td>-1</td>\n      <td>0.999532</td>\n      <td>17860614.95</td>\n      <td>NaN</td>\n      <td>NaN</td>\n      <td>0.999394</td>\n      <td>16485.54</td>\n      <td>1.000016</td>\n      <td>434.10</td>\n      <td>1.000000</td>\n      <td>-7.349849</td>\n      <td>0</td>\n      <td>0_0_4</td>\n    </tr>\n    <tr>\n      <th>...</th>\n      <td>...</td>\n      <td>...</td>\n      <td>...</td>\n      <td>...</td>\n      <td>...</td>\n      <td>...</td>\n      <td>...</td>\n      <td>...</td>\n      <td>...</td>\n      <td>...</td>\n      <td>...</td>\n      <td>...</td>\n      <td>...</td>\n      <td>...</td>\n      <td>...</td>\n      <td>...</td>\n      <td>...</td>\n    </tr>\n    <tr>\n      <th>4357975</th>\n      <td>195</td>\n      <td>400</td>\n      <td>540</td>\n      <td>970377.20</td>\n      <td>-1</td>\n      <td>0.998844</td>\n      <td>22995348.39</td>\n      <td>0.998620</td>\n      <td>0.998620</td>\n      <td>0.998844</td>\n      <td>99960.00</td>\n      <td>0.998955</td>\n      <td>78370.28</td>\n      <td>0.998906</td>\n      <td>1.640320</td>\n      <td>22054</td>\n      <td>400_540_195</td>\n    </tr>\n    <tr>\n      <th>4357976</th>\n      <td>196</td>\n      <td>400</td>\n      <td>540</td>\n      <td>67450.10</td>\n      <td>-1</td>\n      <td>0.998683</td>\n      <td>6428925.92</td>\n      <td>0.998420</td>\n      <td>0.998420</td>\n      <td>0.998683</td>\n      <td>36887.40</td>\n      <td>0.998946</td>\n      <td>123977.36</td>\n      <td>0.998743</td>\n      <td>-3.939867</td>\n      <td>22054</td>\n      <td>400_540_196</td>\n    </tr>\n    <tr>\n      <th>4357977</th>\n      <td>197</td>\n      <td>400</td>\n      <td>540</td>\n      <td>376153.58</td>\n      <td>1</td>\n      <td>0.999465</td>\n      <td>14505279.32</td>\n      <td>0.999866</td>\n      <td>0.999766</td>\n      <td>0.999364</td>\n      <td>20413.90</td>\n      <td>0.999465</td>\n      <td>31470.44</td>\n      <td>0.999404</td>\n      <td>1.289845</td>\n      <td>22054</td>\n      <td>400_540_197</td>\n    </tr>\n    <tr>\n      <th>4357978</th>\n      <td>198</td>\n      <td>400</td>\n      <td>540</td>\n      <td>183655.04</td>\n      <td>-1</td>\n      <td>0.999938</td>\n      <td>59839618.44</td>\n      <td>0.999938</td>\n      <td>0.999938</td>\n      <td>0.999938</td>\n      <td>562673.79</td>\n      <td>1.000217</td>\n      <td>579856.56</td>\n      <td>1.000076</td>\n      <td>-7.489920</td>\n      <td>22054</td>\n      <td>400_540_198</td>\n    </tr>\n    <tr>\n      <th>4357979</th>\n      <td>199</td>\n      <td>400</td>\n      <td>540</td>\n      <td>0.00</td>\n      <td>0</td>\n      <td>1.000176</td>\n      <td>15460934.27</td>\n      <td>1.000176</td>\n      <td>1.000176</td>\n      <td>0.999858</td>\n      <td>116442.52</td>\n      <td>1.000176</td>\n      <td>131785.99</td>\n      <td>1.000007</td>\n      <td>-1.649857</td>\n      <td>22054</td>\n      <td>400_540_199</td>\n    </tr>\n  </tbody>\n</table>\n<p>4357980 rows × 17 columns</p>\n</div>"
     },
     "execution_count": 185,
     "metadata": {},
     "output_type": "execute_result"
    }
   ],
   "source": [
    "test_set"
   ],
   "metadata": {
    "collapsed": false,
    "ExecuteTime": {
     "end_time": "2023-10-05T14:42:03.911536700Z",
     "start_time": "2023-10-05T14:42:03.873709700Z"
    }
   },
   "id": "ca96ffeea7c2be63"
  },
  {
   "cell_type": "code",
   "execution_count": 186,
   "outputs": [
    {
     "data": {
      "text/plain": "         stock_id  date_id  seconds_in_bucket    spread\n0               0        0                  0  0.000214\n1               1        0                  0  0.000764\n2               2        0                  0  0.000895\n3               3        0                  0  0.000215\n4               4        0                  0  0.000622\n...           ...      ...                ...       ...\n4357975       195      400                540  0.000111\n4357976       196      400                540  0.000263\n4357977       197      400                540  0.000101\n4357978       198      400                540  0.000279\n4357979       199      400                540  0.000318\n\n[4357980 rows x 4 columns]",
      "text/html": "<div>\n<style scoped>\n    .dataframe tbody tr th:only-of-type {\n        vertical-align: middle;\n    }\n\n    .dataframe tbody tr th {\n        vertical-align: top;\n    }\n\n    .dataframe thead th {\n        text-align: right;\n    }\n</style>\n<table border=\"1\" class=\"dataframe\">\n  <thead>\n    <tr style=\"text-align: right;\">\n      <th></th>\n      <th>stock_id</th>\n      <th>date_id</th>\n      <th>seconds_in_bucket</th>\n      <th>spread</th>\n    </tr>\n  </thead>\n  <tbody>\n    <tr>\n      <th>0</th>\n      <td>0</td>\n      <td>0</td>\n      <td>0</td>\n      <td>0.000214</td>\n    </tr>\n    <tr>\n      <th>1</th>\n      <td>1</td>\n      <td>0</td>\n      <td>0</td>\n      <td>0.000764</td>\n    </tr>\n    <tr>\n      <th>2</th>\n      <td>2</td>\n      <td>0</td>\n      <td>0</td>\n      <td>0.000895</td>\n    </tr>\n    <tr>\n      <th>3</th>\n      <td>3</td>\n      <td>0</td>\n      <td>0</td>\n      <td>0.000215</td>\n    </tr>\n    <tr>\n      <th>4</th>\n      <td>4</td>\n      <td>0</td>\n      <td>0</td>\n      <td>0.000622</td>\n    </tr>\n    <tr>\n      <th>...</th>\n      <td>...</td>\n      <td>...</td>\n      <td>...</td>\n      <td>...</td>\n    </tr>\n    <tr>\n      <th>4357975</th>\n      <td>195</td>\n      <td>400</td>\n      <td>540</td>\n      <td>0.000111</td>\n    </tr>\n    <tr>\n      <th>4357976</th>\n      <td>196</td>\n      <td>400</td>\n      <td>540</td>\n      <td>0.000263</td>\n    </tr>\n    <tr>\n      <th>4357977</th>\n      <td>197</td>\n      <td>400</td>\n      <td>540</td>\n      <td>0.000101</td>\n    </tr>\n    <tr>\n      <th>4357978</th>\n      <td>198</td>\n      <td>400</td>\n      <td>540</td>\n      <td>0.000279</td>\n    </tr>\n    <tr>\n      <th>4357979</th>\n      <td>199</td>\n      <td>400</td>\n      <td>540</td>\n      <td>0.000318</td>\n    </tr>\n  </tbody>\n</table>\n<p>4357980 rows × 4 columns</p>\n</div>"
     },
     "execution_count": 186,
     "metadata": {},
     "output_type": "execute_result"
    }
   ],
   "source": [
    "res"
   ],
   "metadata": {
    "collapsed": false,
    "ExecuteTime": {
     "end_time": "2023-10-05T14:42:03.927852200Z",
     "start_time": "2023-10-05T14:42:03.895065500Z"
    }
   },
   "id": "25b82c944f8e2db5"
  },
  {
   "cell_type": "code",
   "execution_count": 187,
   "outputs": [
    {
     "data": {
      "text/plain": "0                 NaN\n191               NaN\n382               NaN\n573               NaN\n764      5.860631e-05\n955      5.860631e-05\n1146     4.785185e-05\n1337     4.785185e-05\n1528     4.774202e-05\n1719     4.774202e-05\n1910     4.774202e-05\n2101     4.774202e-05\n2292     5.842517e-05\n2483     5.860631e-05\n2674     5.860631e-05\n2865     5.860631e-05\n3056     5.860631e-05\n3247     5.879031e-05\n3438     5.888124e-05\n3629     4.829907e-05\n3820     4.829907e-05\n4011     5.888124e-05\n4202     5.860631e-05\n4393     5.860631e-05\n4584     5.860631e-05\n4775     4.796561e-05\n4966     5.879031e-05\n5157     5.888124e-05\n5348     8.958348e-05\n5539     1.789860e-04\n5730     1.789860e-04\n5921     1.789860e-04\n6112     1.621752e-04\n6303     1.757891e-04\n6494     5.879031e-05\n6685     5.860631e-05\n6876     5.860631e-05\n7067     4.785185e-05\n7258     4.785185e-05\n7449     2.803251e-12\n7640     2.803251e-12\n7831     2.803251e-12\n8022     2.803251e-12\n8213     2.803251e-12\n8404     2.803251e-12\n8595     2.803251e-12\n8786     4.472136e-07\n8977     4.472136e-07\n9168     5.477226e-07\n9359     5.477226e-07\n9550     5.477226e-07\n9741     5.477226e-07\n9932     4.807806e-05\n10123    4.807806e-05\n10314    4.807806e-05\nName: spread, dtype: float64"
     },
     "execution_count": 187,
     "metadata": {},
     "output_type": "execute_result"
    }
   ],
   "source": [
    "res[(res['stock_id']==0)&(res['date_id']==0)]['spread'].rolling(5).std()"
   ],
   "metadata": {
    "collapsed": false,
    "ExecuteTime": {
     "end_time": "2023-10-05T14:42:04.047532900Z",
     "start_time": "2023-10-05T14:42:03.905981200Z"
    }
   },
   "id": "e7fc7335b321ec4"
  }
 ],
 "metadata": {
  "kernelspec": {
   "display_name": "Python 3",
   "language": "python",
   "name": "python3"
  },
  "language_info": {
   "codemirror_mode": {
    "name": "ipython",
    "version": 2
   },
   "file_extension": ".py",
   "mimetype": "text/x-python",
   "name": "python",
   "nbconvert_exporter": "python",
   "pygments_lexer": "ipython2",
   "version": "2.7.6"
  }
 },
 "nbformat": 4,
 "nbformat_minor": 5
}
