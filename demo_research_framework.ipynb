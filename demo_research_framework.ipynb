{
 "cells": [
  {
   "cell_type": "code",
   "execution_count": 341,
   "id": "initial_id",
   "metadata": {
    "collapsed": true,
    "ExecuteTime": {
     "end_time": "2023-10-05T18:26:40.282694800Z",
     "start_time": "2023-10-05T18:26:40.235525700Z"
    }
   },
   "outputs": [],
   "source": [
    "import numpy as np\n",
    "import pandas as pd\n",
    "from sklearn.linear_model import LassoLarsIC\n",
    "import matplotlib.pyplot as plt\n",
    "import seaborn as sns"
   ]
  },
  {
   "cell_type": "markdown",
   "source": [
    "# Separating first 400 date_id as train set and the rest as test set"
   ],
   "metadata": {
    "collapsed": false
   },
   "id": "c00703a00e9b538f"
  },
  {
   "cell_type": "code",
   "execution_count": 237,
   "outputs": [],
   "source": [
    "# data = pd.read_csv('train.csv')"
   ],
   "metadata": {
    "collapsed": false,
    "ExecuteTime": {
     "end_time": "2023-10-05T15:18:13.820666300Z",
     "start_time": "2023-10-05T15:18:13.600275400Z"
    }
   },
   "id": "7f385444ceecfaf0"
  },
  {
   "cell_type": "code",
   "execution_count": 238,
   "outputs": [],
   "source": [
    "# data['date_id'].unique()"
   ],
   "metadata": {
    "collapsed": false,
    "ExecuteTime": {
     "end_time": "2023-10-05T15:18:13.820666300Z",
     "start_time": "2023-10-05T15:18:13.603284600Z"
    }
   },
   "id": "fb522c311dd6fef0"
  },
  {
   "cell_type": "code",
   "execution_count": 239,
   "outputs": [],
   "source": [
    "# data['date_id'].value_counts().sort_index()# i.e. some earlier date_id have different value count than later date_id"
   ],
   "metadata": {
    "collapsed": false,
    "ExecuteTime": {
     "end_time": "2023-10-05T15:18:13.820666300Z",
     "start_time": "2023-10-05T15:18:13.606833200Z"
    }
   },
   "id": "361dfdab8ae56eec"
  },
  {
   "cell_type": "code",
   "execution_count": 240,
   "outputs": [],
   "source": [
    "# train_set, test_set = data[data['date_id']<=400], data[data['date_id']>400]"
   ],
   "metadata": {
    "collapsed": false,
    "ExecuteTime": {
     "end_time": "2023-10-05T15:18:13.870968800Z",
     "start_time": "2023-10-05T15:18:13.611684100Z"
    }
   },
   "id": "aceb307bbd66fe79"
  },
  {
   "cell_type": "code",
   "execution_count": 241,
   "outputs": [],
   "source": [
    "# train_set.to_csv('research_train_set.csv', index=False)\n",
    "# train_set.to_csv('research_test_set.csv', index=False)"
   ],
   "metadata": {
    "collapsed": false,
    "ExecuteTime": {
     "end_time": "2023-10-05T15:18:13.871969700Z",
     "start_time": "2023-10-05T15:18:13.617128200Z"
    }
   },
   "id": "c40b368f5a91acf3"
  },
  {
   "cell_type": "markdown",
   "source": [
    "# Read in train and test set"
   ],
   "metadata": {
    "collapsed": false
   },
   "id": "6e4d66e81a46b224"
  },
  {
   "cell_type": "code",
   "execution_count": 242,
   "outputs": [],
   "source": [
    "train_set = pd.read_csv('research_train_set.csv')\n",
    "test_set = pd.read_csv('research_test_set.csv')"
   ],
   "metadata": {
    "collapsed": false,
    "ExecuteTime": {
     "end_time": "2023-10-05T15:18:29.183234600Z",
     "start_time": "2023-10-05T15:18:13.621645800Z"
    }
   },
   "id": "58c88f0dcb4cfd4c"
  },
  {
   "cell_type": "code",
   "execution_count": 243,
   "outputs": [
    {
     "name": "stdout",
     "output_type": "stream",
     "text": [
      "0.5 0.5\n"
     ]
    }
   ],
   "source": [
    "print(len(train_set)/(len(train_set)+len(test_set)), len(test_set)/(len(train_set)+len(test_set)))# truely a 50% split"
   ],
   "metadata": {
    "collapsed": false,
    "ExecuteTime": {
     "end_time": "2023-10-05T15:18:29.203957Z",
     "start_time": "2023-10-05T15:18:29.186949600Z"
    }
   },
   "id": "fb67b5eb4599d0c4"
  },
  {
   "cell_type": "code",
   "execution_count": 244,
   "outputs": [
    {
     "data": {
      "text/plain": "   stock_id  date_id  seconds_in_bucket  imbalance_size  \\\n0         0        0                  0      3180602.69   \n1         1        0                  0       166603.91   \n2         2        0                  0       302879.87   \n3         3        0                  0     11917682.27   \n4         4        0                  0       447549.96   \n\n   imbalance_buy_sell_flag  reference_price  matched_size  far_price  \\\n0                        1         0.999812   13380276.64        NaN   \n1                       -1         0.999896    1642214.25        NaN   \n2                       -1         0.999561    1819368.03        NaN   \n3                       -1         1.000171   18389745.62        NaN   \n4                       -1         0.999532   17860614.95        NaN   \n\n   near_price  bid_price  bid_size  ask_price   ask_size  wap    target  \\\n0         NaN   0.999812  60651.50   1.000026    8493.03  1.0 -3.029704   \n1         NaN   0.999896   3233.04   1.000660   20605.09  1.0 -5.519986   \n2         NaN   0.999403  37956.00   1.000298   18995.00  1.0 -8.389950   \n3         NaN   0.999999   2324.90   1.000214  479032.40  1.0 -4.010200   \n4         NaN   0.999394  16485.54   1.000016     434.10  1.0 -7.349849   \n\n   time_id row_id  \n0        0  0_0_0  \n1        0  0_0_1  \n2        0  0_0_2  \n3        0  0_0_3  \n4        0  0_0_4  ",
      "text/html": "<div>\n<style scoped>\n    .dataframe tbody tr th:only-of-type {\n        vertical-align: middle;\n    }\n\n    .dataframe tbody tr th {\n        vertical-align: top;\n    }\n\n    .dataframe thead th {\n        text-align: right;\n    }\n</style>\n<table border=\"1\" class=\"dataframe\">\n  <thead>\n    <tr style=\"text-align: right;\">\n      <th></th>\n      <th>stock_id</th>\n      <th>date_id</th>\n      <th>seconds_in_bucket</th>\n      <th>imbalance_size</th>\n      <th>imbalance_buy_sell_flag</th>\n      <th>reference_price</th>\n      <th>matched_size</th>\n      <th>far_price</th>\n      <th>near_price</th>\n      <th>bid_price</th>\n      <th>bid_size</th>\n      <th>ask_price</th>\n      <th>ask_size</th>\n      <th>wap</th>\n      <th>target</th>\n      <th>time_id</th>\n      <th>row_id</th>\n    </tr>\n  </thead>\n  <tbody>\n    <tr>\n      <th>0</th>\n      <td>0</td>\n      <td>0</td>\n      <td>0</td>\n      <td>3180602.69</td>\n      <td>1</td>\n      <td>0.999812</td>\n      <td>13380276.64</td>\n      <td>NaN</td>\n      <td>NaN</td>\n      <td>0.999812</td>\n      <td>60651.50</td>\n      <td>1.000026</td>\n      <td>8493.03</td>\n      <td>1.0</td>\n      <td>-3.029704</td>\n      <td>0</td>\n      <td>0_0_0</td>\n    </tr>\n    <tr>\n      <th>1</th>\n      <td>1</td>\n      <td>0</td>\n      <td>0</td>\n      <td>166603.91</td>\n      <td>-1</td>\n      <td>0.999896</td>\n      <td>1642214.25</td>\n      <td>NaN</td>\n      <td>NaN</td>\n      <td>0.999896</td>\n      <td>3233.04</td>\n      <td>1.000660</td>\n      <td>20605.09</td>\n      <td>1.0</td>\n      <td>-5.519986</td>\n      <td>0</td>\n      <td>0_0_1</td>\n    </tr>\n    <tr>\n      <th>2</th>\n      <td>2</td>\n      <td>0</td>\n      <td>0</td>\n      <td>302879.87</td>\n      <td>-1</td>\n      <td>0.999561</td>\n      <td>1819368.03</td>\n      <td>NaN</td>\n      <td>NaN</td>\n      <td>0.999403</td>\n      <td>37956.00</td>\n      <td>1.000298</td>\n      <td>18995.00</td>\n      <td>1.0</td>\n      <td>-8.389950</td>\n      <td>0</td>\n      <td>0_0_2</td>\n    </tr>\n    <tr>\n      <th>3</th>\n      <td>3</td>\n      <td>0</td>\n      <td>0</td>\n      <td>11917682.27</td>\n      <td>-1</td>\n      <td>1.000171</td>\n      <td>18389745.62</td>\n      <td>NaN</td>\n      <td>NaN</td>\n      <td>0.999999</td>\n      <td>2324.90</td>\n      <td>1.000214</td>\n      <td>479032.40</td>\n      <td>1.0</td>\n      <td>-4.010200</td>\n      <td>0</td>\n      <td>0_0_3</td>\n    </tr>\n    <tr>\n      <th>4</th>\n      <td>4</td>\n      <td>0</td>\n      <td>0</td>\n      <td>447549.96</td>\n      <td>-1</td>\n      <td>0.999532</td>\n      <td>17860614.95</td>\n      <td>NaN</td>\n      <td>NaN</td>\n      <td>0.999394</td>\n      <td>16485.54</td>\n      <td>1.000016</td>\n      <td>434.10</td>\n      <td>1.0</td>\n      <td>-7.349849</td>\n      <td>0</td>\n      <td>0_0_4</td>\n    </tr>\n  </tbody>\n</table>\n</div>"
     },
     "execution_count": 244,
     "metadata": {},
     "output_type": "execute_result"
    }
   ],
   "source": [
    "train_set.head()"
   ],
   "metadata": {
    "collapsed": false,
    "ExecuteTime": {
     "end_time": "2023-10-05T15:18:29.265969800Z",
     "start_time": "2023-10-05T15:18:29.190958900Z"
    }
   },
   "id": "c7b774bfe98aceb0"
  },
  {
   "cell_type": "markdown",
   "source": [
    "# Factor Ideas:\n",
    "1. volatility weighted synthetic index: Target computation have its own synthetic index computation component.\n",
    "2. historical beta: correlation between stock and index\n",
    "3. AR1: target usually bonce between two periods. \n",
    "4. volatility: historical volatility of the stock will continue\n",
    "5. order book imbalance shift around: how many times order books imbalance changes, indicates disagreement between buyers and sellers.\n",
    "6. order book imbalance shift magnitude: small difference shift doesn't matter if the magnitude is small.\n",
    "7. seconds_in_bucket: how stocks always perform in the same 10 seconds -> indicates possible algorithmic trading.\n",
    "8. seconds_in_bucket volatility: historically how volatile the stock is in the same 10 seconds.\n",
    "9. maximum bonce in x seconds: give the algo a feeling of how normal range should be\n",
    "10. near price - far price: the difference of the market running auction or the market running auction + continous market trading.\n",
    "11. (near price-far price)/ (far price* second in bucket): the percentage of the market running auction or the market running auction + continous market trading. indicator of market inefficiency. adjust for seconds in bucket.\n",
    "12. time 0 and time 540 might be special: time 0: people may not be ready to trade, but algos are. time 540: last chance to trade.\n",
    "13. spoofing: \"fake orders\" posted design to build order imbalance, so that it encourages the buy/sell of the stock such that it goes in the direction of the spoofer's order.\n",
    "variance of the order book imbalance suggests spoofing. since we cannot cancel after 3:50, we can only do spoofing with both side large order that cancel each other out.\n",
    "\n",
    "14. Rough fill probability: the probability for the best bid-ask price being filled. \n",
    "t=0, bid-ask price = 100-101. bid-ask vol = 1000-1000 \n",
    "t=1, bid-ask price = 100-101. bid-ask vol = 500-500\n",
    "then rough fill probability for bid-ask = 0.5 0.5\n",
    "15. stock agreeableness: if the matching size is large relative to the order book imbalance size (compare to the cross-sectional median), then the buyer and seller agree on the price \n",
    "16. volume sitting on the order book (less best-bid-and-ask) = imbalance size - bid_size-ask_size\n",
    "16. wap sitting on the order book: because wap is weighted average price for all order sitting on the order book,so we can extract parts that is not the best bid and ask price\n",
    "17. best slot1 imbalance size: same calculation as imbalance size\n",
    "18. difference in imbalance size: (imbalance_size-matched_size)/(matched_size+imbalance_size)\n",
    "19. <s>spread: best ask price - best bid price. indicate the trading cost of crossing the spread.</s>\n",
    "20. <s>spread difference: spread at time t - spread at time t-1. indicate the volatility of the spread.</s>\n",
    "20. <s>spread volatility_ts: std of spread starting from first 5 observations of the day</s>\n",
    "21. <s>deviation of price from the closing price (closing price is the price at second_in_basket 0) using mid price</s>\n",
    "22. <s>volume imbalance at best-bid-and-ask: (bid_size-ask_size)/(bid_size+ask_size)</s>\n",
    "23. <s>MOC flag: nasdaq don't accept moc order after 3:55. i.e. second in bucket >= 300</s>\n",
    "23. longer memory: correlation with certain window."
   ],
   "metadata": {
    "collapsed": false
   },
   "id": "a528566b5b08d8e"
  },
  {
   "cell_type": "code",
   "execution_count": 245,
   "outputs": [],
   "source": [
    "def spread(df):\n",
    "    \"\"\"\n",
    "    spread at the first slot\n",
    "    :param df: training set (fixed for every factor) \n",
    "    :return: np.ndarray\n",
    "    \"\"\"\n",
    "    res = df['ask_price']-df['bid_price']\n",
    "    return res.values"
   ],
   "metadata": {
    "collapsed": false,
    "ExecuteTime": {
     "end_time": "2023-10-05T15:18:29.266969800Z",
     "start_time": "2023-10-05T15:18:29.213082700Z"
    }
   },
   "id": "61fcc01a651228d6"
  },
  {
   "cell_type": "code",
   "execution_count": 246,
   "outputs": [],
   "source": [
    "def spread_diff(df):\n",
    "    \"\"\"\n",
    "    spread difference between two observations\n",
    "    :param df: training set (fixed for every factor) \n",
    "    :return: np.ndarray\n",
    "    \"\"\"\n",
    "    res = df.loc[:,['stock_id','date_id','seconds_in_bucket']]\n",
    "    res['spread'] = df['ask_price']-df['bid_price']\n",
    "    res = res.groupby(['stock_id','date_id'])['spread'].diff().fillna(0)\n",
    "    return res.values"
   ],
   "metadata": {
    "collapsed": false,
    "ExecuteTime": {
     "end_time": "2023-10-05T15:18:29.266969800Z",
     "start_time": "2023-10-05T15:18:29.218527100Z"
    }
   },
   "id": "50cdcd0038230c6c"
  },
  {
   "cell_type": "code",
   "execution_count": 247,
   "outputs": [],
   "source": [
    "def spread_vol_5(df):\n",
    "    \"\"\"\n",
    "    spread volatility rolling 5 observations\n",
    "    :param df: training set (fixed for every factor) \n",
    "    :return: np.ndarray\n",
    "    \"\"\"\n",
    "    res = df.loc[:,['stock_id','date_id','seconds_in_bucket']]\n",
    "    res['spread'] = df['ask_price']-df['bid_price']\n",
    "    return res.groupby(['stock_id','date_id'])['spread'].rolling(5).std().reset_index().sort_values('level_2')['spread'].values# this sort value is important because it preserves the original order of the data"
   ],
   "metadata": {
    "collapsed": false,
    "ExecuteTime": {
     "end_time": "2023-10-05T15:18:29.266969800Z",
     "start_time": "2023-10-05T15:18:29.225926300Z"
    }
   },
   "id": "3d722cd73572c9bf"
  },
  {
   "cell_type": "code",
   "execution_count": 248,
   "outputs": [],
   "source": [
    "def s1_vol_imbalance(df):\n",
    "    \"\"\"\n",
    "    volume imbalance at the first slot\n",
    "    :param df: training set (fixed for every factor) \n",
    "    :return: np.ndarray\n",
    "    \"\"\"\n",
    "    res = (df['bid_size']-df['ask_size'])/(df['bid_size']+df['ask_size'])\n",
    "    return res.values"
   ],
   "metadata": {
    "collapsed": false,
    "ExecuteTime": {
     "end_time": "2023-10-05T15:18:29.266969800Z",
     "start_time": "2023-10-05T15:18:29.232581900Z"
    }
   },
   "id": "2b721fc764f006d4"
  },
  {
   "cell_type": "code",
   "execution_count": 249,
   "outputs": [],
   "source": [
    "def MOC_flag(df):\n",
    "    \"\"\"\n",
    "    MOC flag: after seconds_in_bucket >= 300, we cannot submit MOC order\n",
    "    :param df: \n",
    "    :return: \n",
    "    \"\"\"\n",
    "    res = df['seconds_in_bucket'].apply(lambda x: 1 if x>=300 else 0)\n",
    "    return res.values"
   ],
   "metadata": {
    "collapsed": false,
    "ExecuteTime": {
     "end_time": "2023-10-05T15:18:29.267969800Z",
     "start_time": "2023-10-05T15:18:29.237101200Z"
    }
   },
   "id": "526aada31575187d"
  },
  {
   "cell_type": "code",
   "execution_count": 250,
   "outputs": [],
   "source": [
    "def mid_price(df):\n",
    "    \"\"\"\n",
    "    mid-price at the bba\n",
    "    :param df: training set (fixed for every factor) \n",
    "    :return: np.ndarray\n",
    "    \"\"\"\n",
    "    res = (df['bid_price']+df['ask_price'])/2\n",
    "    return res.values"
   ],
   "metadata": {
    "collapsed": false,
    "ExecuteTime": {
     "end_time": "2023-10-05T15:18:29.267969800Z",
     "start_time": "2023-10-05T15:18:29.241880400Z"
    }
   },
   "id": "8769dae875f4dddd"
  },
  {
   "cell_type": "code",
   "execution_count": 282,
   "outputs": [],
   "source": [
    "def mid_price_deviate_from_start(df):\n",
    "    res = df.loc[:,['stock_id','date_id','bid_price','ask_price']]\n",
    "    res['mid_price'] = mid_price(df)\n",
    "    res['mid_price_deviate_from_start'] = res.groupby(['stock_id','date_id'])['mid_price'].transform('first')-res['mid_price']\n",
    "    return res['mid_price_deviate_from_start'].values"
   ],
   "metadata": {
    "collapsed": false,
    "ExecuteTime": {
     "end_time": "2023-10-05T17:57:02.664307400Z",
     "start_time": "2023-10-05T17:57:02.586680900Z"
    }
   },
   "id": "5044a8e6904ce82f"
  },
  {
   "cell_type": "markdown",
   "source": [
    "# Call all factors"
   ],
   "metadata": {
    "collapsed": false
   },
   "id": "b5be87234efca3ff"
  },
  {
   "cell_type": "code",
   "execution_count": 293,
   "outputs": [],
   "source": [
    "# original_factor = ['seconds_in_bucket', 'imbalance_size',\n",
    "#        'imbalance_buy_sell_flag', 'reference_price', 'matched_size',\n",
    "#         'bid_price', 'bid_size', 'ask_price',\n",
    "#        'ask_size', 'wap','far_price', 'near_price']#10 of them. far price and near price are excluded because 80% nan\n",
    "original_factor = ['seconds_in_bucket', 'imbalance_size',\n",
    "       'imbalance_buy_sell_flag', 'reference_price', 'matched_size',\n",
    "        'bid_price', 'bid_size', 'ask_price',\n",
    "       'ask_size', 'wap']\n",
    "factor_name = ['spread','spread_diff','spread_vol_5','s1_vol_imbalance','MOC_flag','mid_price','mid_price_deviate_from_start']"
   ],
   "metadata": {
    "collapsed": false,
    "ExecuteTime": {
     "end_time": "2023-10-05T17:58:32.670451200Z",
     "start_time": "2023-10-05T17:58:32.646939100Z"
    }
   },
   "id": "ed01aebb3009ca31"
  },
  {
   "cell_type": "code",
   "execution_count": 294,
   "outputs": [],
   "source": [
    "factors = {}"
   ],
   "metadata": {
    "collapsed": false,
    "ExecuteTime": {
     "end_time": "2023-10-05T17:58:34.703946800Z",
     "start_time": "2023-10-05T17:58:34.701940Z"
    }
   },
   "id": "3559e3f8a88cb8d1"
  },
  {
   "cell_type": "code",
   "execution_count": 295,
   "outputs": [],
   "source": [
    "for factor in original_factor:\n",
    "    factors[factor] = train_set[factor].values"
   ],
   "metadata": {
    "collapsed": false,
    "ExecuteTime": {
     "end_time": "2023-10-05T17:58:35.343663900Z",
     "start_time": "2023-10-05T17:58:35.335151800Z"
    }
   },
   "id": "9107dbec36634f8a"
  },
  {
   "cell_type": "code",
   "execution_count": 296,
   "outputs": [],
   "source": [
    "for factor in factor_name:\n",
    "    factors[factor] = eval(factor)(train_set)"
   ],
   "metadata": {
    "collapsed": false,
    "ExecuteTime": {
     "end_time": "2023-10-05T17:58:44.766458800Z",
     "start_time": "2023-10-05T17:58:36.407283Z"
    }
   },
   "id": "85dbb799af07b599"
  },
  {
   "cell_type": "code",
   "execution_count": 297,
   "outputs": [],
   "source": [
    "factors = (np.vstack(list(factors.values())))"
   ],
   "metadata": {
    "collapsed": false,
    "ExecuteTime": {
     "end_time": "2023-10-05T17:58:44.983156900Z",
     "start_time": "2023-10-05T17:58:44.770459600Z"
    }
   },
   "id": "d3972b8e0cd4c164"
  },
  {
   "cell_type": "code",
   "execution_count": 322,
   "outputs": [
    {
     "data": {
      "text/plain": "(17, 4357980)"
     },
     "execution_count": 322,
     "metadata": {},
     "output_type": "execute_result"
    }
   ],
   "source": [
    "factors.shape"
   ],
   "metadata": {
    "collapsed": false,
    "ExecuteTime": {
     "end_time": "2023-10-05T18:15:18.889493600Z",
     "start_time": "2023-10-05T18:15:18.753817300Z"
    }
   },
   "id": "fc26185490b2ba94"
  },
  {
   "cell_type": "markdown",
   "source": [
    "# Analyse the quality of factors"
   ],
   "metadata": {
    "collapsed": false
   },
   "id": "3ff4d26d921f6199"
  },
  {
   "cell_type": "code",
   "execution_count": 323,
   "outputs": [],
   "source": [
    "import plotly.express as px"
   ],
   "metadata": {
    "collapsed": false,
    "ExecuteTime": {
     "end_time": "2023-10-05T18:15:19.169670500Z",
     "start_time": "2023-10-05T18:15:18.776342900Z"
    }
   },
   "id": "7243aa87c6fe269d"
  },
  {
   "cell_type": "code",
   "execution_count": 324,
   "outputs": [
    {
     "data": {
      "application/vnd.plotly.v1+json": {
       "data": [
        {
         "coloraxis": "coloraxis",
         "name": "0",
         "texttemplate": "%{z}",
         "x": [
          "seconds_in_bucket",
          "imbalance_size",
          "imbalance_buy_sell_flag",
          "reference_price",
          "matched_size",
          "bid_price",
          "bid_size",
          "ask_price",
          "ask_size",
          "wap",
          "spread",
          "spread_diff",
          "spread_vol_5",
          "s1_vol_imbalance",
          "MOC_flag",
          "mid_price",
          "mid_price_deviate_from_start",
          "target"
         ],
         "y": [
          "seconds_in_bucket",
          "imbalance_size",
          "imbalance_buy_sell_flag",
          "reference_price",
          "matched_size",
          "bid_price",
          "bid_size",
          "ask_price",
          "ask_size",
          "wap",
          "spread",
          "spread_diff",
          "spread_vol_5",
          "s1_vol_imbalance",
          "MOC_flag",
          "mid_price",
          "mid_price_deviate_from_start",
          "target"
         ],
         "z": [
          [
           1.0,
           0.12940506839726001,
           0.0049942719467276145,
           0.0015806161542749923,
           0.0694835418861171,
           0.017642305763107564,
           0.1550061053890636,
           0.015646540899345567,
           0.13861098241810724,
           0.0011565200793323999,
           0.15319626372170936,
           0.05181930726785343,
           0.10809810996711937,
           0.0025866390044934563,
           0.8625819491778843,
           9.605502049898917E-4,
           9.710240006613283E-4,
           0.0031411375421542907
          ],
          [
           0.12940506839726001,
           1.0,
           0.008519960157943842,
           0.0034653854127664635,
           0.4877585540247514,
           0.005328404354439704,
           0.02136580223417678,
           0.011620610978023168,
           0.02346270483845243,
           0.003131486778944811,
           0.07808680357597632,
           0.003539834596608742,
           0.02572918428414959,
           9.311951786625832E-4,
           0.1390076807397518,
           0.0031868521663023144,
           0.00222202879395105,
           2.4156934568747497E-4
          ],
          [
           0.0049942719467276145,
           0.008519960157943842,
           1.0,
           0.17913797489326674,
           0.007203289133416503,
           0.12872791459610652,
           0.03462540352404612,
           0.13003598965200683,
           0.012359927927156712,
           0.1319061880778803,
           0.009098638798061576,
           4.6424853236887524E-5,
           0.007919846847919442,
           0.05814378121127737,
           0.006525857822098764,
           0.1301534328686942,
           0.13366765705155215,
           0.016656949192207532
          ],
          [
           0.0015806161542749923,
           0.0034653854127664635,
           0.17913797489326674,
           1.0,
           0.0111731861905348,
           0.9858425730523095,
           0.006202031352720455,
           0.9865896029515887,
           0.005641044514007454,
           0.9892099097625046,
           0.026899773489775885,
           6.432958189727751E-4,
           0.019685912191612247,
           0.031944646650180125,
           4.35527974623272E-4,
           0.992084723630556,
           0.9772846979856384,
           0.01873397830822358
          ],
          [
           0.0694835418861171,
           0.4877585540247514,
           0.007203289133416503,
           0.0111731861905348,
           1.0,
           0.026490096421788546,
           0.07960114458897743,
           0.0030208514515718634,
           0.0809376713195154,
           0.011825684816558804,
           0.13555214739748966,
           0.003052764925723035,
           0.06592266247308219,
           0.0015949986928813786,
           0.07212075706581315,
           0.01176608093078068,
           0.013547016394101453,
           8.947741200800038E-4
          ],
          [
           0.017642305763107564,
           0.005328404354439704,
           0.12872791459610652,
           0.9858425730523095,
           0.026490096421788546,
           1.0,
           1.306093461628033E-4,
           0.9764118641135571,
           0.00631626149031654,
           0.9902918112329959,
           0.08506140107402403,
           0.01947812652603479,
           0.02034662718726834,
           0.023749595163148052,
           0.013006162629307138,
           0.9940547754252316,
           0.9785112007943297,
           0.024356259045048193
          ],
          [
           0.1550061053890636,
           0.02136580223417678,
           0.03462540352404612,
           0.006202031352720455,
           0.07960114458897743,
           1.306093461628033E-4,
           1.0,
           0.0042089957403088464,
           0.2693799080670692,
           0.016859537250424498,
           0.02002259747581418,
           0.01758897161543093,
           0.1620412892439712,
           0.23711245642705422,
           0.13469267160226625,
           0.0020569664115214995,
           0.0047652534136451785,
           0.01802848547468
          ],
          [
           0.015646540899345567,
           0.011620610978023168,
           0.13003598965200683,
           0.9865896029515887,
           0.0030208514515718634,
           0.9764118641135571,
           0.0042089957403088464,
           1.0,
           0.0033527072017558945,
           0.98998664660066,
           0.13207884890227484,
           0.018730989823120825,
           0.06388873397551946,
           0.023914936646853555,
           0.013094422835537684,
           0.994116095794573,
           0.9787654488838093,
           0.022668274533081473
          ],
          [
           0.13861098241810724,
           0.02346270483845243,
           0.012359927927156712,
           0.005641044514007454,
           0.0809376713195154,
           0.00631626149031654,
           0.2693799080670692,
           0.0033527072017558945,
           1.0,
           0.017450567770969476,
           0.013525469482146266,
           0.015315132987190389,
           0.13828835845187695,
           0.20722697730378653,
           0.12250941551255241,
           0.00485939588480048,
           0.005609827911375037,
           0.015096450669049645
          ],
          [
           0.0011565200793323999,
           0.003131486778944811,
           0.1319061880778803,
           0.9892099097625046,
           0.011825684816558804,
           0.9902918112329959,
           0.016859537250424498,
           0.98998664660066,
           0.017450567770969476,
           1.0,
           0.022150121341533054,
           4.95329411946134E-4,
           0.021108275971494544,
           0.08744775881210569,
           2.1249764029739683E-4,
           0.996029838299659,
           0.9817541204182706,
           0.03702156282452901
          ],
          [
           0.15319626372170936,
           0.07808680357597632,
           0.009098638798061576,
           0.026899773489775885,
           0.13555214739748966,
           0.08506140107402403,
           0.02002259747581418,
           0.13207884890227484,
           0.013525469482146266,
           0.022150121341533054,
           1.0,
           0.17585785208425234,
           0.4252492336322175,
           0.0013279771793756855,
           0.12013533427239931,
           0.023930835061586074,
           0.024451355857909095,
           0.007210018442671702
          ],
          [
           0.05181930726785343,
           0.003539834596608742,
           4.6424853236887524E-5,
           6.432958189727751E-4,
           0.003052764925723035,
           0.01947812652603479,
           0.01758897161543093,
           0.018730989823120825,
           0.015315132987190389,
           4.95329411946134E-4,
           0.17585785208425234,
           1.0,
           0.020189749350525258,
           6.938349350453073E-5,
           0.006441079463519799,
           3.261262244911086E-4,
           3.904643403344244E-4,
           7.439401944892382E-4
          ],
          [
           0.10809810996711937,
           0.02572918428414959,
           0.007919846847919442,
           0.019685912191612247,
           0.06592266247308219,
           0.02034662718726834,
           0.1620412892439712,
           0.06388873397551946,
           0.13828835845187695,
           0.021108275971494544,
           0.4252492336322175,
           0.020189749350525258,
           1.0,
           9.153754368897466E-4,
           0.04923301647592338,
           0.021985863583503847,
           0.022058882984036302,
           0.006382665467551736
          ],
          [
           0.0025866390044934563,
           9.311951786625832E-4,
           0.05814378121127737,
           0.031944646650180125,
           0.0015949986928813786,
           0.023749595163148052,
           0.23711245642705422,
           0.023914936646853555,
           0.20722697730378653,
           0.08744775881210569,
           0.0013279771793756855,
           6.938349350453073E-5,
           9.153754368897466E-4,
           1.0,
           0.00626613031466728,
           0.023974275040797743,
           0.030144593042463787,
           0.11723117253623427
          ],
          [
           0.8625819491778843,
           0.1390076807397518,
           0.006525857822098764,
           4.35527974623272E-4,
           0.07212075706581315,
           0.013006162629307138,
           0.13469267160226625,
           0.013094422835537684,
           0.12250941551255241,
           2.1249764029739683E-4,
           0.12013533427239931,
           0.006441079463519799,
           0.04923301647592338,
           0.00626613031466728,
           1.0,
           7.831856418292227E-5,
           7.91725462386144E-5,
           0.001486034891919202
          ],
          [
           9.605502049898917E-4,
           0.0031868521663023144,
           0.1301534328686942,
           0.992084723630556,
           0.01176608093078068,
           0.9940547754252316,
           0.0020569664115214995,
           0.994116095794573,
           0.00485939588480048,
           0.996029838299659,
           0.023930835061586074,
           3.261262244911086E-4,
           0.021985863583503847,
           0.023974275040797743,
           7.831856418292227E-5,
           1.0,
           0.9844612347195137,
           0.023649963055712674
          ],
          [
           9.710240006613283E-4,
           0.00222202879395105,
           0.13366765705155215,
           0.9772846979856384,
           0.013547016394101453,
           0.9785112007943297,
           0.0047652534136451785,
           0.9787654488838093,
           0.005609827911375037,
           0.9817541204182706,
           0.024451355857909095,
           3.904643403344244E-4,
           0.022058882984036302,
           0.030144593042463787,
           7.91725462386144E-5,
           0.9844612347195137,
           1.0,
           0.025912612841441
          ],
          [
           0.0031411375421542907,
           2.4156934568747497E-4,
           0.016656949192207532,
           0.01873397830822358,
           8.947741200800038E-4,
           0.024356259045048193,
           0.01802848547468,
           0.022668274533081473,
           0.015096450669049645,
           0.03702156282452901,
           0.007210018442671702,
           7.439401944892382E-4,
           0.006382665467551736,
           0.11723117253623427,
           0.001486034891919202,
           0.023649963055712674,
           0.025912612841441,
           1.0
          ]
         ],
         "type": "heatmap",
         "xaxis": "x",
         "yaxis": "y",
         "hovertemplate": "x: %{x}<br>y: %{y}<br>color: %{z}<extra></extra>"
        }
       ],
       "layout": {
        "template": {
         "data": {
          "histogram2dcontour": [
           {
            "type": "histogram2dcontour",
            "colorbar": {
             "outlinewidth": 0,
             "ticks": ""
            },
            "colorscale": [
             [
              0.0,
              "#0d0887"
             ],
             [
              0.1111111111111111,
              "#46039f"
             ],
             [
              0.2222222222222222,
              "#7201a8"
             ],
             [
              0.3333333333333333,
              "#9c179e"
             ],
             [
              0.4444444444444444,
              "#bd3786"
             ],
             [
              0.5555555555555556,
              "#d8576b"
             ],
             [
              0.6666666666666666,
              "#ed7953"
             ],
             [
              0.7777777777777778,
              "#fb9f3a"
             ],
             [
              0.8888888888888888,
              "#fdca26"
             ],
             [
              1.0,
              "#f0f921"
             ]
            ]
           }
          ],
          "choropleth": [
           {
            "type": "choropleth",
            "colorbar": {
             "outlinewidth": 0,
             "ticks": ""
            }
           }
          ],
          "histogram2d": [
           {
            "type": "histogram2d",
            "colorbar": {
             "outlinewidth": 0,
             "ticks": ""
            },
            "colorscale": [
             [
              0.0,
              "#0d0887"
             ],
             [
              0.1111111111111111,
              "#46039f"
             ],
             [
              0.2222222222222222,
              "#7201a8"
             ],
             [
              0.3333333333333333,
              "#9c179e"
             ],
             [
              0.4444444444444444,
              "#bd3786"
             ],
             [
              0.5555555555555556,
              "#d8576b"
             ],
             [
              0.6666666666666666,
              "#ed7953"
             ],
             [
              0.7777777777777778,
              "#fb9f3a"
             ],
             [
              0.8888888888888888,
              "#fdca26"
             ],
             [
              1.0,
              "#f0f921"
             ]
            ]
           }
          ],
          "heatmap": [
           {
            "type": "heatmap",
            "colorbar": {
             "outlinewidth": 0,
             "ticks": ""
            },
            "colorscale": [
             [
              0.0,
              "#0d0887"
             ],
             [
              0.1111111111111111,
              "#46039f"
             ],
             [
              0.2222222222222222,
              "#7201a8"
             ],
             [
              0.3333333333333333,
              "#9c179e"
             ],
             [
              0.4444444444444444,
              "#bd3786"
             ],
             [
              0.5555555555555556,
              "#d8576b"
             ],
             [
              0.6666666666666666,
              "#ed7953"
             ],
             [
              0.7777777777777778,
              "#fb9f3a"
             ],
             [
              0.8888888888888888,
              "#fdca26"
             ],
             [
              1.0,
              "#f0f921"
             ]
            ]
           }
          ],
          "heatmapgl": [
           {
            "type": "heatmapgl",
            "colorbar": {
             "outlinewidth": 0,
             "ticks": ""
            },
            "colorscale": [
             [
              0.0,
              "#0d0887"
             ],
             [
              0.1111111111111111,
              "#46039f"
             ],
             [
              0.2222222222222222,
              "#7201a8"
             ],
             [
              0.3333333333333333,
              "#9c179e"
             ],
             [
              0.4444444444444444,
              "#bd3786"
             ],
             [
              0.5555555555555556,
              "#d8576b"
             ],
             [
              0.6666666666666666,
              "#ed7953"
             ],
             [
              0.7777777777777778,
              "#fb9f3a"
             ],
             [
              0.8888888888888888,
              "#fdca26"
             ],
             [
              1.0,
              "#f0f921"
             ]
            ]
           }
          ],
          "contourcarpet": [
           {
            "type": "contourcarpet",
            "colorbar": {
             "outlinewidth": 0,
             "ticks": ""
            }
           }
          ],
          "contour": [
           {
            "type": "contour",
            "colorbar": {
             "outlinewidth": 0,
             "ticks": ""
            },
            "colorscale": [
             [
              0.0,
              "#0d0887"
             ],
             [
              0.1111111111111111,
              "#46039f"
             ],
             [
              0.2222222222222222,
              "#7201a8"
             ],
             [
              0.3333333333333333,
              "#9c179e"
             ],
             [
              0.4444444444444444,
              "#bd3786"
             ],
             [
              0.5555555555555556,
              "#d8576b"
             ],
             [
              0.6666666666666666,
              "#ed7953"
             ],
             [
              0.7777777777777778,
              "#fb9f3a"
             ],
             [
              0.8888888888888888,
              "#fdca26"
             ],
             [
              1.0,
              "#f0f921"
             ]
            ]
           }
          ],
          "surface": [
           {
            "type": "surface",
            "colorbar": {
             "outlinewidth": 0,
             "ticks": ""
            },
            "colorscale": [
             [
              0.0,
              "#0d0887"
             ],
             [
              0.1111111111111111,
              "#46039f"
             ],
             [
              0.2222222222222222,
              "#7201a8"
             ],
             [
              0.3333333333333333,
              "#9c179e"
             ],
             [
              0.4444444444444444,
              "#bd3786"
             ],
             [
              0.5555555555555556,
              "#d8576b"
             ],
             [
              0.6666666666666666,
              "#ed7953"
             ],
             [
              0.7777777777777778,
              "#fb9f3a"
             ],
             [
              0.8888888888888888,
              "#fdca26"
             ],
             [
              1.0,
              "#f0f921"
             ]
            ]
           }
          ],
          "mesh3d": [
           {
            "type": "mesh3d",
            "colorbar": {
             "outlinewidth": 0,
             "ticks": ""
            }
           }
          ],
          "scatter": [
           {
            "fillpattern": {
             "fillmode": "overlay",
             "size": 10,
             "solidity": 0.2
            },
            "type": "scatter"
           }
          ],
          "parcoords": [
           {
            "type": "parcoords",
            "line": {
             "colorbar": {
              "outlinewidth": 0,
              "ticks": ""
             }
            }
           }
          ],
          "scatterpolargl": [
           {
            "type": "scatterpolargl",
            "marker": {
             "colorbar": {
              "outlinewidth": 0,
              "ticks": ""
             }
            }
           }
          ],
          "bar": [
           {
            "error_x": {
             "color": "#2a3f5f"
            },
            "error_y": {
             "color": "#2a3f5f"
            },
            "marker": {
             "line": {
              "color": "#E5ECF6",
              "width": 0.5
             },
             "pattern": {
              "fillmode": "overlay",
              "size": 10,
              "solidity": 0.2
             }
            },
            "type": "bar"
           }
          ],
          "scattergeo": [
           {
            "type": "scattergeo",
            "marker": {
             "colorbar": {
              "outlinewidth": 0,
              "ticks": ""
             }
            }
           }
          ],
          "scatterpolar": [
           {
            "type": "scatterpolar",
            "marker": {
             "colorbar": {
              "outlinewidth": 0,
              "ticks": ""
             }
            }
           }
          ],
          "histogram": [
           {
            "marker": {
             "pattern": {
              "fillmode": "overlay",
              "size": 10,
              "solidity": 0.2
             }
            },
            "type": "histogram"
           }
          ],
          "scattergl": [
           {
            "type": "scattergl",
            "marker": {
             "colorbar": {
              "outlinewidth": 0,
              "ticks": ""
             }
            }
           }
          ],
          "scatter3d": [
           {
            "type": "scatter3d",
            "line": {
             "colorbar": {
              "outlinewidth": 0,
              "ticks": ""
             }
            },
            "marker": {
             "colorbar": {
              "outlinewidth": 0,
              "ticks": ""
             }
            }
           }
          ],
          "scattermapbox": [
           {
            "type": "scattermapbox",
            "marker": {
             "colorbar": {
              "outlinewidth": 0,
              "ticks": ""
             }
            }
           }
          ],
          "scatterternary": [
           {
            "type": "scatterternary",
            "marker": {
             "colorbar": {
              "outlinewidth": 0,
              "ticks": ""
             }
            }
           }
          ],
          "scattercarpet": [
           {
            "type": "scattercarpet",
            "marker": {
             "colorbar": {
              "outlinewidth": 0,
              "ticks": ""
             }
            }
           }
          ],
          "carpet": [
           {
            "aaxis": {
             "endlinecolor": "#2a3f5f",
             "gridcolor": "white",
             "linecolor": "white",
             "minorgridcolor": "white",
             "startlinecolor": "#2a3f5f"
            },
            "baxis": {
             "endlinecolor": "#2a3f5f",
             "gridcolor": "white",
             "linecolor": "white",
             "minorgridcolor": "white",
             "startlinecolor": "#2a3f5f"
            },
            "type": "carpet"
           }
          ],
          "table": [
           {
            "cells": {
             "fill": {
              "color": "#EBF0F8"
             },
             "line": {
              "color": "white"
             }
            },
            "header": {
             "fill": {
              "color": "#C8D4E3"
             },
             "line": {
              "color": "white"
             }
            },
            "type": "table"
           }
          ],
          "barpolar": [
           {
            "marker": {
             "line": {
              "color": "#E5ECF6",
              "width": 0.5
             },
             "pattern": {
              "fillmode": "overlay",
              "size": 10,
              "solidity": 0.2
             }
            },
            "type": "barpolar"
           }
          ],
          "pie": [
           {
            "automargin": true,
            "type": "pie"
           }
          ]
         },
         "layout": {
          "autotypenumbers": "strict",
          "colorway": [
           "#636efa",
           "#EF553B",
           "#00cc96",
           "#ab63fa",
           "#FFA15A",
           "#19d3f3",
           "#FF6692",
           "#B6E880",
           "#FF97FF",
           "#FECB52"
          ],
          "font": {
           "color": "#2a3f5f"
          },
          "hovermode": "closest",
          "hoverlabel": {
           "align": "left"
          },
          "paper_bgcolor": "white",
          "plot_bgcolor": "#E5ECF6",
          "polar": {
           "bgcolor": "#E5ECF6",
           "angularaxis": {
            "gridcolor": "white",
            "linecolor": "white",
            "ticks": ""
           },
           "radialaxis": {
            "gridcolor": "white",
            "linecolor": "white",
            "ticks": ""
           }
          },
          "ternary": {
           "bgcolor": "#E5ECF6",
           "aaxis": {
            "gridcolor": "white",
            "linecolor": "white",
            "ticks": ""
           },
           "baxis": {
            "gridcolor": "white",
            "linecolor": "white",
            "ticks": ""
           },
           "caxis": {
            "gridcolor": "white",
            "linecolor": "white",
            "ticks": ""
           }
          },
          "coloraxis": {
           "colorbar": {
            "outlinewidth": 0,
            "ticks": ""
           }
          },
          "colorscale": {
           "sequential": [
            [
             0.0,
             "#0d0887"
            ],
            [
             0.1111111111111111,
             "#46039f"
            ],
            [
             0.2222222222222222,
             "#7201a8"
            ],
            [
             0.3333333333333333,
             "#9c179e"
            ],
            [
             0.4444444444444444,
             "#bd3786"
            ],
            [
             0.5555555555555556,
             "#d8576b"
            ],
            [
             0.6666666666666666,
             "#ed7953"
            ],
            [
             0.7777777777777778,
             "#fb9f3a"
            ],
            [
             0.8888888888888888,
             "#fdca26"
            ],
            [
             1.0,
             "#f0f921"
            ]
           ],
           "sequentialminus": [
            [
             0.0,
             "#0d0887"
            ],
            [
             0.1111111111111111,
             "#46039f"
            ],
            [
             0.2222222222222222,
             "#7201a8"
            ],
            [
             0.3333333333333333,
             "#9c179e"
            ],
            [
             0.4444444444444444,
             "#bd3786"
            ],
            [
             0.5555555555555556,
             "#d8576b"
            ],
            [
             0.6666666666666666,
             "#ed7953"
            ],
            [
             0.7777777777777778,
             "#fb9f3a"
            ],
            [
             0.8888888888888888,
             "#fdca26"
            ],
            [
             1.0,
             "#f0f921"
            ]
           ],
           "diverging": [
            [
             0,
             "#8e0152"
            ],
            [
             0.1,
             "#c51b7d"
            ],
            [
             0.2,
             "#de77ae"
            ],
            [
             0.3,
             "#f1b6da"
            ],
            [
             0.4,
             "#fde0ef"
            ],
            [
             0.5,
             "#f7f7f7"
            ],
            [
             0.6,
             "#e6f5d0"
            ],
            [
             0.7,
             "#b8e186"
            ],
            [
             0.8,
             "#7fbc41"
            ],
            [
             0.9,
             "#4d9221"
            ],
            [
             1,
             "#276419"
            ]
           ]
          },
          "xaxis": {
           "gridcolor": "white",
           "linecolor": "white",
           "ticks": "",
           "title": {
            "standoff": 15
           },
           "zerolinecolor": "white",
           "automargin": true,
           "zerolinewidth": 2
          },
          "yaxis": {
           "gridcolor": "white",
           "linecolor": "white",
           "ticks": "",
           "title": {
            "standoff": 15
           },
           "zerolinecolor": "white",
           "automargin": true,
           "zerolinewidth": 2
          },
          "scene": {
           "xaxis": {
            "backgroundcolor": "#E5ECF6",
            "gridcolor": "white",
            "linecolor": "white",
            "showbackground": true,
            "ticks": "",
            "zerolinecolor": "white",
            "gridwidth": 2
           },
           "yaxis": {
            "backgroundcolor": "#E5ECF6",
            "gridcolor": "white",
            "linecolor": "white",
            "showbackground": true,
            "ticks": "",
            "zerolinecolor": "white",
            "gridwidth": 2
           },
           "zaxis": {
            "backgroundcolor": "#E5ECF6",
            "gridcolor": "white",
            "linecolor": "white",
            "showbackground": true,
            "ticks": "",
            "zerolinecolor": "white",
            "gridwidth": 2
           }
          },
          "shapedefaults": {
           "line": {
            "color": "#2a3f5f"
           }
          },
          "annotationdefaults": {
           "arrowcolor": "#2a3f5f",
           "arrowhead": 0,
           "arrowwidth": 1
          },
          "geo": {
           "bgcolor": "white",
           "landcolor": "#E5ECF6",
           "subunitcolor": "white",
           "showland": true,
           "showlakes": true,
           "lakecolor": "white"
          },
          "title": {
           "x": 0.05
          },
          "mapbox": {
           "style": "light"
          }
         }
        },
        "xaxis": {
         "anchor": "y",
         "domain": [
          0.0,
          1.0
         ]
        },
        "yaxis": {
         "anchor": "x",
         "domain": [
          0.0,
          1.0
         ],
         "autorange": "reversed"
        },
        "coloraxis": {
         "colorscale": [
          [
           0.0,
           "#0d0887"
          ],
          [
           0.1111111111111111,
           "#46039f"
          ],
          [
           0.2222222222222222,
           "#7201a8"
          ],
          [
           0.3333333333333333,
           "#9c179e"
          ],
          [
           0.4444444444444444,
           "#bd3786"
          ],
          [
           0.5555555555555556,
           "#d8576b"
          ],
          [
           0.6666666666666666,
           "#ed7953"
          ],
          [
           0.7777777777777778,
           "#fb9f3a"
          ],
          [
           0.8888888888888888,
           "#fdca26"
          ],
          [
           1.0,
           "#f0f921"
          ]
         ]
        },
        "margin": {
         "t": 60
        },
        "title": {
         "text": "Correlation Heatmap"
        }
       },
       "config": {
        "plotlyServerURL": "https://plot.ly"
       }
      },
      "text/html": "<div>                            <div id=\"63c33b12-ac0f-4540-974c-f544cf102c07\" class=\"plotly-graph-div\" style=\"height:525px; width:100%;\"></div>            <script type=\"text/javascript\">                require([\"plotly\"], function(Plotly) {                    window.PLOTLYENV=window.PLOTLYENV || {};                                    if (document.getElementById(\"63c33b12-ac0f-4540-974c-f544cf102c07\")) {                    Plotly.newPlot(                        \"63c33b12-ac0f-4540-974c-f544cf102c07\",                        [{\"coloraxis\":\"coloraxis\",\"name\":\"0\",\"texttemplate\":\"%{z}\",\"x\":[\"seconds_in_bucket\",\"imbalance_size\",\"imbalance_buy_sell_flag\",\"reference_price\",\"matched_size\",\"bid_price\",\"bid_size\",\"ask_price\",\"ask_size\",\"wap\",\"spread\",\"spread_diff\",\"spread_vol_5\",\"s1_vol_imbalance\",\"MOC_flag\",\"mid_price\",\"mid_price_deviate_from_start\",\"target\"],\"y\":[\"seconds_in_bucket\",\"imbalance_size\",\"imbalance_buy_sell_flag\",\"reference_price\",\"matched_size\",\"bid_price\",\"bid_size\",\"ask_price\",\"ask_size\",\"wap\",\"spread\",\"spread_diff\",\"spread_vol_5\",\"s1_vol_imbalance\",\"MOC_flag\",\"mid_price\",\"mid_price_deviate_from_start\",\"target\"],\"z\":[[1.0,0.12940506839726001,0.0049942719467276145,0.0015806161542749923,0.0694835418861171,0.017642305763107564,0.1550061053890636,0.015646540899345567,0.13861098241810724,0.0011565200793323999,0.15319626372170936,0.05181930726785343,0.10809810996711937,0.0025866390044934563,0.8625819491778843,0.0009605502049898917,0.0009710240006613283,0.0031411375421542907],[0.12940506839726001,1.0,0.008519960157943842,0.0034653854127664635,0.4877585540247514,0.005328404354439704,0.02136580223417678,0.011620610978023168,0.02346270483845243,0.003131486778944811,0.07808680357597632,0.003539834596608742,0.02572918428414959,0.0009311951786625832,0.1390076807397518,0.0031868521663023144,0.00222202879395105,0.00024156934568747497],[0.0049942719467276145,0.008519960157943842,1.0,0.17913797489326674,0.007203289133416503,0.12872791459610652,0.03462540352404612,0.13003598965200683,0.012359927927156712,0.1319061880778803,0.009098638798061576,4.6424853236887524e-05,0.007919846847919442,0.05814378121127737,0.006525857822098764,0.1301534328686942,0.13366765705155215,0.016656949192207532],[0.0015806161542749923,0.0034653854127664635,0.17913797489326674,1.0,0.0111731861905348,0.9858425730523095,0.006202031352720455,0.9865896029515887,0.005641044514007454,0.9892099097625046,0.026899773489775885,0.0006432958189727751,0.019685912191612247,0.031944646650180125,0.000435527974623272,0.992084723630556,0.9772846979856384,0.01873397830822358],[0.0694835418861171,0.4877585540247514,0.007203289133416503,0.0111731861905348,1.0,0.026490096421788546,0.07960114458897743,0.0030208514515718634,0.0809376713195154,0.011825684816558804,0.13555214739748966,0.003052764925723035,0.06592266247308219,0.0015949986928813786,0.07212075706581315,0.01176608093078068,0.013547016394101453,0.0008947741200800038],[0.017642305763107564,0.005328404354439704,0.12872791459610652,0.9858425730523095,0.026490096421788546,1.0,0.0001306093461628033,0.9764118641135571,0.00631626149031654,0.9902918112329959,0.08506140107402403,0.01947812652603479,0.02034662718726834,0.023749595163148052,0.013006162629307138,0.9940547754252316,0.9785112007943297,0.024356259045048193],[0.1550061053890636,0.02136580223417678,0.03462540352404612,0.006202031352720455,0.07960114458897743,0.0001306093461628033,1.0,0.0042089957403088464,0.2693799080670692,0.016859537250424498,0.02002259747581418,0.01758897161543093,0.1620412892439712,0.23711245642705422,0.13469267160226625,0.0020569664115214995,0.0047652534136451785,0.01802848547468],[0.015646540899345567,0.011620610978023168,0.13003598965200683,0.9865896029515887,0.0030208514515718634,0.9764118641135571,0.0042089957403088464,1.0,0.0033527072017558945,0.98998664660066,0.13207884890227484,0.018730989823120825,0.06388873397551946,0.023914936646853555,0.013094422835537684,0.994116095794573,0.9787654488838093,0.022668274533081473],[0.13861098241810724,0.02346270483845243,0.012359927927156712,0.005641044514007454,0.0809376713195154,0.00631626149031654,0.2693799080670692,0.0033527072017558945,1.0,0.017450567770969476,0.013525469482146266,0.015315132987190389,0.13828835845187695,0.20722697730378653,0.12250941551255241,0.00485939588480048,0.005609827911375037,0.015096450669049645],[0.0011565200793323999,0.003131486778944811,0.1319061880778803,0.9892099097625046,0.011825684816558804,0.9902918112329959,0.016859537250424498,0.98998664660066,0.017450567770969476,1.0,0.022150121341533054,0.000495329411946134,0.021108275971494544,0.08744775881210569,0.00021249764029739683,0.996029838299659,0.9817541204182706,0.03702156282452901],[0.15319626372170936,0.07808680357597632,0.009098638798061576,0.026899773489775885,0.13555214739748966,0.08506140107402403,0.02002259747581418,0.13207884890227484,0.013525469482146266,0.022150121341533054,1.0,0.17585785208425234,0.4252492336322175,0.0013279771793756855,0.12013533427239931,0.023930835061586074,0.024451355857909095,0.007210018442671702],[0.05181930726785343,0.003539834596608742,4.6424853236887524e-05,0.0006432958189727751,0.003052764925723035,0.01947812652603479,0.01758897161543093,0.018730989823120825,0.015315132987190389,0.000495329411946134,0.17585785208425234,1.0,0.020189749350525258,6.938349350453073e-05,0.006441079463519799,0.0003261262244911086,0.0003904643403344244,0.0007439401944892382],[0.10809810996711937,0.02572918428414959,0.007919846847919442,0.019685912191612247,0.06592266247308219,0.02034662718726834,0.1620412892439712,0.06388873397551946,0.13828835845187695,0.021108275971494544,0.4252492336322175,0.020189749350525258,1.0,0.0009153754368897466,0.04923301647592338,0.021985863583503847,0.022058882984036302,0.006382665467551736],[0.0025866390044934563,0.0009311951786625832,0.05814378121127737,0.031944646650180125,0.0015949986928813786,0.023749595163148052,0.23711245642705422,0.023914936646853555,0.20722697730378653,0.08744775881210569,0.0013279771793756855,6.938349350453073e-05,0.0009153754368897466,1.0,0.00626613031466728,0.023974275040797743,0.030144593042463787,0.11723117253623427],[0.8625819491778843,0.1390076807397518,0.006525857822098764,0.000435527974623272,0.07212075706581315,0.013006162629307138,0.13469267160226625,0.013094422835537684,0.12250941551255241,0.00021249764029739683,0.12013533427239931,0.006441079463519799,0.04923301647592338,0.00626613031466728,1.0,7.831856418292227e-05,7.91725462386144e-05,0.001486034891919202],[0.0009605502049898917,0.0031868521663023144,0.1301534328686942,0.992084723630556,0.01176608093078068,0.9940547754252316,0.0020569664115214995,0.994116095794573,0.00485939588480048,0.996029838299659,0.023930835061586074,0.0003261262244911086,0.021985863583503847,0.023974275040797743,7.831856418292227e-05,1.0,0.9844612347195137,0.023649963055712674],[0.0009710240006613283,0.00222202879395105,0.13366765705155215,0.9772846979856384,0.013547016394101453,0.9785112007943297,0.0047652534136451785,0.9787654488838093,0.005609827911375037,0.9817541204182706,0.024451355857909095,0.0003904643403344244,0.022058882984036302,0.030144593042463787,7.91725462386144e-05,0.9844612347195137,1.0,0.025912612841441],[0.0031411375421542907,0.00024156934568747497,0.016656949192207532,0.01873397830822358,0.0008947741200800038,0.024356259045048193,0.01802848547468,0.022668274533081473,0.015096450669049645,0.03702156282452901,0.007210018442671702,0.0007439401944892382,0.006382665467551736,0.11723117253623427,0.001486034891919202,0.023649963055712674,0.025912612841441,1.0]],\"type\":\"heatmap\",\"xaxis\":\"x\",\"yaxis\":\"y\",\"hovertemplate\":\"x: %{x}\\u003cbr\\u003ey: %{y}\\u003cbr\\u003ecolor: %{z}\\u003cextra\\u003e\\u003c\\u002fextra\\u003e\"}],                        {\"template\":{\"data\":{\"histogram2dcontour\":[{\"type\":\"histogram2dcontour\",\"colorbar\":{\"outlinewidth\":0,\"ticks\":\"\"},\"colorscale\":[[0.0,\"#0d0887\"],[0.1111111111111111,\"#46039f\"],[0.2222222222222222,\"#7201a8\"],[0.3333333333333333,\"#9c179e\"],[0.4444444444444444,\"#bd3786\"],[0.5555555555555556,\"#d8576b\"],[0.6666666666666666,\"#ed7953\"],[0.7777777777777778,\"#fb9f3a\"],[0.8888888888888888,\"#fdca26\"],[1.0,\"#f0f921\"]]}],\"choropleth\":[{\"type\":\"choropleth\",\"colorbar\":{\"outlinewidth\":0,\"ticks\":\"\"}}],\"histogram2d\":[{\"type\":\"histogram2d\",\"colorbar\":{\"outlinewidth\":0,\"ticks\":\"\"},\"colorscale\":[[0.0,\"#0d0887\"],[0.1111111111111111,\"#46039f\"],[0.2222222222222222,\"#7201a8\"],[0.3333333333333333,\"#9c179e\"],[0.4444444444444444,\"#bd3786\"],[0.5555555555555556,\"#d8576b\"],[0.6666666666666666,\"#ed7953\"],[0.7777777777777778,\"#fb9f3a\"],[0.8888888888888888,\"#fdca26\"],[1.0,\"#f0f921\"]]}],\"heatmap\":[{\"type\":\"heatmap\",\"colorbar\":{\"outlinewidth\":0,\"ticks\":\"\"},\"colorscale\":[[0.0,\"#0d0887\"],[0.1111111111111111,\"#46039f\"],[0.2222222222222222,\"#7201a8\"],[0.3333333333333333,\"#9c179e\"],[0.4444444444444444,\"#bd3786\"],[0.5555555555555556,\"#d8576b\"],[0.6666666666666666,\"#ed7953\"],[0.7777777777777778,\"#fb9f3a\"],[0.8888888888888888,\"#fdca26\"],[1.0,\"#f0f921\"]]}],\"heatmapgl\":[{\"type\":\"heatmapgl\",\"colorbar\":{\"outlinewidth\":0,\"ticks\":\"\"},\"colorscale\":[[0.0,\"#0d0887\"],[0.1111111111111111,\"#46039f\"],[0.2222222222222222,\"#7201a8\"],[0.3333333333333333,\"#9c179e\"],[0.4444444444444444,\"#bd3786\"],[0.5555555555555556,\"#d8576b\"],[0.6666666666666666,\"#ed7953\"],[0.7777777777777778,\"#fb9f3a\"],[0.8888888888888888,\"#fdca26\"],[1.0,\"#f0f921\"]]}],\"contourcarpet\":[{\"type\":\"contourcarpet\",\"colorbar\":{\"outlinewidth\":0,\"ticks\":\"\"}}],\"contour\":[{\"type\":\"contour\",\"colorbar\":{\"outlinewidth\":0,\"ticks\":\"\"},\"colorscale\":[[0.0,\"#0d0887\"],[0.1111111111111111,\"#46039f\"],[0.2222222222222222,\"#7201a8\"],[0.3333333333333333,\"#9c179e\"],[0.4444444444444444,\"#bd3786\"],[0.5555555555555556,\"#d8576b\"],[0.6666666666666666,\"#ed7953\"],[0.7777777777777778,\"#fb9f3a\"],[0.8888888888888888,\"#fdca26\"],[1.0,\"#f0f921\"]]}],\"surface\":[{\"type\":\"surface\",\"colorbar\":{\"outlinewidth\":0,\"ticks\":\"\"},\"colorscale\":[[0.0,\"#0d0887\"],[0.1111111111111111,\"#46039f\"],[0.2222222222222222,\"#7201a8\"],[0.3333333333333333,\"#9c179e\"],[0.4444444444444444,\"#bd3786\"],[0.5555555555555556,\"#d8576b\"],[0.6666666666666666,\"#ed7953\"],[0.7777777777777778,\"#fb9f3a\"],[0.8888888888888888,\"#fdca26\"],[1.0,\"#f0f921\"]]}],\"mesh3d\":[{\"type\":\"mesh3d\",\"colorbar\":{\"outlinewidth\":0,\"ticks\":\"\"}}],\"scatter\":[{\"fillpattern\":{\"fillmode\":\"overlay\",\"size\":10,\"solidity\":0.2},\"type\":\"scatter\"}],\"parcoords\":[{\"type\":\"parcoords\",\"line\":{\"colorbar\":{\"outlinewidth\":0,\"ticks\":\"\"}}}],\"scatterpolargl\":[{\"type\":\"scatterpolargl\",\"marker\":{\"colorbar\":{\"outlinewidth\":0,\"ticks\":\"\"}}}],\"bar\":[{\"error_x\":{\"color\":\"#2a3f5f\"},\"error_y\":{\"color\":\"#2a3f5f\"},\"marker\":{\"line\":{\"color\":\"#E5ECF6\",\"width\":0.5},\"pattern\":{\"fillmode\":\"overlay\",\"size\":10,\"solidity\":0.2}},\"type\":\"bar\"}],\"scattergeo\":[{\"type\":\"scattergeo\",\"marker\":{\"colorbar\":{\"outlinewidth\":0,\"ticks\":\"\"}}}],\"scatterpolar\":[{\"type\":\"scatterpolar\",\"marker\":{\"colorbar\":{\"outlinewidth\":0,\"ticks\":\"\"}}}],\"histogram\":[{\"marker\":{\"pattern\":{\"fillmode\":\"overlay\",\"size\":10,\"solidity\":0.2}},\"type\":\"histogram\"}],\"scattergl\":[{\"type\":\"scattergl\",\"marker\":{\"colorbar\":{\"outlinewidth\":0,\"ticks\":\"\"}}}],\"scatter3d\":[{\"type\":\"scatter3d\",\"line\":{\"colorbar\":{\"outlinewidth\":0,\"ticks\":\"\"}},\"marker\":{\"colorbar\":{\"outlinewidth\":0,\"ticks\":\"\"}}}],\"scattermapbox\":[{\"type\":\"scattermapbox\",\"marker\":{\"colorbar\":{\"outlinewidth\":0,\"ticks\":\"\"}}}],\"scatterternary\":[{\"type\":\"scatterternary\",\"marker\":{\"colorbar\":{\"outlinewidth\":0,\"ticks\":\"\"}}}],\"scattercarpet\":[{\"type\":\"scattercarpet\",\"marker\":{\"colorbar\":{\"outlinewidth\":0,\"ticks\":\"\"}}}],\"carpet\":[{\"aaxis\":{\"endlinecolor\":\"#2a3f5f\",\"gridcolor\":\"white\",\"linecolor\":\"white\",\"minorgridcolor\":\"white\",\"startlinecolor\":\"#2a3f5f\"},\"baxis\":{\"endlinecolor\":\"#2a3f5f\",\"gridcolor\":\"white\",\"linecolor\":\"white\",\"minorgridcolor\":\"white\",\"startlinecolor\":\"#2a3f5f\"},\"type\":\"carpet\"}],\"table\":[{\"cells\":{\"fill\":{\"color\":\"#EBF0F8\"},\"line\":{\"color\":\"white\"}},\"header\":{\"fill\":{\"color\":\"#C8D4E3\"},\"line\":{\"color\":\"white\"}},\"type\":\"table\"}],\"barpolar\":[{\"marker\":{\"line\":{\"color\":\"#E5ECF6\",\"width\":0.5},\"pattern\":{\"fillmode\":\"overlay\",\"size\":10,\"solidity\":0.2}},\"type\":\"barpolar\"}],\"pie\":[{\"automargin\":true,\"type\":\"pie\"}]},\"layout\":{\"autotypenumbers\":\"strict\",\"colorway\":[\"#636efa\",\"#EF553B\",\"#00cc96\",\"#ab63fa\",\"#FFA15A\",\"#19d3f3\",\"#FF6692\",\"#B6E880\",\"#FF97FF\",\"#FECB52\"],\"font\":{\"color\":\"#2a3f5f\"},\"hovermode\":\"closest\",\"hoverlabel\":{\"align\":\"left\"},\"paper_bgcolor\":\"white\",\"plot_bgcolor\":\"#E5ECF6\",\"polar\":{\"bgcolor\":\"#E5ECF6\",\"angularaxis\":{\"gridcolor\":\"white\",\"linecolor\":\"white\",\"ticks\":\"\"},\"radialaxis\":{\"gridcolor\":\"white\",\"linecolor\":\"white\",\"ticks\":\"\"}},\"ternary\":{\"bgcolor\":\"#E5ECF6\",\"aaxis\":{\"gridcolor\":\"white\",\"linecolor\":\"white\",\"ticks\":\"\"},\"baxis\":{\"gridcolor\":\"white\",\"linecolor\":\"white\",\"ticks\":\"\"},\"caxis\":{\"gridcolor\":\"white\",\"linecolor\":\"white\",\"ticks\":\"\"}},\"coloraxis\":{\"colorbar\":{\"outlinewidth\":0,\"ticks\":\"\"}},\"colorscale\":{\"sequential\":[[0.0,\"#0d0887\"],[0.1111111111111111,\"#46039f\"],[0.2222222222222222,\"#7201a8\"],[0.3333333333333333,\"#9c179e\"],[0.4444444444444444,\"#bd3786\"],[0.5555555555555556,\"#d8576b\"],[0.6666666666666666,\"#ed7953\"],[0.7777777777777778,\"#fb9f3a\"],[0.8888888888888888,\"#fdca26\"],[1.0,\"#f0f921\"]],\"sequentialminus\":[[0.0,\"#0d0887\"],[0.1111111111111111,\"#46039f\"],[0.2222222222222222,\"#7201a8\"],[0.3333333333333333,\"#9c179e\"],[0.4444444444444444,\"#bd3786\"],[0.5555555555555556,\"#d8576b\"],[0.6666666666666666,\"#ed7953\"],[0.7777777777777778,\"#fb9f3a\"],[0.8888888888888888,\"#fdca26\"],[1.0,\"#f0f921\"]],\"diverging\":[[0,\"#8e0152\"],[0.1,\"#c51b7d\"],[0.2,\"#de77ae\"],[0.3,\"#f1b6da\"],[0.4,\"#fde0ef\"],[0.5,\"#f7f7f7\"],[0.6,\"#e6f5d0\"],[0.7,\"#b8e186\"],[0.8,\"#7fbc41\"],[0.9,\"#4d9221\"],[1,\"#276419\"]]},\"xaxis\":{\"gridcolor\":\"white\",\"linecolor\":\"white\",\"ticks\":\"\",\"title\":{\"standoff\":15},\"zerolinecolor\":\"white\",\"automargin\":true,\"zerolinewidth\":2},\"yaxis\":{\"gridcolor\":\"white\",\"linecolor\":\"white\",\"ticks\":\"\",\"title\":{\"standoff\":15},\"zerolinecolor\":\"white\",\"automargin\":true,\"zerolinewidth\":2},\"scene\":{\"xaxis\":{\"backgroundcolor\":\"#E5ECF6\",\"gridcolor\":\"white\",\"linecolor\":\"white\",\"showbackground\":true,\"ticks\":\"\",\"zerolinecolor\":\"white\",\"gridwidth\":2},\"yaxis\":{\"backgroundcolor\":\"#E5ECF6\",\"gridcolor\":\"white\",\"linecolor\":\"white\",\"showbackground\":true,\"ticks\":\"\",\"zerolinecolor\":\"white\",\"gridwidth\":2},\"zaxis\":{\"backgroundcolor\":\"#E5ECF6\",\"gridcolor\":\"white\",\"linecolor\":\"white\",\"showbackground\":true,\"ticks\":\"\",\"zerolinecolor\":\"white\",\"gridwidth\":2}},\"shapedefaults\":{\"line\":{\"color\":\"#2a3f5f\"}},\"annotationdefaults\":{\"arrowcolor\":\"#2a3f5f\",\"arrowhead\":0,\"arrowwidth\":1},\"geo\":{\"bgcolor\":\"white\",\"landcolor\":\"#E5ECF6\",\"subunitcolor\":\"white\",\"showland\":true,\"showlakes\":true,\"lakecolor\":\"white\"},\"title\":{\"x\":0.05},\"mapbox\":{\"style\":\"light\"}}},\"xaxis\":{\"anchor\":\"y\",\"domain\":[0.0,1.0]},\"yaxis\":{\"anchor\":\"x\",\"domain\":[0.0,1.0],\"autorange\":\"reversed\"},\"coloraxis\":{\"colorscale\":[[0.0,\"#0d0887\"],[0.1111111111111111,\"#46039f\"],[0.2222222222222222,\"#7201a8\"],[0.3333333333333333,\"#9c179e\"],[0.4444444444444444,\"#bd3786\"],[0.5555555555555556,\"#d8576b\"],[0.6666666666666666,\"#ed7953\"],[0.7777777777777778,\"#fb9f3a\"],[0.8888888888888888,\"#fdca26\"],[1.0,\"#f0f921\"]]},\"margin\":{\"t\":60},\"title\":{\"text\":\"Correlation Heatmap\"}},                        {\"responsive\": true}                    ).then(function(){\n                            \nvar gd = document.getElementById('63c33b12-ac0f-4540-974c-f544cf102c07');\nvar x = new MutationObserver(function (mutations, observer) {{\n        var display = window.getComputedStyle(gd).display;\n        if (!display || display === 'none') {{\n            console.log([gd, 'removed!']);\n            Plotly.purge(gd);\n            observer.disconnect();\n        }}\n}});\n\n// Listen for the removal of the full notebook cells\nvar notebookContainer = gd.closest('#notebook-container');\nif (notebookContainer) {{\n    x.observe(notebookContainer, {childList: true});\n}}\n\n// Listen for the clearing of the current output cell\nvar outputEl = gd.closest('.output');\nif (outputEl) {{\n    x.observe(outputEl, {childList: true});\n}}\n\n                        })                };                });            </script>        </div>"
     },
     "metadata": {},
     "output_type": "display_data"
    }
   ],
   "source": [
    "df = pd.DataFrame(np.vstack([factors,train_set['target'].values]).T, columns=original_factor+factor_name+['target'])\n",
    "# df = pd.DataFrame(np.vstack([factors,train_set['target'].values]).T, columns=original_factor+factor_name+['target']).dropna()\n",
    "# correlation heatmap\n",
    "fig = px.imshow(abs(df.corr()),text_auto=True,aspect='auto',)\n",
    "fig.update_layout(title='Correlation Heatmap')\n",
    "fig.show()"
   ],
   "metadata": {
    "collapsed": false,
    "ExecuteTime": {
     "end_time": "2023-10-05T18:15:23.416237600Z",
     "start_time": "2023-10-05T18:15:18.781355100Z"
    }
   },
   "id": "c2cd644daa67df33"
  },
  {
   "cell_type": "code",
   "execution_count": 325,
   "outputs": [],
   "source": [
    "abs_corr_w_target = abs(df.iloc[:,:-1].corrwith(df['target']))"
   ],
   "metadata": {
    "collapsed": false,
    "ExecuteTime": {
     "end_time": "2023-10-05T18:15:25.099221300Z",
     "start_time": "2023-10-05T18:15:23.415237300Z"
    }
   },
   "id": "792bc77a812a1c7c"
  },
  {
   "cell_type": "code",
   "execution_count": 326,
   "outputs": [
    {
     "data": {
      "text/plain": "<Figure size 640x480 with 1 Axes>",
      "image/png": "[encoded data removed]"
     },
     "metadata": {},
     "output_type": "display_data"
    }
   ],
   "source": [
    "plt.barh(y = abs_corr_w_target.sort_values().index,width=abs_corr_w_target.sort_values(ascending=True))\n",
    "plt.xticks(rotation=90)\n",
    "plt.title('Sorted Absolute Correlation with target')\n",
    "plt.show()"
   ],
   "metadata": {
    "collapsed": false,
    "ExecuteTime": {
     "end_time": "2023-10-05T18:15:25.321445400Z",
     "start_time": "2023-10-05T18:15:25.112223600Z"
    }
   },
   "id": "31d528fbf2cfadc0"
  },
  {
   "cell_type": "code",
   "execution_count": 327,
   "outputs": [
    {
     "data": {
      "text/plain": "<Figure size 640x480 with 1 Axes>",
      "image/png": "[encoded data removed]"
     },
     "metadata": {},
     "output_type": "display_data"
    }
   ],
   "source": [
    "plt.barh(y = abs_corr_w_target.index[::-1],width=abs_corr_w_target[::-1])\n",
    "plt.xticks(rotation=90)\n",
    "plt.title('Unsortedd Absolute Correlation with target')\n",
    "plt.show()"
   ],
   "metadata": {
    "collapsed": false,
    "ExecuteTime": {
     "end_time": "2023-10-05T18:15:25.595211200Z",
     "start_time": "2023-10-05T18:15:25.323445700Z"
    }
   },
   "id": "be837b57d6926a4f"
  },
  {
   "cell_type": "code",
   "execution_count": 344,
   "outputs": [],
   "source": [
    "from sklearn.preprocessing import MinMaxScaler"
   ],
   "metadata": {
    "collapsed": false,
    "ExecuteTime": {
     "end_time": "2023-10-05T18:34:47.931651Z",
     "start_time": "2023-10-05T18:34:47.928570100Z"
    }
   },
   "id": "61b121e8288fd174"
  },
  {
   "cell_type": "code",
   "execution_count": 352,
   "outputs": [
    {
     "data": {
      "text/plain": "LassoLarsIC(criterion='bic')",
      "text/html": "<style>#sk-container-id-4 {color: black;}#sk-container-id-4 pre{padding: 0;}#sk-container-id-4 div.sk-toggleable {background-color: white;}#sk-container-id-4 label.sk-toggleable__label {cursor: pointer;display: block;width: 100%;margin-bottom: 0;padding: 0.3em;box-sizing: border-box;text-align: center;}#sk-container-id-4 label.sk-toggleable__label-arrow:before {content: \"▸\";float: left;margin-right: 0.25em;color: #696969;}#sk-container-id-4 label.sk-toggleable__label-arrow:hover:before {color: black;}#sk-container-id-4 div.sk-estimator:hover label.sk-toggleable__label-arrow:before {color: black;}#sk-container-id-4 div.sk-toggleable__content {max-height: 0;max-width: 0;overflow: hidden;text-align: left;background-color: #f0f8ff;}#sk-container-id-4 div.sk-toggleable__content pre {margin: 0.2em;color: black;border-radius: 0.25em;background-color: #f0f8ff;}#sk-container-id-4 input.sk-toggleable__control:checked~div.sk-toggleable__content {max-height: 200px;max-width: 100%;overflow: auto;}#sk-container-id-4 input.sk-toggleable__control:checked~label.sk-toggleable__label-arrow:before {content: \"▾\";}#sk-container-id-4 div.sk-estimator input.sk-toggleable__control:checked~label.sk-toggleable__label {background-color: #d4ebff;}#sk-container-id-4 div.sk-label input.sk-toggleable__control:checked~label.sk-toggleable__label {background-color: #d4ebff;}#sk-container-id-4 input.sk-hidden--visually {border: 0;clip: rect(1px 1px 1px 1px);clip: rect(1px, 1px, 1px, 1px);height: 1px;margin: -1px;overflow: hidden;padding: 0;position: absolute;width: 1px;}#sk-container-id-4 div.sk-estimator {font-family: monospace;background-color: #f0f8ff;border: 1px dotted black;border-radius: 0.25em;box-sizing: border-box;margin-bottom: 0.5em;}#sk-container-id-4 div.sk-estimator:hover {background-color: #d4ebff;}#sk-container-id-4 div.sk-parallel-item::after {content: \"\";width: 100%;border-bottom: 1px solid gray;flex-grow: 1;}#sk-container-id-4 div.sk-label:hover label.sk-toggleable__label {background-color: #d4ebff;}#sk-container-id-4 div.sk-serial::before {content: \"\";position: absolute;border-left: 1px solid gray;box-sizing: border-box;top: 0;bottom: 0;left: 50%;z-index: 0;}#sk-container-id-4 div.sk-serial {display: flex;flex-direction: column;align-items: center;background-color: white;padding-right: 0.2em;padding-left: 0.2em;position: relative;}#sk-container-id-4 div.sk-item {position: relative;z-index: 1;}#sk-container-id-4 div.sk-parallel {display: flex;align-items: stretch;justify-content: center;background-color: white;position: relative;}#sk-container-id-4 div.sk-item::before, #sk-container-id-4 div.sk-parallel-item::before {content: \"\";position: absolute;border-left: 1px solid gray;box-sizing: border-box;top: 0;bottom: 0;left: 50%;z-index: -1;}#sk-container-id-4 div.sk-parallel-item {display: flex;flex-direction: column;z-index: 1;position: relative;background-color: white;}#sk-container-id-4 div.sk-parallel-item:first-child::after {align-self: flex-end;width: 50%;}#sk-container-id-4 div.sk-parallel-item:last-child::after {align-self: flex-start;width: 50%;}#sk-container-id-4 div.sk-parallel-item:only-child::after {width: 0;}#sk-container-id-4 div.sk-dashed-wrapped {border: 1px dashed gray;margin: 0 0.4em 0.5em 0.4em;box-sizing: border-box;padding-bottom: 0.4em;background-color: white;}#sk-container-id-4 div.sk-label label {font-family: monospace;font-weight: bold;display: inline-block;line-height: 1.2em;}#sk-container-id-4 div.sk-label-container {text-align: center;}#sk-container-id-4 div.sk-container {/* jupyter's `normalize.less` sets `[hidden] { display: none; }` but bootstrap.min.css set `[hidden] { display: none !important; }` so we also need the `!important` here to be able to override the default hidden behavior on the sphinx rendered scikit-learn.org. See: https://github.com/scikit-learn/scikit-learn/issues/21755 */display: inline-block !important;position: relative;}#sk-container-id-4 div.sk-text-repr-fallback {display: none;}</style><div id=\"sk-container-id-4\" class=\"sk-top-container\"><div class=\"sk-text-repr-fallback\"><pre>LassoLarsIC(criterion=&#x27;bic&#x27;)</pre><b>In a Jupyter environment, please rerun this cell to show the HTML representation or trust the notebook. <br />On GitHub, the HTML representation is unable to render, please try loading this page with nbviewer.org.</b></div><div class=\"sk-container\" hidden><div class=\"sk-item\"><div class=\"sk-estimator sk-toggleable\"><input class=\"sk-toggleable__control sk-hidden--visually\" id=\"sk-estimator-id-4\" type=\"checkbox\" checked><label for=\"sk-estimator-id-4\" class=\"sk-toggleable__label sk-toggleable__label-arrow\">LassoLarsIC</label><div class=\"sk-toggleable__content\"><pre>LassoLarsIC(criterion=&#x27;bic&#x27;)</pre></div></div></div></div></div>"
     },
     "execution_count": 352,
     "metadata": {},
     "output_type": "execute_result"
    }
   ],
   "source": [
    "model = LassoLarsIC(criterion='bic')\n",
    "dropna_df = df.dropna()\n",
    "scaled_factors = MinMaxScaler().fit_transform(dropna_df.iloc[:,:-1])\n",
    "model.fit(y = dropna_df['target'],X = scaled_factors)"
   ],
   "metadata": {
    "collapsed": false,
    "ExecuteTime": {
     "end_time": "2023-10-05T18:39:07.221682400Z",
     "start_time": "2023-10-05T18:39:02.336058300Z"
    }
   },
   "id": "ef41cc4baeeea093"
  },
  {
   "cell_type": "code",
   "execution_count": 353,
   "outputs": [
    {
     "data": {
      "text/plain": "<BarContainer object of 17 artists>"
     },
     "execution_count": 353,
     "metadata": {},
     "output_type": "execute_result"
    },
    {
     "data": {
      "text/plain": "<Figure size 640x480 with 1 Axes>",
      "image/png": "[encoded data removed]"
     },
     "metadata": {},
     "output_type": "display_data"
    }
   ],
   "source": [
    "plt.barh(y = dropna_df.columns[:-1],width = abs(model.coef_))"
   ],
   "metadata": {
    "collapsed": false,
    "ExecuteTime": {
     "end_time": "2023-10-05T18:39:10.186739100Z",
     "start_time": "2023-10-05T18:39:09.996926500Z"
    }
   },
   "id": "c2246a1346e878aa"
  },
  {
   "cell_type": "code",
   "execution_count": 355,
   "outputs": [
    {
     "name": "stdout",
     "output_type": "stream",
     "text": [
      "[LightGBM] [Info] Auto-choosing col-wise multi-threading, the overhead of testing was 0.320088 seconds.\n",
      "You can set `force_col_wise=true` to remove the overhead.\n",
      "[LightGBM] [Info] Total Bins 3626\n",
      "[LightGBM] [Info] Number of data points in the train set: 4040883, number of used features: 17\n",
      "[LightGBM] [Info] Start training from score -0.058384\n"
     ]
    },
    {
     "data": {
      "text/plain": "LGBMRegressor()",
      "text/html": "<style>#sk-container-id-5 {color: black;}#sk-container-id-5 pre{padding: 0;}#sk-container-id-5 div.sk-toggleable {background-color: white;}#sk-container-id-5 label.sk-toggleable__label {cursor: pointer;display: block;width: 100%;margin-bottom: 0;padding: 0.3em;box-sizing: border-box;text-align: center;}#sk-container-id-5 label.sk-toggleable__label-arrow:before {content: \"▸\";float: left;margin-right: 0.25em;color: #696969;}#sk-container-id-5 label.sk-toggleable__label-arrow:hover:before {color: black;}#sk-container-id-5 div.sk-estimator:hover label.sk-toggleable__label-arrow:before {color: black;}#sk-container-id-5 div.sk-toggleable__content {max-height: 0;max-width: 0;overflow: hidden;text-align: left;background-color: #f0f8ff;}#sk-container-id-5 div.sk-toggleable__content pre {margin: 0.2em;color: black;border-radius: 0.25em;background-color: #f0f8ff;}#sk-container-id-5 input.sk-toggleable__control:checked~div.sk-toggleable__content {max-height: 200px;max-width: 100%;overflow: auto;}#sk-container-id-5 input.sk-toggleable__control:checked~label.sk-toggleable__label-arrow:before {content: \"▾\";}#sk-container-id-5 div.sk-estimator input.sk-toggleable__control:checked~label.sk-toggleable__label {background-color: #d4ebff;}#sk-container-id-5 div.sk-label input.sk-toggleable__control:checked~label.sk-toggleable__label {background-color: #d4ebff;}#sk-container-id-5 input.sk-hidden--visually {border: 0;clip: rect(1px 1px 1px 1px);clip: rect(1px, 1px, 1px, 1px);height: 1px;margin: -1px;overflow: hidden;padding: 0;position: absolute;width: 1px;}#sk-container-id-5 div.sk-estimator {font-family: monospace;background-color: #f0f8ff;border: 1px dotted black;border-radius: 0.25em;box-sizing: border-box;margin-bottom: 0.5em;}#sk-container-id-5 div.sk-estimator:hover {background-color: #d4ebff;}#sk-container-id-5 div.sk-parallel-item::after {content: \"\";width: 100%;border-bottom: 1px solid gray;flex-grow: 1;}#sk-container-id-5 div.sk-label:hover label.sk-toggleable__label {background-color: #d4ebff;}#sk-container-id-5 div.sk-serial::before {content: \"\";position: absolute;border-left: 1px solid gray;box-sizing: border-box;top: 0;bottom: 0;left: 50%;z-index: 0;}#sk-container-id-5 div.sk-serial {display: flex;flex-direction: column;align-items: center;background-color: white;padding-right: 0.2em;padding-left: 0.2em;position: relative;}#sk-container-id-5 div.sk-item {position: relative;z-index: 1;}#sk-container-id-5 div.sk-parallel {display: flex;align-items: stretch;justify-content: center;background-color: white;position: relative;}#sk-container-id-5 div.sk-item::before, #sk-container-id-5 div.sk-parallel-item::before {content: \"\";position: absolute;border-left: 1px solid gray;box-sizing: border-box;top: 0;bottom: 0;left: 50%;z-index: -1;}#sk-container-id-5 div.sk-parallel-item {display: flex;flex-direction: column;z-index: 1;position: relative;background-color: white;}#sk-container-id-5 div.sk-parallel-item:first-child::after {align-self: flex-end;width: 50%;}#sk-container-id-5 div.sk-parallel-item:last-child::after {align-self: flex-start;width: 50%;}#sk-container-id-5 div.sk-parallel-item:only-child::after {width: 0;}#sk-container-id-5 div.sk-dashed-wrapped {border: 1px dashed gray;margin: 0 0.4em 0.5em 0.4em;box-sizing: border-box;padding-bottom: 0.4em;background-color: white;}#sk-container-id-5 div.sk-label label {font-family: monospace;font-weight: bold;display: inline-block;line-height: 1.2em;}#sk-container-id-5 div.sk-label-container {text-align: center;}#sk-container-id-5 div.sk-container {/* jupyter's `normalize.less` sets `[hidden] { display: none; }` but bootstrap.min.css set `[hidden] { display: none !important; }` so we also need the `!important` here to be able to override the default hidden behavior on the sphinx rendered scikit-learn.org. See: https://github.com/scikit-learn/scikit-learn/issues/21755 */display: inline-block !important;position: relative;}#sk-container-id-5 div.sk-text-repr-fallback {display: none;}</style><div id=\"sk-container-id-5\" class=\"sk-top-container\"><div class=\"sk-text-repr-fallback\"><pre>LGBMRegressor()</pre><b>In a Jupyter environment, please rerun this cell to show the HTML representation or trust the notebook. <br />On GitHub, the HTML representation is unable to render, please try loading this page with nbviewer.org.</b></div><div class=\"sk-container\" hidden><div class=\"sk-item\"><div class=\"sk-estimator sk-toggleable\"><input class=\"sk-toggleable__control sk-hidden--visually\" id=\"sk-estimator-id-5\" type=\"checkbox\" checked><label for=\"sk-estimator-id-5\" class=\"sk-toggleable__label sk-toggleable__label-arrow\">LGBMRegressor</label><div class=\"sk-toggleable__content\"><pre>LGBMRegressor()</pre></div></div></div></div></div>"
     },
     "execution_count": 355,
     "metadata": {},
     "output_type": "execute_result"
    }
   ],
   "source": [
    "from lightgbm import LGBMRegressor\n",
    "model = LGBMRegressor()\n",
    "model.fit(y = dropna_df['target'],X = scaled_factors)"
   ],
   "metadata": {
    "collapsed": false,
    "ExecuteTime": {
     "end_time": "2023-10-05T18:45:36.011586800Z",
     "start_time": "2023-10-05T18:45:20.392492300Z"
    }
   },
   "id": "3cfb76a644d2f0d0"
  },
  {
   "cell_type": "code",
   "execution_count": 382,
   "outputs": [
    {
     "data": {
      "text/plain": "<Axes: >"
     },
     "execution_count": 382,
     "metadata": {},
     "output_type": "execute_result"
    },
    {
     "data": {
      "text/plain": "<Figure size 640x480 with 1 Axes>",
      "image/png": "[encoded data removed]"
     },
     "metadata": {},
     "output_type": "display_data"
    }
   ],
   "source": [
    "feature_importance = pd.DataFrame(model.feature_importances_,index=dropna_df.columns[:-1],columns=['importance']).sort_values('importance',ascending=True)\n",
    "feature_importance.plot(kind='barh')"
   ],
   "metadata": {
    "collapsed": false,
    "ExecuteTime": {
     "end_time": "2023-10-05T18:54:21.008656300Z",
     "start_time": "2023-10-05T18:54:20.774494200Z"
    }
   },
   "id": "7a589c7b524395fd"
  },
  {
   "cell_type": "code",
   "execution_count": 384,
   "outputs": [
    {
     "data": {
      "text/plain": "0.0474803813773772"
     },
     "execution_count": 384,
     "metadata": {},
     "output_type": "execute_result"
    }
   ],
   "source": [
    "model.score(y = dropna_df['target'],X = scaled_factors)"
   ],
   "metadata": {
    "collapsed": false,
    "ExecuteTime": {
     "end_time": "2023-10-05T18:55:37.758197300Z",
     "start_time": "2023-10-05T18:55:31.375662900Z"
    }
   },
   "id": "89e3c39112be8c4f"
  },
  {
   "cell_type": "markdown",
   "source": [
    "# sketch"
   ],
   "metadata": {
    "collapsed": false
   },
   "id": "44c4de614045d2b9"
  },
  {
   "cell_type": "code",
   "execution_count": null,
   "outputs": [],
   "source": [
    "res = test_set.loc[:,['stock_id','date_id','bid_price','ask_price']]\n",
    "res['mid_price'] = mid_price(test_set)"
   ],
   "metadata": {
    "collapsed": false,
    "ExecuteTime": {
     "start_time": "2023-10-05T18:15:25.637915100Z"
    }
   },
   "id": "9269c0ed2bf24945"
  },
  {
   "cell_type": "code",
   "execution_count": null,
   "outputs": [],
   "source": [
    "res.groupby(['stock_id','date_id'])['wap'].first()"
   ],
   "metadata": {
    "collapsed": false,
    "ExecuteTime": {
     "start_time": "2023-10-05T18:15:25.640914Z"
    }
   },
   "id": "1c31666d37427c4b"
  },
  {
   "cell_type": "code",
   "execution_count": null,
   "outputs": [],
   "source": [
    "(res.groupby(['stock_id','date_id'])['mid_price'].transform('first')-res['mid_price']).iloc[573]\n",
    "# res[(res['stock_id']==0) & (res['date_id']==3)].groupby(['stock_id','date_id'])['mid_price'].transform('first')"
   ],
   "metadata": {
    "collapsed": false,
    "ExecuteTime": {
     "start_time": "2023-10-05T18:15:25.643914700Z"
    }
   },
   "id": "f77648ee804771fd"
  },
  {
   "cell_type": "code",
   "execution_count": null,
   "outputs": [],
   "source": [
    "res[res['stock_id']==0]"
   ],
   "metadata": {
    "collapsed": false,
    "ExecuteTime": {
     "start_time": "2023-10-05T18:15:25.645912800Z"
    }
   },
   "id": "7d1a27b74b4315dc"
  }
 ],
 "metadata": {
  "kernelspec": {
   "display_name": "Python 3",
   "language": "python",
   "name": "python3"
  },
  "language_info": {
   "codemirror_mode": {
    "name": "ipython",
    "version": 2
   },
   "file_extension": ".py",
   "mimetype": "text/x-python",
   "name": "python",
   "nbconvert_exporter": "python",
   "pygments_lexer": "ipython2",
   "version": "2.7.6"
  }
 },
 "nbformat": 4,
 "nbformat_minor": 5
}
