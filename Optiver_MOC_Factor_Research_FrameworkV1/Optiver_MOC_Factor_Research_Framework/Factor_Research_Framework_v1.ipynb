{
 "cells": [
  {
   "cell_type": "markdown",
   "metadata": {},
   "source": [
    "## Preprocessing "
   ]
  },
  {
   "cell_type": "code",
   "execution_count": 1,
   "metadata": {},
   "outputs": [],
   "source": [
    "%load_ext autoreload\n",
    "%autoreload 2"
   ]
  },
  {
   "cell_type": "code",
   "execution_count": 2,
   "metadata": {},
   "outputs": [],
   "source": [
    "'''\n",
    "Welcome to Optiver 2023 MoC Challenge! We designed this notebook for you to explore the data given by the challenge, research and design your own factors based on\n",
    "the training data given and the helper functions we built for you!\n",
    "Feel free to play around with the data and get familiar with it!\n",
    "'''\n",
    "\n",
    "# We will import the necessary libraries here. You can import any librariese you need for your beautiful factors!\n",
    "from factor_design_ver2_beta import utils\n",
    "from factor_design_ver2_beta import factor_design\n",
    "from factor_design_ver2_beta import factor_backtest\n",
    "# from joblib import Parallel, delayed # waited to be optimized\n",
    "import numpy as np\n",
    "import pandas as pd\n",
    "from tqdm import tqdm"
   ]
  },
  {
   "cell_type": "code",
   "execution_count": 8,
   "metadata": {},
   "outputs": [],
   "source": [
    "# DON'T RE-RUN THIS CELL TOO OFTEN! The loading time for training data is a bit long.\n",
    "# Please make sure you have been provided with the training data with such name in the same folder as this notebook.\n",
    "# You can play around with this file for your own research and factor design.\n",
    "df_train = pd.read_csv('./research_train_set.csv')\n",
    "\n",
    "# We built a index map to speed up the factor design, you don't need to worry about this.\n",
    "col2index_map = utils.load_json('./factor_design_ver2_beta/col2index_map.json')"
   ]
  },
  {
   "cell_type": "markdown",
   "metadata": {},
   "source": [
    "## Factor Design"
   ]
  },
  {
   "cell_type": "code",
   "execution_count": 3,
   "metadata": {},
   "outputs": [],
   "source": [
    "# We designed a function to transform the df_train you loaded into a dictionary to speed up the research process.\n",
    "# You don't need to worry about this. This will take up to half minutes to run. DON'T RE-RUN THIS CELL TOO OFTEN!\n",
    "df_train_dic_sorted = utils.load_json('./factor_design_ver2_beta/df_train_dic_sorted.json')"
   ]
  },
  {
   "cell_type": "code",
   "execution_count": 5,
   "metadata": {},
   "outputs": [],
   "source": [
    "'''\n",
    "In this part you will design your own factors! We have provided you with some helper functions to speed up the process.\n",
    "We look forward to receving your beautiful factors!\n",
    "'''\n",
    "# Before you start, we provide you with a sample factor design here.\n",
    "# Please STRICTLY FOLLOW the instructions below to design your own factors!\n",
    "'''\n",
    "1. You can design your own factors based on the training data given. However, you CANNOT use the target variable (i.e. 'target') in your factor design!!\n",
    "2. You can use any public libraries you want to design your factors.\n",
    "3. The factor design should be the following format:\n",
    "def your_factor_name(current_data: dict, hist_list: list) -> np.ndarray:\n",
    "    The overall training data given by Kaggle competition is a dataset that contains relevant stocks' features of last 9 minutes (540 seconds) of multiple\n",
    "    trading days. The data is in the form that, in the order of each trading day, we will have all available stocks' features for 55 time buckets, 10 seconds long\n",
    "    for each bucket. For example, the first 10 seconds of the first trading day, we will have all available stocks' features, then the second 10 seconds, and so on.\n",
    "    \n",
    "    We are predicting the target variable (i.e. 'target') for each 10 seconds bucket on each day (time snapshot).\n",
    "    \n",
    "    When we submit our prediction, the test data will come in with same features of all available stocks at a time snapshot, and we predict only based on all the\n",
    "    time snapshots given we have. The current_data in the sample function will be the data in the current time snapshot, for example, the data from 0s to 10s of the\n",
    "    first trading day for all stocks. The hist_list is set to be empty list as default, and THIS IS DESIGNED for you in case you want to STORE any previous data for\n",
    "    your factor design. For example, you can create a time-series factor that uses the data from previous time snapshots, and you can store the previous data in the\n",
    "    hist_list.\n",
    "\n",
    "\n",
    "    The return will be the factor value you calculated. The format HAS TO BE np.ndarray, and the shape of the return HAS TO BE (n_stocks, )\n",
    "'''\n",
    "def origin_ask_size(current_data: dict, hist_list = []) -> np.ndarray:\n",
    "    current_data = np.array(list(current_data.values()), dtype=float).T\n",
    "    current_data = np.nan_to_num(current_data)\n",
    "    return current_data[:, col2index_map['ask_size']]"
   ]
  },
  {
   "cell_type": "code",
   "execution_count": 4,
   "metadata": {},
   "outputs": [],
   "source": [
    "def mid_price(current_data: dict, hist_list = []) -> np.ndarray:\n",
    "    '''\n",
    "    This will be the main function to design your factors for the competition. Please\n",
    "    define only one factor here each time. We provide you with:\n",
    "\n",
    "    Current_data: a dictionary in the format of {column_name: column_value}, where column_name is from the original\n",
    "    dataframe\n",
    "\n",
    "    hist_list: A list for you to save the previous factor values (optional). For instance,\n",
    "    if you are calculating a 100-day Moving Average (MA), then you can save the first calculated\n",
    "    MA in hist_list, and then for the next MA calculation, you can use the saved ones.\n",
    "    '''\n",
    "    ###################### ADD YOUR CODE HERE FOR FACTORS DESIGN ######################\n",
    "    # convert the current_data to your choice of numpy or pandas dataframe\n",
    "    # current_data = pd.DataFrame(current_data)\n",
    "    current_data = np.array(list(current_data.values()),\n",
    "                            dtype=float).T  # this is faster than pd.DataFrame(current_data).values\n",
    "    res = current_data[:, col2index_map['ask_price']] - current_data[:, col2index_map['bid_price']]\n",
    "    ############################## NAN/Inf handling ######################################\n",
    "    # if you have nan in your factor value, please fill it reasonably\n",
    "    # res = np.nan_to_num(res) # this is slow because it also checks for inf.\n",
    "    # res = np.where(np.isnan(res), 0, res)  # this is slightly faster than np.nan_to_num\n",
    "    res[np.isnan(res)] = 0  # this is the fastest way to fill nan with 0\n",
    "    ############################## END OF YOUR CODE ##############################\n",
    "    return res  # The return value MUSE BE a numpy array, with no NaN value\n",
    "    ####################################################################################\n"
   ]
  },
  {
   "cell_type": "code",
   "execution_count": 5,
   "metadata": {},
   "outputs": [],
   "source": [
    "def s1_imbalance(current_data: dict, hist_list = []) -> np.ndarray:\n",
    "    '''\n",
    "    This will be the main function to design your factors for the competition. Please\n",
    "    define only one factor here each time. We provide you with:\n",
    "\n",
    "    Current_data: a dictionary in the format of {column_name: column_value}, where column_name is from the original\n",
    "    dataframe\n",
    "\n",
    "    hist_list: A list for you to save the previous factor values (optional). For instance,\n",
    "    if you are calculating a 100-day Moving Average (MA), then you can save the first calculated\n",
    "    MA in hist_list, and then for the next MA calculation, you can use the saved ones.\n",
    "    '''\n",
    "    ###################### ADD YOUR CODE HERE FOR FACTORS DESIGN ######################\n",
    "    # convert the current_data to your choice of numpy or pandas dataframe\n",
    "    # current_data = pd.DataFrame(current_data)\n",
    "    current_data = np.array(list(current_data.values()),\n",
    "                            dtype=float).T  # this is faster than pd.DataFrame(current_data).values\n",
    "    res = (current_data[:, col2index_map['bid_size']] - current_data[:, col2index_map['ask_size']])/\\\n",
    "          (current_data[:, col2index_map['bid_size']] + current_data[:, col2index_map['ask_size']])\n",
    "    ############################## NAN/Inf handling ######################################\n",
    "    # if you have nan in your factor value, please fill it reasonably\n",
    "    # res = np.nan_to_num(res) # this is slow because it also checks for inf.\n",
    "    # res = np.where(np.isnan(res), 0, res)  # this is slightly faster than np.nan_to_num\n",
    "    res[np.isnan(res)] = 0  # this is the fastest way to fill nan\n",
    "    ############################## END OF YOUR CODE ##############################\n",
    "    return res  # The return value MUSE BE a numpy array, with no NaN value\n",
    "    ####################################################################################\n"
   ]
  },
  {
   "cell_type": "code",
   "execution_count": 6,
   "metadata": {},
   "outputs": [],
   "source": [
    "'''\n",
    "Each factor should be defined as a function described above. After you designed all your factors and you are all good to test your factors,\n",
    "you can simply ADD your factor name to the factor_list below, and run the cell. The backtest result will be printed out for you to see!\n",
    "'''\n",
    "# new_factor_list = ['origin_ask_size']\n",
    "new_factor_list = ['mid_price', 's1_imbalance']"
   ]
  },
  {
   "cell_type": "code",
   "execution_count": 9,
   "metadata": {},
   "outputs": [
    {
     "name": "stderr",
     "output_type": "stream",
     "text": [
      "\n",
      "  0%|          | 0/2 [00:00<?, ?it/s]"
     ]
    },
    {
     "name": "stderr",
     "output_type": "stream",
     "text": [
      "\u001b[A"
     ]
    },
    {
     "name": "stdout",
     "output_type": "stream",
     "text": [
      "Start calculating factor mid_price\n",
      "Finished calculating factor mid_price for 0 dates\n",
      "Finished calculating factor mid_price for 100 dates\n",
      "Finished calculating factor mid_price for 200 dates\n",
      "Finished calculating factor mid_price for 300 dates\n",
      "Finished calculating factor mid_price for 400 dates\n",
      "Accepted!!: Used 6.67 seconds for calculation factors. The limit is 300 seconds.\n"
     ]
    },
    {
     "name": "stderr",
     "output_type": "stream",
     "text": []
    },
    {
     "name": "stdout",
     "output_type": "stream",
     "text": [
      "Start calculating factor s1_imbalance\n",
      "Finished calculating factor s1_imbalance for 0 dates\n"
     ]
    },
    {
     "name": "stderr",
     "output_type": "stream",
     "text": [
      "C:\\Users\\tongf\\AppData\\Local\\Temp\\ipykernel_20372\\4041697257.py:18: RuntimeWarning: invalid value encountered in divide\n",
      "  res = (current_data[:, col2index_map['bid_size']] - current_data[:, col2index_map['ask_size']])/\\\n"
     ]
    },
    {
     "name": "stdout",
     "output_type": "stream",
     "text": [
      "Finished calculating factor s1_imbalance for 100 dates\n",
      "Finished calculating factor s1_imbalance for 200 dates\n",
      "Finished calculating factor s1_imbalance for 300 dates\n",
      "Finished calculating factor s1_imbalance for 400 dates\n",
      "Accepted!!: Used 5.61 seconds for calculation factors. The limit is 300 seconds.\n"
     ]
    },
    {
     "name": "stderr",
     "output_type": "stream",
     "text": [
      "100%|██████████| 2/2 [00:14<00:00,  7.36s/it]\n"
     ]
    }
   ],
   "source": [
    "# DO NOT MODIFY THE FOLLOWING CODE\n",
    "# Run this cell once you want to calculate your factor values and prepare for the test of your factor performance!\n",
    "new_factors = {factor_name: utils.flatten_factor_value(factor_design.run_factor_value(df_train_dic_sorted, eval(factor_name), factor_name), factor_name)[factor_name] for factor_name in tqdm(new_factor_list)}"
   ]
  },
  {
   "cell_type": "code",
   "execution_count": 10,
   "metadata": {},
   "outputs": [],
   "source": [
    "# check if all values in new_factor and original_factor_dict does not contain nan, no NA is allowed in the factor value\n",
    "for factor_name, factor_value in new_factors.items():\n",
    "    assert not np.isnan(factor_value).any(), f'{factor_name} contains nan'"
   ]
  },
  {
   "cell_type": "markdown",
   "metadata": {},
   "source": [
    "## Factor Backtesting"
   ]
  },
  {
   "cell_type": "code",
   "execution_count": 11,
   "metadata": {},
   "outputs": [],
   "source": [
    "'''\n",
    "The factor_backtest is an object that can be used to backtest your factors. It takes three arguments:\n",
    "\n",
    "    existed_facors: This is the dictionary stored all the passed factors with their names as keys and values as values\n",
    "    testing_factors: This is the dictionary stored all the factors waited to be tested\n",
    "    factor_performance: This is the dictionary stored all the factors' performance score (which is the Pearson correlation coefficient\n",
    "    of factor values vs corresponded target vector)\n",
    "'''\n",
    "# We will firstly load the existed factors and the existed factors' performance for you\n",
    "# This will take 12 seconds, you only need to run this cell once for loading the existed factors and their performance\n",
    "existed_factors = utils.load_json_factors('./factor_design_ver2_beta/existed_factors.json')\n",
    "factor_performance = utils.load_json('./factor_design_ver2_beta/factor_performance.json')"
   ]
  },
  {
   "cell_type": "code",
   "execution_count": 12,
   "metadata": {},
   "outputs": [],
   "source": [
    "demo_backtest = factor_backtest.Factor_Backtest(existed_factors=existed_factors, testing_factors=new_factors, factor_performance=factor_performance)"
   ]
  },
  {
   "cell_type": "code",
   "execution_count": 13,
   "metadata": {},
   "outputs": [
    {
     "name": "stdout",
     "output_type": "stream",
     "text": [
      "Factor mid_price failed in-sample performance check with correlation coefficient 0.007206974790691211\n",
      "Factor s1_imbalance failed in-sample performance check with correlation coefficient -0.11723116519487425\n",
      "Time used for checking in-sample performance: 0.7930006980895996 seconds\n",
      "Number of factors passed this step: 0\n",
      "Correlation coefficient of each test factor: {'mid_price': 0.007206974790691211, 's1_imbalance': -0.11723116519487425}\n",
      "Factors passed this step: []\n",
      "Factors failed this step: ['mid_price', 's1_imbalance']\n",
      "Factor mid_price passed in-sample correlation check with all existed factors\n",
      "Factor mid_price has in-sample performance {'origin_seconds_in_bucket': -0.15319060735379686, 'origin_imbalance_size': -0.07807498693573299, 'origin_imbalance_buy_sell_flag': 0.00909503691500761, 'origin_reference_price': 0.015928115729871267, 'origin_matched_size': -0.13553737979085623, 'origin_far_price': -0.08587093457834077, 'origin_near_price': -0.11991574616747172, 'origin_bid_price': -0.026968380198948674, 'origin_bid_size': 0.020024751894022676, 'origin_ask_price': 0.0562212962927742, 'origin_ask_size': 0.013533509494058116, 'origin_wap': 0.014012493816698604} with all existed factors\n",
      "Factor s1_imbalance passed in-sample correlation check with all existed factors\n",
      "Factor s1_imbalance has in-sample performance {'origin_seconds_in_bucket': -0.0025867341364750715, 'origin_imbalance_size': -0.0009331849960365153, 'origin_imbalance_buy_sell_flag': 0.058143782191764894, 'origin_reference_price': 0.011270526605561701, 'origin_matched_size': -0.0015973217671048487, 'origin_far_price': -0.0031807357401535266, 'origin_near_price': -0.005447610657762755, 'origin_bid_price': 0.008000623712764582, 'origin_bid_size': 0.2371117778832383, 'origin_ask_price': 0.00810072176971882, 'origin_ask_size': -0.20722680912840621, 'origin_wap': 0.03236185672988625} with all existed factors\n",
      "Factor mid_price failed one of the tests, and will not be added to the factors for out-of-sample testing\n",
      "Factor s1_imbalance failed one of the tests, and will not be added to the factors for out-of-sample testing\n"
     ]
    }
   ],
   "source": [
    "demo_backtest.run_testing() # this will print out the in-sample performance of your factors"
   ]
  }
 ],
 "metadata": {
  "kernelspec": {
   "display_name": "Python 3",
   "language": "python",
   "name": "python3"
  },
  "language_info": {
   "codemirror_mode": {
    "name": "ipython",
    "version": 3
   },
   "file_extension": ".py",
   "mimetype": "text/x-python",
   "name": "python",
   "nbconvert_exporter": "python",
   "pygments_lexer": "ipython3",
   "version": "3.10.3"
  }
 },
 "nbformat": 4,
 "nbformat_minor": 2
}
