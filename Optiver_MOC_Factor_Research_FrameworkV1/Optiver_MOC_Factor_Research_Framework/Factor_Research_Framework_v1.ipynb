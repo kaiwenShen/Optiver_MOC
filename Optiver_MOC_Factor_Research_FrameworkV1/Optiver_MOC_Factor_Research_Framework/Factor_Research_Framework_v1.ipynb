{
 "cells": [
  {
   "cell_type": "markdown",
   "metadata": {},
   "source": [
    "## Preprocessing "
   ]
  },
  {
   "cell_type": "code",
   "execution_count": 355,
   "metadata": {
    "ExecuteTime": {
     "end_time": "2023-11-06T01:15:27.702065600Z",
     "start_time": "2023-11-06T01:15:26.760928700Z"
    }
   },
   "outputs": [
    {
     "name": "stdout",
     "output_type": "stream",
     "text": [
      "The autoreload extension is already loaded. To reload it, use:\n",
      "  %reload_ext autoreload\n"
     ]
    }
   ],
   "source": [
    "%load_ext autoreload\n",
    "%autoreload 2"
   ]
  },
  {
   "cell_type": "code",
   "execution_count": 356,
   "metadata": {
    "ExecuteTime": {
     "end_time": "2023-11-06T01:15:28.093812700Z",
     "start_time": "2023-11-06T01:15:26.852864500Z"
    }
   },
   "outputs": [],
   "source": [
    "'''\n",
    "Welcome to Optiver 2023 MoC Challenge! We designed this notebook for you to explore the data given by the challenge, research and design your own factors based on\n",
    "the training data given and the helper functions we built for you!\n",
    "Feel free to play around with the data and get familiar with it!\n",
    "'''\n",
    "\n",
    "# We will import the necessary libraries here. You can import any librariese you need for your beautiful factors!\n",
    "from factor_design_ver2_beta import utils\n",
    "from factor_design_ver2_beta import factor_design\n",
    "from factor_design_ver2_beta import factor_backtest\n",
    "# from joblib import Parallel, delayed # waited to be optimized\n",
    "import numpy as np\n",
    "import pandas as pd\n",
    "from tqdm import tqdm\n",
    "import matplotlib.pyplot as plt\n",
    "import scipy.stats as stats\n",
    "import queue"
   ]
  },
  {
   "cell_type": "code",
   "execution_count": 357,
   "metadata": {
    "ExecuteTime": {
     "end_time": "2023-11-06T01:15:34.590321200Z",
     "start_time": "2023-11-06T01:15:26.944025100Z"
    }
   },
   "outputs": [],
   "source": [
    "# DON'T RE-RUN THIS CELL TOO OFTEN! The loading time for training data is a bit long.\n",
    "# Please make sure you have been provided with the training data with such name in the same folder as this notebook.\n",
    "# You can play around with this file for your own research and factor design.\n",
    "df_train = pd.read_csv('./research_train_set.csv')\n",
    "\n",
    "# We built a index map to speed up the factor design, you don't need to worry about this.\n",
    "col2index_map = utils.load_json('./factor_design_ver2_beta/col2index_map.json')"
   ]
  },
  {
   "cell_type": "markdown",
   "metadata": {},
   "source": [
    "## Factor Design"
   ]
  },
  {
   "cell_type": "code",
   "execution_count": 358,
   "metadata": {
    "ExecuteTime": {
     "end_time": "2023-11-06T01:15:50.316540400Z",
     "start_time": "2023-11-06T01:15:34.592353900Z"
    }
   },
   "outputs": [],
   "source": [
    "# We designed a function to transform the df_train you loaded into a dictionary to speed up the research process.\n",
    "# You don't need to worry about this. This will take up to half minutes to run. DON'T RE-RUN THIS CELL TOO OFTEN!\n",
    "df_train_dic_sorted = utils.load_json('./factor_design_ver2_beta/df_train_dic_sorted.json')"
   ]
  },
  {
   "cell_type": "code",
   "execution_count": 359,
   "metadata": {
    "ExecuteTime": {
     "end_time": "2023-11-06T01:15:50.410997100Z",
     "start_time": "2023-11-06T01:15:50.318543500Z"
    }
   },
   "outputs": [
    {
     "data": {
      "text/plain": "\"\\n1. You can design your own factors based on the training data given. However, you CANNOT use the target variable (i.e. 'target') in your factor design!!\\n2. You can use any public libraries you want to design your factors.\\n3. The factor design should be the following format:\\ndef your_factor_name(current_data: dict, hist_list: list) -> np.ndarray:\\n    The overall training data given by Kaggle competition is a dataset that contains relevant stocks' features of last 9 minutes (540 seconds) of multiple\\n    trading days. The data is in the form that, in the order of each trading day, we will have all available stocks' features for 55 time buckets, 10 seconds long\\n    for each bucket. For example, the first 10 seconds of the first trading day, we will have all available stocks' features, then the second 10 seconds, and so on.\\n    \\n    We are predicting the target variable (i.e. 'target') for each 10 seconds bucket on each day (time snapshot).\\n    \\n    When we submit our prediction, the test data will come in with same features of all available stocks at a time snapshot, and we predict only based on all the\\n    time snapshots given we have. The current_data in the sample function will be the data in the current time snapshot, for example, the data from 0s to 10s of the\\n    first trading day for all stocks. The hist_list is set to be empty list as default, and THIS IS DESIGNED for you in case you want to STORE any previous data for\\n    your factor design. For example, you can create a time-series factor that uses the data from previous time snapshots, and you can store the previous data in the\\n    hist_list.\\n\\n\\n    The return will be the factor value you calculated. The format HAS TO BE np.ndarray, and the shape of the return HAS TO BE (n_stocks, )\\n\""
     },
     "execution_count": 359,
     "metadata": {},
     "output_type": "execute_result"
    }
   ],
   "source": [
    "'''\n",
    "In this part you will design your own factors! We have provided you with some helper functions to speed up the process.\n",
    "We look forward to receving your beautiful factors!\n",
    "'''\n",
    "# Before you start, we provide you with a sample factor design here.\n",
    "# Please STRICTLY FOLLOW the instructions below to design your own factors!\n",
    "'''\n",
    "1. You can design your own factors based on the training data given. However, you CANNOT use the target variable (i.e. 'target') in your factor design!!\n",
    "2. You can use any public libraries you want to design your factors.\n",
    "3. The factor design should be the following format:\n",
    "def your_factor_name(current_data: dict, hist_list: list) -> np.ndarray:\n",
    "    The overall training data given by Kaggle competition is a dataset that contains relevant stocks' features of last 9 minutes (540 seconds) of multiple\n",
    "    trading days. The data is in the form that, in the order of each trading day, we will have all available stocks' features for 55 time buckets, 10 seconds long\n",
    "    for each bucket. For example, the first 10 seconds of the first trading day, we will have all available stocks' features, then the second 10 seconds, and so on.\n",
    "    \n",
    "    We are predicting the target variable (i.e. 'target') for each 10 seconds bucket on each day (time snapshot).\n",
    "    \n",
    "    When we submit our prediction, the test data will come in with same features of all available stocks at a time snapshot, and we predict only based on all the\n",
    "    time snapshots given we have. The current_data in the sample function will be the data in the current time snapshot, for example, the data from 0s to 10s of the\n",
    "    first trading day for all stocks. The hist_list is set to be empty list as default, and THIS IS DESIGNED for you in case you want to STORE any previous data for\n",
    "    your factor design. For example, you can create a time-series factor that uses the data from previous time snapshots, and you can store the previous data in the\n",
    "    hist_list.\n",
    "\n",
    "\n",
    "    The return will be the factor value you calculated. The format HAS TO BE np.ndarray, and the shape of the return HAS TO BE (n_stocks, )\n",
    "'''"
   ]
  },
  {
   "cell_type": "markdown",
   "source": [
    "### Mid Price"
   ],
   "metadata": {
    "collapsed": false
   }
  },
  {
   "cell_type": "code",
   "execution_count": 360,
   "metadata": {
    "ExecuteTime": {
     "end_time": "2023-11-06T01:15:50.530678600Z",
     "start_time": "2023-11-06T01:15:50.410997100Z"
    }
   },
   "outputs": [],
   "source": [
    "def mid_price(current_data: dict, hist_list=[]) -> np.ndarray:\n",
    "    '''\n",
    "    This will be the main function to design your factors for the competition. Please\n",
    "    define only one factor here each time. We provide you with:\n",
    "\n",
    "    Current_data: a dictionary in the format of {column_name: column_value}, where column_name is from the original\n",
    "    dataframe\n",
    "\n",
    "    hist_list: A list for you to save the previous factor values (optional). For instance,\n",
    "    if you are calculating a 100-day Moving Average (MA), then you can save the first calculated\n",
    "    MA in hist_list, and then for the next MA calculation, you can use the saved ones.\n",
    "    '''\n",
    "    ###################### ADD YOUR CODE HERE FOR FACTORS DESIGN ######################\n",
    "    # convert the current_data to your choice of numpy or pandas dataframe\n",
    "    # current_data = pd.DataFrame(current_data)\n",
    "    current_data = np.array(list(current_data.values()),\n",
    "                            dtype=float).T  # this is faster than pd.DataFrame(current_data).values\n",
    "    res = (current_data[:, col2index_map['ask_price']] + current_data[:, col2index_map['bid_price']]) / 2\n",
    "    ############################## NAN/Inf handling ######################################\n",
    "    # if you have nan in your factor value, please fill it reasonably\n",
    "    # res = np.nan_to_num(res) # this is slow because it also checks for inf.\n",
    "    # res = np.where(np.isnan(res), 0, res)  # this is slightly faster than np.nan_to_num\n",
    "    res[np.isnan(res)] = 0  # this is the fastest way to fill nan with 0\n",
    "    ############################## END OF YOUR CODE ##############################\n",
    "    return res  # The return value MUSE BE a numpy array, with no NaN value\n",
    "    ####################################################################################\n"
   ]
  },
  {
   "cell_type": "code",
   "execution_count": 361,
   "outputs": [],
   "source": [
    "def mid_price_std5(current_data: dict, hist_list=[]) -> np.ndarray:\n",
    "    current_data = np.array(list(current_data.values()),\n",
    "                            dtype=float).T  # this is faster than pd.DataFrame(current_data).values\n",
    "    current_time = current_data[0, col2index_map['seconds_in_bucket']]\n",
    "    current_spread = (current_data[:, col2index_map['ask_price']] + current_data[:, col2index_map['bid_price']]) / 2\n",
    "    if current_time == 0:\n",
    "        if len(hist_list) == 0:\n",
    "            # we are at the very beginning of the data set\n",
    "            hist_list.append(queue.Queue())\n",
    "        else:\n",
    "            # new day, we clear the queue\n",
    "            hist_list[0].queue.clear()\n",
    "    if current_time < 50:\n",
    "        hist_list[0].put(current_spread)\n",
    "        res = np.zeros(current_spread.shape)\n",
    "    else:\n",
    "        hist_list[0].put(current_spread)\n",
    "        # calculate the past 60s return\n",
    "        res = np.std(list(hist_list[0].queue), axis=0)\n",
    "        # pop the oldest data\n",
    "        hist_list[0].get()\n",
    "    res[np.isnan(res)] = 0  # this is the fastest way to fill nan with 0\n",
    "    return res"
   ],
   "metadata": {
    "collapsed": false,
    "ExecuteTime": {
     "end_time": "2023-11-06T01:15:50.622097700Z",
     "start_time": "2023-11-06T01:15:50.511613300Z"
    }
   }
  },
  {
   "cell_type": "markdown",
   "source": [
    "### S1 Imbalance"
   ],
   "metadata": {
    "collapsed": false
   }
  },
  {
   "cell_type": "code",
   "execution_count": 362,
   "metadata": {
    "ExecuteTime": {
     "end_time": "2023-11-06T01:15:50.708132300Z",
     "start_time": "2023-11-06T01:15:50.610097400Z"
    }
   },
   "outputs": [],
   "source": [
    "def s1_imbalance(current_data: dict, hist_list=[]) -> np.ndarray:\n",
    "    '''\n",
    "    This will be the main function to design your factors for the competition. Please\n",
    "    define only one factor here each time. We provide you with:\n",
    "\n",
    "    Current_data: a dictionary in the format of {column_name: column_value}, where column_name is from the original\n",
    "    dataframe\n",
    "\n",
    "    hist_list: A list for you to save the previous factor values (optional). For instance,\n",
    "    if you are calculating a 100-day Moving Average (MA), then you can save the first calculated\n",
    "    MA in hist_list, and then for the next MA calculation, you can use the saved ones.\n",
    "    '''\n",
    "    ###################### ADD YOUR CODE HERE FOR FACTORS DESIGN ######################\n",
    "    # convert the current_data to your choice of numpy or pandas dataframe\n",
    "    # current_data = pd.DataFrame(current_data)\n",
    "    current_data = np.array(list(current_data.values()),\n",
    "                            dtype=float).T  # this is faster than pd.DataFrame(current_data).values\n",
    "    res = (current_data[:, col2index_map['bid_size']] - current_data[:, col2index_map['ask_size']]) / \\\n",
    "          (current_data[:, col2index_map['bid_size']] + current_data[:, col2index_map['ask_size']])\n",
    "    ############################## NAN/Inf handling ######################################\n",
    "    # if you have nan in your factor value, please fill it reasonably\n",
    "    # res = np.nan_to_num(res) # this is slow because it also checks for inf.\n",
    "    # res = np.where(np.isnan(res), 0, res)  # this is slightly faster than np.nan_to_num\n",
    "    res[np.isnan(res)] = 0  # this is the fastest way to fill nan\n",
    "    ############################## END OF YOUR CODE ##############################\n",
    "    return -res  # The return value MUSE BE a numpy array, with no NaN value\n",
    "    ####################################################################################\n"
   ]
  },
  {
   "cell_type": "code",
   "execution_count": 363,
   "outputs": [],
   "source": [
    "def s1_imbalance_rank(current_data: dict, hist_list=[]) -> np.ndarray:\n",
    "    '''\n",
    "    This will be the main function to design your factors for the competition. Please\n",
    "    define only one factor here each time. We provide you with:\n",
    "\n",
    "    Current_data: a dictionary in the format of {column_name: column_value}, where column_name is from the original\n",
    "    dataframe\n",
    "\n",
    "    hist_list: A list for you to save the previous factor values (optional). For instance,\n",
    "    if you are calculating a 100-day Moving Average (MA), then you can save the first calculated\n",
    "    MA in hist_list, and then for the next MA calculation, you can use the saved ones.\n",
    "    '''\n",
    "    ###################### ADD YOUR CODE HERE FOR FACTORS DESIGN ######################\n",
    "    # convert the current_data to your choice of numpy or pandas dataframe\n",
    "    # current_data = pd.DataFrame(current_data)\n",
    "    current_data = np.array(list(current_data.values()),\n",
    "                            dtype=float).T  # this is faster than pd.DataFrame(current_data).values\n",
    "    res = (current_data[:, col2index_map['bid_size']] - current_data[:, col2index_map['ask_size']]) / \\\n",
    "          (current_data[:, col2index_map['bid_size']] + current_data[:, col2index_map['ask_size']])\n",
    "    ############################## NAN/Inf handling ######################################\n",
    "    # if you have nan in your factor value, please fill it reasonably\n",
    "    # res = np.nan_to_num(res) # this is slow because it also checks for inf.\n",
    "    # res = np.where(np.isnan(res), 0, res)  # this is slightly faster than np.nan_to_num\n",
    "    res[np.isnan(res)] = 0  # this is the fastest way to fill nan\n",
    "    res = stats.rankdata(-res) / len(res)\n",
    "    ############################## END OF YOUR CODE ##############################\n",
    "    return res  # The return value MUSE BE a numpy array, with no NaN value\n",
    "    ####################################################################################\n"
   ],
   "metadata": {
    "collapsed": false,
    "ExecuteTime": {
     "end_time": "2023-11-06T01:15:50.791538Z",
     "start_time": "2023-11-06T01:15:50.711569600Z"
    }
   }
  },
  {
   "cell_type": "code",
   "execution_count": 364,
   "outputs": [],
   "source": [
    "def s1_imbalance_signed_pow_opt(current_data: dict, hist_list=[]) -> np.ndarray:\n",
    "    '''\n",
    "    This will be the main function to design your factors for the competition. Please\n",
    "    define only one factor here each time. We provide you with:\n",
    "\n",
    "    Current_data: a dictionary in the format of {column_name: column_value}, where column_name is from the original\n",
    "    dataframe\n",
    "\n",
    "    hist_list: A list for you to save the previous factor values (optional). For instance,\n",
    "    if you are calculating a 100-day Moving Average (MA), then you can save the first calculated\n",
    "    MA in hist_list, and then for the next MA calculation, you can use the saved ones.\n",
    "    '''\n",
    "    ###################### ADD YOUR CODE HERE FOR FACTORS DESIGN ######################\n",
    "    # convert the current_data to your choice of numpy or pandas dataframe\n",
    "    # current_data = pd.DataFrame(current_data)\n",
    "    current_data = np.array(list(current_data.values()),\n",
    "                            dtype=float).T  # this is faster than pd.DataFrame(current_data).values\n",
    "    res = (current_data[:, col2index_map['bid_size']] - current_data[:, col2index_map['ask_size']]) / \\\n",
    "          (current_data[:, col2index_map['bid_size']] + current_data[:, col2index_map['ask_size']])\n",
    "    ############################## NAN/Inf handling ######################################\n",
    "    # if you have nan in your factor value, please fill it reasonably\n",
    "    # res = np.nan_to_num(res) # this is slow because it also checks for inf.\n",
    "    # res = np.where(np.isnan(res), 0, res)  # this is slightly faster than np.nan_to_num\n",
    "    res[np.isnan(res)] = 0  # this is the fastest way to fill nan\n",
    "    ############################## END OF YOUR CODE ##############################\n",
    "    return np.sign(-res) * np.abs(\n",
    "        res) ** 1.4242424242424243  # The return value MUSE BE a numpy array, with no NaN value\n",
    "    # reason: s1_imbalance have most information in sign, sign can be think of as sign*abs**0. we optimize the power and get 1.424 as the best\n",
    "    ####################################################################################\n"
   ],
   "metadata": {
    "collapsed": false,
    "ExecuteTime": {
     "end_time": "2023-11-06T01:15:50.880337300Z",
     "start_time": "2023-11-06T01:15:50.795135Z"
    }
   }
  },
  {
   "cell_type": "code",
   "execution_count": 365,
   "outputs": [],
   "source": [
    "def s1_imbalance_rank_signed_pow_opt(current_data: dict, hist_list=[]) -> np.ndarray:\n",
    "    '''\n",
    "    This will be the main function to design your factors for the competition. Please\n",
    "    define only one factor here each time. We provide you with:\n",
    "\n",
    "    Current_data: a dictionary in the format of {column_name: column_value}, where column_name is from the original\n",
    "    dataframe\n",
    "\n",
    "    hist_list: A list for you to save the previous factor values (optional). For instance,\n",
    "    if you are calculating a 100-day Moving Average (MA), then you can save the first calculated\n",
    "    MA in hist_list, and then for the next MA calculation, you can use the saved ones.\n",
    "    '''\n",
    "    ###################### ADD YOUR CODE HERE FOR FACTORS DESIGN ######################\n",
    "    # convert the current_data to your choice of numpy or pandas dataframe\n",
    "    # current_data = pd.DataFrame(current_data)\n",
    "    current_data = np.array(list(current_data.values()),\n",
    "                            dtype=float).T  # this is faster than pd.DataFrame(current_data).values\n",
    "    res = (current_data[:, col2index_map['bid_size']] - current_data[:, col2index_map['ask_size']]) / \\\n",
    "          (current_data[:, col2index_map['bid_size']] + current_data[:, col2index_map['ask_size']])\n",
    "    ############################## NAN/Inf handling ######################################\n",
    "    # if you have nan in your factor value, please fill it reasonably\n",
    "    # res = np.nan_to_num(res) # this is slow because it also checks for inf.\n",
    "    # res = np.where(np.isnan(res), 0, res)  # this is slightly faster than np.nan_to_num\n",
    "    res[np.isnan(res)] = 0  # this is the fastest way to fill nan\n",
    "    res = stats.rankdata(-res) / len(res)\n",
    "    res = (res - 0.5) * 2\n",
    "    res = np.sign(res) * np.abs(res) ** 1.4848484848484849  # optimized in-sample\n",
    "    ############################## END OF YOUR CODE ##############################\n",
    "    return res  # The return value MUSE BE a numpy array, with no NaN value\n",
    "    # reason: s1_imbalance have most information in sign, sign can be think of as sign*abs**0. we optimize the power and get 1.424 as the best\n",
    "    ####################################################################################\n"
   ],
   "metadata": {
    "collapsed": false,
    "ExecuteTime": {
     "end_time": "2023-11-06T01:15:50.976653100Z",
     "start_time": "2023-11-06T01:15:50.880337300Z"
    }
   }
  },
  {
   "cell_type": "markdown",
   "source": [
    "### Stock return"
   ],
   "metadata": {
    "collapsed": false
   }
  },
  {
   "cell_type": "code",
   "execution_count": 366,
   "outputs": [],
   "source": [
    "def past_10s_ret(current_data: dict, hist_list=[]):\n",
    "    current_data = np.array(list(current_data.values()),\n",
    "                            dtype=float).T  # this is faster than pd.DataFrame(current_data).values\n",
    "    current_time = current_data[0, col2index_map['seconds_in_bucket']]\n",
    "    current_wap = current_data[:, col2index_map['wap']]\n",
    "    if current_time < 10:\n",
    "        if len(hist_list) == 0:\n",
    "            hist_list.append(\n",
    "                queue.Queue())  # if we directly claim hist_list = [queue.Queue()], it will be a local variable\n",
    "        else:\n",
    "            hist_list[0].queue.clear()\n",
    "        hist_list[0].put(current_wap)\n",
    "        res = np.zeros(current_wap.shape)\n",
    "    else:\n",
    "        hist_list[0].put(current_wap)\n",
    "        # calculate the past 60s return\n",
    "        past_wap = hist_list[0].get()\n",
    "        res = (current_wap - past_wap) / past_wap\n",
    "    res[np.isnan(res)] = 0  # this is the easiest way to fill nan\n",
    "    return -res"
   ],
   "metadata": {
    "collapsed": false,
    "ExecuteTime": {
     "end_time": "2023-11-06T01:15:51.060235900Z",
     "start_time": "2023-11-06T01:15:50.977651200Z"
    }
   }
  },
  {
   "cell_type": "code",
   "execution_count": 367,
   "outputs": [],
   "source": [
    "def past_10s_ret_exp_opt(current_data: dict, hist_list=[]):\n",
    "    current_data = np.array(list(current_data.values()),\n",
    "                            dtype=float).T  # this is faster than pd.DataFrame(current_data).values\n",
    "    current_time = current_data[0, col2index_map['seconds_in_bucket']]\n",
    "    current_wap = current_data[:, col2index_map['wap']]\n",
    "    if current_time < 10:\n",
    "        if len(hist_list) == 0:\n",
    "            hist_list.append(\n",
    "                queue.Queue())  # if we directly claim hist_list = [queue.Queue()], it will be a local variable\n",
    "        else:\n",
    "            hist_list[0].queue.clear()\n",
    "        hist_list[0].put(current_wap)\n",
    "        res = np.zeros(current_wap.shape)\n",
    "    else:\n",
    "        hist_list[0].put(current_wap)\n",
    "        # calculate the past 60s return\n",
    "        past_wap = hist_list[0].get()\n",
    "        res = (current_wap - past_wap) / past_wap\n",
    "    res[np.isnan(res)] = 0  # this is the easiest way to fill nan\n",
    "    return np.exp(-res * 57)"
   ],
   "metadata": {
    "collapsed": false,
    "ExecuteTime": {
     "end_time": "2023-11-06T01:15:51.150848100Z",
     "start_time": "2023-11-06T01:15:51.065877200Z"
    }
   }
  },
  {
   "cell_type": "code",
   "execution_count": 368,
   "outputs": [],
   "source": [
    "def past_30s_ret_rank(current_data: dict, hist_list=[]):\n",
    "    current_data = np.array(list(current_data.values()),\n",
    "                            dtype=float).T  # this is faster than pd.DataFrame(current_data).values\n",
    "    current_time = current_data[0, col2index_map['seconds_in_bucket']]\n",
    "    current_wap = current_data[:, col2index_map['wap']]\n",
    "    if current_time < 30:\n",
    "        if current_time == 0:\n",
    "            if len(hist_list) == 0:\n",
    "                hist_list.append(queue.Queue())\n",
    "            else:\n",
    "                hist_list[0].queue.clear()\n",
    "        hist_list[0].put(current_wap)\n",
    "        res = np.zeros(current_wap.shape)\n",
    "    else:\n",
    "        hist_list[0].put(current_wap)\n",
    "        # calculate the past 60s return\n",
    "        past_wap = hist_list[0].get()\n",
    "        res = (current_wap - past_wap) / past_wap\n",
    "    res[np.isnan(res)] = 0  # this is the easiest way to fill nan\n",
    "    return -stats.rankdata(res, method='min') / (len(res) + 1)"
   ],
   "metadata": {
    "collapsed": false,
    "ExecuteTime": {
     "end_time": "2023-11-06T01:15:51.243567400Z",
     "start_time": "2023-11-06T01:15:51.156880700Z"
    }
   }
  },
  {
   "cell_type": "markdown",
   "source": [
    "### Synthetic Index"
   ],
   "metadata": {
    "collapsed": false
   }
  },
  {
   "cell_type": "code",
   "execution_count": 369,
   "outputs": [],
   "source": [
    "def stock_20s_ret_deviate_from_index(current_data: dict, hist_list=[]):\n",
    "    current_data = np.array(list(current_data.values()),\n",
    "                            dtype=float).T  # this is faster than pd.DataFrame(current_data).values\n",
    "    current_time = current_data[0, col2index_map['seconds_in_bucket']]\n",
    "    current_wap = current_data[:, col2index_map['wap']]\n",
    "    if len(hist_list) == 0:\n",
    "        hist_list.append([\n",
    "            0.004, 0.001, 0.002, 0.006, 0.004, 0.004, 0.002, 0.006, 0.006, 0.002, 0.002, 0.008,\n",
    "            0.006, 0.002, 0.008, 0.006, 0.002, 0.006, 0.004, 0.002, 0.004, 0.001, 0.006, 0.004,\n",
    "            0.002, 0.002, 0.004, 0.002, 0.004, 0.004, 0.001, 0.001, 0.002, 0.002, 0.006, 0.004,\n",
    "            0.004, 0.004, 0.006, 0.002, 0.002, 0.04, 0.002, 0.002, 0.004, 0.04, 0.002, 0.001,\n",
    "            0.006, 0.004, 0.004, 0.006, 0.001, 0.004, 0.004, 0.002, 0.006, 0.004, 0.006, 0.004,\n",
    "            0.006, 0.004, 0.002, 0.001, 0.002, 0.004, 0.002, 0.008, 0.004, 0.004, 0.002, 0.004,\n",
    "            0.006, 0.002, 0.004, 0.004, 0.002, 0.004, 0.004, 0.004, 0.001, 0.002, 0.002, 0.008,\n",
    "            0.02, 0.004, 0.006, 0.002, 0.02, 0.002, 0.002, 0.006, 0.004, 0.002, 0.001, 0.02,\n",
    "            0.006, 0.001, 0.002, 0.004, 0.001, 0.002, 0.006, 0.006, 0.004, 0.006, 0.001, 0.002,\n",
    "            0.004, 0.006, 0.006, 0.001, 0.04, 0.006, 0.002, 0.004, 0.002, 0.002, 0.006, 0.002,\n",
    "            0.002, 0.004, 0.006, 0.006, 0.002, 0.002, 0.008, 0.006, 0.004, 0.002, 0.006, 0.002,\n",
    "            0.004, 0.006, 0.002, 0.004, 0.001, 0.004, 0.002, 0.004, 0.008, 0.006, 0.008, 0.002,\n",
    "            0.004, 0.002, 0.001, 0.004, 0.004, 0.004, 0.006, 0.008, 0.004, 0.001, 0.001, 0.002,\n",
    "            0.006, 0.004, 0.001, 0.002, 0.006, 0.004, 0.006, 0.008, 0.002, 0.002, 0.004, 0.002,\n",
    "            0.04, 0.002, 0.002, 0.004, 0.002, 0.002, 0.006, 0.02, 0.004, 0.002, 0.006, 0.02,\n",
    "            0.001, 0.002, 0.006, 0.004, 0.006, 0.004, 0.004, 0.004, 0.004, 0.002, 0.004, 0.04,\n",
    "            0.002, 0.008, 0.002, 0.004, 0.001, 0.004, 0.006, 0.004,\n",
    "        ])\n",
    "    if current_time < 20:\n",
    "        if current_time == 0:\n",
    "            if len(hist_list) == 1:\n",
    "                hist_list.append(queue.Queue())\n",
    "            else:\n",
    "                hist_list[1].queue.clear()\n",
    "        hist_list[1].put(current_wap)\n",
    "        ret = np.zeros(current_wap.shape)\n",
    "    else:\n",
    "        hist_list[1].put(current_wap)\n",
    "        # calculate the past 60s return\n",
    "        past_wap = hist_list[1].get()\n",
    "        ret = (current_wap - past_wap) / past_wap\n",
    "    # for robustness, if the stock_id is larger than 200, we use the average weight\n",
    "    weight = [hist_list[0][int(stock_id)] if stock_id <= 200 else np.mean(hist_list[0]) for stock_id in\n",
    "              current_data[:, col2index_map['stock_id']]]\n",
    "    synthetic_index = np.sum(np.array(weight, dtype=float) * ret)\n",
    "    res = ret - synthetic_index\n",
    "    # if result is nan, we assign res=0\n",
    "    res[np.isnan(res)] = 0  # this is the easiest way to fill nan\n",
    "    return -res"
   ],
   "metadata": {
    "collapsed": false,
    "ExecuteTime": {
     "end_time": "2023-11-06T01:15:51.330875500Z",
     "start_time": "2023-11-06T01:15:51.247568200Z"
    }
   }
  },
  {
   "cell_type": "code",
   "execution_count": 370,
   "outputs": [],
   "source": [
    "def stock_40s_ret_deviate_from_index_rank(current_data: dict, hist_list=[]):\n",
    "    current_data = np.array(list(current_data.values()),\n",
    "                            dtype=float).T  # this is faster than pd.DataFrame(current_data).values\n",
    "    current_time = current_data[0, col2index_map['seconds_in_bucket']]\n",
    "    current_wap = current_data[:, col2index_map['wap']]\n",
    "    if len(hist_list) == 0:\n",
    "        hist_list.append([\n",
    "            0.004, 0.001, 0.002, 0.006, 0.004, 0.004, 0.002, 0.006, 0.006, 0.002, 0.002, 0.008,\n",
    "            0.006, 0.002, 0.008, 0.006, 0.002, 0.006, 0.004, 0.002, 0.004, 0.001, 0.006, 0.004,\n",
    "            0.002, 0.002, 0.004, 0.002, 0.004, 0.004, 0.001, 0.001, 0.002, 0.002, 0.006, 0.004,\n",
    "            0.004, 0.004, 0.006, 0.002, 0.002, 0.04, 0.002, 0.002, 0.004, 0.04, 0.002, 0.001,\n",
    "            0.006, 0.004, 0.004, 0.006, 0.001, 0.004, 0.004, 0.002, 0.006, 0.004, 0.006, 0.004,\n",
    "            0.006, 0.004, 0.002, 0.001, 0.002, 0.004, 0.002, 0.008, 0.004, 0.004, 0.002, 0.004,\n",
    "            0.006, 0.002, 0.004, 0.004, 0.002, 0.004, 0.004, 0.004, 0.001, 0.002, 0.002, 0.008,\n",
    "            0.02, 0.004, 0.006, 0.002, 0.02, 0.002, 0.002, 0.006, 0.004, 0.002, 0.001, 0.02,\n",
    "            0.006, 0.001, 0.002, 0.004, 0.001, 0.002, 0.006, 0.006, 0.004, 0.006, 0.001, 0.002,\n",
    "            0.004, 0.006, 0.006, 0.001, 0.04, 0.006, 0.002, 0.004, 0.002, 0.002, 0.006, 0.002,\n",
    "            0.002, 0.004, 0.006, 0.006, 0.002, 0.002, 0.008, 0.006, 0.004, 0.002, 0.006, 0.002,\n",
    "            0.004, 0.006, 0.002, 0.004, 0.001, 0.004, 0.002, 0.004, 0.008, 0.006, 0.008, 0.002,\n",
    "            0.004, 0.002, 0.001, 0.004, 0.004, 0.004, 0.006, 0.008, 0.004, 0.001, 0.001, 0.002,\n",
    "            0.006, 0.004, 0.001, 0.002, 0.006, 0.004, 0.006, 0.008, 0.002, 0.002, 0.004, 0.002,\n",
    "            0.04, 0.002, 0.002, 0.004, 0.002, 0.002, 0.006, 0.02, 0.004, 0.002, 0.006, 0.02,\n",
    "            0.001, 0.002, 0.006, 0.004, 0.006, 0.004, 0.004, 0.004, 0.004, 0.002, 0.004, 0.04,\n",
    "            0.002, 0.008, 0.002, 0.004, 0.001, 0.004, 0.006, 0.004,\n",
    "        ])\n",
    "    if current_time < 40:\n",
    "        if current_time == 0:\n",
    "            if len(hist_list) == 1:\n",
    "                hist_list.append(queue.Queue())\n",
    "            else:\n",
    "                hist_list[1].queue.clear()\n",
    "        hist_list[1].put(current_wap)\n",
    "        ret = np.zeros(current_wap.shape)\n",
    "    else:\n",
    "        hist_list[1].put(current_wap)\n",
    "        # calculate the past 60s return\n",
    "        past_wap = hist_list[1].get()\n",
    "        ret = (current_wap - past_wap) / past_wap\n",
    "    # for robustness, if the stock_id is larger than 200, we use the average weight\n",
    "    weight = [hist_list[0][int(stock_id)] if stock_id <= 200 else np.mean(hist_list[0]) for stock_id in\n",
    "              current_data[:, col2index_map['stock_id']]]\n",
    "    synthetic_index = np.sum(np.array(weight, dtype=float) * ret)\n",
    "    res = ret - synthetic_index\n",
    "    # if result is nan, we assign res=0\n",
    "    res[np.isnan(res)] = 0  # this is the easiest way to fill nan\n",
    "    return stats.rankdata(-res) / len(res)"
   ],
   "metadata": {
    "collapsed": false,
    "ExecuteTime": {
     "end_time": "2023-11-06T01:15:51.433686200Z",
     "start_time": "2023-11-06T01:15:51.339876300Z"
    }
   }
  },
  {
   "cell_type": "code",
   "execution_count": 371,
   "outputs": [],
   "source": [
    "def stock_40s_ret_deviate_from_index_rank_hedged_opt(current_data: dict, hist_list=[]):\n",
    "    current_data = np.array(list(current_data.values()),\n",
    "                            dtype=float).T  # this is faster than pd.DataFrame(current_data).values\n",
    "    current_time = current_data[0, col2index_map['seconds_in_bucket']]\n",
    "    current_wap = current_data[:, col2index_map['wap']]\n",
    "    if len(hist_list) == 0:\n",
    "        hist_list.append([\n",
    "            0.004, 0.001, 0.002, 0.006, 0.004, 0.004, 0.002, 0.006, 0.006, 0.002, 0.002, 0.008,\n",
    "            0.006, 0.002, 0.008, 0.006, 0.002, 0.006, 0.004, 0.002, 0.004, 0.001, 0.006, 0.004,\n",
    "            0.002, 0.002, 0.004, 0.002, 0.004, 0.004, 0.001, 0.001, 0.002, 0.002, 0.006, 0.004,\n",
    "            0.004, 0.004, 0.006, 0.002, 0.002, 0.04, 0.002, 0.002, 0.004, 0.04, 0.002, 0.001,\n",
    "            0.006, 0.004, 0.004, 0.006, 0.001, 0.004, 0.004, 0.002, 0.006, 0.004, 0.006, 0.004,\n",
    "            0.006, 0.004, 0.002, 0.001, 0.002, 0.004, 0.002, 0.008, 0.004, 0.004, 0.002, 0.004,\n",
    "            0.006, 0.002, 0.004, 0.004, 0.002, 0.004, 0.004, 0.004, 0.001, 0.002, 0.002, 0.008,\n",
    "            0.02, 0.004, 0.006, 0.002, 0.02, 0.002, 0.002, 0.006, 0.004, 0.002, 0.001, 0.02,\n",
    "            0.006, 0.001, 0.002, 0.004, 0.001, 0.002, 0.006, 0.006, 0.004, 0.006, 0.001, 0.002,\n",
    "            0.004, 0.006, 0.006, 0.001, 0.04, 0.006, 0.002, 0.004, 0.002, 0.002, 0.006, 0.002,\n",
    "            0.002, 0.004, 0.006, 0.006, 0.002, 0.002, 0.008, 0.006, 0.004, 0.002, 0.006, 0.002,\n",
    "            0.004, 0.006, 0.002, 0.004, 0.001, 0.004, 0.002, 0.004, 0.008, 0.006, 0.008, 0.002,\n",
    "            0.004, 0.002, 0.001, 0.004, 0.004, 0.004, 0.006, 0.008, 0.004, 0.001, 0.001, 0.002,\n",
    "            0.006, 0.004, 0.001, 0.002, 0.006, 0.004, 0.006, 0.008, 0.002, 0.002, 0.004, 0.002,\n",
    "            0.04, 0.002, 0.002, 0.004, 0.002, 0.002, 0.006, 0.02, 0.004, 0.002, 0.006, 0.02,\n",
    "            0.001, 0.002, 0.006, 0.004, 0.006, 0.004, 0.004, 0.004, 0.004, 0.002, 0.004, 0.04,\n",
    "            0.002, 0.008, 0.002, 0.004, 0.001, 0.004, 0.006, 0.004,\n",
    "        ])\n",
    "    if current_time == 0:\n",
    "        if len(hist_list) == 1:\n",
    "            # then we are at the very start, initialize the hist_list with two queues, one for 40s ret one for 20s ret\n",
    "            hist_list.append(queue.Queue())  # for the 40s ret\n",
    "            hist_list.append(queue.Queue())  # for the 20s ret\n",
    "        else:\n",
    "            # its a new day, we clear the queue\n",
    "            hist_list[1].queue.clear()\n",
    "            hist_list[2].queue.clear()\n",
    "    if current_time < 20:\n",
    "        hist_list[2].put(current_wap)\n",
    "        hedge_20s_ret = np.zeros(current_wap.shape)\n",
    "    else:\n",
    "        hist_list[2].put(current_wap)\n",
    "        # calculate the past 60s return\n",
    "        past_wap = hist_list[2].get()\n",
    "        hedge_20s_ret = (current_wap - past_wap) / past_wap\n",
    "    if current_time < 40:\n",
    "        hist_list[1].put(current_wap)\n",
    "        ret = np.zeros(current_wap.shape)\n",
    "    else:\n",
    "        hist_list[1].put(current_wap)\n",
    "        # calculate the past 60s return\n",
    "        past_wap = hist_list[1].get()\n",
    "        ret = (current_wap - past_wap) / past_wap\n",
    "    # for robustness, if the stock_id is larger than 200, we use the average weight\n",
    "    weight = [hist_list[0][int(stock_id)] if stock_id <= 200 else np.mean(hist_list[0]) for stock_id in\n",
    "              current_data[:, col2index_map['stock_id']]]\n",
    "    synthetic_index = np.sum(np.array(weight, dtype=float) * ret)\n",
    "    res = ret - synthetic_index\n",
    "    hedge_20s_ret = (hedge_20s_ret - np.sum(np.array(weight, dtype=float) * hedge_20s_ret))\n",
    "    # if result is nan, we assign res=0\n",
    "    res[np.isnan(res)] = 0  # this is the easiest way to fill nan\n",
    "    res = stats.rankdata(-res) / len(res)\n",
    "    res = (res - 0.5) * 2\n",
    "    res = utils.ols_res(hedge_20s_ret, res, 0.33)\n",
    "    res[np.isnan(res)] = 0  # this is the easiest way to fill nan\n",
    "\n",
    "    return res"
   ],
   "metadata": {
    "collapsed": false,
    "ExecuteTime": {
     "end_time": "2023-11-06T01:15:51.536850800Z",
     "start_time": "2023-11-06T01:15:51.445687Z"
    }
   }
  },
  {
   "cell_type": "markdown",
   "source": [
    "# Some Examples of Factor Design"
   ],
   "metadata": {
    "collapsed": false
   }
  },
  {
   "cell_type": "code",
   "execution_count": 372,
   "metadata": {
    "ExecuteTime": {
     "end_time": "2023-11-06T01:15:51.629991300Z",
     "start_time": "2023-11-06T01:15:51.539850900Z"
    }
   },
   "outputs": [
    {
     "name": "stdout",
     "output_type": "stream",
     "text": [
      "5\n"
     ]
    }
   ],
   "source": [
    "'''\n",
    "Each factor should be defined as a function described above. After you designed all your factors and you are all good to test your factors,\n",
    "you can simply ADD your factor name to the factor_list below, and run the cell. The backtest result will be printed out for you to see!\n",
    "'''\n",
    "# toned factor\n",
    "new_factor_list = ['s1_imbalance_signed_pow_opt',\n",
    "                   'past_10s_ret',\n",
    "                   'past_30s_ret_rank',\n",
    "                   \"stock_20s_ret_deviate_from_index\",\n",
    "                   'stock_40s_ret_deviate_from_index_rank_hedged_opt']  # fine toned factor set\n",
    "\n",
    "print(len(new_factor_list))\n",
    "new_factor_list += ['stock_40s_ret_deviate_from_index_rank',\n",
    "                    's1_imbalance_rank_signed_pow_opt',\n",
    "                    \"s1_imbalance\",\n",
    "                    \"s1_imbalance_rank\",\n",
    "                    \n",
    "                    ]  # in order to run the following code, we need to add these factor\n",
    "\n",
    "\n",
    "# new_factor_list = ['mid_price','mid_price_std5']  # mid_price set\n",
    "# new_factor_list = ['s1_imbalance', 's1_imbalance_signed_pow_opt',\n",
    "# 's1_imbalance_rank_signed_pow_opt']  # s1 imbalance set\n",
    "\n",
    "# return style factor\n",
    "# new_factor_list = ['past_10s_ret','past_20s_ret','past_30s_ret','past_40s_ret','past_50s_ret','past_60s_ret','past_70s_ret','past_80s_ret','past_90s_ret','past_10s_ret_rank','past_20s_ret_rank','past_30s_ret_rank','past_40s_ret_rank','past_50s_ret_rank','past_60s_ret_rank','past_70s_ret_rank','past_80s_ret_rank','past_90s_ret_rank']# search for optimizing\n",
    "# new_factor_list = ['past_10s_ret','past_10s_ret_exp_opt','past_30s_ret_rank']# selected optimized factors\n",
    "\n",
    "# synthetic index\n",
    "# new_factor_list = ['stock_10s_ret_deviate_from_index','stock_20s_ret_deviate_from_index','stock_30s_ret_deviate_from_index','stock_40s_ret_deviate_from_index','stock_50s_ret_deviate_from_index','stock_60s_ret_deviate_from_index','stock_70s_ret_deviate_from_index',\"stock_80s_ret_deviate_from_index\",'stock_90s_ret_deviate_from_index']  # search for optimizing the second\n",
    "# new_factor_list = new_factor_list+[i+'_rank' for i in new_factor_list]# add rank\n",
    "\n",
    "# new_factor_list = ['stock_20s_ret_deviate_from_index','stock_40s_ret_deviate_from_index_rank','stock_40s_ret_deviate_from_index_rank_hedged_opt']"
   ]
  },
  {
   "cell_type": "code",
   "execution_count": 373,
   "metadata": {
    "ExecuteTime": {
     "end_time": "2023-11-06T01:16:42.011037100Z",
     "start_time": "2023-11-06T01:15:51.631000700Z"
    }
   },
   "outputs": [
    {
     "name": "stderr",
     "output_type": "stream",
     "text": [
      "\n",
      "  0%|          | 0/9 [00:00<?, ?it/s]\u001B[A"
     ]
    },
    {
     "name": "stdout",
     "output_type": "stream",
     "text": [
      "Start calculating factor s1_imbalance_signed_pow_opt\n",
      "Finished calculating factor s1_imbalance_signed_pow_opt for 0 dates\n"
     ]
    },
    {
     "name": "stderr",
     "output_type": "stream",
     "text": [
      "C:\\Users\\kevin\\AppData\\Local\\Temp\\ipykernel_26120\\827042783.py:18: RuntimeWarning:\n",
      "\n",
      "invalid value encountered in divide\n",
      "\n"
     ]
    },
    {
     "name": "stdout",
     "output_type": "stream",
     "text": [
      "Finished calculating factor s1_imbalance_signed_pow_opt for 100 dates\n",
      "Finished calculating factor s1_imbalance_signed_pow_opt for 200 dates\n",
      "Finished calculating factor s1_imbalance_signed_pow_opt for 300 dates\n",
      "Finished calculating factor s1_imbalance_signed_pow_opt for 400 dates\n",
      "Accepted!!: Used 3.56 seconds for calculation factors. The limit is 300 seconds.\n"
     ]
    },
    {
     "name": "stderr",
     "output_type": "stream",
     "text": [
      "\n",
      " 11%|█         | 1/9 [00:04<00:32,  4.05s/it]\u001B[A"
     ]
    },
    {
     "name": "stdout",
     "output_type": "stream",
     "text": [
      "Start calculating factor past_10s_ret\n",
      "Finished calculating factor past_10s_ret for 0 dates\n",
      "Finished calculating factor past_10s_ret for 100 dates\n",
      "Finished calculating factor past_10s_ret for 200 dates\n",
      "Finished calculating factor past_10s_ret for 300 dates\n",
      "Finished calculating factor past_10s_ret for 400 dates\n",
      "Accepted!!: Used 3.47 seconds for calculation factors. The limit is 300 seconds.\n"
     ]
    },
    {
     "name": "stderr",
     "output_type": "stream",
     "text": [
      "\n",
      " 22%|██▏       | 2/9 [00:07<00:27,  3.99s/it]\u001B[A"
     ]
    },
    {
     "name": "stdout",
     "output_type": "stream",
     "text": [
      "Start calculating factor past_30s_ret_rank\n",
      "Finished calculating factor past_30s_ret_rank for 0 dates\n",
      "Finished calculating factor past_30s_ret_rank for 100 dates\n",
      "Finished calculating factor past_30s_ret_rank for 200 dates\n",
      "Finished calculating factor past_30s_ret_rank for 300 dates\n",
      "Finished calculating factor past_30s_ret_rank for 400 dates\n",
      "Accepted!!: Used 5.33 seconds for calculation factors. The limit is 300 seconds.\n"
     ]
    },
    {
     "name": "stderr",
     "output_type": "stream",
     "text": [
      "\n",
      " 33%|███▎      | 3/9 [00:13<00:28,  4.82s/it]\u001B[A"
     ]
    },
    {
     "name": "stdout",
     "output_type": "stream",
     "text": [
      "Start calculating factor stock_20s_ret_deviate_from_index\n",
      "Finished calculating factor stock_20s_ret_deviate_from_index for 0 dates\n",
      "Finished calculating factor stock_20s_ret_deviate_from_index for 100 dates\n",
      "Finished calculating factor stock_20s_ret_deviate_from_index for 200 dates\n",
      "Finished calculating factor stock_20s_ret_deviate_from_index for 300 dates\n",
      "Finished calculating factor stock_20s_ret_deviate_from_index for 400 dates\n",
      "Accepted!!: Used 4.97 seconds for calculation factors. The limit is 300 seconds.\n"
     ]
    },
    {
     "name": "stderr",
     "output_type": "stream",
     "text": [
      "\n",
      " 44%|████▍     | 4/9 [00:19<00:25,  5.08s/it]\u001B[AD:\\Road2KaggleLord\\Optiver_MOC\\Optiver_MOC_Factor_Research_FrameworkV1\\Optiver_MOC_Factor_Research_Framework\\factor_design_ver2_beta\\utils.py:129: RuntimeWarning:\n",
      "\n",
      "invalid value encountered in scalar divide\n",
      "\n"
     ]
    },
    {
     "name": "stdout",
     "output_type": "stream",
     "text": [
      "Start calculating factor stock_40s_ret_deviate_from_index_rank_hedged_opt\n",
      "Finished calculating factor stock_40s_ret_deviate_from_index_rank_hedged_opt for 0 dates\n",
      "Finished calculating factor stock_40s_ret_deviate_from_index_rank_hedged_opt for 100 dates\n",
      "Finished calculating factor stock_40s_ret_deviate_from_index_rank_hedged_opt for 200 dates\n",
      "Finished calculating factor stock_40s_ret_deviate_from_index_rank_hedged_opt for 300 dates\n",
      "Finished calculating factor stock_40s_ret_deviate_from_index_rank_hedged_opt for 400 dates\n",
      "Accepted!!: Used 7.63 seconds for calculation factors. The limit is 300 seconds.\n"
     ]
    },
    {
     "name": "stderr",
     "output_type": "stream",
     "text": [
      "\n",
      " 56%|█████▌    | 5/9 [00:27<00:24,  6.17s/it]\u001B[A"
     ]
    },
    {
     "name": "stdout",
     "output_type": "stream",
     "text": [
      "Start calculating factor stock_40s_ret_deviate_from_index_rank\n",
      "Finished calculating factor stock_40s_ret_deviate_from_index_rank for 0 dates\n",
      "Finished calculating factor stock_40s_ret_deviate_from_index_rank for 100 dates\n",
      "Finished calculating factor stock_40s_ret_deviate_from_index_rank for 200 dates\n",
      "Finished calculating factor stock_40s_ret_deviate_from_index_rank for 300 dates\n",
      "Finished calculating factor stock_40s_ret_deviate_from_index_rank for 400 dates\n",
      "Accepted!!: Used 6.82 seconds for calculation factors. The limit is 300 seconds.\n"
     ]
    },
    {
     "name": "stderr",
     "output_type": "stream",
     "text": [
      "\n",
      " 67%|██████▋   | 6/9 [00:34<00:19,  6.55s/it]\u001B[A"
     ]
    },
    {
     "name": "stdout",
     "output_type": "stream",
     "text": [
      "Start calculating factor s1_imbalance_rank_signed_pow_opt\n",
      "Finished calculating factor s1_imbalance_rank_signed_pow_opt for 0 dates\n",
      "Finished calculating factor s1_imbalance_rank_signed_pow_opt for 100 dates\n",
      "Finished calculating factor s1_imbalance_rank_signed_pow_opt for 200 dates\n",
      "Finished calculating factor s1_imbalance_rank_signed_pow_opt for 300 dates\n",
      "Finished calculating factor s1_imbalance_rank_signed_pow_opt for 400 dates\n",
      "Accepted!!: Used 5.65 seconds for calculation factors. The limit is 300 seconds.\n"
     ]
    },
    {
     "name": "stderr",
     "output_type": "stream",
     "text": [
      "\n",
      " 78%|███████▊  | 7/9 [00:40<00:12,  6.42s/it]\u001B[A"
     ]
    },
    {
     "name": "stdout",
     "output_type": "stream",
     "text": [
      "Start calculating factor s1_imbalance\n",
      "Finished calculating factor s1_imbalance for 0 dates\n",
      "Finished calculating factor s1_imbalance for 100 dates\n",
      "Finished calculating factor s1_imbalance for 200 dates\n",
      "Finished calculating factor s1_imbalance for 300 dates\n",
      "Finished calculating factor s1_imbalance for 400 dates\n",
      "Accepted!!: Used 3.29 seconds for calculation factors. The limit is 300 seconds.\n"
     ]
    },
    {
     "name": "stderr",
     "output_type": "stream",
     "text": [
      "\n",
      " 89%|████████▉ | 8/9 [00:44<00:05,  5.58s/it]\u001B[A"
     ]
    },
    {
     "name": "stdout",
     "output_type": "stream",
     "text": [
      "Start calculating factor s1_imbalance_rank\n",
      "Finished calculating factor s1_imbalance_rank for 0 dates\n",
      "Finished calculating factor s1_imbalance_rank for 100 dates\n",
      "Finished calculating factor s1_imbalance_rank for 200 dates\n",
      "Finished calculating factor s1_imbalance_rank for 300 dates\n",
      "Finished calculating factor s1_imbalance_rank for 400 dates\n",
      "Accepted!!: Used 5.21 seconds for calculation factors. The limit is 300 seconds.\n"
     ]
    },
    {
     "name": "stderr",
     "output_type": "stream",
     "text": [
      "\n",
      "100%|██████████| 9/9 [00:50<00:00,  5.59s/it]\u001B[A\n"
     ]
    }
   ],
   "source": [
    "# DO NOT MODIFY THE FOLLOWING CODE\n",
    "# Run this cell once you want to calculate your factor values and prepare for the test of your factor performance!\n",
    "new_factors = {factor_name: utils.flatten_factor_value(\n",
    "    factor_design.run_factor_value(df_train_dic_sorted, eval(factor_name), factor_name), factor_name)[factor_name] for\n",
    "               factor_name in tqdm(new_factor_list)}"
   ]
  },
  {
   "cell_type": "code",
   "execution_count": 374,
   "metadata": {
    "ExecuteTime": {
     "end_time": "2023-11-06T01:16:42.835714300Z",
     "start_time": "2023-11-06T01:16:41.998038200Z"
    }
   },
   "outputs": [
    {
     "name": "stdout",
     "output_type": "stream",
     "text": [
      "s1_imbalance_signed_pow_opt has correlation to target 0.11812815373942646\n",
      "past_10s_ret has correlation to target 0.06664332162654614\n",
      "past_30s_ret_rank has correlation to target 0.06302002013895729\n",
      "stock_20s_ret_deviate_from_index has correlation to target 0.08267993902947415\n",
      "stock_40s_ret_deviate_from_index_rank_hedged_opt has correlation to target 0.05405080675974954\n",
      "stock_40s_ret_deviate_from_index_rank has correlation to target 0.06356041069195277\n",
      "s1_imbalance_rank_signed_pow_opt has correlation to target 0.11727393510910067\n",
      "s1_imbalance has correlation to target 0.11723116519487425\n",
      "s1_imbalance_rank has correlation to target 0.11611365395799639\n"
     ]
    }
   ],
   "source": [
    "# check if all values in new_factor and original_factor_dict does not contain nan, no NA is allowed in the factor value\n",
    "for factor_name, factor_value in new_factors.items():\n",
    "    assert not np.isnan(factor_value).any(), f'{factor_name} contains nan'\n",
    "    assert not np.isinf(factor_value).any(), f'{factor_name} contains inf'\n",
    "    print(f'{factor_name} has correlation to target {np.corrcoef(factor_value, df_train[\"target\"].fillna(0))[0, 1]}')\n"
   ]
  },
  {
   "cell_type": "code",
   "execution_count": 375,
   "outputs": [
    {
     "data": {
      "text/plain": "                                                  s1_imbalance_signed_pow_opt  \\\ns1_imbalance_signed_pow_opt                                          1.000000   \npast_10s_ret                                                         0.237049   \npast_30s_ret_rank                                                    0.218550   \nstock_20s_ret_deviate_from_index                                     0.220271   \nstock_40s_ret_deviate_from_index_rank_hedged_opt                     0.190792   \nstock_40s_ret_deviate_from_index_rank                                0.215557   \ns1_imbalance_rank_signed_pow_opt                                     0.988236   \ns1_imbalance                                                         0.992083   \ns1_imbalance_rank                                                    0.977646   \n\n                                                  past_10s_ret  \\\ns1_imbalance_signed_pow_opt                           0.237049   \npast_10s_ret                                          1.000000   \npast_30s_ret_rank                                     0.358913   \nstock_20s_ret_deviate_from_index                      0.534247   \nstock_40s_ret_deviate_from_index_rank_hedged_opt      0.261529   \nstock_40s_ret_deviate_from_index_rank                 0.333103   \ns1_imbalance_rank_signed_pow_opt                      0.218027   \ns1_imbalance                                          0.237096   \ns1_imbalance_rank                                     0.217576   \n\n                                                  past_30s_ret_rank  \\\ns1_imbalance_signed_pow_opt                                0.218550   \npast_10s_ret                                               0.358913   \npast_30s_ret_rank                                          1.000000   \nstock_20s_ret_deviate_from_index                           0.581083   \nstock_40s_ret_deviate_from_index_rank_hedged_opt           0.660011   \nstock_40s_ret_deviate_from_index_rank                      0.714959   \ns1_imbalance_rank_signed_pow_opt                           0.218734   \ns1_imbalance                                               0.220216   \ns1_imbalance_rank                                          0.220249   \n\n                                                  stock_20s_ret_deviate_from_index  \\\ns1_imbalance_signed_pow_opt                                               0.220271   \npast_10s_ret                                                              0.534247   \npast_30s_ret_rank                                                         0.581083   \nstock_20s_ret_deviate_from_index                                          1.000000   \nstock_40s_ret_deviate_from_index_rank_hedged_opt                          0.399348   \nstock_40s_ret_deviate_from_index_rank                                     0.536574   \ns1_imbalance_rank_signed_pow_opt                                          0.221805   \ns1_imbalance                                                              0.220857   \ns1_imbalance_rank                                                         0.222131   \n\n                                                  stock_40s_ret_deviate_from_index_rank_hedged_opt  \\\ns1_imbalance_signed_pow_opt                                                               0.190792   \npast_10s_ret                                                                              0.261529   \npast_30s_ret_rank                                                                         0.660011   \nstock_20s_ret_deviate_from_index                                                          0.399348   \nstock_40s_ret_deviate_from_index_rank_hedged_opt                                          1.000000   \nstock_40s_ret_deviate_from_index_rank                                                     0.984717   \ns1_imbalance_rank_signed_pow_opt                                                          0.191108   \ns1_imbalance                                                                              0.192779   \ns1_imbalance_rank                                                                         0.192999   \n\n                                                  stock_40s_ret_deviate_from_index_rank  \\\ns1_imbalance_signed_pow_opt                                                    0.215557   \npast_10s_ret                                                                   0.333103   \npast_30s_ret_rank                                                              0.714959   \nstock_20s_ret_deviate_from_index                                               0.536574   \nstock_40s_ret_deviate_from_index_rank_hedged_opt                               0.984717   \nstock_40s_ret_deviate_from_index_rank                                          1.000000   \ns1_imbalance_rank_signed_pow_opt                                               0.216239   \ns1_imbalance                                                                   0.217502   \ns1_imbalance_rank                                                              0.218034   \n\n                                                  s1_imbalance_rank_signed_pow_opt  \\\ns1_imbalance_signed_pow_opt                                               0.988236   \npast_10s_ret                                                              0.218027   \npast_30s_ret_rank                                                         0.218734   \nstock_20s_ret_deviate_from_index                                          0.221805   \nstock_40s_ret_deviate_from_index_rank_hedged_opt                          0.191108   \nstock_40s_ret_deviate_from_index_rank                                     0.216239   \ns1_imbalance_rank_signed_pow_opt                                          1.000000   \ns1_imbalance                                                              0.983077   \ns1_imbalance_rank                                                         0.990272   \n\n                                                  s1_imbalance  \\\ns1_imbalance_signed_pow_opt                           0.992083   \npast_10s_ret                                          0.237096   \npast_30s_ret_rank                                     0.220216   \nstock_20s_ret_deviate_from_index                      0.220857   \nstock_40s_ret_deviate_from_index_rank_hedged_opt      0.192779   \nstock_40s_ret_deviate_from_index_rank                 0.217502   \ns1_imbalance_rank_signed_pow_opt                      0.983077   \ns1_imbalance                                          1.000000   \ns1_imbalance_rank                                     0.988769   \n\n                                                  s1_imbalance_rank  \ns1_imbalance_signed_pow_opt                                0.977646  \npast_10s_ret                                               0.217576  \npast_30s_ret_rank                                          0.220249  \nstock_20s_ret_deviate_from_index                           0.222131  \nstock_40s_ret_deviate_from_index_rank_hedged_opt           0.192999  \nstock_40s_ret_deviate_from_index_rank                      0.218034  \ns1_imbalance_rank_signed_pow_opt                           0.990272  \ns1_imbalance                                               0.988769  \ns1_imbalance_rank                                          1.000000  ",
      "text/html": "<div>\n<style scoped>\n    .dataframe tbody tr th:only-of-type {\n        vertical-align: middle;\n    }\n\n    .dataframe tbody tr th {\n        vertical-align: top;\n    }\n\n    .dataframe thead th {\n        text-align: right;\n    }\n</style>\n<table border=\"1\" class=\"dataframe\">\n  <thead>\n    <tr style=\"text-align: right;\">\n      <th></th>\n      <th>s1_imbalance_signed_pow_opt</th>\n      <th>past_10s_ret</th>\n      <th>past_30s_ret_rank</th>\n      <th>stock_20s_ret_deviate_from_index</th>\n      <th>stock_40s_ret_deviate_from_index_rank_hedged_opt</th>\n      <th>stock_40s_ret_deviate_from_index_rank</th>\n      <th>s1_imbalance_rank_signed_pow_opt</th>\n      <th>s1_imbalance</th>\n      <th>s1_imbalance_rank</th>\n    </tr>\n  </thead>\n  <tbody>\n    <tr>\n      <th>s1_imbalance_signed_pow_opt</th>\n      <td>1.000000</td>\n      <td>0.237049</td>\n      <td>0.218550</td>\n      <td>0.220271</td>\n      <td>0.190792</td>\n      <td>0.215557</td>\n      <td>0.988236</td>\n      <td>0.992083</td>\n      <td>0.977646</td>\n    </tr>\n    <tr>\n      <th>past_10s_ret</th>\n      <td>0.237049</td>\n      <td>1.000000</td>\n      <td>0.358913</td>\n      <td>0.534247</td>\n      <td>0.261529</td>\n      <td>0.333103</td>\n      <td>0.218027</td>\n      <td>0.237096</td>\n      <td>0.217576</td>\n    </tr>\n    <tr>\n      <th>past_30s_ret_rank</th>\n      <td>0.218550</td>\n      <td>0.358913</td>\n      <td>1.000000</td>\n      <td>0.581083</td>\n      <td>0.660011</td>\n      <td>0.714959</td>\n      <td>0.218734</td>\n      <td>0.220216</td>\n      <td>0.220249</td>\n    </tr>\n    <tr>\n      <th>stock_20s_ret_deviate_from_index</th>\n      <td>0.220271</td>\n      <td>0.534247</td>\n      <td>0.581083</td>\n      <td>1.000000</td>\n      <td>0.399348</td>\n      <td>0.536574</td>\n      <td>0.221805</td>\n      <td>0.220857</td>\n      <td>0.222131</td>\n    </tr>\n    <tr>\n      <th>stock_40s_ret_deviate_from_index_rank_hedged_opt</th>\n      <td>0.190792</td>\n      <td>0.261529</td>\n      <td>0.660011</td>\n      <td>0.399348</td>\n      <td>1.000000</td>\n      <td>0.984717</td>\n      <td>0.191108</td>\n      <td>0.192779</td>\n      <td>0.192999</td>\n    </tr>\n    <tr>\n      <th>stock_40s_ret_deviate_from_index_rank</th>\n      <td>0.215557</td>\n      <td>0.333103</td>\n      <td>0.714959</td>\n      <td>0.536574</td>\n      <td>0.984717</td>\n      <td>1.000000</td>\n      <td>0.216239</td>\n      <td>0.217502</td>\n      <td>0.218034</td>\n    </tr>\n    <tr>\n      <th>s1_imbalance_rank_signed_pow_opt</th>\n      <td>0.988236</td>\n      <td>0.218027</td>\n      <td>0.218734</td>\n      <td>0.221805</td>\n      <td>0.191108</td>\n      <td>0.216239</td>\n      <td>1.000000</td>\n      <td>0.983077</td>\n      <td>0.990272</td>\n    </tr>\n    <tr>\n      <th>s1_imbalance</th>\n      <td>0.992083</td>\n      <td>0.237096</td>\n      <td>0.220216</td>\n      <td>0.220857</td>\n      <td>0.192779</td>\n      <td>0.217502</td>\n      <td>0.983077</td>\n      <td>1.000000</td>\n      <td>0.988769</td>\n    </tr>\n    <tr>\n      <th>s1_imbalance_rank</th>\n      <td>0.977646</td>\n      <td>0.217576</td>\n      <td>0.220249</td>\n      <td>0.222131</td>\n      <td>0.192999</td>\n      <td>0.218034</td>\n      <td>0.990272</td>\n      <td>0.988769</td>\n      <td>1.000000</td>\n    </tr>\n  </tbody>\n</table>\n</div>"
     },
     "execution_count": 375,
     "metadata": {},
     "output_type": "execute_result"
    }
   ],
   "source": [
    "pd.DataFrame(new_factors).corr()"
   ],
   "metadata": {
    "collapsed": false,
    "ExecuteTime": {
     "end_time": "2023-11-06T01:16:43.857039200Z",
     "start_time": "2023-11-06T01:16:42.835714300Z"
    }
   }
  },
  {
   "cell_type": "code",
   "execution_count": 376,
   "outputs": [
    {
     "data": {
      "application/vnd.plotly.v1+json": {
       "data": [
        {
         "coloraxis": "coloraxis",
         "name": "0",
         "x": [
          "s1_imbalance_signed_pow_opt",
          "past_10s_ret",
          "past_30s_ret_rank",
          "stock_20s_ret_deviate_from_index",
          "stock_40s_ret_deviate_from_index_rank_hedged_opt",
          "stock_40s_ret_deviate_from_index_rank",
          "s1_imbalance_rank_signed_pow_opt",
          "s1_imbalance",
          "s1_imbalance_rank"
         ],
         "y": [
          "s1_imbalance_signed_pow_opt",
          "past_10s_ret",
          "past_30s_ret_rank",
          "stock_20s_ret_deviate_from_index",
          "stock_40s_ret_deviate_from_index_rank_hedged_opt",
          "stock_40s_ret_deviate_from_index_rank",
          "s1_imbalance_rank_signed_pow_opt",
          "s1_imbalance",
          "s1_imbalance_rank"
         ],
         "z": [
          [
           1.0,
           0.2370492647280805,
           0.21855048929182355,
           0.2202714352586208,
           0.19079233048512495,
           0.21555737859913815,
           0.9882360813048867,
           0.992082905345514,
           0.9776460621271938
          ],
          [
           0.2370492647280805,
           1.0,
           0.3589129014695937,
           0.5342465931130232,
           0.2615294619156782,
           0.3331025093288806,
           0.21802734553753444,
           0.2370956398735377,
           0.21757561685235188
          ],
          [
           0.21855048929182355,
           0.3589129014695937,
           1.0,
           0.5810834850010285,
           0.6600112425199921,
           0.7149591233298025,
           0.21873427032177603,
           0.2202156413440772,
           0.22024907259535287
          ],
          [
           0.2202714352586208,
           0.5342465931130232,
           0.5810834850010285,
           1.0,
           0.39934777999460164,
           0.5365740414519283,
           0.22180487124663129,
           0.22085720771808046,
           0.2221313774278466
          ],
          [
           0.19079233048512495,
           0.2615294619156782,
           0.6600112425199921,
           0.39934777999460164,
           1.0,
           0.9847169595483337,
           0.19110777225481343,
           0.19277901240204562,
           0.1929985456444961
          ],
          [
           0.21555737859913815,
           0.3331025093288806,
           0.7149591233298025,
           0.5365740414519283,
           0.9847169595483337,
           1.0,
           0.21623880237805573,
           0.2175016607069736,
           0.21803377932395024
          ],
          [
           0.9882360813048867,
           0.21802734553753444,
           0.21873427032177603,
           0.22180487124663129,
           0.19110777225481343,
           0.21623880237805573,
           1.0,
           0.9830769712735048,
           0.9902720766494185
          ],
          [
           0.992082905345514,
           0.2370956398735377,
           0.2202156413440772,
           0.22085720771808046,
           0.19277901240204562,
           0.2175016607069736,
           0.9830769712735048,
           1.0,
           0.9887685018758143
          ],
          [
           0.9776460621271938,
           0.21757561685235188,
           0.22024907259535287,
           0.2221313774278466,
           0.1929985456444961,
           0.21803377932395024,
           0.9902720766494185,
           0.9887685018758143,
           1.0
          ]
         ],
         "type": "heatmap",
         "xaxis": "x",
         "yaxis": "y",
         "hovertemplate": "x: %{x}<br>y: %{y}<br>color: %{z}<extra></extra>"
        }
       ],
       "layout": {
        "template": {
         "data": {
          "histogram2dcontour": [
           {
            "type": "histogram2dcontour",
            "colorbar": {
             "outlinewidth": 0,
             "ticks": ""
            },
            "colorscale": [
             [
              0.0,
              "#0d0887"
             ],
             [
              0.1111111111111111,
              "#46039f"
             ],
             [
              0.2222222222222222,
              "#7201a8"
             ],
             [
              0.3333333333333333,
              "#9c179e"
             ],
             [
              0.4444444444444444,
              "#bd3786"
             ],
             [
              0.5555555555555556,
              "#d8576b"
             ],
             [
              0.6666666666666666,
              "#ed7953"
             ],
             [
              0.7777777777777778,
              "#fb9f3a"
             ],
             [
              0.8888888888888888,
              "#fdca26"
             ],
             [
              1.0,
              "#f0f921"
             ]
            ]
           }
          ],
          "choropleth": [
           {
            "type": "choropleth",
            "colorbar": {
             "outlinewidth": 0,
             "ticks": ""
            }
           }
          ],
          "histogram2d": [
           {
            "type": "histogram2d",
            "colorbar": {
             "outlinewidth": 0,
             "ticks": ""
            },
            "colorscale": [
             [
              0.0,
              "#0d0887"
             ],
             [
              0.1111111111111111,
              "#46039f"
             ],
             [
              0.2222222222222222,
              "#7201a8"
             ],
             [
              0.3333333333333333,
              "#9c179e"
             ],
             [
              0.4444444444444444,
              "#bd3786"
             ],
             [
              0.5555555555555556,
              "#d8576b"
             ],
             [
              0.6666666666666666,
              "#ed7953"
             ],
             [
              0.7777777777777778,
              "#fb9f3a"
             ],
             [
              0.8888888888888888,
              "#fdca26"
             ],
             [
              1.0,
              "#f0f921"
             ]
            ]
           }
          ],
          "heatmap": [
           {
            "type": "heatmap",
            "colorbar": {
             "outlinewidth": 0,
             "ticks": ""
            },
            "colorscale": [
             [
              0.0,
              "#0d0887"
             ],
             [
              0.1111111111111111,
              "#46039f"
             ],
             [
              0.2222222222222222,
              "#7201a8"
             ],
             [
              0.3333333333333333,
              "#9c179e"
             ],
             [
              0.4444444444444444,
              "#bd3786"
             ],
             [
              0.5555555555555556,
              "#d8576b"
             ],
             [
              0.6666666666666666,
              "#ed7953"
             ],
             [
              0.7777777777777778,
              "#fb9f3a"
             ],
             [
              0.8888888888888888,
              "#fdca26"
             ],
             [
              1.0,
              "#f0f921"
             ]
            ]
           }
          ],
          "heatmapgl": [
           {
            "type": "heatmapgl",
            "colorbar": {
             "outlinewidth": 0,
             "ticks": ""
            },
            "colorscale": [
             [
              0.0,
              "#0d0887"
             ],
             [
              0.1111111111111111,
              "#46039f"
             ],
             [
              0.2222222222222222,
              "#7201a8"
             ],
             [
              0.3333333333333333,
              "#9c179e"
             ],
             [
              0.4444444444444444,
              "#bd3786"
             ],
             [
              0.5555555555555556,
              "#d8576b"
             ],
             [
              0.6666666666666666,
              "#ed7953"
             ],
             [
              0.7777777777777778,
              "#fb9f3a"
             ],
             [
              0.8888888888888888,
              "#fdca26"
             ],
             [
              1.0,
              "#f0f921"
             ]
            ]
           }
          ],
          "contourcarpet": [
           {
            "type": "contourcarpet",
            "colorbar": {
             "outlinewidth": 0,
             "ticks": ""
            }
           }
          ],
          "contour": [
           {
            "type": "contour",
            "colorbar": {
             "outlinewidth": 0,
             "ticks": ""
            },
            "colorscale": [
             [
              0.0,
              "#0d0887"
             ],
             [
              0.1111111111111111,
              "#46039f"
             ],
             [
              0.2222222222222222,
              "#7201a8"
             ],
             [
              0.3333333333333333,
              "#9c179e"
             ],
             [
              0.4444444444444444,
              "#bd3786"
             ],
             [
              0.5555555555555556,
              "#d8576b"
             ],
             [
              0.6666666666666666,
              "#ed7953"
             ],
             [
              0.7777777777777778,
              "#fb9f3a"
             ],
             [
              0.8888888888888888,
              "#fdca26"
             ],
             [
              1.0,
              "#f0f921"
             ]
            ]
           }
          ],
          "surface": [
           {
            "type": "surface",
            "colorbar": {
             "outlinewidth": 0,
             "ticks": ""
            },
            "colorscale": [
             [
              0.0,
              "#0d0887"
             ],
             [
              0.1111111111111111,
              "#46039f"
             ],
             [
              0.2222222222222222,
              "#7201a8"
             ],
             [
              0.3333333333333333,
              "#9c179e"
             ],
             [
              0.4444444444444444,
              "#bd3786"
             ],
             [
              0.5555555555555556,
              "#d8576b"
             ],
             [
              0.6666666666666666,
              "#ed7953"
             ],
             [
              0.7777777777777778,
              "#fb9f3a"
             ],
             [
              0.8888888888888888,
              "#fdca26"
             ],
             [
              1.0,
              "#f0f921"
             ]
            ]
           }
          ],
          "mesh3d": [
           {
            "type": "mesh3d",
            "colorbar": {
             "outlinewidth": 0,
             "ticks": ""
            }
           }
          ],
          "scatter": [
           {
            "fillpattern": {
             "fillmode": "overlay",
             "size": 10,
             "solidity": 0.2
            },
            "type": "scatter"
           }
          ],
          "parcoords": [
           {
            "type": "parcoords",
            "line": {
             "colorbar": {
              "outlinewidth": 0,
              "ticks": ""
             }
            }
           }
          ],
          "scatterpolargl": [
           {
            "type": "scatterpolargl",
            "marker": {
             "colorbar": {
              "outlinewidth": 0,
              "ticks": ""
             }
            }
           }
          ],
          "bar": [
           {
            "error_x": {
             "color": "#2a3f5f"
            },
            "error_y": {
             "color": "#2a3f5f"
            },
            "marker": {
             "line": {
              "color": "#E5ECF6",
              "width": 0.5
             },
             "pattern": {
              "fillmode": "overlay",
              "size": 10,
              "solidity": 0.2
             }
            },
            "type": "bar"
           }
          ],
          "scattergeo": [
           {
            "type": "scattergeo",
            "marker": {
             "colorbar": {
              "outlinewidth": 0,
              "ticks": ""
             }
            }
           }
          ],
          "scatterpolar": [
           {
            "type": "scatterpolar",
            "marker": {
             "colorbar": {
              "outlinewidth": 0,
              "ticks": ""
             }
            }
           }
          ],
          "histogram": [
           {
            "marker": {
             "pattern": {
              "fillmode": "overlay",
              "size": 10,
              "solidity": 0.2
             }
            },
            "type": "histogram"
           }
          ],
          "scattergl": [
           {
            "type": "scattergl",
            "marker": {
             "colorbar": {
              "outlinewidth": 0,
              "ticks": ""
             }
            }
           }
          ],
          "scatter3d": [
           {
            "type": "scatter3d",
            "line": {
             "colorbar": {
              "outlinewidth": 0,
              "ticks": ""
             }
            },
            "marker": {
             "colorbar": {
              "outlinewidth": 0,
              "ticks": ""
             }
            }
           }
          ],
          "scattermapbox": [
           {
            "type": "scattermapbox",
            "marker": {
             "colorbar": {
              "outlinewidth": 0,
              "ticks": ""
             }
            }
           }
          ],
          "scatterternary": [
           {
            "type": "scatterternary",
            "marker": {
             "colorbar": {
              "outlinewidth": 0,
              "ticks": ""
             }
            }
           }
          ],
          "scattercarpet": [
           {
            "type": "scattercarpet",
            "marker": {
             "colorbar": {
              "outlinewidth": 0,
              "ticks": ""
             }
            }
           }
          ],
          "carpet": [
           {
            "aaxis": {
             "endlinecolor": "#2a3f5f",
             "gridcolor": "white",
             "linecolor": "white",
             "minorgridcolor": "white",
             "startlinecolor": "#2a3f5f"
            },
            "baxis": {
             "endlinecolor": "#2a3f5f",
             "gridcolor": "white",
             "linecolor": "white",
             "minorgridcolor": "white",
             "startlinecolor": "#2a3f5f"
            },
            "type": "carpet"
           }
          ],
          "table": [
           {
            "cells": {
             "fill": {
              "color": "#EBF0F8"
             },
             "line": {
              "color": "white"
             }
            },
            "header": {
             "fill": {
              "color": "#C8D4E3"
             },
             "line": {
              "color": "white"
             }
            },
            "type": "table"
           }
          ],
          "barpolar": [
           {
            "marker": {
             "line": {
              "color": "#E5ECF6",
              "width": 0.5
             },
             "pattern": {
              "fillmode": "overlay",
              "size": 10,
              "solidity": 0.2
             }
            },
            "type": "barpolar"
           }
          ],
          "pie": [
           {
            "automargin": true,
            "type": "pie"
           }
          ]
         },
         "layout": {
          "autotypenumbers": "strict",
          "colorway": [
           "#636efa",
           "#EF553B",
           "#00cc96",
           "#ab63fa",
           "#FFA15A",
           "#19d3f3",
           "#FF6692",
           "#B6E880",
           "#FF97FF",
           "#FECB52"
          ],
          "font": {
           "color": "#2a3f5f"
          },
          "hovermode": "closest",
          "hoverlabel": {
           "align": "left"
          },
          "paper_bgcolor": "white",
          "plot_bgcolor": "#E5ECF6",
          "polar": {
           "bgcolor": "#E5ECF6",
           "angularaxis": {
            "gridcolor": "white",
            "linecolor": "white",
            "ticks": ""
           },
           "radialaxis": {
            "gridcolor": "white",
            "linecolor": "white",
            "ticks": ""
           }
          },
          "ternary": {
           "bgcolor": "#E5ECF6",
           "aaxis": {
            "gridcolor": "white",
            "linecolor": "white",
            "ticks": ""
           },
           "baxis": {
            "gridcolor": "white",
            "linecolor": "white",
            "ticks": ""
           },
           "caxis": {
            "gridcolor": "white",
            "linecolor": "white",
            "ticks": ""
           }
          },
          "coloraxis": {
           "colorbar": {
            "outlinewidth": 0,
            "ticks": ""
           }
          },
          "colorscale": {
           "sequential": [
            [
             0.0,
             "#0d0887"
            ],
            [
             0.1111111111111111,
             "#46039f"
            ],
            [
             0.2222222222222222,
             "#7201a8"
            ],
            [
             0.3333333333333333,
             "#9c179e"
            ],
            [
             0.4444444444444444,
             "#bd3786"
            ],
            [
             0.5555555555555556,
             "#d8576b"
            ],
            [
             0.6666666666666666,
             "#ed7953"
            ],
            [
             0.7777777777777778,
             "#fb9f3a"
            ],
            [
             0.8888888888888888,
             "#fdca26"
            ],
            [
             1.0,
             "#f0f921"
            ]
           ],
           "sequentialminus": [
            [
             0.0,
             "#0d0887"
            ],
            [
             0.1111111111111111,
             "#46039f"
            ],
            [
             0.2222222222222222,
             "#7201a8"
            ],
            [
             0.3333333333333333,
             "#9c179e"
            ],
            [
             0.4444444444444444,
             "#bd3786"
            ],
            [
             0.5555555555555556,
             "#d8576b"
            ],
            [
             0.6666666666666666,
             "#ed7953"
            ],
            [
             0.7777777777777778,
             "#fb9f3a"
            ],
            [
             0.8888888888888888,
             "#fdca26"
            ],
            [
             1.0,
             "#f0f921"
            ]
           ],
           "diverging": [
            [
             0,
             "#8e0152"
            ],
            [
             0.1,
             "#c51b7d"
            ],
            [
             0.2,
             "#de77ae"
            ],
            [
             0.3,
             "#f1b6da"
            ],
            [
             0.4,
             "#fde0ef"
            ],
            [
             0.5,
             "#f7f7f7"
            ],
            [
             0.6,
             "#e6f5d0"
            ],
            [
             0.7,
             "#b8e186"
            ],
            [
             0.8,
             "#7fbc41"
            ],
            [
             0.9,
             "#4d9221"
            ],
            [
             1,
             "#276419"
            ]
           ]
          },
          "xaxis": {
           "gridcolor": "white",
           "linecolor": "white",
           "ticks": "",
           "title": {
            "standoff": 15
           },
           "zerolinecolor": "white",
           "automargin": true,
           "zerolinewidth": 2
          },
          "yaxis": {
           "gridcolor": "white",
           "linecolor": "white",
           "ticks": "",
           "title": {
            "standoff": 15
           },
           "zerolinecolor": "white",
           "automargin": true,
           "zerolinewidth": 2
          },
          "scene": {
           "xaxis": {
            "backgroundcolor": "#E5ECF6",
            "gridcolor": "white",
            "linecolor": "white",
            "showbackground": true,
            "ticks": "",
            "zerolinecolor": "white",
            "gridwidth": 2
           },
           "yaxis": {
            "backgroundcolor": "#E5ECF6",
            "gridcolor": "white",
            "linecolor": "white",
            "showbackground": true,
            "ticks": "",
            "zerolinecolor": "white",
            "gridwidth": 2
           },
           "zaxis": {
            "backgroundcolor": "#E5ECF6",
            "gridcolor": "white",
            "linecolor": "white",
            "showbackground": true,
            "ticks": "",
            "zerolinecolor": "white",
            "gridwidth": 2
           }
          },
          "shapedefaults": {
           "line": {
            "color": "#2a3f5f"
           }
          },
          "annotationdefaults": {
           "arrowcolor": "#2a3f5f",
           "arrowhead": 0,
           "arrowwidth": 1
          },
          "geo": {
           "bgcolor": "white",
           "landcolor": "#E5ECF6",
           "subunitcolor": "white",
           "showland": true,
           "showlakes": true,
           "lakecolor": "white"
          },
          "title": {
           "x": 0.05
          },
          "mapbox": {
           "style": "light"
          }
         }
        },
        "xaxis": {
         "anchor": "y",
         "domain": [
          0.0,
          1.0
         ],
         "scaleanchor": "y",
         "constrain": "domain"
        },
        "yaxis": {
         "anchor": "x",
         "domain": [
          0.0,
          1.0
         ],
         "autorange": "reversed",
         "constrain": "domain"
        },
        "coloraxis": {
         "colorscale": [
          [
           0,
           "white"
          ],
          [
           0.4,
           "blue"
          ],
          [
           0.4,
           "red"
          ],
          [
           1,
           "black"
          ]
         ]
        },
        "title": {
         "text": "Correlation Matrix of New Factors"
        }
       },
       "config": {
        "plotlyServerURL": "https://plot.ly"
       }
      },
      "text/html": "<div>                            <div id=\"cbac6f00-2d89-495e-a39c-203652a1473f\" class=\"plotly-graph-div\" style=\"height:525px; width:100%;\"></div>            <script type=\"text/javascript\">                require([\"plotly\"], function(Plotly) {                    window.PLOTLYENV=window.PLOTLYENV || {};                                    if (document.getElementById(\"cbac6f00-2d89-495e-a39c-203652a1473f\")) {                    Plotly.newPlot(                        \"cbac6f00-2d89-495e-a39c-203652a1473f\",                        [{\"coloraxis\":\"coloraxis\",\"name\":\"0\",\"x\":[\"s1_imbalance_signed_pow_opt\",\"past_10s_ret\",\"past_30s_ret_rank\",\"stock_20s_ret_deviate_from_index\",\"stock_40s_ret_deviate_from_index_rank_hedged_opt\",\"stock_40s_ret_deviate_from_index_rank\",\"s1_imbalance_rank_signed_pow_opt\",\"s1_imbalance\",\"s1_imbalance_rank\"],\"y\":[\"s1_imbalance_signed_pow_opt\",\"past_10s_ret\",\"past_30s_ret_rank\",\"stock_20s_ret_deviate_from_index\",\"stock_40s_ret_deviate_from_index_rank_hedged_opt\",\"stock_40s_ret_deviate_from_index_rank\",\"s1_imbalance_rank_signed_pow_opt\",\"s1_imbalance\",\"s1_imbalance_rank\"],\"z\":[[1.0,0.2370492647280805,0.21855048929182355,0.2202714352586208,0.19079233048512495,0.21555737859913815,0.9882360813048867,0.992082905345514,0.9776460621271938],[0.2370492647280805,1.0,0.3589129014695937,0.5342465931130232,0.2615294619156782,0.3331025093288806,0.21802734553753444,0.2370956398735377,0.21757561685235188],[0.21855048929182355,0.3589129014695937,1.0,0.5810834850010285,0.6600112425199921,0.7149591233298025,0.21873427032177603,0.2202156413440772,0.22024907259535287],[0.2202714352586208,0.5342465931130232,0.5810834850010285,1.0,0.39934777999460164,0.5365740414519283,0.22180487124663129,0.22085720771808046,0.2221313774278466],[0.19079233048512495,0.2615294619156782,0.6600112425199921,0.39934777999460164,1.0,0.9847169595483337,0.19110777225481343,0.19277901240204562,0.1929985456444961],[0.21555737859913815,0.3331025093288806,0.7149591233298025,0.5365740414519283,0.9847169595483337,1.0,0.21623880237805573,0.2175016607069736,0.21803377932395024],[0.9882360813048867,0.21802734553753444,0.21873427032177603,0.22180487124663129,0.19110777225481343,0.21623880237805573,1.0,0.9830769712735048,0.9902720766494185],[0.992082905345514,0.2370956398735377,0.2202156413440772,0.22085720771808046,0.19277901240204562,0.2175016607069736,0.9830769712735048,1.0,0.9887685018758143],[0.9776460621271938,0.21757561685235188,0.22024907259535287,0.2221313774278466,0.1929985456444961,0.21803377932395024,0.9902720766494185,0.9887685018758143,1.0]],\"type\":\"heatmap\",\"xaxis\":\"x\",\"yaxis\":\"y\",\"hovertemplate\":\"x: %{x}\\u003cbr\\u003ey: %{y}\\u003cbr\\u003ecolor: %{z}\\u003cextra\\u003e\\u003c\\u002fextra\\u003e\"}],                        {\"template\":{\"data\":{\"histogram2dcontour\":[{\"type\":\"histogram2dcontour\",\"colorbar\":{\"outlinewidth\":0,\"ticks\":\"\"},\"colorscale\":[[0.0,\"#0d0887\"],[0.1111111111111111,\"#46039f\"],[0.2222222222222222,\"#7201a8\"],[0.3333333333333333,\"#9c179e\"],[0.4444444444444444,\"#bd3786\"],[0.5555555555555556,\"#d8576b\"],[0.6666666666666666,\"#ed7953\"],[0.7777777777777778,\"#fb9f3a\"],[0.8888888888888888,\"#fdca26\"],[1.0,\"#f0f921\"]]}],\"choropleth\":[{\"type\":\"choropleth\",\"colorbar\":{\"outlinewidth\":0,\"ticks\":\"\"}}],\"histogram2d\":[{\"type\":\"histogram2d\",\"colorbar\":{\"outlinewidth\":0,\"ticks\":\"\"},\"colorscale\":[[0.0,\"#0d0887\"],[0.1111111111111111,\"#46039f\"],[0.2222222222222222,\"#7201a8\"],[0.3333333333333333,\"#9c179e\"],[0.4444444444444444,\"#bd3786\"],[0.5555555555555556,\"#d8576b\"],[0.6666666666666666,\"#ed7953\"],[0.7777777777777778,\"#fb9f3a\"],[0.8888888888888888,\"#fdca26\"],[1.0,\"#f0f921\"]]}],\"heatmap\":[{\"type\":\"heatmap\",\"colorbar\":{\"outlinewidth\":0,\"ticks\":\"\"},\"colorscale\":[[0.0,\"#0d0887\"],[0.1111111111111111,\"#46039f\"],[0.2222222222222222,\"#7201a8\"],[0.3333333333333333,\"#9c179e\"],[0.4444444444444444,\"#bd3786\"],[0.5555555555555556,\"#d8576b\"],[0.6666666666666666,\"#ed7953\"],[0.7777777777777778,\"#fb9f3a\"],[0.8888888888888888,\"#fdca26\"],[1.0,\"#f0f921\"]]}],\"heatmapgl\":[{\"type\":\"heatmapgl\",\"colorbar\":{\"outlinewidth\":0,\"ticks\":\"\"},\"colorscale\":[[0.0,\"#0d0887\"],[0.1111111111111111,\"#46039f\"],[0.2222222222222222,\"#7201a8\"],[0.3333333333333333,\"#9c179e\"],[0.4444444444444444,\"#bd3786\"],[0.5555555555555556,\"#d8576b\"],[0.6666666666666666,\"#ed7953\"],[0.7777777777777778,\"#fb9f3a\"],[0.8888888888888888,\"#fdca26\"],[1.0,\"#f0f921\"]]}],\"contourcarpet\":[{\"type\":\"contourcarpet\",\"colorbar\":{\"outlinewidth\":0,\"ticks\":\"\"}}],\"contour\":[{\"type\":\"contour\",\"colorbar\":{\"outlinewidth\":0,\"ticks\":\"\"},\"colorscale\":[[0.0,\"#0d0887\"],[0.1111111111111111,\"#46039f\"],[0.2222222222222222,\"#7201a8\"],[0.3333333333333333,\"#9c179e\"],[0.4444444444444444,\"#bd3786\"],[0.5555555555555556,\"#d8576b\"],[0.6666666666666666,\"#ed7953\"],[0.7777777777777778,\"#fb9f3a\"],[0.8888888888888888,\"#fdca26\"],[1.0,\"#f0f921\"]]}],\"surface\":[{\"type\":\"surface\",\"colorbar\":{\"outlinewidth\":0,\"ticks\":\"\"},\"colorscale\":[[0.0,\"#0d0887\"],[0.1111111111111111,\"#46039f\"],[0.2222222222222222,\"#7201a8\"],[0.3333333333333333,\"#9c179e\"],[0.4444444444444444,\"#bd3786\"],[0.5555555555555556,\"#d8576b\"],[0.6666666666666666,\"#ed7953\"],[0.7777777777777778,\"#fb9f3a\"],[0.8888888888888888,\"#fdca26\"],[1.0,\"#f0f921\"]]}],\"mesh3d\":[{\"type\":\"mesh3d\",\"colorbar\":{\"outlinewidth\":0,\"ticks\":\"\"}}],\"scatter\":[{\"fillpattern\":{\"fillmode\":\"overlay\",\"size\":10,\"solidity\":0.2},\"type\":\"scatter\"}],\"parcoords\":[{\"type\":\"parcoords\",\"line\":{\"colorbar\":{\"outlinewidth\":0,\"ticks\":\"\"}}}],\"scatterpolargl\":[{\"type\":\"scatterpolargl\",\"marker\":{\"colorbar\":{\"outlinewidth\":0,\"ticks\":\"\"}}}],\"bar\":[{\"error_x\":{\"color\":\"#2a3f5f\"},\"error_y\":{\"color\":\"#2a3f5f\"},\"marker\":{\"line\":{\"color\":\"#E5ECF6\",\"width\":0.5},\"pattern\":{\"fillmode\":\"overlay\",\"size\":10,\"solidity\":0.2}},\"type\":\"bar\"}],\"scattergeo\":[{\"type\":\"scattergeo\",\"marker\":{\"colorbar\":{\"outlinewidth\":0,\"ticks\":\"\"}}}],\"scatterpolar\":[{\"type\":\"scatterpolar\",\"marker\":{\"colorbar\":{\"outlinewidth\":0,\"ticks\":\"\"}}}],\"histogram\":[{\"marker\":{\"pattern\":{\"fillmode\":\"overlay\",\"size\":10,\"solidity\":0.2}},\"type\":\"histogram\"}],\"scattergl\":[{\"type\":\"scattergl\",\"marker\":{\"colorbar\":{\"outlinewidth\":0,\"ticks\":\"\"}}}],\"scatter3d\":[{\"type\":\"scatter3d\",\"line\":{\"colorbar\":{\"outlinewidth\":0,\"ticks\":\"\"}},\"marker\":{\"colorbar\":{\"outlinewidth\":0,\"ticks\":\"\"}}}],\"scattermapbox\":[{\"type\":\"scattermapbox\",\"marker\":{\"colorbar\":{\"outlinewidth\":0,\"ticks\":\"\"}}}],\"scatterternary\":[{\"type\":\"scatterternary\",\"marker\":{\"colorbar\":{\"outlinewidth\":0,\"ticks\":\"\"}}}],\"scattercarpet\":[{\"type\":\"scattercarpet\",\"marker\":{\"colorbar\":{\"outlinewidth\":0,\"ticks\":\"\"}}}],\"carpet\":[{\"aaxis\":{\"endlinecolor\":\"#2a3f5f\",\"gridcolor\":\"white\",\"linecolor\":\"white\",\"minorgridcolor\":\"white\",\"startlinecolor\":\"#2a3f5f\"},\"baxis\":{\"endlinecolor\":\"#2a3f5f\",\"gridcolor\":\"white\",\"linecolor\":\"white\",\"minorgridcolor\":\"white\",\"startlinecolor\":\"#2a3f5f\"},\"type\":\"carpet\"}],\"table\":[{\"cells\":{\"fill\":{\"color\":\"#EBF0F8\"},\"line\":{\"color\":\"white\"}},\"header\":{\"fill\":{\"color\":\"#C8D4E3\"},\"line\":{\"color\":\"white\"}},\"type\":\"table\"}],\"barpolar\":[{\"marker\":{\"line\":{\"color\":\"#E5ECF6\",\"width\":0.5},\"pattern\":{\"fillmode\":\"overlay\",\"size\":10,\"solidity\":0.2}},\"type\":\"barpolar\"}],\"pie\":[{\"automargin\":true,\"type\":\"pie\"}]},\"layout\":{\"autotypenumbers\":\"strict\",\"colorway\":[\"#636efa\",\"#EF553B\",\"#00cc96\",\"#ab63fa\",\"#FFA15A\",\"#19d3f3\",\"#FF6692\",\"#B6E880\",\"#FF97FF\",\"#FECB52\"],\"font\":{\"color\":\"#2a3f5f\"},\"hovermode\":\"closest\",\"hoverlabel\":{\"align\":\"left\"},\"paper_bgcolor\":\"white\",\"plot_bgcolor\":\"#E5ECF6\",\"polar\":{\"bgcolor\":\"#E5ECF6\",\"angularaxis\":{\"gridcolor\":\"white\",\"linecolor\":\"white\",\"ticks\":\"\"},\"radialaxis\":{\"gridcolor\":\"white\",\"linecolor\":\"white\",\"ticks\":\"\"}},\"ternary\":{\"bgcolor\":\"#E5ECF6\",\"aaxis\":{\"gridcolor\":\"white\",\"linecolor\":\"white\",\"ticks\":\"\"},\"baxis\":{\"gridcolor\":\"white\",\"linecolor\":\"white\",\"ticks\":\"\"},\"caxis\":{\"gridcolor\":\"white\",\"linecolor\":\"white\",\"ticks\":\"\"}},\"coloraxis\":{\"colorbar\":{\"outlinewidth\":0,\"ticks\":\"\"}},\"colorscale\":{\"sequential\":[[0.0,\"#0d0887\"],[0.1111111111111111,\"#46039f\"],[0.2222222222222222,\"#7201a8\"],[0.3333333333333333,\"#9c179e\"],[0.4444444444444444,\"#bd3786\"],[0.5555555555555556,\"#d8576b\"],[0.6666666666666666,\"#ed7953\"],[0.7777777777777778,\"#fb9f3a\"],[0.8888888888888888,\"#fdca26\"],[1.0,\"#f0f921\"]],\"sequentialminus\":[[0.0,\"#0d0887\"],[0.1111111111111111,\"#46039f\"],[0.2222222222222222,\"#7201a8\"],[0.3333333333333333,\"#9c179e\"],[0.4444444444444444,\"#bd3786\"],[0.5555555555555556,\"#d8576b\"],[0.6666666666666666,\"#ed7953\"],[0.7777777777777778,\"#fb9f3a\"],[0.8888888888888888,\"#fdca26\"],[1.0,\"#f0f921\"]],\"diverging\":[[0,\"#8e0152\"],[0.1,\"#c51b7d\"],[0.2,\"#de77ae\"],[0.3,\"#f1b6da\"],[0.4,\"#fde0ef\"],[0.5,\"#f7f7f7\"],[0.6,\"#e6f5d0\"],[0.7,\"#b8e186\"],[0.8,\"#7fbc41\"],[0.9,\"#4d9221\"],[1,\"#276419\"]]},\"xaxis\":{\"gridcolor\":\"white\",\"linecolor\":\"white\",\"ticks\":\"\",\"title\":{\"standoff\":15},\"zerolinecolor\":\"white\",\"automargin\":true,\"zerolinewidth\":2},\"yaxis\":{\"gridcolor\":\"white\",\"linecolor\":\"white\",\"ticks\":\"\",\"title\":{\"standoff\":15},\"zerolinecolor\":\"white\",\"automargin\":true,\"zerolinewidth\":2},\"scene\":{\"xaxis\":{\"backgroundcolor\":\"#E5ECF6\",\"gridcolor\":\"white\",\"linecolor\":\"white\",\"showbackground\":true,\"ticks\":\"\",\"zerolinecolor\":\"white\",\"gridwidth\":2},\"yaxis\":{\"backgroundcolor\":\"#E5ECF6\",\"gridcolor\":\"white\",\"linecolor\":\"white\",\"showbackground\":true,\"ticks\":\"\",\"zerolinecolor\":\"white\",\"gridwidth\":2},\"zaxis\":{\"backgroundcolor\":\"#E5ECF6\",\"gridcolor\":\"white\",\"linecolor\":\"white\",\"showbackground\":true,\"ticks\":\"\",\"zerolinecolor\":\"white\",\"gridwidth\":2}},\"shapedefaults\":{\"line\":{\"color\":\"#2a3f5f\"}},\"annotationdefaults\":{\"arrowcolor\":\"#2a3f5f\",\"arrowhead\":0,\"arrowwidth\":1},\"geo\":{\"bgcolor\":\"white\",\"landcolor\":\"#E5ECF6\",\"subunitcolor\":\"white\",\"showland\":true,\"showlakes\":true,\"lakecolor\":\"white\"},\"title\":{\"x\":0.05},\"mapbox\":{\"style\":\"light\"}}},\"xaxis\":{\"anchor\":\"y\",\"domain\":[0.0,1.0],\"scaleanchor\":\"y\",\"constrain\":\"domain\"},\"yaxis\":{\"anchor\":\"x\",\"domain\":[0.0,1.0],\"autorange\":\"reversed\",\"constrain\":\"domain\"},\"coloraxis\":{\"colorscale\":[[0,\"white\"],[0.4,\"blue\"],[0.4,\"red\"],[1,\"black\"]]},\"title\":{\"text\":\"Correlation Matrix of New Factors\"}},                        {\"responsive\": true}                    ).then(function(){\n                            \nvar gd = document.getElementById('cbac6f00-2d89-495e-a39c-203652a1473f');\nvar x = new MutationObserver(function (mutations, observer) {{\n        var display = window.getComputedStyle(gd).display;\n        if (!display || display === 'none') {{\n            console.log([gd, 'removed!']);\n            Plotly.purge(gd);\n            observer.disconnect();\n        }}\n}});\n\n// Listen for the removal of the full notebook cells\nvar notebookContainer = gd.closest('#notebook-container');\nif (notebookContainer) {{\n    x.observe(notebookContainer, {childList: true});\n}}\n\n// Listen for the clearing of the current output cell\nvar outputEl = gd.closest('.output');\nif (outputEl) {{\n    x.observe(outputEl, {childList: true});\n}}\n\n                        })                };                });            </script>        </div>"
     },
     "metadata": {},
     "output_type": "display_data"
    }
   ],
   "source": [
    "# plot the correlation matrix\n",
    "import plotly.express as px\n",
    "\n",
    "px.imshow(pd.DataFrame(new_factors).corr(),\n",
    "          color_continuous_scale=[[0, \"white\"], [0.4, \"blue\"], [0.4, \"red\"], [1, \"black\"]],\n",
    "          title='Correlation Matrix of New Factors')"
   ],
   "metadata": {
    "collapsed": false,
    "ExecuteTime": {
     "end_time": "2023-11-06T01:16:45.664557300Z",
     "start_time": "2023-11-06T01:16:43.855033100Z"
    }
   }
  },
  {
   "cell_type": "markdown",
   "source": [
    "## Research the performance of your factors"
   ],
   "metadata": {
    "collapsed": false
   }
  },
  {
   "cell_type": "markdown",
   "source": [
    "### Demo: brainstorm mid-price\n",
    "reason: midprice should definately be a good factor, but it has very low correlation with target, so we need to find a way to improve it.\n",
    "for now i leave it to demonstrate how to calculate moving average, moveing standard deviation. "
   ],
   "metadata": {
    "collapsed": false
   }
  },
  {
   "cell_type": "markdown",
   "source": [
    "### Demo: lower the correlation between stock_20s_ret_deviate_from_index and stock_50s_ret_deviate_from_index_rank to below 0.4"
   ],
   "metadata": {
    "collapsed": false
   }
  },
  {
   "cell_type": "markdown",
   "source": [
    "#### Factor performance"
   ],
   "metadata": {
    "collapsed": false
   }
  },
  {
   "cell_type": "code",
   "execution_count": 377,
   "outputs": [
    {
     "data": {
      "text/plain": "0.08267993902947415"
     },
     "execution_count": 377,
     "metadata": {},
     "output_type": "execute_result"
    }
   ],
   "source": [
    "np.corrcoef(new_factors['stock_20s_ret_deviate_from_index'], df_train['target'].fillna(0))[\n",
    "    0, 1]  # original factor performance"
   ],
   "metadata": {
    "collapsed": false,
    "ExecuteTime": {
     "end_time": "2023-11-06T01:16:45.835533300Z",
     "start_time": "2023-11-06T01:16:45.661556500Z"
    }
   }
  },
  {
   "cell_type": "code",
   "execution_count": 378,
   "outputs": [
    {
     "data": {
      "text/plain": "0.06356041069195277"
     },
     "execution_count": 378,
     "metadata": {},
     "output_type": "execute_result"
    }
   ],
   "source": [
    "np.corrcoef(new_factors['stock_40s_ret_deviate_from_index_rank'], df_train['target'].fillna(0))[\n",
    "    0, 1]  # original factor performance"
   ],
   "metadata": {
    "collapsed": false,
    "ExecuteTime": {
     "end_time": "2023-11-06T01:16:46.022422600Z",
     "start_time": "2023-11-06T01:16:45.835533300Z"
    }
   }
  },
  {
   "cell_type": "code",
   "execution_count": 379,
   "outputs": [
    {
     "data": {
      "text/plain": "0.5365740414521122"
     },
     "execution_count": 379,
     "metadata": {},
     "output_type": "execute_result"
    }
   ],
   "source": [
    "np.corrcoef(new_factors['stock_20s_ret_deviate_from_index'], new_factors['stock_40s_ret_deviate_from_index_rank'])[\n",
    "    0, 1]  # original factor performance"
   ],
   "metadata": {
    "collapsed": false,
    "ExecuteTime": {
     "end_time": "2023-11-06T01:16:46.171844400Z",
     "start_time": "2023-11-06T01:16:46.023422100Z"
    }
   }
  },
  {
   "cell_type": "markdown",
   "source": [
    "note: \n",
    "60s, 0.051050\n",
    "50s, 0.053549\n",
    "40s, 0.053694 parameter 0.33, choosen\n",
    "30s, NA\n",
    "20S, NA\n",
    "10s, 0.052602"
   ],
   "metadata": {
    "collapsed": false
   }
  },
  {
   "cell_type": "code",
   "execution_count": 380,
   "outputs": [
    {
     "name": "stderr",
     "output_type": "stream",
     "text": [
      "\n",
      "  0%|          | 0/100 [00:00<?, ?it/s]\u001B[A\n",
      "  5%|▌         | 5/100 [00:00<00:02, 39.77it/s]\u001B[A\n",
      "  9%|▉         | 9/100 [00:00<00:02, 38.67it/s]\u001B[A\n",
      " 13%|█▎        | 13/100 [00:00<00:02, 39.07it/s]\u001B[A\n",
      " 17%|█▋        | 17/100 [00:00<00:02, 39.18it/s]\u001B[A\n",
      " 21%|██        | 21/100 [00:00<00:02, 37.97it/s]\u001B[A\n",
      " 25%|██▌       | 25/100 [00:00<00:01, 37.70it/s]\u001B[A\n",
      " 29%|██▉       | 29/100 [00:00<00:02, 34.47it/s]\u001B[A\n",
      " 33%|███▎      | 33/100 [00:00<00:02, 32.34it/s]\u001B[A\n",
      " 37%|███▋      | 37/100 [00:01<00:01, 34.20it/s]\u001B[A\n",
      " 41%|████      | 41/100 [00:01<00:01, 35.16it/s]\u001B[A\n",
      " 45%|████▌     | 45/100 [00:01<00:01, 35.14it/s]\u001B[A\n",
      " 49%|████▉     | 49/100 [00:01<00:01, 34.21it/s]\u001B[A\n",
      " 53%|█████▎    | 53/100 [00:01<00:01, 34.15it/s]\u001B[A\n",
      " 57%|█████▋    | 57/100 [00:01<00:01, 33.84it/s]\u001B[A\n",
      " 61%|██████    | 61/100 [00:01<00:01, 33.45it/s]\u001B[A\n",
      " 65%|██████▌   | 65/100 [00:01<00:01, 33.19it/s]\u001B[A\n",
      " 69%|██████▉   | 69/100 [00:01<00:00, 33.11it/s]\u001B[A\n",
      " 73%|███████▎  | 73/100 [00:02<00:00, 32.56it/s]\u001B[A\n",
      " 77%|███████▋  | 77/100 [00:02<00:00, 31.46it/s]\u001B[A\n",
      " 81%|████████  | 81/100 [00:02<00:00, 30.62it/s]\u001B[A\n",
      " 85%|████████▌ | 85/100 [00:02<00:00, 30.22it/s]\u001B[A\n",
      " 89%|████████▉ | 89/100 [00:02<00:00, 30.88it/s]\u001B[A\n",
      " 93%|█████████▎| 93/100 [00:02<00:00, 24.96it/s]\u001B[A\n",
      " 96%|█████████▌| 96/100 [00:03<00:00, 21.48it/s]\u001B[A\n",
      "100%|██████████| 100/100 [00:03<00:00, 30.11it/s][A\n"
     ]
    }
   ],
   "source": [
    "x = new_factors['stock_40s_ret_deviate_from_index_rank']\n",
    "x = (x - 0.5) * 2  # scale to -1,1， this doesnt change the correlation\n",
    "hedged_x = [utils.ols_res(new_factors['stock_20s_ret_deviate_from_index'], x, i) for i in\n",
    "            tqdm(np.linspace(0.01, 1, 100))]\n",
    "target_corr = [np.corrcoef(i, df_train['target'].fillna(0))[0, 1] for i in hedged_x]\n",
    "pairwise_corr = [np.corrcoef(i, new_factors['stock_20s_ret_deviate_from_index'])[0, 1] for i in hedged_x]"
   ],
   "metadata": {
    "collapsed": false,
    "ExecuteTime": {
     "end_time": "2023-11-06T01:17:04.422488800Z",
     "start_time": "2023-11-06T01:16:46.170844300Z"
    }
   }
  },
  {
   "cell_type": "code",
   "execution_count": 381,
   "outputs": [
    {
     "data": {
      "text/plain": "<Figure size 640x480 with 1 Axes>",
      "image/png": "[encoded data removed]"
     },
     "metadata": {},
     "output_type": "display_data"
    }
   ],
   "source": [
    "plt.plot(np.linspace(0.01, 1, 100), target_corr)\n",
    "plt.plot(np.linspace(0.01, 1, 100), pairwise_corr)\n",
    "# draw horizontal line at 0.5\n",
    "plt.axhline(y=0.05, color='r', linestyle='-')\n",
    "plt.axhline(y=0.4, color='r', linestyle='-')\n",
    "plt.show()"
   ],
   "metadata": {
    "collapsed": false,
    "ExecuteTime": {
     "end_time": "2023-11-06T01:17:04.694137Z",
     "start_time": "2023-11-06T01:17:04.426492Z"
    }
   }
  },
  {
   "cell_type": "code",
   "execution_count": 382,
   "outputs": [
    {
     "data": {
      "text/plain": "array([0.32, 0.33, 0.34, 0.35, 0.36, 0.37, 0.38, 0.39, 0.4 , 0.41])"
     },
     "execution_count": 382,
     "metadata": {},
     "output_type": "execute_result"
    }
   ],
   "source": [
    "np.linspace(0.01, 1, 100)[np.where((np.array(target_corr) >= 0.05) & (\n",
    "        np.array(pairwise_corr) <= 0.4))]  # these are the hedge parameter that satisfy the requirement"
   ],
   "metadata": {
    "collapsed": false,
    "ExecuteTime": {
     "end_time": "2023-11-06T01:17:04.787012900Z",
     "start_time": "2023-11-06T01:17:04.693136600Z"
    }
   }
  },
  {
   "cell_type": "code",
   "execution_count": 383,
   "outputs": [
    {
     "data": {
      "text/plain": "array([0.05369357, 0.05333378, 0.05297078, 0.05260458, 0.05223517,\n       0.05186257, 0.05148676, 0.05110776, 0.05072556, 0.05034018])"
     },
     "execution_count": 383,
     "metadata": {},
     "output_type": "execute_result"
    }
   ],
   "source": [
    "np.array(target_corr)[np.where((np.array(target_corr) >= 0.05) & (np.array(\n",
    "    pairwise_corr) <= 0.4))]  # these are the target corr that satisfy the requirement. we choose the best in these."
   ],
   "metadata": {
    "collapsed": false,
    "ExecuteTime": {
     "end_time": "2023-11-06T01:17:04.870550600Z",
     "start_time": "2023-11-06T01:17:04.783012500Z"
    }
   }
  },
  {
   "cell_type": "markdown",
   "source": [
    "### Demo: Improve performance of past_xs_ret style factors"
   ],
   "metadata": {
    "collapsed": false
   }
  },
  {
   "cell_type": "markdown",
   "source": [
    "#### correlation with target"
   ],
   "metadata": {
    "collapsed": false
   }
  },
  {
   "cell_type": "code",
   "execution_count": 384,
   "outputs": [
    {
     "data": {
      "text/plain": "0.06664332162654614"
     },
     "execution_count": 384,
     "metadata": {},
     "output_type": "execute_result"
    }
   ],
   "source": [
    "np.corrcoef(new_factors['past_10s_ret'], df_train['target'].fillna(0))[0, 1]  # original factor performance"
   ],
   "metadata": {
    "collapsed": false,
    "ExecuteTime": {
     "end_time": "2023-11-06T01:17:05.039189100Z",
     "start_time": "2023-11-06T01:17:04.870550600Z"
    }
   }
  },
  {
   "cell_type": "code",
   "execution_count": 385,
   "outputs": [
    {
     "data": {
      "text/plain": "0.06302002013895729"
     },
     "execution_count": 385,
     "metadata": {},
     "output_type": "execute_result"
    }
   ],
   "source": [
    "np.corrcoef(new_factors['past_30s_ret_rank'], df_train['target'].fillna(0))[0, 1]  # original factor performance"
   ],
   "metadata": {
    "collapsed": false,
    "ExecuteTime": {
     "end_time": "2023-11-06T01:17:05.209399900Z",
     "start_time": "2023-11-06T01:17:05.040189100Z"
    }
   }
  },
  {
   "cell_type": "markdown",
   "source": [
    "#### correlation between factors"
   ],
   "metadata": {
    "collapsed": false
   }
  },
  {
   "cell_type": "code",
   "execution_count": 386,
   "outputs": [
    {
     "data": {
      "text/plain": "0.35891290146961646"
     },
     "execution_count": 386,
     "metadata": {},
     "output_type": "execute_result"
    }
   ],
   "source": [
    "np.corrcoef(new_factors['past_10s_ret'], new_factors['past_30s_ret_rank'])[0, 1]  # original factor performance"
   ],
   "metadata": {
    "collapsed": false,
    "ExecuteTime": {
     "end_time": "2023-11-06T01:17:05.351854900Z",
     "start_time": "2023-11-06T01:17:05.209399900Z"
    }
   }
  },
  {
   "cell_type": "code",
   "execution_count": 387,
   "outputs": [],
   "source": [
    "optimize = [np.corrcoef(np.exp(i * new_factors['past_10s_ret']),\n",
    "                        df_train['target'].fillna(0) / 10000)[0, 1] for i in np.linspace(1, 100, 100)]"
   ],
   "metadata": {
    "collapsed": false,
    "ExecuteTime": {
     "end_time": "2023-11-06T01:17:18.526932200Z",
     "start_time": "2023-11-06T01:17:05.352855700Z"
    }
   }
  },
  {
   "cell_type": "code",
   "execution_count": 388,
   "outputs": [
    {
     "data": {
      "text/plain": "[<matplotlib.lines.Line2D at 0x22f2e90c910>]"
     },
     "execution_count": 388,
     "metadata": {},
     "output_type": "execute_result"
    },
    {
     "data": {
      "text/plain": "<Figure size 640x480 with 1 Axes>",
      "image/png": "[encoded data removed]"
     },
     "metadata": {},
     "output_type": "display_data"
    }
   ],
   "source": [
    "plt.plot(np.linspace(1, 100, 100), optimize)"
   ],
   "metadata": {
    "collapsed": false,
    "ExecuteTime": {
     "end_time": "2023-11-06T01:17:18.747743400Z",
     "start_time": "2023-11-06T01:17:18.529929Z"
    }
   }
  },
  {
   "cell_type": "code",
   "execution_count": 389,
   "outputs": [
    {
     "data": {
      "text/plain": "57.0"
     },
     "execution_count": 389,
     "metadata": {},
     "output_type": "execute_result"
    }
   ],
   "source": [
    "np.linspace(1, 100, 100)[np.argmax(optimize)]  # the optimal is at 57"
   ],
   "metadata": {
    "collapsed": false,
    "ExecuteTime": {
     "end_time": "2023-11-06T01:17:18.841714300Z",
     "start_time": "2023-11-06T01:17:18.747743400Z"
    }
   }
  },
  {
   "cell_type": "code",
   "execution_count": 390,
   "outputs": [
    {
     "data": {
      "text/plain": "<Figure size 640x480 with 1 Axes>",
      "image/png": "[encoded data removed]"
     },
     "metadata": {},
     "output_type": "display_data"
    },
    {
     "name": "stdout",
     "output_type": "stream",
     "text": [
      "0.06302002013895729\n"
     ]
    }
   ],
   "source": [
    "x = new_factors['past_30s_ret_rank']\n",
    "y = df_train['target'].fillna(0)\n",
    "\n",
    "plt.hist(x, bins=100, alpha=0.5)\n",
    "# plt.hist(y, bins=100, alpha=0.5)\n",
    "plt.show()\n",
    "print(np.corrcoef(x, y)[0, 1])"
   ],
   "metadata": {
    "collapsed": false,
    "ExecuteTime": {
     "end_time": "2023-11-06T01:17:19.250599500Z",
     "start_time": "2023-11-06T01:17:18.839713700Z"
    }
   }
  },
  {
   "cell_type": "markdown",
   "source": [
    "### Demo: Improve performance of s1_imbalance"
   ],
   "metadata": {
    "collapsed": false
   }
  },
  {
   "cell_type": "code",
   "execution_count": 391,
   "outputs": [
    {
     "data": {
      "text/plain": "0.11723116519487425"
     },
     "execution_count": 391,
     "metadata": {},
     "output_type": "execute_result"
    }
   ],
   "source": [
    "np.corrcoef(new_factors['s1_imbalance'], df_train['target'].fillna(0))[0, 1]  # original factor performance"
   ],
   "metadata": {
    "collapsed": false,
    "ExecuteTime": {
     "end_time": "2023-11-06T01:17:19.414948200Z",
     "start_time": "2023-11-06T01:17:19.244566400Z"
    }
   }
  },
  {
   "cell_type": "code",
   "execution_count": 392,
   "outputs": [
    {
     "data": {
      "text/plain": "<Figure size 640x480 with 1 Axes>",
      "image/png": "[encoded data removed]"
     },
     "metadata": {},
     "output_type": "display_data"
    },
    {
     "name": "stdout",
     "output_type": "stream",
     "text": [
      "0.11723116519487425\n"
     ]
    }
   ],
   "source": [
    "x = new_factors['s1_imbalance']\n",
    "y = df_train['target'].fillna(0)\n",
    "\n",
    "plt.hist(x, bins=100, alpha=0.5)\n",
    "# plt.hist(y, bins=100, alpha=0.5)\n",
    "plt.show()\n",
    "print(np.corrcoef(x, y)[0, 1])"
   ],
   "metadata": {
    "collapsed": false,
    "ExecuteTime": {
     "end_time": "2023-11-06T01:17:19.850998Z",
     "start_time": "2023-11-06T01:17:19.412948300Z"
    }
   }
  },
  {
   "cell_type": "markdown",
   "source": [
    "If we only look at the sign, we can see it contributes most information (i.e. most of the time we only care about sign)"
   ],
   "metadata": {
    "collapsed": false
   }
  },
  {
   "cell_type": "code",
   "execution_count": 393,
   "outputs": [
    {
     "name": "stdout",
     "output_type": "stream",
     "text": [
      "0.09444458059028685\n"
     ]
    }
   ],
   "source": [
    "x = np.sign(new_factors['s1_imbalance'])\n",
    "y = df_train['target'].fillna(0)\n",
    "\n",
    "print(np.corrcoef(x, y)[0, 1])"
   ],
   "metadata": {
    "collapsed": false,
    "ExecuteTime": {
     "end_time": "2023-11-06T01:17:20.048301100Z",
     "start_time": "2023-11-06T01:17:19.849183400Z"
    }
   }
  },
  {
   "cell_type": "markdown",
   "source": [
    "Sign can be viewed as sign*abs**0, so we can optimize the power of abs"
   ],
   "metadata": {
    "collapsed": false
   }
  },
  {
   "cell_type": "code",
   "execution_count": 394,
   "outputs": [
    {
     "data": {
      "text/plain": "[<matplotlib.lines.Line2D at 0x22fe782e490>]"
     },
     "execution_count": 394,
     "metadata": {},
     "output_type": "execute_result"
    },
    {
     "data": {
      "text/plain": "<Figure size 640x480 with 1 Axes>",
      "image/png": "[encoded data removed]"
     },
     "metadata": {},
     "output_type": "display_data"
    }
   ],
   "source": [
    "optimize = [np.corrcoef(np.sign(new_factors['s1_imbalance']) * np.abs(new_factors['s1_imbalance']) ** i,\n",
    "                        df_train['target'].fillna(0))[0, 1] for i in np.linspace(0, 3, 100)]\n",
    "plt.plot(np.linspace(0, 3, 100), optimize)"
   ],
   "metadata": {
    "collapsed": false,
    "ExecuteTime": {
     "end_time": "2023-11-06T01:17:45.788152900Z",
     "start_time": "2023-11-06T01:17:20.049298400Z"
    }
   }
  },
  {
   "cell_type": "code",
   "execution_count": 395,
   "outputs": [
    {
     "data": {
      "text/plain": "1.4242424242424243"
     },
     "execution_count": 395,
     "metadata": {},
     "output_type": "execute_result"
    }
   ],
   "source": [
    "np.linspace(0, 3, 100)[np.argmax(optimize)]  # the optimal is at 1.4242424242424243"
   ],
   "metadata": {
    "collapsed": false,
    "ExecuteTime": {
     "end_time": "2023-11-06T01:17:45.892628900Z",
     "start_time": "2023-11-06T01:17:45.793181600Z"
    }
   }
  },
  {
   "cell_type": "code",
   "execution_count": 396,
   "outputs": [
    {
     "data": {
      "text/plain": "<Figure size 640x480 with 1 Axes>",
      "image/png": "[encoded data removed]"
     },
     "metadata": {},
     "output_type": "display_data"
    },
    {
     "name": "stdout",
     "output_type": "stream",
     "text": [
      "0.11723116519487425\n",
      "0.11812815373942646\n",
      "0.11611365395799639\n"
     ]
    }
   ],
   "source": [
    "x = new_factors['s1_imbalance']\n",
    "x_star = new_factors['s1_imbalance_signed_pow_opt']\n",
    "x_rank = (new_factors['s1_imbalance_rank'] - 0.5) * 2  # centralization\n",
    "\n",
    "y = df_train['target'].fillna(0)\n",
    "\n",
    "plt.hist(x, bins=100, alpha=0.5)\n",
    "plt.hist(x_star, bins=100, alpha=0.5)\n",
    "plt.hist(x_rank, bins=100, alpha=0.5)\n",
    "# plt.hist(y, bins=100, alpha=0.5)\n",
    "plt.show()\n",
    "print(np.corrcoef(x, y)[0, 1])\n",
    "print(np.corrcoef(x_star, y)[0, 1])\n",
    "print(np.corrcoef(x_rank, y)[0, 1])"
   ],
   "metadata": {
    "collapsed": false,
    "ExecuteTime": {
     "end_time": "2023-11-06T01:17:46.739909900Z",
     "start_time": "2023-11-06T01:17:45.885625900Z"
    }
   }
  },
  {
   "cell_type": "code",
   "execution_count": 397,
   "outputs": [],
   "source": [
    "x = (x - np.mean(x)) / np.std(x)"
   ],
   "metadata": {
    "collapsed": false,
    "ExecuteTime": {
     "end_time": "2023-11-06T01:17:46.873108500Z",
     "start_time": "2023-11-06T01:17:46.739909900Z"
    }
   }
  },
  {
   "cell_type": "code",
   "execution_count": 398,
   "outputs": [
    {
     "name": "stderr",
     "output_type": "stream",
     "text": [
      "\n",
      "  0%|          | 0/100 [00:00<?, ?it/s]\u001B[A\n",
      "  1%|          | 1/100 [00:00<00:16,  6.01it/s]\u001B[A\n",
      "  2%|▏         | 2/100 [00:00<00:23,  4.25it/s]\u001B[A\n",
      "  3%|▎         | 3/100 [00:00<00:25,  3.82it/s]\u001B[A\n",
      "  4%|▍         | 4/100 [00:01<00:27,  3.55it/s]\u001B[A\n",
      "  5%|▌         | 5/100 [00:01<00:27,  3.48it/s]\u001B[A\n",
      "  6%|▌         | 6/100 [00:01<00:26,  3.55it/s]\u001B[A\n",
      "  7%|▋         | 7/100 [00:01<00:26,  3.55it/s]\u001B[A\n",
      "  8%|▊         | 8/100 [00:02<00:26,  3.45it/s]\u001B[A\n",
      "  9%|▉         | 9/100 [00:02<00:25,  3.55it/s]\u001B[A\n",
      " 10%|█         | 10/100 [00:02<00:25,  3.59it/s]\u001B[A\n",
      " 11%|█         | 11/100 [00:03<00:24,  3.62it/s]\u001B[A\n",
      " 12%|█▏        | 12/100 [00:03<00:24,  3.62it/s]\u001B[A\n",
      " 13%|█▎        | 13/100 [00:03<00:24,  3.60it/s]\u001B[A\n",
      " 14%|█▍        | 14/100 [00:03<00:23,  3.60it/s]\u001B[A\n",
      " 15%|█▌        | 15/100 [00:04<00:23,  3.63it/s]\u001B[A\n",
      " 16%|█▌        | 16/100 [00:04<00:23,  3.63it/s]\u001B[A\n",
      " 17%|█▋        | 17/100 [00:04<00:22,  3.69it/s]\u001B[A\n",
      " 18%|█▊        | 18/100 [00:04<00:22,  3.71it/s]\u001B[A\n",
      " 19%|█▉        | 19/100 [00:05<00:21,  3.74it/s]\u001B[A\n",
      " 20%|██        | 20/100 [00:05<00:21,  3.77it/s]\u001B[A\n",
      " 21%|██        | 21/100 [00:05<00:20,  3.76it/s]\u001B[A\n",
      " 22%|██▏       | 22/100 [00:05<00:20,  3.74it/s]\u001B[A\n",
      " 23%|██▎       | 23/100 [00:06<00:21,  3.65it/s]\u001B[A\n",
      " 24%|██▍       | 24/100 [00:06<00:20,  3.65it/s]\u001B[A\n",
      " 25%|██▌       | 25/100 [00:06<00:21,  3.42it/s]\u001B[A\n",
      " 26%|██▌       | 26/100 [00:07<00:21,  3.44it/s]\u001B[A\n",
      " 27%|██▋       | 27/100 [00:07<00:20,  3.52it/s]\u001B[A\n",
      " 28%|██▊       | 28/100 [00:07<00:20,  3.56it/s]\u001B[A\n",
      " 29%|██▉       | 29/100 [00:07<00:19,  3.62it/s]\u001B[A\n",
      " 30%|███       | 30/100 [00:08<00:19,  3.59it/s]\u001B[A\n",
      " 31%|███       | 31/100 [00:08<00:19,  3.63it/s]\u001B[A\n",
      " 32%|███▏      | 32/100 [00:08<00:18,  3.65it/s]\u001B[A\n",
      " 33%|███▎      | 33/100 [00:09<00:18,  3.65it/s]\u001B[A\n",
      " 34%|███▍      | 34/100 [00:09<00:15,  4.21it/s]\u001B[A\n",
      " 35%|███▌      | 35/100 [00:09<00:16,  3.96it/s]\u001B[A\n",
      " 36%|███▌      | 36/100 [00:09<00:17,  3.72it/s]\u001B[A\n",
      " 37%|███▋      | 37/100 [00:10<00:17,  3.64it/s]\u001B[A\n",
      " 38%|███▊      | 38/100 [00:10<00:17,  3.57it/s]\u001B[A\n",
      " 39%|███▉      | 39/100 [00:10<00:17,  3.58it/s]\u001B[A\n",
      " 40%|████      | 40/100 [00:10<00:16,  3.53it/s]\u001B[A\n",
      " 41%|████      | 41/100 [00:11<00:17,  3.43it/s]\u001B[A\n",
      " 42%|████▏     | 42/100 [00:11<00:16,  3.41it/s]\u001B[A\n",
      " 43%|████▎     | 43/100 [00:11<00:16,  3.51it/s]\u001B[A\n",
      " 44%|████▍     | 44/100 [00:12<00:16,  3.48it/s]\u001B[A\n",
      " 45%|████▌     | 45/100 [00:12<00:16,  3.44it/s]\u001B[A\n",
      " 46%|████▌     | 46/100 [00:12<00:15,  3.42it/s]\u001B[A\n",
      " 47%|████▋     | 47/100 [00:13<00:15,  3.42it/s]\u001B[A\n",
      " 48%|████▊     | 48/100 [00:13<00:15,  3.35it/s]\u001B[A\n",
      " 49%|████▉     | 49/100 [00:13<00:15,  3.33it/s]\u001B[A\n",
      " 50%|█████     | 50/100 [00:13<00:14,  3.35it/s]\u001B[A\n",
      " 51%|█████     | 51/100 [00:14<00:14,  3.28it/s]\u001B[A\n",
      " 52%|█████▏    | 52/100 [00:14<00:14,  3.31it/s]\u001B[A\n",
      " 53%|█████▎    | 53/100 [00:14<00:14,  3.33it/s]\u001B[A\n",
      " 54%|█████▍    | 54/100 [00:15<00:14,  3.27it/s]\u001B[A\n",
      " 55%|█████▌    | 55/100 [00:15<00:13,  3.31it/s]\u001B[A\n",
      " 56%|█████▌    | 56/100 [00:15<00:13,  3.35it/s]\u001B[A\n",
      " 57%|█████▋    | 57/100 [00:16<00:12,  3.39it/s]\u001B[A\n",
      " 58%|█████▊    | 58/100 [00:16<00:12,  3.40it/s]\u001B[A\n",
      " 59%|█████▉    | 59/100 [00:16<00:11,  3.46it/s]\u001B[A\n",
      " 60%|██████    | 60/100 [00:16<00:11,  3.52it/s]\u001B[A\n",
      " 61%|██████    | 61/100 [00:17<00:11,  3.51it/s]\u001B[A\n",
      " 62%|██████▏   | 62/100 [00:17<00:10,  3.48it/s]\u001B[A\n",
      " 63%|██████▎   | 63/100 [00:17<00:10,  3.53it/s]\u001B[A\n",
      " 64%|██████▍   | 64/100 [00:18<00:10,  3.57it/s]\u001B[A\n",
      " 65%|██████▌   | 65/100 [00:18<00:09,  3.59it/s]\u001B[A\n",
      " 66%|██████▌   | 66/100 [00:18<00:09,  3.64it/s]\u001B[A\n",
      " 67%|██████▋   | 67/100 [00:18<00:07,  4.25it/s]\u001B[A\n",
      " 68%|██████▊   | 68/100 [00:18<00:07,  4.01it/s]\u001B[A\n",
      " 69%|██████▉   | 69/100 [00:19<00:07,  3.92it/s]\u001B[A\n",
      " 70%|███████   | 70/100 [00:19<00:08,  3.73it/s]\u001B[A\n",
      " 71%|███████   | 71/100 [00:19<00:07,  3.73it/s]\u001B[A\n",
      " 72%|███████▏  | 72/100 [00:20<00:07,  3.70it/s]\u001B[A\n",
      " 73%|███████▎  | 73/100 [00:20<00:07,  3.63it/s]\u001B[A\n",
      " 74%|███████▍  | 74/100 [00:20<00:07,  3.69it/s]\u001B[A\n",
      " 75%|███████▌  | 75/100 [00:20<00:06,  3.70it/s]\u001B[A\n",
      " 76%|███████▌  | 76/100 [00:21<00:06,  3.70it/s]\u001B[A\n",
      " 77%|███████▋  | 77/100 [00:21<00:06,  3.72it/s]\u001B[A\n",
      " 78%|███████▊  | 78/100 [00:21<00:05,  3.71it/s]\u001B[A\n",
      " 79%|███████▉  | 79/100 [00:21<00:05,  3.69it/s]\u001B[A\n",
      " 80%|████████  | 80/100 [00:22<00:05,  3.65it/s]\u001B[A\n",
      " 81%|████████  | 81/100 [00:22<00:05,  3.68it/s]\u001B[A\n",
      " 82%|████████▏ | 82/100 [00:22<00:04,  3.70it/s]\u001B[A\n",
      " 83%|████████▎ | 83/100 [00:23<00:04,  3.69it/s]\u001B[A\n",
      " 84%|████████▍ | 84/100 [00:23<00:04,  3.75it/s]\u001B[A\n",
      " 85%|████████▌ | 85/100 [00:23<00:03,  3.76it/s]\u001B[A\n",
      " 86%|████████▌ | 86/100 [00:23<00:03,  3.74it/s]\u001B[A\n",
      " 87%|████████▋ | 87/100 [00:24<00:03,  3.71it/s]\u001B[A\n",
      " 88%|████████▊ | 88/100 [00:24<00:03,  3.69it/s]\u001B[A\n",
      " 89%|████████▉ | 89/100 [00:24<00:03,  3.62it/s]\u001B[A\n",
      " 90%|█████████ | 90/100 [00:24<00:02,  3.63it/s]\u001B[A\n",
      " 91%|█████████ | 91/100 [00:25<00:02,  3.66it/s]\u001B[A\n",
      " 92%|█████████▏| 92/100 [00:25<00:02,  3.68it/s]\u001B[A\n",
      " 93%|█████████▎| 93/100 [00:25<00:01,  3.59it/s]\u001B[A\n",
      " 94%|█████████▍| 94/100 [00:26<00:01,  3.63it/s]\u001B[A\n",
      " 95%|█████████▌| 95/100 [00:26<00:01,  3.68it/s]\u001B[A\n",
      " 96%|█████████▌| 96/100 [00:26<00:01,  3.70it/s]\u001B[A\n",
      " 97%|█████████▋| 97/100 [00:26<00:00,  3.65it/s]\u001B[A\n",
      " 98%|█████████▊| 98/100 [00:27<00:00,  3.64it/s]\u001B[A\n",
      " 99%|█████████▉| 99/100 [00:27<00:00,  3.69it/s]\u001B[A\n",
      "100%|██████████| 100/100 [00:27<00:00,  3.61it/s]\u001B[A\n"
     ]
    }
   ],
   "source": [
    "optimize = [np.corrcoef(np.sign(x) * np.abs(x) ** i,\n",
    "                        df_train['target'].fillna(0))[0, 1] for i in tqdm(np.linspace(0, 3, 100))]"
   ],
   "metadata": {
    "collapsed": false,
    "ExecuteTime": {
     "end_time": "2023-11-06T01:18:14.653086200Z",
     "start_time": "2023-11-06T01:17:46.875140400Z"
    }
   }
  },
  {
   "cell_type": "code",
   "execution_count": 399,
   "outputs": [
    {
     "data": {
      "text/plain": "[<matplotlib.lines.Line2D at 0x22f2ca10050>]"
     },
     "execution_count": 399,
     "metadata": {},
     "output_type": "execute_result"
    },
    {
     "data": {
      "text/plain": "<Figure size 640x480 with 1 Axes>",
      "image/png": "[encoded data removed]"
     },
     "metadata": {},
     "output_type": "display_data"
    }
   ],
   "source": [
    "plt.plot(np.linspace(0, 3, 100), optimize)"
   ],
   "metadata": {
    "collapsed": false,
    "ExecuteTime": {
     "end_time": "2023-11-06T01:18:14.877298200Z",
     "start_time": "2023-11-06T01:18:14.650086900Z"
    }
   }
  },
  {
   "cell_type": "code",
   "execution_count": 400,
   "outputs": [
    {
     "data": {
      "text/plain": "0.11812966984378381"
     },
     "execution_count": 400,
     "metadata": {},
     "output_type": "execute_result"
    }
   ],
   "source": [
    "max(optimize)"
   ],
   "metadata": {
    "collapsed": false,
    "ExecuteTime": {
     "end_time": "2023-11-06T01:18:15.023287400Z",
     "start_time": "2023-11-06T01:18:14.870286600Z"
    }
   }
  },
  {
   "cell_type": "code",
   "execution_count": 401,
   "outputs": [
    {
     "data": {
      "text/plain": "1.4242424242424243"
     },
     "execution_count": 401,
     "metadata": {},
     "output_type": "execute_result"
    }
   ],
   "source": [
    "np.linspace(0, 3, 100)[np.argmax(optimize)]  # the optimal is at 1.4242424242424243"
   ],
   "metadata": {
    "collapsed": false,
    "ExecuteTime": {
     "end_time": "2023-11-06T01:18:15.131975800Z",
     "start_time": "2023-11-06T01:18:14.981293900Z"
    }
   }
  },
  {
   "cell_type": "code",
   "execution_count": 402,
   "outputs": [
    {
     "name": "stderr",
     "output_type": "stream",
     "text": [
      "\n",
      "  0%|          | 0/10 [00:00<?, ?it/s]\u001B[A\n",
      " 10%|█         | 1/10 [00:08<01:17,  8.57s/it]\u001B[A\n",
      " 20%|██        | 2/10 [00:17<01:12,  9.05s/it]\u001B[A\n",
      " 30%|███       | 3/10 [00:27<01:04,  9.26s/it]\u001B[A\n",
      " 40%|████      | 4/10 [00:36<00:56,  9.35s/it]\u001B[A\n",
      " 50%|█████     | 5/10 [00:46<00:47,  9.46s/it]\u001B[A\n",
      " 60%|██████    | 6/10 [00:56<00:38,  9.61s/it]\u001B[A\n",
      " 70%|███████   | 7/10 [01:06<00:28,  9.57s/it]\u001B[A\n",
      " 80%|████████  | 8/10 [01:15<00:19,  9.53s/it]\u001B[A\n",
      " 90%|█████████ | 9/10 [01:25<00:09,  9.54s/it]\u001B[A\n",
      "100%|██████████| 10/10 [01:34<00:00,  9.49s/it]\u001B[A\n"
     ]
    }
   ],
   "source": [
    "optimize = [np.corrcoef(stats.t.ppf(stats.rankdata(x_star, method='min') / (len(x_star) + 1), df=i),\n",
    "                        df_train['target'].fillna(0))[0, 1] for i in tqdm(np.linspace(1, len((x_star)), 10))]"
   ],
   "metadata": {
    "collapsed": false,
    "ExecuteTime": {
     "end_time": "2023-11-06T01:19:50.058560300Z",
     "start_time": "2023-11-06T01:18:15.074349900Z"
    }
   }
  },
  {
   "cell_type": "markdown",
   "metadata": {},
   "source": [
    "## Factor Backtesting"
   ]
  },
  {
   "cell_type": "code",
   "execution_count": 403,
   "metadata": {
    "ExecuteTime": {
     "end_time": "2023-11-06T01:20:06.134574400Z",
     "start_time": "2023-11-06T01:19:50.055563300Z"
    }
   },
   "outputs": [],
   "source": [
    "'''\n",
    "The factor_backtest is an object that can be used to backtest your factors. It takes three arguments:\n",
    "\n",
    "    existed_facors: This is the dictionary stored all the passed factors with their names as keys and values as values\n",
    "    testing_factors: This is the dictionary stored all the factors waited to be tested\n",
    "    factor_performance: This is the dictionary stored all the factors' performance score (which is the Pearson correlation coefficient\n",
    "    of factor values vs corresponded target vector)\n",
    "'''\n",
    "# We will firstly load the existed factors and the existed factors' performance for you\n",
    "# This will take 12 seconds, you only need to run this cell once for loading the existed factors and their performance\n",
    "existed_factors = utils.load_json_factors('./factor_design_ver2_beta/existed_factors.json')\n",
    "factor_performance = utils.load_json('./factor_design_ver2_beta/factor_performance.json')"
   ]
  },
  {
   "cell_type": "code",
   "execution_count": 404,
   "metadata": {
    "ExecuteTime": {
     "end_time": "2023-11-06T01:20:06.236327200Z",
     "start_time": "2023-11-06T01:20:06.138576300Z"
    }
   },
   "outputs": [],
   "source": [
    "demo_backtest = factor_backtest.Factor_Backtest(existed_factors=existed_factors, testing_factors=new_factors,\n",
    "                                                factor_performance=factor_performance)"
   ]
  },
  {
   "cell_type": "code",
   "execution_count": 405,
   "metadata": {
    "ExecuteTime": {
     "end_time": "2023-11-06T01:20:13.217806900Z",
     "start_time": "2023-11-06T01:20:06.237327700Z"
    }
   },
   "outputs": [
    {
     "name": "stdout",
     "output_type": "stream",
     "text": [
      "Factor s1_imbalance_signed_pow_opt failed in-sample performance check with correlation coefficient 0.11812815373942646\n",
      "Factor past_10s_ret failed in-sample performance check with correlation coefficient 0.06664332162654614\n",
      "Factor past_30s_ret_rank failed in-sample performance check with correlation coefficient 0.06302002013895729\n",
      "Factor stock_20s_ret_deviate_from_index failed in-sample performance check with correlation coefficient 0.08267993902947415\n",
      "Factor stock_40s_ret_deviate_from_index_rank_hedged_opt failed in-sample performance check with correlation coefficient 0.05405080675974954\n",
      "Factor stock_40s_ret_deviate_from_index_rank failed in-sample performance check with correlation coefficient 0.06356041069195277\n",
      "Factor s1_imbalance_rank_signed_pow_opt failed in-sample performance check with correlation coefficient 0.11727393510910067\n",
      "Factor s1_imbalance failed in-sample performance check with correlation coefficient 0.11723116519487425\n",
      "Factor s1_imbalance_rank failed in-sample performance check with correlation coefficient 0.11611365395799639\n",
      "Time used for checking in-sample performance: 0.7206943035125732 seconds\n",
      "Number of factors passed this step: 0\n",
      "Correlation coefficient of each test factor: {'s1_imbalance_signed_pow_opt': 0.11812815373942646, 'past_10s_ret': 0.06664332162654614, 'past_30s_ret_rank': 0.06302002013895729, 'stock_20s_ret_deviate_from_index': 0.08267993902947415, 'stock_40s_ret_deviate_from_index_rank_hedged_opt': 0.05405080675974954, 'stock_40s_ret_deviate_from_index_rank': 0.06356041069195277, 's1_imbalance_rank_signed_pow_opt': 0.11727393510910067, 's1_imbalance': 0.11723116519487425, 's1_imbalance_rank': 0.11611365395799639}\n",
      "Factors passed this step: []\n",
      "Factors failed this step: ['s1_imbalance_signed_pow_opt', 'past_10s_ret', 'past_30s_ret_rank', 'stock_20s_ret_deviate_from_index', 'stock_40s_ret_deviate_from_index_rank_hedged_opt', 'stock_40s_ret_deviate_from_index_rank', 's1_imbalance_rank_signed_pow_opt', 's1_imbalance', 's1_imbalance_rank']\n",
      "Factor s1_imbalance_signed_pow_opt passed in-sample correlation check with all existed factors\n",
      "Factor s1_imbalance_signed_pow_opt has in-sample performance {'origin_seconds_in_bucket': -0.0024303281172070048, 'origin_imbalance_size': 0.000874889690759525, 'origin_imbalance_buy_sell_flag': -0.05289933779430632, 'origin_reference_price': 0.010429803349765879, 'origin_matched_size': 0.0015414951273833252, 'origin_far_price': 0.0030730683194813537, 'origin_near_price': 0.005232599795318362, 'origin_bid_price': 0.007321817135451641, 'origin_bid_size': 0.2323051762526866, 'origin_ask_price': 0.007401858414210549, 'origin_ask_size': 0.2036813986415777, 'origin_wap': 0.03158808282583747} with all existed factors\n",
      "Factor past_10s_ret passed in-sample correlation check with all existed factors\n",
      "Factor past_10s_ret has in-sample performance {'origin_seconds_in_bucket': 0.002454197692152897, 'origin_imbalance_size': 0.00045220275637579383, 'origin_imbalance_buy_sell_flag': -0.03086600580280262, 'origin_reference_price': 0.05526048347122347, 'origin_matched_size': -0.002241940734230947, 'origin_far_price': 0.0010549255162519285, 'origin_near_price': 0.0020859503975531276, 'origin_bid_price': 0.0583688001232954, 'origin_bid_size': 0.04278225881194637, 'origin_ask_price': 0.058828417451156405, 'origin_ask_size': 0.037747140599951566, 'origin_wap': 0.06785162818613073} with all existed factors\n",
      "Factor past_30s_ret_rank passed in-sample correlation check with all existed factors\n",
      "Factor past_30s_ret_rank has in-sample performance {'origin_seconds_in_bucket': 0.1469022745450923, 'origin_imbalance_size': 0.015527981971426253, 'origin_imbalance_buy_sell_flag': -0.03598378129057204, 'origin_reference_price': 0.0636045757064173, 'origin_matched_size': -0.009790138979401052, 'origin_far_price': -0.05595170933840894, 'origin_near_price': -0.08298876251272183, 'origin_bid_price': 0.06677080987339443, 'origin_bid_size': 0.06382141864239704, 'origin_ask_price': 0.06225687430526892, 'origin_ask_size': 0.02863410161016621, 'origin_wap': 0.07112809833289074} with all existed factors\n",
      "Factor stock_20s_ret_deviate_from_index passed in-sample correlation check with all existed factors\n",
      "Factor stock_20s_ret_deviate_from_index has in-sample performance {'origin_seconds_in_bucket': -0.001924476979585544, 'origin_imbalance_size': 0.0011793623694428127, 'origin_imbalance_buy_sell_flag': -0.04092932184611524, 'origin_reference_price': 0.06193874329776996, 'origin_matched_size': -0.000607369145541935, 'origin_far_price': 0.0006110137920720815, 'origin_near_price': 0.0018550211181964347, 'origin_bid_price': 0.06404978275600569, 'origin_bid_size': 0.04314347998675944, 'origin_ask_price': 0.06431921535942402, 'origin_ask_size': 0.03795296083199297, 'origin_wap': 0.07255169218923739} with all existed factors\n",
      "Factor stock_40s_ret_deviate_from_index_rank_hedged_opt passed in-sample correlation check with all existed factors\n",
      "Factor stock_40s_ret_deviate_from_index_rank_hedged_opt has in-sample performance {'origin_seconds_in_bucket': -0.0002842038495104135, 'origin_imbalance_size': 0.0010380921797683291, 'origin_imbalance_buy_sell_flag': -0.045360539065782204, 'origin_reference_price': 0.0772822988550247, 'origin_matched_size': -0.0023182288548542133, 'origin_far_price': -0.0005234540753154572, 'origin_near_price': -0.0015097323001558314, 'origin_bid_price': 0.07758045545394847, 'origin_bid_size': 0.045761933956672385, 'origin_ask_price': 0.07763925130227939, 'origin_ask_size': 0.03843146355742477, 'origin_wap': 0.08315414831825675} with all existed factors\n",
      "Factor stock_40s_ret_deviate_from_index_rank passed in-sample correlation check with all existed factors\n",
      "Factor stock_40s_ret_deviate_from_index_rank has in-sample performance {'origin_seconds_in_bucket': -1.671474332951153e-17, 'origin_imbalance_size': 0.001074716102202543, 'origin_imbalance_buy_sell_flag': -0.04725475946839683, 'origin_reference_price': 0.08062846025644035, 'origin_matched_size': -0.002149067384106438, 'origin_far_price': -0.0006099263435517365, 'origin_near_price': -0.0014888643582107663, 'origin_bid_price': 0.0812827286282214, 'origin_bid_size': 0.05011571234552324, 'origin_ask_price': 0.08135268910852766, 'origin_ask_size': 0.04242605245019117, 'origin_wap': 0.08784918617104989} with all existed factors\n",
      "Factor s1_imbalance_rank_signed_pow_opt passed in-sample correlation check with all existed factors\n",
      "Factor s1_imbalance_rank_signed_pow_opt has in-sample performance {'origin_seconds_in_bucket': 4.225407280582145e-11, 'origin_imbalance_size': 0.0018811872294621612, 'origin_imbalance_buy_sell_flag': -0.044844001868730755, 'origin_reference_price': 0.004043816539530266, 'origin_matched_size': 0.0018375789710187184, 'origin_far_price': -0.0009294974230906046, 'origin_near_price': -0.0006273926752919847, 'origin_bid_price': 0.0011424423492594452, 'origin_bid_size': 0.232414414248376, 'origin_ask_price': 0.0011299826768485404, 'origin_ask_size': 0.20340793442435864, 'origin_wap': 0.025054821827168505} with all existed factors\n",
      "Factor s1_imbalance passed in-sample correlation check with all existed factors\n",
      "Factor s1_imbalance has in-sample performance {'origin_seconds_in_bucket': -0.0025867341364750715, 'origin_imbalance_size': 0.0009331849960365153, 'origin_imbalance_buy_sell_flag': -0.058143782191764894, 'origin_reference_price': 0.011270526605561701, 'origin_matched_size': 0.0015973217671048487, 'origin_far_price': 0.0031807357401535266, 'origin_near_price': 0.005447610657762755, 'origin_bid_price': 0.008000623712764582, 'origin_bid_size': 0.2371117778832383, 'origin_ask_price': 0.00810072176971882, 'origin_ask_size': 0.20722680912840621, 'origin_wap': 0.03236185672988625} with all existed factors\n",
      "Factor s1_imbalance_rank passed in-sample correlation check with all existed factors\n",
      "Factor s1_imbalance_rank has in-sample performance {'origin_seconds_in_bucket': 1.186934970170541e-19, 'origin_imbalance_size': 0.00198545505916664, 'origin_imbalance_buy_sell_flag': -0.04977241854772778, 'origin_reference_price': 0.004562918653497898, 'origin_matched_size': 0.0018791749264322158, 'origin_far_price': -0.0009999367005469992, 'origin_near_price': -0.0006716201738045192, 'origin_bid_price': 0.0015128134978335203, 'origin_bid_size': 0.23641192642816822, 'origin_ask_price': 0.0015146064750602205, 'origin_ask_size': 0.20584910464531816, 'origin_wap': 0.02548119307992765} with all existed factors\n",
      "Factor s1_imbalance_signed_pow_opt failed one of the tests, and will not be added to the factors for out-of-sample testing\n",
      "Factor past_10s_ret failed one of the tests, and will not be added to the factors for out-of-sample testing\n",
      "Factor past_30s_ret_rank failed one of the tests, and will not be added to the factors for out-of-sample testing\n",
      "Factor stock_20s_ret_deviate_from_index failed one of the tests, and will not be added to the factors for out-of-sample testing\n",
      "Factor stock_40s_ret_deviate_from_index_rank_hedged_opt failed one of the tests, and will not be added to the factors for out-of-sample testing\n",
      "Factor stock_40s_ret_deviate_from_index_rank failed one of the tests, and will not be added to the factors for out-of-sample testing\n",
      "Factor s1_imbalance_rank_signed_pow_opt failed one of the tests, and will not be added to the factors for out-of-sample testing\n",
      "Factor s1_imbalance failed one of the tests, and will not be added to the factors for out-of-sample testing\n",
      "Factor s1_imbalance_rank failed one of the tests, and will not be added to the factors for out-of-sample testing\n"
     ]
    }
   ],
   "source": [
    "demo_backtest.run_testing()  # this will print out the in-sample performance of your factors"
   ]
  }
 ],
 "metadata": {
  "kernelspec": {
   "display_name": "Python 3",
   "language": "python",
   "name": "python3"
  },
  "language_info": {
   "codemirror_mode": {
    "name": "ipython",
    "version": 3
   },
   "file_extension": ".py",
   "mimetype": "text/x-python",
   "name": "python",
   "nbconvert_exporter": "python",
   "pygments_lexer": "ipython3",
   "version": "3.10.3"
  }
 },
 "nbformat": 4,
 "nbformat_minor": 2
}
