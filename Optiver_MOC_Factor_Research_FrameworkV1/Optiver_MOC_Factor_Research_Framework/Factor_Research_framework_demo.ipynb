{
 "cells": [
  {
   "cell_type": "code",
   "execution_count": 1,
   "outputs": [],
   "source": [
    "%load_ext autoreload\n",
    "%autoreload 2"
   ],
   "metadata": {
    "collapsed": false,
    "ExecuteTime": {
     "end_time": "2023-11-12T02:33:18.491242300Z",
     "start_time": "2023-11-12T02:33:18.435626800Z"
    }
   },
   "id": "2bf180466cd87bec"
  },
  {
   "cell_type": "code",
   "execution_count": 2,
   "id": "initial_id",
   "metadata": {
    "collapsed": true,
    "ExecuteTime": {
     "end_time": "2023-11-12T02:33:20.112474200Z",
     "start_time": "2023-11-12T02:33:18.489245500Z"
    }
   },
   "outputs": [],
   "source": [
    "from factor_design_ver3_beta import utils, factor_design, factor_backtest\n",
    "import pandas as pd\n",
    "import numpy as np\n",
    "from tqdm import tqdm"
   ]
  },
  {
   "cell_type": "markdown",
   "source": [
    "# load all relevant resources "
   ],
   "metadata": {
    "collapsed": false
   },
   "id": "b542ed2054a599ee"
  },
  {
   "cell_type": "code",
   "execution_count": 3,
   "outputs": [],
   "source": [
    "# play around the data \n",
    "df_train = pd.read_csv('./research_train_set.csv')\n",
    "\n",
    "# We built a index map to speed up the factor design, you don't need to worry about this.\n",
    "col2index_map = utils.load_json('./factor_design_ver3_alpha/col2index_map.json')\n",
    "# df_train in a dictionary format\n",
    "df_train_dic_sorted = utils.load_json('./factor_design_ver3_alpha/df_train_dic_sorted.json')"
   ],
   "metadata": {
    "collapsed": false,
    "ExecuteTime": {
     "end_time": "2023-11-12T02:33:53.975874400Z",
     "start_time": "2023-11-12T02:33:20.117477400Z"
    }
   },
   "id": "97dcee0440b70e46"
  },
  {
   "cell_type": "code",
   "execution_count": 4,
   "outputs": [
    {
     "name": "stdout",
     "output_type": "stream",
     "text": [
      "matching files: ['./factor_design_ver3_beta\\\\tmp2023118.json']\n",
      "./factor_design_ver3_beta\\tmp2023118.json added to existed_factors\n"
     ]
    }
   ],
   "source": [
    "# please add all tmpYYYMMDD.json files to factor_design_ver3_beta folder, following code will load the passed factors to the existed factors\n",
    "# roughly 1 min\n",
    "utils.add_factor_to_existed()"
   ],
   "metadata": {
    "collapsed": false,
    "ExecuteTime": {
     "end_time": "2023-11-12T02:35:23.014082400Z",
     "start_time": "2023-11-12T02:33:53.976874700Z"
    }
   },
   "id": "25734fbcef6d5015"
  },
  {
   "cell_type": "code",
   "execution_count": 5,
   "outputs": [],
   "source": [
    "existed_factors = utils.load_json_factors('./factor_design_ver3_beta/existed_factors.json')\n",
    "factor_performance = utils.load_json('./factor_design_ver3_beta/factor_performance.json')"
   ],
   "metadata": {
    "collapsed": false,
    "ExecuteTime": {
     "end_time": "2023-11-12T02:35:43.169595800Z",
     "start_time": "2023-11-12T02:35:23.033082800Z"
    }
   },
   "id": "4bb77ee75f71445b"
  },
  {
   "cell_type": "markdown",
   "source": [
    "# Factor Design"
   ],
   "metadata": {
    "collapsed": false
   },
   "id": "9f8634af9faa3143"
  },
  {
   "cell_type": "code",
   "execution_count": 6,
   "outputs": [],
   "source": [
    "# sample factor\n",
    "def s1_imbalance(current_data: dict, hist_list=[]) -> np.ndarray:\n",
    "    '''\n",
    "    This will be the main function to design your factors for the competition. Please\n",
    "    define only one factor here each time. We provide you with:\n",
    "\n",
    "    Current_data: a dictionary in the format of {column_name: column_value}, where column_name is from the original\n",
    "    dataframe\n",
    "\n",
    "    hist_list: A list for you to save the previous factor values (optional). For instance,\n",
    "    if you are calculating a 100-day Moving Average (MA), then you can save the first calculated\n",
    "    MA in hist_list, and then for the next MA calculation, you can use the saved ones.\n",
    "    '''\n",
    "    ###################### ADD YOUR CODE HERE FOR FACTORS DESIGN ######################\n",
    "    # convert the current_data to your choice of numpy or pandas dataframe\n",
    "    # current_data = pd.DataFrame(current_data)\n",
    "    current_data = np.array(list(current_data.values()),\n",
    "                            dtype=float).T  # this is faster than pd.DataFrame(current_data).values\n",
    "    res = (current_data[:, col2index_map['bid_size']] - current_data[:, col2index_map['ask_size']]) / \\\n",
    "          (current_data[:, col2index_map['bid_size']] + current_data[:, col2index_map['ask_size']])\n",
    "    ############################## NAN/Inf handling ######################################\n",
    "    # if you have nan in your factor value, please fill it reasonably\n",
    "    # res = np.nan_to_num(res) # this is slow because it also checks for inf.\n",
    "    # res = np.where(np.isnan(res), 0, res)  # this is slightly faster than np.nan_to_num\n",
    "    res[np.isnan(res)] = 0  # this is the fastest way to fill nan\n",
    "    ############################## END OF YOUR CODE ##############################\n",
    "    return -res  # The return value MUSE BE a numpy array, with no NaN value\n",
    "    ####################################################################################\n"
   ],
   "metadata": {
    "collapsed": false,
    "ExecuteTime": {
     "end_time": "2023-11-12T02:35:43.284210400Z",
     "start_time": "2023-11-12T02:35:43.190597800Z"
    }
   },
   "id": "425803454ed31a9e"
  },
  {
   "cell_type": "code",
   "execution_count": 7,
   "outputs": [],
   "source": [
    "new_factor_list = ['s1_imbalance']"
   ],
   "metadata": {
    "collapsed": false,
    "ExecuteTime": {
     "end_time": "2023-11-12T02:35:43.365211900Z",
     "start_time": "2023-11-12T02:35:43.285213400Z"
    }
   },
   "id": "66f3a820703afb47"
  },
  {
   "cell_type": "code",
   "execution_count": 8,
   "outputs": [
    {
     "name": "stderr",
     "output_type": "stream",
     "text": [
      "  0%|          | 0/1 [00:00<?, ?it/s]"
     ]
    },
    {
     "name": "stdout",
     "output_type": "stream",
     "text": [
      "Start calculating factor s1_imbalance\n",
      "Finished calculating factor s1_imbalance for 0 dates\n"
     ]
    },
    {
     "name": "stderr",
     "output_type": "stream",
     "text": [
      "C:\\Users\\kevin\\AppData\\Local\\Temp\\ipykernel_27076\\1115659932.py:19: RuntimeWarning: invalid value encountered in divide\n",
      "  res = (current_data[:, col2index_map['bid_size']] - current_data[:, col2index_map['ask_size']]) / \\\n"
     ]
    },
    {
     "name": "stdout",
     "output_type": "stream",
     "text": [
      "Finished calculating factor s1_imbalance for 100 dates\n",
      "Finished calculating factor s1_imbalance for 200 dates\n",
      "Finished calculating factor s1_imbalance for 300 dates\n",
      "Finished calculating factor s1_imbalance for 400 dates\n",
      "Accepted!!: Used 11.05 seconds for calculation factors. The limit is 300 seconds.\n"
     ]
    },
    {
     "name": "stderr",
     "output_type": "stream",
     "text": [
      "100%|██████████| 1/1 [00:11<00:00, 11.70s/it]\n"
     ]
    }
   ],
   "source": [
    "# DO NOT MODIFY THE FOLLOWING CODE\n",
    "# Run this cell once you want to calculate your factor values and prepare for the test of your factor performance!\n",
    "new_factors = {\n",
    "    factor_name: utils.flatten_factor_value(\n",
    "        factor_design.run_factor_value(df_train_dic_sorted, eval(factor_name), factor_name), factor_name)[factor_name]\n",
    "    for factor_name in tqdm(new_factor_list)}"
   ],
   "metadata": {
    "collapsed": false,
    "ExecuteTime": {
     "end_time": "2023-11-12T02:35:55.301383Z",
     "start_time": "2023-11-12T02:35:43.371214300Z"
    }
   },
   "id": "cea1c44158146eaa"
  },
  {
   "cell_type": "code",
   "execution_count": 9,
   "outputs": [
    {
     "name": "stdout",
     "output_type": "stream",
     "text": [
      "s1_imbalance has correlation to target 0.11723116519487425\n"
     ]
    }
   ],
   "source": [
    "# check if all values in new_factor and original_factor_dict does not contain nan, no NA is allowed in the factor value\n",
    "for factor_name, factor_value in new_factors.items():\n",
    "    assert not np.isnan(factor_value).any(), f'{factor_name} contains nan'\n",
    "    assert not np.isinf(factor_value).any(), f'{factor_name} contains inf'\n",
    "    print(f'{factor_name} has correlation to target {np.corrcoef(factor_value, df_train[\"target\"].fillna(0))[0, 1]}')\n"
   ],
   "metadata": {
    "collapsed": false,
    "ExecuteTime": {
     "end_time": "2023-11-12T02:35:55.763964600Z",
     "start_time": "2023-11-12T02:35:55.290385800Z"
    }
   },
   "id": "3102f8699ab5e4d3"
  },
  {
   "cell_type": "code",
   "execution_count": 10,
   "outputs": [
    {
     "data": {
      "text/plain": "              s1_imbalance\ns1_imbalance           1.0",
      "text/html": "<div>\n<style scoped>\n    .dataframe tbody tr th:only-of-type {\n        vertical-align: middle;\n    }\n\n    .dataframe tbody tr th {\n        vertical-align: top;\n    }\n\n    .dataframe thead th {\n        text-align: right;\n    }\n</style>\n<table border=\"1\" class=\"dataframe\">\n  <thead>\n    <tr style=\"text-align: right;\">\n      <th></th>\n      <th>s1_imbalance</th>\n    </tr>\n  </thead>\n  <tbody>\n    <tr>\n      <th>s1_imbalance</th>\n      <td>1.0</td>\n    </tr>\n  </tbody>\n</table>\n</div>"
     },
     "execution_count": 10,
     "metadata": {},
     "output_type": "execute_result"
    }
   ],
   "source": [
    "pd.DataFrame(new_factors).corr()"
   ],
   "metadata": {
    "collapsed": false,
    "ExecuteTime": {
     "end_time": "2023-11-12T02:35:55.938298300Z",
     "start_time": "2023-11-12T02:35:55.763964600Z"
    }
   },
   "id": "70d76511f4018e87"
  },
  {
   "cell_type": "markdown",
   "source": [
    "# Existed factors"
   ],
   "metadata": {
    "collapsed": false
   },
   "id": "1f0484bc8059c9"
  },
  {
   "cell_type": "code",
   "execution_count": 13,
   "outputs": [
    {
     "data": {
      "text/plain": "dict_keys(['origin_seconds_in_bucket', 'origin_imbalance_size', 'origin_imbalance_buy_sell_flag', 'origin_reference_price', 'origin_matched_size', 'origin_far_price', 'origin_near_price', 'origin_bid_price', 'origin_bid_size', 'origin_ask_price', 'origin_ask_size', 'origin_wap', 's1_imbalance_signed_pow_opt'])"
     },
     "execution_count": 13,
     "metadata": {},
     "output_type": "execute_result"
    }
   ],
   "source": [
    "existed_factors.keys()"
   ],
   "metadata": {
    "collapsed": false,
    "ExecuteTime": {
     "end_time": "2023-11-12T02:36:40.668827900Z",
     "start_time": "2023-11-12T02:36:40.601212400Z"
    }
   },
   "id": "f1e50e5d4876aee9"
  },
  {
   "cell_type": "markdown",
   "source": [
    "# Factor Backtesting"
   ],
   "metadata": {
    "collapsed": false
   },
   "id": "5ae6ff23be397586"
  },
  {
   "cell_type": "code",
   "execution_count": 11,
   "outputs": [],
   "source": [
    "demo_backtest = factor_backtest.Factor_Backtest(\n",
    "    existed_factors=existed_factors,\n",
    "    testing_factors=new_factors,\n",
    "    factor_performance=factor_performance\n",
    ")"
   ],
   "metadata": {
    "collapsed": false,
    "ExecuteTime": {
     "end_time": "2023-11-12T02:35:56.122133300Z",
     "start_time": "2023-11-12T02:35:55.939299200Z"
    }
   },
   "id": "73ef5c0409178a6"
  },
  {
   "cell_type": "code",
   "execution_count": 12,
   "outputs": [
    {
     "name": "stdout",
     "output_type": "stream",
     "text": [
      "Start testing factor: s1_imbalance..........\n",
      "Factor s1_imbalance passed in-sample performance check with correlation coefficient 0.11723116519487425\n",
      "{'origin_seconds_in_bucket': -0.00275351467424382, 'origin_imbalance_size': -0.007912562170556144, 'origin_imbalance_buy_sell_flag': 0.0072728122913709396, 'origin_reference_price': 0.003089423955432897, 'origin_matched_size': -0.0029542783068026088, 'origin_far_price': -0.0013442725990691496, 'origin_near_price': -0.001989082554881222, 'origin_bid_price': 0.0032888458109110777, 'origin_bid_size': 0.017996957016120273, 'origin_ask_price': 0.004788753844761137, 'origin_ask_size': 0.014149922396686877, 'origin_wap': 0.0070193634593688865, 's1_imbalance_signed_pow_opt': 0.11812815373942646, 's1_imbalance': 0.11723116519487425}\n",
      "Factor s1_imbalance failed in-sample correlation check with factor s1_imbalance_signed_pow_opt\n",
      "Factor s1_imbalance has correlation coefficient 0.992082905345458 with factor s1_imbalance_signed_pow_opt, and sowe need the new factor performance to be at least 1.4 times the old factor performance.\n",
      "Factor s1_imbalance has in-sample performance 0.11723116519487425 while factor s1_imbalance_signed_pow_opt has in-sample performance 0.11812815373942646, the new factor s1_imbalance performance is not exceeding 1.4 times the old factor s1_imbalance_signed_pow_opt's performance.\n",
      "Factor s1_imbalance failed one of the tests, and will not be added to the factors for out-of-sample testing\n",
      "Factors passed all the tests: []\n",
      "Factors failed at least one of the tests: ['s1_imbalance']\n"
     ]
    }
   ],
   "source": [
    "demo_backtest.run_testing()"
   ],
   "metadata": {
    "collapsed": false,
    "ExecuteTime": {
     "end_time": "2023-11-12T02:35:57.561426900Z",
     "start_time": "2023-11-12T02:35:56.021396500Z"
    }
   },
   "id": "9214bd1148ba3755"
  },
  {
   "cell_type": "markdown",
   "source": [],
   "metadata": {
    "collapsed": false
   },
   "id": "1b36f582381714a"
  }
 ],
 "metadata": {
  "kernelspec": {
   "display_name": "Python 3",
   "language": "python",
   "name": "python3"
  },
  "language_info": {
   "codemirror_mode": {
    "name": "ipython",
    "version": 2
   },
   "file_extension": ".py",
   "mimetype": "text/x-python",
   "name": "python",
   "nbconvert_exporter": "python",
   "pygments_lexer": "ipython2",
   "version": "2.7.6"
  }
 },
 "nbformat": 4,
 "nbformat_minor": 5
}
