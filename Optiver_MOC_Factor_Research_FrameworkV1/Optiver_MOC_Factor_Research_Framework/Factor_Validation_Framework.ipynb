{
 "cells": [
  {
   "cell_type": "markdown",
   "metadata": {},
   "source": [
    "## Preprocessing "
   ]
  },
  {
   "cell_type": "code",
   "execution_count": 1,
   "metadata": {
    "ExecuteTime": {
     "end_time": "2023-11-08T05:45:48.614841300Z",
     "start_time": "2023-11-08T05:45:48.560599700Z"
    }
   },
   "outputs": [],
   "source": [
    "%load_ext autoreload\n",
    "%autoreload 2"
   ]
  },
  {
   "cell_type": "code",
   "execution_count": 4,
   "metadata": {
    "ExecuteTime": {
     "end_time": "2023-11-08T05:47:06.971616300Z",
     "start_time": "2023-11-08T05:47:06.121255500Z"
    }
   },
   "outputs": [],
   "source": [
    "'''\n",
    "Welcome to Optiver 2023 MoC Challenge! We designed this notebook for you to explore the data given by the challenge, research and design your own factors based on\n",
    "the training data given and the helper functions we built for you!\n",
    "Feel free to play around with the data and get familiar with it!\n",
    "'''\n",
    "\n",
    "# We will import the necessary libraries here. You can import any librariese you need for your beautiful factors!\n",
    "from out_of_sample import utils\n",
    "from out_of_sample import factor_design\n",
    "from out_of_sample import factor_backtest\n",
    "import numpy as np\n",
    "import pandas as pd\n",
    "from tqdm import tqdm"
   ]
  },
  {
   "cell_type": "markdown",
   "metadata": {},
   "source": [
    "# Load data"
   ]
  },
  {
   "cell_type": "code",
   "execution_count": 5,
   "outputs": [],
   "source": [
    "col2index_map = utils.load_json('./out_of_sample/col2index_map.json')"
   ],
   "metadata": {
    "collapsed": false,
    "ExecuteTime": {
     "end_time": "2023-11-08T05:47:12.276584Z",
     "start_time": "2023-11-08T05:47:12.217670800Z"
    }
   }
  },
  {
   "cell_type": "code",
   "execution_count": null,
   "outputs": [],
   "source": [
    "# We designed a function to transform the df_train you loaded into a dictionary to speed up the research process.\n",
    "# You don't need to worry about this. This will take up to half minutes to run. DON'T RE-RUN THIS CELL TOO OFTEN!\n",
    "df_train_dic_sorted = utils.load_json('./out_of_sample/df_train_dic_sorted.json')\n",
    "df_test_dic_sorted = utils.load_json('./out_of_sample/test_data_dic_sorted.json')"
   ],
   "metadata": {
    "collapsed": false,
    "ExecuteTime": {
     "start_time": "2023-11-08T05:45:49.405980100Z"
    }
   }
  },
  {
   "cell_type": "code",
   "execution_count": null,
   "outputs": [],
   "source": [
    "utils.add_factor_to_existed()"
   ],
   "metadata": {
    "collapsed": false
   }
  },
  {
   "cell_type": "code",
   "execution_count": null,
   "outputs": [],
   "source": [
    "existed_factor_train = utils.load_json('./existed_factors.json')\n",
    "existed_factor_test = utils.load_json('./existed_factor_test.json')"
   ],
   "metadata": {
    "collapsed": false,
    "ExecuteTime": {
     "start_time": "2023-11-08T05:45:49.409977900Z"
    }
   }
  },
  {
   "cell_type": "code",
   "execution_count": null,
   "outputs": [],
   "source": [
    "factor_performance_train = utils.load_json('./out_of_sample/factor_performance.json')\n",
    "factor_performance_test = utils.load_json('./out_of_sample/factor_performance_test.json')"
   ],
   "metadata": {
    "collapsed": false,
    "ExecuteTime": {
     "start_time": "2023-11-08T05:45:49.411978100Z"
    }
   }
  },
  {
   "cell_type": "markdown",
   "source": [
    "# New factor here"
   ],
   "metadata": {
    "collapsed": false
   }
  },
  {
   "cell_type": "code",
   "execution_count": null,
   "outputs": [],
   "source": [
    "def s1_imbalance_signed_pow_opt(current_data: dict, hist_list=[]) -> np.ndarray:\n",
    "    '''\n",
    "    This will be the main function to design your factors for the competition. Please\n",
    "    define only one factor here each time. We provide you with:\n",
    "\n",
    "    Current_data: a dictionary in the format of {column_name: column_value}, where column_name is from the original\n",
    "    dataframe\n",
    "\n",
    "    hist_list: A list for you to save the previous factor values (optional). For instance,\n",
    "    if you are calculating a 100-day Moving Average (MA), then you can save the first calculated\n",
    "    MA in hist_list, and then for the next MA calculation, you can use the saved ones.\n",
    "    '''\n",
    "    ###################### ADD YOUR CODE HERE FOR FACTORS DESIGN ######################\n",
    "    # convert the current_data to your choice of numpy or pandas dataframe\n",
    "    # current_data = pd.DataFrame(current_data)\n",
    "    current_data = np.array(list(current_data.values()),\n",
    "                            dtype=float).T  # this is faster than pd.DataFrame(current_data).values\n",
    "    res = (current_data[:, col2index_map['bid_size']] - current_data[:, col2index_map['ask_size']]) / \\\n",
    "          (current_data[:, col2index_map['bid_size']] + current_data[:, col2index_map['ask_size']])\n",
    "    ############################## NAN/Inf handling ######################################\n",
    "    # if you have nan in your factor value, please fill it reasonably\n",
    "    # res = np.nan_to_num(res) # this is slow because it also checks for inf.\n",
    "    # res = np.where(np.isnan(res), 0, res)  # this is slightly faster than np.nan_to_num\n",
    "    res[np.isnan(res)] = 0  # this is the fastest way to fill nan\n",
    "    ############################## END OF YOUR CODE ##############################\n",
    "    return np.sign(-res) * np.abs(\n",
    "        res) ** 1.4242424242424243  # The return value MUSE BE a numpy array, with no NaN value\n",
    "    # reason: s1_imbalance have most information in sign, sign can be think of as sign*abs**0. we optimize the power and get 1.424 as the best\n",
    "    ####################################################################################\n"
   ],
   "metadata": {
    "collapsed": false,
    "ExecuteTime": {
     "end_time": "2023-11-08T05:45:49.414978Z",
     "start_time": "2023-11-08T05:45:49.413978600Z"
    }
   }
  },
  {
   "cell_type": "markdown",
   "source": [
    "# Some Examples of Factor Design"
   ],
   "metadata": {
    "collapsed": false
   }
  },
  {
   "cell_type": "code",
   "execution_count": null,
   "metadata": {
    "ExecuteTime": {
     "end_time": "2023-11-08T05:45:49.433008900Z",
     "start_time": "2023-11-08T05:45:49.415978500Z"
    }
   },
   "outputs": [],
   "source": [
    "'''\n",
    "Each factor should be defined as a function described above. After you designed all your factors and you are all good to test your factors,\n",
    "you can simply ADD your factor name to the factor_list below, and run the cell. The backtest result will be printed out for you to see!\n",
    "'''\n",
    "# toned factor\n",
    "new_factor_list = ['s1_imbalance_signed_pow_opt']  # fine toned factor set\n"
   ]
  },
  {
   "cell_type": "code",
   "execution_count": null,
   "metadata": {
    "ExecuteTime": {
     "start_time": "2023-11-08T05:45:49.417978300Z"
    }
   },
   "outputs": [],
   "source": [
    "# DO NOT MODIFY THE FOLLOWING CODE\n",
    "# Run this cell once you want to calculate your factor values and prepare for the test of your factor performance!\n",
    "new_factors_train = {factor_name: utils.flatten_factor_value(\n",
    "    factor_design.run_factor_value(df_train_dic_sorted, eval(factor_name), factor_name), factor_name)[factor_name] for\n",
    "               factor_name in tqdm(new_factor_list)}"
   ]
  },
  {
   "cell_type": "code",
   "execution_count": null,
   "outputs": [],
   "source": [
    "df_train = pd.read_csv('research_train_set.csv')\n",
    "df_test = pd.read_csv('research_test_set.csv')"
   ],
   "metadata": {
    "collapsed": false,
    "ExecuteTime": {
     "start_time": "2023-11-08T05:45:49.419978600Z"
    }
   }
  },
  {
   "cell_type": "code",
   "execution_count": null,
   "outputs": [],
   "source": [
    "# DO NOT MODIFY THE FOLLOWING CODE\n",
    "# Run this cell once you want to calculate your factor values and prepare for the test of your factor performance!\n",
    "new_factors_test = {factor_name: utils.flatten_factor_value(\n",
    "    factor_design.run_factor_value(df_test_dic_sorted, eval(factor_name), factor_name), factor_name)[factor_name] for\n",
    "               factor_name in tqdm(new_factor_list)}"
   ],
   "metadata": {
    "collapsed": false,
    "ExecuteTime": {
     "start_time": "2023-11-08T05:45:49.423979300Z"
    }
   }
  },
  {
   "cell_type": "markdown",
   "metadata": {},
   "source": [
    "## Factor Backtesting"
   ]
  },
  {
   "cell_type": "code",
   "execution_count": null,
   "metadata": {
    "ExecuteTime": {
     "start_time": "2023-11-08T05:45:49.425983300Z"
    }
   },
   "outputs": [],
   "source": [
    "'''\n",
    "The factor_backtest is an object that can be used to backtest your factors. It takes three arguments:\n",
    "\n",
    "    existed_facors: This is the dictionary stored all the passed factors with their names as keys and values as values\n",
    "    testing_factors: This is the dictionary stored all the factors waited to be tested\n",
    "    factor_performance: This is the dictionary stored all the factors' performance score (which is the Pearson correlation coefficient\n",
    "    of factor values vs corresponded target vector)\n",
    "'''\n",
    "# We will firstly load the existed factors and the existed factors' performance for you\n",
    "# This will take 12 seconds, you only need to run this cell once for loading the existed factors and their performance\n",
    "# existed_factors = utils.load_json_factors('./factor_design_ver3_alpha/existed_factors.json')\n",
    "# factor_performance = utils.load_json('./factor_design_ver3_alpha/factor_performance.json')"
   ]
  },
  {
   "cell_type": "code",
   "execution_count": null,
   "metadata": {
    "ExecuteTime": {
     "start_time": "2023-11-08T05:45:49.426977800Z"
    }
   },
   "outputs": [],
   "source": [
    "demo_backtest = factor_backtest.Factor_Backtest(existed_factors=existed_factor_train, testing_factors=new_factors_train,\n",
    "                                                factor_performance=factor_performance_train)"
   ]
  },
  {
   "cell_type": "code",
   "execution_count": null,
   "outputs": [],
   "source": [],
   "metadata": {
    "collapsed": false,
    "ExecuteTime": {
     "start_time": "2023-11-08T05:45:49.427996400Z"
    }
   }
  },
  {
   "cell_type": "code",
   "execution_count": null,
   "metadata": {
    "ExecuteTime": {
     "start_time": "2023-11-08T05:45:49.429978300Z"
    }
   },
   "outputs": [],
   "source": [
    "demo_backtest.run_testing()  # this will print out the in-sample performance of your factors"
   ]
  },
  {
   "cell_type": "code",
   "execution_count": null,
   "outputs": [],
   "source": [
    "demo_backtest.run_out_of_sample('s1_imbalance_signed_pow_opt', new_factors_test['s1_imbalance_signed_pow_opt'],df_test['target'].fillna(0))"
   ],
   "metadata": {
    "collapsed": false,
    "ExecuteTime": {
     "start_time": "2023-11-08T05:45:49.431977200Z"
    }
   }
  },
  {
   "cell_type": "code",
   "execution_count": null,
   "outputs": [],
   "source": [
    "from datetime import datetime"
   ],
   "metadata": {
    "collapsed": false,
    "ExecuteTime": {
     "start_time": "2023-11-08T05:45:49.433008900Z"
    }
   }
  },
  {
   "cell_type": "code",
   "execution_count": null,
   "outputs": [],
   "source": [
    "today=str(datetime.now().year)+str(datetime.now().month)+str(datetime.now().day)"
   ],
   "metadata": {
    "collapsed": false,
    "ExecuteTime": {
     "end_time": "2023-11-08T05:45:49.501975200Z",
     "start_time": "2023-11-08T05:45:49.433973800Z"
    }
   }
  },
  {
   "cell_type": "code",
   "execution_count": null,
   "outputs": [],
   "source": [
    "today"
   ],
   "metadata": {
    "collapsed": false,
    "ExecuteTime": {
     "start_time": "2023-11-08T05:45:49.435975800Z"
    }
   }
  },
  {
   "cell_type": "code",
   "execution_count": null,
   "outputs": [],
   "source": [
    "utils.dump_json_factors(new_factors_train,f'./out_of_sample/temp{today}.json')"
   ],
   "metadata": {
    "collapsed": false,
    "ExecuteTime": {
     "start_time": "2023-11-08T05:45:49.437976300Z"
    }
   }
  },
  {
   "cell_type": "markdown",
   "source": [
    "# locally update new factors"
   ],
   "metadata": {
    "collapsed": false
   }
  },
  {
   "cell_type": "code",
   "execution_count": null,
   "outputs": [],
   "source": [
    "utils.add_factor_to_existed()\n"
   ],
   "metadata": {
    "collapsed": false
   }
  },
  {
   "cell_type": "code",
   "execution_count": null,
   "outputs": [],
   "source": [],
   "metadata": {
    "collapsed": false
   }
  }
 ],
 "metadata": {
  "kernelspec": {
   "display_name": "Python 3",
   "language": "python",
   "name": "python3"
  },
  "language_info": {
   "codemirror_mode": {
    "name": "ipython",
    "version": 3
   },
   "file_extension": ".py",
   "mimetype": "text/x-python",
   "name": "python",
   "nbconvert_exporter": "python",
   "pygments_lexer": "ipython3",
   "version": "3.10.3"
  }
 },
 "nbformat": 4,
 "nbformat_minor": 2
}
