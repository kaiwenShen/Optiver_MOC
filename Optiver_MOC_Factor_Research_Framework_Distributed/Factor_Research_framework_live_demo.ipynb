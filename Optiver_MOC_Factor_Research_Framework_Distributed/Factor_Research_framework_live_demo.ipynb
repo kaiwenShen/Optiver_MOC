{
 "cells": [
  {
   "cell_type": "code",
   "execution_count": 14,
   "outputs": [
    {
     "name": "stdout",
     "output_type": "stream",
     "text": [
      "The autoreload extension is already loaded. To reload it, use:\n",
      "  %reload_ext autoreload\n"
     ]
    }
   ],
   "source": [
    "%load_ext autoreload\n",
    "%autoreload 2"
   ],
   "metadata": {
    "collapsed": false,
    "ExecuteTime": {
     "end_time": "2023-11-13T02:41:31.030998300Z",
     "start_time": "2023-11-13T02:41:30.831357800Z"
    }
   },
   "id": "2bf180466cd87bec"
  },
  {
   "cell_type": "code",
   "execution_count": 15,
   "id": "initial_id",
   "metadata": {
    "collapsed": true,
    "ExecuteTime": {
     "end_time": "2023-11-13T02:41:32.078506800Z",
     "start_time": "2023-11-13T02:41:31.980806700Z"
    }
   },
   "outputs": [],
   "source": [
    "from factor_design_distributed_ver1 import utils, factor_design, factor_backtest\n",
    "import pandas as pd\n",
    "import numpy as np\n",
    "from tqdm import tqdm"
   ]
  },
  {
   "cell_type": "markdown",
   "source": [
    "# load all relevant resources "
   ],
   "metadata": {
    "collapsed": false
   },
   "id": "b542ed2054a599ee"
  },
  {
   "cell_type": "code",
   "execution_count": 16,
   "outputs": [],
   "source": [
    "# play around the data \n",
    "df_train = pd.read_csv('./research_train_set.csv')\n",
    "\n",
    "# We built a index map to speed up the factor design, you don't need to worry about this.\n",
    "col2index_map = utils.load_json('./factor_design_distributed_ver1/col2index_map.json')\n",
    "# df_train in a dictionary format\n",
    "df_train_dic_sorted = utils.load_json('./factor_design_distributed_ver1/df_train_dic_sorted.json')"
   ],
   "metadata": {
    "collapsed": false,
    "ExecuteTime": {
     "end_time": "2023-11-13T02:43:50.709732100Z",
     "start_time": "2023-11-13T02:41:33.710728600Z"
    }
   },
   "id": "97dcee0440b70e46"
  },
  {
   "cell_type": "code",
   "execution_count": 19,
   "outputs": [
    {
     "name": "stdout",
     "output_type": "stream",
     "text": [
      "matching files: []\n",
      "No temporary files found, no new factors added, returning existed_factors\n"
     ]
    }
   ],
   "source": [
    "existed_factors = utils.add_factor_to_existed() # this function will add all temp files to the existed factor, then return the existed factor. usually take 1 min"
   ],
   "metadata": {
    "collapsed": false,
    "ExecuteTime": {
     "end_time": "2023-11-13T03:01:10.517752500Z",
     "start_time": "2023-11-13T03:00:44.462241800Z"
    }
   },
   "id": "25734fbcef6d5015"
  },
  {
   "cell_type": "code",
   "execution_count": 20,
   "outputs": [
    {
     "data": {
      "text/plain": "dict_keys(['origin_seconds_in_bucket', 'origin_imbalance_size', 'origin_imbalance_buy_sell_flag', 'origin_reference_price', 'origin_matched_size', 'origin_far_price', 'origin_near_price', 'origin_bid_price', 'origin_bid_size', 'origin_ask_price', 'origin_ask_size', 'origin_wap', 's1_imbalance_signed_pow_opt', 'stock_20s_ret_deviate_from_index', 'stock_40s_ret_deviate_from_index_rank_hedged_opt'])"
     },
     "execution_count": 20,
     "metadata": {},
     "output_type": "execute_result"
    }
   ],
   "source": [
    "existed_factors.keys()"
   ],
   "metadata": {
    "collapsed": false,
    "ExecuteTime": {
     "end_time": "2023-11-13T03:01:10.623021300Z",
     "start_time": "2023-11-13T03:01:10.496754200Z"
    }
   },
   "id": "3fedc6eecbaf5e07"
  },
  {
   "cell_type": "code",
   "execution_count": 5,
   "outputs": [],
   "source": [
    "factor_performance = utils.load_json('./factor_design_distributed_ver1/factor_performance.json')"
   ],
   "metadata": {
    "collapsed": false,
    "ExecuteTime": {
     "end_time": "2023-11-13T01:53:40.132873200Z",
     "start_time": "2023-11-13T01:53:40.038885300Z"
    }
   },
   "id": "4bb77ee75f71445b"
  },
  {
   "cell_type": "markdown",
   "source": [
    "# Factor Design"
   ],
   "metadata": {
    "collapsed": false
   },
   "id": "9f8634af9faa3143"
  },
  {
   "cell_type": "code",
   "execution_count": 6,
   "outputs": [],
   "source": [
    "# sample factor\n",
    "def s1_imbalance(current_data: dict, hist_list=[]) -> np.ndarray:\n",
    "    '''\n",
    "    This will be the main function to design your factors for the competition. Please\n",
    "    define only one factor here each time. We provide you with:\n",
    "\n",
    "    Current_data: a dictionary in the format of {column_name: column_value}, where column_name is from the original\n",
    "    dataframe\n",
    "\n",
    "    hist_list: A list for you to save the previous factor values (optional). For instance,\n",
    "    if you are calculating a 100-day Moving Average (MA), then you can save the first calculated\n",
    "    MA in hist_list, and then for the next MA calculation, you can use the saved ones.\n",
    "    '''\n",
    "    ###################### ADD YOUR CODE HERE FOR FACTORS DESIGN ######################\n",
    "    # convert the current_data to your choice of numpy or pandas dataframe\n",
    "    # current_data = pd.DataFrame(current_data)\n",
    "    current_data = np.array(list(current_data.values()),\n",
    "                            dtype=float).T  # this is faster than pd.DataFrame(current_data).values\n",
    "    res = (current_data[:, col2index_map['bid_size']] - current_data[:, col2index_map['ask_size']]) / \\\n",
    "          (current_data[:, col2index_map['bid_size']] + current_data[:, col2index_map['ask_size']])\n",
    "    ############################## NAN/Inf handling ######################################\n",
    "    # if you have nan in your factor value, please fill it reasonably\n",
    "    # res = np.nan_to_num(res) # this is slow because it also checks for inf.\n",
    "    # res = np.where(np.isnan(res), 0, res)  # this is slightly faster than np.nan_to_num\n",
    "    res[np.isnan(res)] = 0  # this is the fastest way to fill nan\n",
    "    ############################## END OF YOUR CODE ##############################\n",
    "    return -res  # The return value MUSE BE a numpy array, with no NaN value\n",
    "    ####################################################################################\n"
   ],
   "metadata": {
    "collapsed": false,
    "ExecuteTime": {
     "end_time": "2023-11-13T01:53:40.170559Z",
     "start_time": "2023-11-13T01:53:40.117874Z"
    }
   },
   "id": "425803454ed31a9e"
  },
  {
   "cell_type": "code",
   "execution_count": 7,
   "outputs": [],
   "source": [
    "new_factor_list = ['s1_imbalance']"
   ],
   "metadata": {
    "collapsed": false,
    "ExecuteTime": {
     "end_time": "2023-11-13T01:53:40.219098200Z",
     "start_time": "2023-11-13T01:53:40.169558800Z"
    }
   },
   "id": "66f3a820703afb47"
  },
  {
   "cell_type": "code",
   "execution_count": 8,
   "outputs": [
    {
     "name": "stderr",
     "output_type": "stream",
     "text": [
      "  0%|          | 0/1 [00:00<?, ?it/s]"
     ]
    },
    {
     "name": "stdout",
     "output_type": "stream",
     "text": [
      "Start calculating factor s1_imbalance\n",
      "Finished calculating factor s1_imbalance for 0 dates\n"
     ]
    },
    {
     "name": "stderr",
     "output_type": "stream",
     "text": [
      "C:\\Users\\kevin\\AppData\\Local\\Temp\\ipykernel_14860\\1115659932.py:19: RuntimeWarning: invalid value encountered in divide\n",
      "  res = (current_data[:, col2index_map['bid_size']] - current_data[:, col2index_map['ask_size']]) / \\\n"
     ]
    },
    {
     "name": "stdout",
     "output_type": "stream",
     "text": [
      "Finished calculating factor s1_imbalance for 100 dates\n",
      "Finished calculating factor s1_imbalance for 200 dates\n",
      "Finished calculating factor s1_imbalance for 300 dates\n",
      "Finished calculating factor s1_imbalance for 400 dates\n",
      "Accepted!!: Used 6.03 seconds for calculation factors. The limit is 300 seconds.\n"
     ]
    },
    {
     "name": "stderr",
     "output_type": "stream",
     "text": [
      "100%|██████████| 1/1 [00:06<00:00,  6.52s/it]\n"
     ]
    }
   ],
   "source": [
    "# DO NOT MODIFY THE FOLLOWING CODE\n",
    "# Run this cell once you want to calculate your factor values and prepare for the test of your factor performance!\n",
    "new_factors = {\n",
    "    factor_name: utils.flatten_factor_value(\n",
    "        factor_design.run_factor_value(df_train_dic_sorted, eval(factor_name), factor_name), factor_name)[factor_name]\n",
    "    for factor_name in tqdm(new_factor_list)}"
   ],
   "metadata": {
    "collapsed": false,
    "ExecuteTime": {
     "end_time": "2023-11-13T01:53:46.843369500Z",
     "start_time": "2023-11-13T01:53:40.221099600Z"
    }
   },
   "id": "cea1c44158146eaa"
  },
  {
   "cell_type": "code",
   "execution_count": 9,
   "outputs": [
    {
     "name": "stdout",
     "output_type": "stream",
     "text": [
      "s1_imbalance has correlation to target 0.11723116519487425\n"
     ]
    }
   ],
   "source": [
    "# check if all values in new_factor do not contain nan, no NA is allowed in the factor value\n",
    "for factor_name, factor_value in new_factors.items():\n",
    "    assert not np.isnan(factor_value).any(), f'{factor_name} contains nan'\n",
    "    assert not np.isinf(factor_value).any(), f'{factor_name} contains inf'\n",
    "    print(f'{factor_name} has correlation to target {np.corrcoef(factor_value, df_train[\"target\"].fillna(0))[0, 1]}')\n"
   ],
   "metadata": {
    "collapsed": false,
    "ExecuteTime": {
     "end_time": "2023-11-13T01:53:47.019852400Z",
     "start_time": "2023-11-13T01:53:46.844366600Z"
    }
   },
   "id": "3102f8699ab5e4d3"
  },
  {
   "cell_type": "code",
   "execution_count": 10,
   "outputs": [
    {
     "name": "stdout",
     "output_type": "stream",
     "text": [
      "s1_imbalance has correlation to s1_imbalance_signed_pow_opt 0.992082905345458\n",
      "    This existing factor have a correlation to target 0.11812815373942646\n",
      "Other factor has correlation to target < 0.4\n"
     ]
    }
   ],
   "source": [
    "# simple check for pairwise correlation\n",
    "for factor_name, factor_value in new_factors.items():\n",
    "    for existed_factor_name, existed_factor_value in existed_factors.items():\n",
    "        correlation = np.corrcoef(factor_value, existed_factor_value)[0, 1]\n",
    "        if correlation > 0.4:# if correlation with existing factor < 0.4, there is no penalty for this factor\n",
    "            print(f'{factor_name} has correlation to {existed_factor_name} {np.corrcoef(factor_value, existed_factor_value)[0, 1]}')\n",
    "            print(f'    This existing factor have a correlation to target {np.corrcoef(existed_factor_value, df_train[\"target\"].fillna(0))[0, 1]}')\n",
    "            break\n",
    "print('Other factor has correlation to target < 0.4')"
   ],
   "metadata": {
    "collapsed": false,
    "ExecuteTime": {
     "end_time": "2023-11-13T01:53:47.953398800Z",
     "start_time": "2023-11-13T01:53:47.023852Z"
    }
   },
   "id": "70d76511f4018e87"
  },
  {
   "cell_type": "markdown",
   "source": [
    "# Factor Backtesting"
   ],
   "metadata": {
    "collapsed": false
   },
   "id": "5ae6ff23be397586"
  },
  {
   "cell_type": "code",
   "execution_count": 11,
   "outputs": [],
   "source": [
    "demo_backtest = factor_backtest.Factor_Backtest(\n",
    "    existed_factors=existed_factors,\n",
    "    testing_factors=new_factors,\n",
    "    factor_performance=factor_performance\n",
    ")"
   ],
   "metadata": {
    "collapsed": false,
    "ExecuteTime": {
     "end_time": "2023-11-13T01:53:48.002947100Z",
     "start_time": "2023-11-13T01:53:47.954401700Z"
    }
   },
   "id": "73ef5c0409178a6"
  },
  {
   "cell_type": "code",
   "execution_count": 12,
   "outputs": [
    {
     "name": "stdout",
     "output_type": "stream",
     "text": [
      "\n",
      "Start testing factor: s1_imbalance..........\n",
      "==============================================================================================================\n",
      "\n",
      "_______________________________________Factor Performance_______________________________________________________\n",
      "Factor s1_imbalance PASSED in-sample performance check with correlation coefficient 0.11723116519487425\n",
      "\n",
      "___________________________________Factor pairwise Correlation__________________________________________________\n",
      "Factor s1_imbalance FAILED in-sample correlation check with factor s1_imbalance_signed_pow_opt, \n",
      "The pair have correlation 0.992082905345458\n",
      "This falls in type 2 threshold, >0.7\n",
      "\n",
      "The required performance is 1.2 times the old factor performance 0.11812815373942646 = 0.14175378448731174.\n",
      "Performance of the new factor now is  0.11723116519487425\n",
      "\n",
      "_______________________________________Factor Conclusion_______________________________________________________\n",
      "Factor s1_imbalance FAILED\n",
      "==============================================================================================================\n",
      "\n",
      "\n",
      "______________________________________Overall Conclusion________________________________________________________\n",
      "Factors passed all the tests: []\n",
      "Factors failed at least one of the tests: ['s1_imbalance']\n"
     ]
    }
   ],
   "source": [
    "demo_backtest.run_testing()"
   ],
   "metadata": {
    "collapsed": false,
    "ExecuteTime": {
     "end_time": "2023-11-13T01:53:48.948380200Z",
     "start_time": "2023-11-13T01:53:48.002947100Z"
    }
   },
   "id": "9214bd1148ba3755"
  }
 ],
 "metadata": {
  "kernelspec": {
   "display_name": "Python 3",
   "language": "python",
   "name": "python3"
  },
  "language_info": {
   "codemirror_mode": {
    "name": "ipython",
    "version": 2
   },
   "file_extension": ".py",
   "mimetype": "text/x-python",
   "name": "python",
   "nbconvert_exporter": "python",
   "pygments_lexer": "ipython2",
   "version": "2.7.6"
  }
 },
 "nbformat": 4,
 "nbformat_minor": 5
}
