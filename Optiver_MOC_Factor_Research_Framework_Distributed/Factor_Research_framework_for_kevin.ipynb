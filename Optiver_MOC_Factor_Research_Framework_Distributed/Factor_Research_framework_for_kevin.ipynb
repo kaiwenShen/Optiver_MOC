{
 "cells": [
  {
   "cell_type": "code",
   "execution_count": 66,
   "outputs": [
    {
     "name": "stdout",
     "output_type": "stream",
     "text": [
      "The autoreload extension is already loaded. To reload it, use:\n",
      "  %reload_ext autoreload\n"
     ]
    }
   ],
   "source": [
    "%load_ext autoreload\n",
    "%autoreload 2"
   ],
   "metadata": {
    "collapsed": false,
    "ExecuteTime": {
     "end_time": "2023-12-16T21:07:20.118572400Z",
     "start_time": "2023-12-16T21:07:19.773734200Z"
    }
   },
   "id": "2bf180466cd87bec"
  },
  {
   "cell_type": "code",
   "execution_count": 67,
   "id": "initial_id",
   "metadata": {
    "collapsed": true,
    "ExecuteTime": {
     "end_time": "2023-12-16T21:07:23.113632400Z",
     "start_time": "2023-12-16T21:07:23.005975500Z"
    }
   },
   "outputs": [],
   "source": [
    "from factor_design_distributed_ver1 import utils, factor_design, factor_backtest\n",
    "import pandas as pd\n",
    "import numpy as np\n",
    "from tqdm import tqdm"
   ]
  },
  {
   "cell_type": "markdown",
   "source": [
    "# load all relevant resources "
   ],
   "metadata": {
    "collapsed": false
   },
   "id": "b542ed2054a599ee"
  },
  {
   "cell_type": "code",
   "execution_count": 68,
   "outputs": [],
   "source": [
    "# play around the data \n",
    "df_train = pd.read_csv('./research_train_set.csv')\n",
    "\n",
    "# We built a index map to speed up the factor design, you don't need to worry about this.\n",
    "col2index_map = utils.load_json('./factor_design_distributed_ver1/col2index_map.json')\n",
    "# df_train in a dictionary format\n",
    "df_train_dic_sorted = utils.load_json('./factor_design_distributed_ver1/df_train_dic_sorted.json')"
   ],
   "metadata": {
    "collapsed": false,
    "ExecuteTime": {
     "end_time": "2023-12-16T21:08:46.864668300Z",
     "start_time": "2023-12-16T21:07:24.024077700Z"
    }
   },
   "id": "97dcee0440b70e46"
  },
  {
   "cell_type": "code",
   "execution_count": 71,
   "outputs": [
    {
     "name": "stdout",
     "output_type": "stream",
     "text": [
      "matching files: ['./factor_design_distributed_ver1\\\\tmp20231216.json']\n",
      "Factor price_pressure is a new factor, adding the value\n",
      "./factor_design_distributed_ver1\\tmp20231216.json added to existed_factors\n",
      "storing the updated existed_factors\n",
      "existed_factors updated, all temporary files deleted\n"
     ]
    }
   ],
   "source": [
    "existed_factors = utils.add_factor_to_existed() # this function will add all temp files to the existed factor, then return the existed factor. usually take 1 min"
   ],
   "metadata": {
    "collapsed": false,
    "ExecuteTime": {
     "end_time": "2023-12-16T21:14:58.250658900Z",
     "start_time": "2023-12-16T21:12:41.938475300Z"
    }
   },
   "id": "25734fbcef6d5015"
  },
  {
   "cell_type": "code",
   "execution_count": 72,
   "outputs": [
    {
     "data": {
      "text/plain": "dict_keys(['origin_seconds_in_bucket', 'origin_imbalance_size', 'origin_imbalance_buy_sell_flag', 'origin_reference_price', 'origin_matched_size', 'origin_far_price', 'origin_near_price', 'origin_bid_price', 'origin_bid_size', 'origin_ask_price', 'origin_ask_size', 'origin_wap', 's1_imbalance_signed_pow_opt', 'stock_20s_ret_deviate_from_index', 'stock_40s_ret_deviate_from_index_rank_hedged_opt', 'triplet_imbalance_bid_ask_wap_signed_pow_opt_hedged', 'price_pressure'])"
     },
     "execution_count": 72,
     "metadata": {},
     "output_type": "execute_result"
    }
   ],
   "source": [
    "existed_factors.keys()"
   ],
   "metadata": {
    "collapsed": false,
    "ExecuteTime": {
     "end_time": "2023-12-16T21:14:58.304886Z",
     "start_time": "2023-12-16T21:14:58.223627400Z"
    }
   },
   "id": "3fedc6eecbaf5e07"
  },
  {
   "cell_type": "code",
   "execution_count": 46,
   "outputs": [],
   "source": [
    "factor_performance = utils.load_json('./factor_design_distributed_ver1/factor_performance.json')"
   ],
   "metadata": {
    "collapsed": false,
    "ExecuteTime": {
     "end_time": "2023-12-16T09:33:53.880282500Z",
     "start_time": "2023-12-16T09:33:53.786268800Z"
    }
   },
   "id": "4bb77ee75f71445b"
  },
  {
   "cell_type": "markdown",
   "source": [
    "# Factor Design"
   ],
   "metadata": {
    "collapsed": false
   },
   "id": "9f8634af9faa3143"
  },
  {
   "cell_type": "code",
   "execution_count": 47,
   "outputs": [
    {
     "data": {
      "text/plain": "   stock_id  date_id  seconds_in_bucket  imbalance_size  \\\n0         0        0                  0      3180602.69   \n1         1        0                  0       166603.91   \n2         2        0                  0       302879.87   \n3         3        0                  0     11917682.27   \n4         4        0                  0       447549.96   \n\n   imbalance_buy_sell_flag  reference_price  matched_size  far_price  \\\n0                        1         0.999812   13380276.64        NaN   \n1                       -1         0.999896    1642214.25        NaN   \n2                       -1         0.999561    1819368.03        NaN   \n3                       -1         1.000171   18389745.62        NaN   \n4                       -1         0.999532   17860614.95        NaN   \n\n   near_price  bid_price  bid_size  ask_price   ask_size  wap    target  \\\n0         NaN   0.999812  60651.50   1.000026    8493.03  1.0 -3.029704   \n1         NaN   0.999896   3233.04   1.000660   20605.09  1.0 -5.519986   \n2         NaN   0.999403  37956.00   1.000298   18995.00  1.0 -8.389950   \n3         NaN   0.999999   2324.90   1.000214  479032.40  1.0 -4.010200   \n4         NaN   0.999394  16485.54   1.000016     434.10  1.0 -7.349849   \n\n   time_id row_id  \n0        0  0_0_0  \n1        0  0_0_1  \n2        0  0_0_2  \n3        0  0_0_3  \n4        0  0_0_4  ",
      "text/html": "<div>\n<style scoped>\n    .dataframe tbody tr th:only-of-type {\n        vertical-align: middle;\n    }\n\n    .dataframe tbody tr th {\n        vertical-align: top;\n    }\n\n    .dataframe thead th {\n        text-align: right;\n    }\n</style>\n<table border=\"1\" class=\"dataframe\">\n  <thead>\n    <tr style=\"text-align: right;\">\n      <th></th>\n      <th>stock_id</th>\n      <th>date_id</th>\n      <th>seconds_in_bucket</th>\n      <th>imbalance_size</th>\n      <th>imbalance_buy_sell_flag</th>\n      <th>reference_price</th>\n      <th>matched_size</th>\n      <th>far_price</th>\n      <th>near_price</th>\n      <th>bid_price</th>\n      <th>bid_size</th>\n      <th>ask_price</th>\n      <th>ask_size</th>\n      <th>wap</th>\n      <th>target</th>\n      <th>time_id</th>\n      <th>row_id</th>\n    </tr>\n  </thead>\n  <tbody>\n    <tr>\n      <th>0</th>\n      <td>0</td>\n      <td>0</td>\n      <td>0</td>\n      <td>3180602.69</td>\n      <td>1</td>\n      <td>0.999812</td>\n      <td>13380276.64</td>\n      <td>NaN</td>\n      <td>NaN</td>\n      <td>0.999812</td>\n      <td>60651.50</td>\n      <td>1.000026</td>\n      <td>8493.03</td>\n      <td>1.0</td>\n      <td>-3.029704</td>\n      <td>0</td>\n      <td>0_0_0</td>\n    </tr>\n    <tr>\n      <th>1</th>\n      <td>1</td>\n      <td>0</td>\n      <td>0</td>\n      <td>166603.91</td>\n      <td>-1</td>\n      <td>0.999896</td>\n      <td>1642214.25</td>\n      <td>NaN</td>\n      <td>NaN</td>\n      <td>0.999896</td>\n      <td>3233.04</td>\n      <td>1.000660</td>\n      <td>20605.09</td>\n      <td>1.0</td>\n      <td>-5.519986</td>\n      <td>0</td>\n      <td>0_0_1</td>\n    </tr>\n    <tr>\n      <th>2</th>\n      <td>2</td>\n      <td>0</td>\n      <td>0</td>\n      <td>302879.87</td>\n      <td>-1</td>\n      <td>0.999561</td>\n      <td>1819368.03</td>\n      <td>NaN</td>\n      <td>NaN</td>\n      <td>0.999403</td>\n      <td>37956.00</td>\n      <td>1.000298</td>\n      <td>18995.00</td>\n      <td>1.0</td>\n      <td>-8.389950</td>\n      <td>0</td>\n      <td>0_0_2</td>\n    </tr>\n    <tr>\n      <th>3</th>\n      <td>3</td>\n      <td>0</td>\n      <td>0</td>\n      <td>11917682.27</td>\n      <td>-1</td>\n      <td>1.000171</td>\n      <td>18389745.62</td>\n      <td>NaN</td>\n      <td>NaN</td>\n      <td>0.999999</td>\n      <td>2324.90</td>\n      <td>1.000214</td>\n      <td>479032.40</td>\n      <td>1.0</td>\n      <td>-4.010200</td>\n      <td>0</td>\n      <td>0_0_3</td>\n    </tr>\n    <tr>\n      <th>4</th>\n      <td>4</td>\n      <td>0</td>\n      <td>0</td>\n      <td>447549.96</td>\n      <td>-1</td>\n      <td>0.999532</td>\n      <td>17860614.95</td>\n      <td>NaN</td>\n      <td>NaN</td>\n      <td>0.999394</td>\n      <td>16485.54</td>\n      <td>1.000016</td>\n      <td>434.10</td>\n      <td>1.0</td>\n      <td>-7.349849</td>\n      <td>0</td>\n      <td>0_0_4</td>\n    </tr>\n  </tbody>\n</table>\n</div>"
     },
     "execution_count": 47,
     "metadata": {},
     "output_type": "execute_result"
    }
   ],
   "source": [
    "df_train.head()"
   ],
   "metadata": {
    "collapsed": false,
    "ExecuteTime": {
     "end_time": "2023-12-16T09:33:53.981433800Z",
     "start_time": "2023-12-16T09:33:53.856296600Z"
    }
   },
   "id": "eaa665b97cf248ec"
  },
  {
   "cell_type": "code",
   "execution_count": 48,
   "outputs": [],
   "source": [
    "def micro_price(current_data: dict,hist_list=[])->np.ndarray:\n",
    "    \"\"\"same logic as s1_imbalance, but only use matched volume\"\"\"\n",
    "    current_data = np.array(list(current_data.values()),\n",
    "                            dtype=float).T  # this is faster than pd.DataFrame(current_data).values\n",
    "    # print(current_data.shape)\n",
    "    res= (current_data[:,col2index_map['bid_price']]*current_data[:,col2index_map['ask_size']]+current_data[:,col2index_map['ask_price']]*current_data[:,col2index_map['bid_size']])/(current_data[:,col2index_map['ask_size']]+current_data[:,col2index_map['bid_size']])\n",
    "    res[np.isnan(res)] = 0  # this is the fastest way to fill nan\n",
    "    return -res  # The return value MUSE BE a numpy array, with no NaN value"
   ],
   "metadata": {
    "collapsed": false,
    "ExecuteTime": {
     "end_time": "2023-12-16T09:33:54.129413500Z",
     "start_time": "2023-12-16T09:33:53.988399Z"
    }
   },
   "id": "448f904a32b302c"
  },
  {
   "cell_type": "code",
   "execution_count": 49,
   "outputs": [],
   "source": [
    "def bid_ask_size(current_data: dict, hist_list=[]) -> np.ndarray:\n",
    "    '''\n",
    "    This will be the main function to design your factors for the competition. Please\n",
    "    define only one factor here each time. We provide you with:\n",
    "\n",
    "    Current_data: a dictionary in the format of {column_name: column_value}, where column_name is from the original\n",
    "    dataframe\n",
    "\n",
    "    hist_list: A list for you to save the previous factor values (optional). For instance,\n",
    "    if you are calculating a 100-day Moving Average (MA), then you can save the first calculated\n",
    "    MA in hist_list, and then for the next MA calculation, you can use the saved ones.\n",
    "    '''\n",
    "    ###################### ADD YOUR CODE HERE FOR FACTORS DESIGN ######################\n",
    "    # convert the current_data to your choice of numpy or pandas dataframe\n",
    "    # current_data = pd.DataFrame(current_data)\n",
    "    current_data = np.array(list(current_data.values()),\n",
    "                            dtype=float).T  # this is faster than pd.DataFrame(current_data).values\n",
    "    res = (current_data[:, col2index_map['bid_size']] - current_data[:, col2index_map['ask_size']])\n",
    "    ############################## NAN/Inf handling ######################################\n",
    "    # if you have nan in your factor value, please fill it reasonably\n",
    "    # res = np.nan_to_num(res) # this is slow because it also checks for inf.\n",
    "    # res = np.where(np.isnan(res), 0, res)  # this is slightly faster than np.nan_to_num\n",
    "    res[np.isnan(res)] = 0  # this is the fastest way to fill nan\n",
    "    ############################## END OF YOUR CODE ##############################\n",
    "    return res  # The return value MUSE BE a numpy array, with no NaN value\n",
    "    # reason: s1_imbalance have most information in sign, sign can be think of as sign*abs**0. we optimize the power and get 1.424 as the best\n",
    "    ####################################################################################\n"
   ],
   "metadata": {
    "collapsed": false,
    "ExecuteTime": {
     "end_time": "2023-12-16T09:33:54.228282200Z",
     "start_time": "2023-12-16T09:33:54.061047500Z"
    }
   },
   "id": "db7f4161b4c3e07"
  },
  {
   "cell_type": "code",
   "execution_count": 59,
   "outputs": [],
   "source": [
    "def triplet_imbalance_bid_ask_wap_signed_pow_opt_hedged(current_data: dict,hist_list=[])->np.ndarray:\n",
    "    def triplet_imbalance_cal(data,col):\n",
    "        assert len(col)==3\n",
    "        temp= np.vstack([data[:,col2index_map[col[0]]],data[:,col2index_map[col[1]]],data[:,col2index_map[col[2]]]])\n",
    "        max_val = np.max(temp,axis=0)\n",
    "        min_val = np.min(temp,axis=0)\n",
    "        mid_val = np.sum(temp,axis=0)-max_val-min_val\n",
    "        \n",
    "        # print(max_val.shape)\n",
    "        return (max_val-mid_val)/(max_val+mid_val+min_val)\n",
    "    current_data = np.array(list(current_data.values()),\n",
    "                            dtype=float).T  # this is faster than pd.DataFrame(current_data).values\n",
    "    res = triplet_imbalance_cal(current_data,['bid_price','ask_price','wap'])\n",
    "    res = np.sign(res)*np.abs(res)**0.65\n",
    "    s1_imbalance = np.sign(current_data[:, col2index_map['ask_size']] - current_data[:, col2index_map['bid_size']])\n",
    "    s1_imbalance[np.isnan(s1_imbalance)] = 0  # this is the fastest w to fill nan\n",
    "    # res = utils.ols_res(s1_imbalance,res,0.5) # The return value MUSE BE a numpy array, with no NaN value\n",
    "    res[np.isnan(res)] = 0  # this is the fastest way to fill nan\n",
    "    return res"
   ],
   "metadata": {
    "collapsed": false,
    "ExecuteTime": {
     "end_time": "2023-12-16T09:44:48.046630400Z",
     "start_time": "2023-12-16T09:44:47.901515500Z"
    }
   },
   "id": "2aff47890b4f2805"
  },
  {
   "cell_type": "code",
   "execution_count": 52,
   "outputs": [],
   "source": [
    "def s1_imbalance(current_data: dict, hist_list=[]) -> np.ndarray:\n",
    "    '''\n",
    "    This will be the main function to design your factors for the competition. Please\n",
    "    define only one factor here each time. We provide you with:\n",
    "\n",
    "    Current_data: a dictionary in the format of {column_name: column_value}, where column_name is from the original\n",
    "    dataframe\n",
    "\n",
    "    hist_list: A list for you to save the previous factor values (optional). For instance,\n",
    "    if you are calculating a 100-day Moving Average (MA), then you can save the first calculated\n",
    "    MA in hist_list, and then for the next MA calculation, you can use the saved ones.\n",
    "    '''\n",
    "    ###################### ADD YOUR CODE HERE FOR FACTORS DESIGN ######################\n",
    "    # convert the current_data to your choice of numpy or pandas dataframe\n",
    "    # current_data = pd.DataFrame(current_data)\n",
    "    current_data = np.array(list(current_data.values()),\n",
    "                            dtype=float).T  # this is faster than pd.DataFrame(current_data).values\n",
    "    res = (current_data[:, col2index_map['bid_size']] - current_data[:, col2index_map['ask_size']]) \n",
    "    ############################## NAN/Inf handling ######################################\n",
    "    # if you have nan in your factor value, please fill it reasonably\n",
    "    # res = np.nan_to_num(res) # this is slow because it also checks for inf.\n",
    "    # res = np.where(np.isnan(res), 0, res)  # this is slightly faster than np.nan_to_num\n",
    "    res[np.isnan(res)] = 0  # this is the fastest way to fill nan\n",
    "    ############################## END OF YOUR CODE ##############################\n",
    "    return np.sign(-res)  # The return value MUSE BE a numpy array, with no NaN value\n",
    "    ####################################################################################\n"
   ],
   "metadata": {
    "collapsed": false,
    "ExecuteTime": {
     "end_time": "2023-12-16T09:33:54.419164400Z",
     "start_time": "2023-12-16T09:33:54.290631900Z"
    }
   },
   "id": "7277200190b75d1f"
  },
  {
   "cell_type": "code",
   "execution_count": 60,
   "outputs": [],
   "source": [
    "new_factor_list = ['triplet_imbalance_bid_ask_wap_signed_pow_opt_hedged']"
   ],
   "metadata": {
    "collapsed": false,
    "ExecuteTime": {
     "end_time": "2023-12-16T09:44:49.885114100Z",
     "start_time": "2023-12-16T09:44:49.815918100Z"
    }
   },
   "id": "66f3a820703afb47"
  },
  {
   "cell_type": "code",
   "execution_count": 61,
   "outputs": [
    {
     "name": "stderr",
     "output_type": "stream",
     "text": [
      "  0%|          | 0/1 [00:00<?, ?it/s]"
     ]
    },
    {
     "name": "stdout",
     "output_type": "stream",
     "text": [
      "Start calculating factor triplet_imbalance_bid_ask_wap_signed_pow_opt_hedged\n",
      "Finished calculating factor triplet_imbalance_bid_ask_wap_signed_pow_opt_hedged for 0 dates\n",
      "Finished calculating factor triplet_imbalance_bid_ask_wap_signed_pow_opt_hedged for 100 dates\n",
      "Finished calculating factor triplet_imbalance_bid_ask_wap_signed_pow_opt_hedged for 200 dates\n",
      "Finished calculating factor triplet_imbalance_bid_ask_wap_signed_pow_opt_hedged for 300 dates\n",
      "Finished calculating factor triplet_imbalance_bid_ask_wap_signed_pow_opt_hedged for 400 dates\n",
      "Accepted!!: Used 18.35 seconds for calculation factors. The limit is 300 seconds.\n"
     ]
    },
    {
     "name": "stderr",
     "output_type": "stream",
     "text": [
      "100%|██████████| 1/1 [00:19<00:00, 19.40s/it]\n"
     ]
    }
   ],
   "source": [
    "# DO NOT MODIFY THE FOLLOWING CODE\n",
    "# Run this cell once you want to calculate your factor values and prepare for the test of your factor performance!\n",
    "new_factors = {\n",
    "    factor_name: utils.flatten_factor_value(\n",
    "        factor_design.run_factor_value(df_train_dic_sorted, eval(factor_name), factor_name), factor_name)[factor_name]\n",
    "    for factor_name in tqdm(new_factor_list)}"
   ],
   "metadata": {
    "collapsed": false,
    "ExecuteTime": {
     "end_time": "2023-12-16T09:45:09.878283300Z",
     "start_time": "2023-12-16T09:44:50.367267800Z"
    }
   },
   "id": "cea1c44158146eaa"
  },
  {
   "cell_type": "code",
   "execution_count": 62,
   "outputs": [
    {
     "name": "stdout",
     "output_type": "stream",
     "text": [
      "triplet_imbalance_bid_ask_wap_signed_pow_opt_hedged has correlation to target 0.10468547554709652\n"
     ]
    }
   ],
   "source": [
    "# check if all values in new_factor do not contain nan, no NA is allowed in the factor value\n",
    "for factor_name, factor_value in new_factors.items():\n",
    "    assert not np.isnan(factor_value).any(), f'{factor_name} contains nan'\n",
    "    assert not np.isinf(factor_value).any(), f'{factor_name} contains inf'\n",
    "    print(f'{factor_name} has correlation to target {np.corrcoef(factor_value, df_train[\"target\"].fillna(0))[0, 1]}')\n"
   ],
   "metadata": {
    "collapsed": false,
    "ExecuteTime": {
     "end_time": "2023-12-16T09:45:10.275791100Z",
     "start_time": "2023-12-16T09:45:09.884250500Z"
    }
   },
   "id": "3102f8699ab5e4d3"
  },
  {
   "cell_type": "code",
   "execution_count": 63,
   "outputs": [
    {
     "name": "stdout",
     "output_type": "stream",
     "text": [
      "triplet_imbalance_bid_ask_wap_signed_pow_opt_hedged has correlation to s1_imbalance_signed_pow_opt 0.5653820461585352\n",
      "    This existing factor have a correlation to target 0.11812815373942646\n",
      "Other factors passed pairwise correlation < 0.4 requirement\n"
     ]
    }
   ],
   "source": [
    "# simple check for pairwise correlation\n",
    "for factor_name, factor_value in new_factors.items():\n",
    "    for existed_factor_name, existed_factor_value in existed_factors.items():\n",
    "        correlation = np.corrcoef(factor_value, existed_factor_value)[0, 1]\n",
    "        if correlation > 0.4:# if correlation with existing factor < 0.4, there is no penalty for this factor\n",
    "            print(f'{factor_name} has correlation to {existed_factor_name} {np.corrcoef(factor_value, existed_factor_value)[0, 1]}')\n",
    "            print(f'    This existing factor have a correlation to target {np.corrcoef(existed_factor_value, df_train[\"target\"].fillna(0))[0, 1]}')\n",
    "            break\n",
    "print('Other factors passed pairwise correlation < 0.4 requirement')"
   ],
   "metadata": {
    "collapsed": false,
    "ExecuteTime": {
     "end_time": "2023-12-16T09:45:13.105343500Z",
     "start_time": "2023-12-16T09:45:10.248792400Z"
    }
   },
   "id": "70d76511f4018e87"
  },
  {
   "cell_type": "markdown",
   "source": [
    "# Improving factor"
   ],
   "metadata": {
    "collapsed": false
   },
   "id": "5f507767d5e1b3b1"
  },
  {
   "cell_type": "markdown",
   "source": [
    "### signed power optimization"
   ],
   "metadata": {
    "collapsed": false
   },
   "id": "8d173883d2f675bf"
  },
  {
   "cell_type": "code",
   "execution_count": 17,
   "outputs": [],
   "source": [
    "import matplotlib.pyplot as plt"
   ],
   "metadata": {
    "collapsed": false,
    "ExecuteTime": {
     "end_time": "2023-12-16T09:27:21.058186Z",
     "start_time": "2023-12-16T09:27:20.370019Z"
    }
   },
   "id": "de2a68adbba7e7fb"
  },
  {
   "cell_type": "code",
   "execution_count": 18,
   "outputs": [
    {
     "ename": "KeyError",
     "evalue": "'triplet_imbalance_price'",
     "output_type": "error",
     "traceback": [
      "\u001B[1;31m---------------------------------------------------------------------------\u001B[0m",
      "\u001B[1;31mKeyError\u001B[0m                                  Traceback (most recent call last)",
      "Cell \u001B[1;32mIn[18], line 1\u001B[0m\n\u001B[1;32m----> 1\u001B[0m np\u001B[38;5;241m.\u001B[39mcorrcoef(np\u001B[38;5;241m.\u001B[39msign(\u001B[43mnew_factors\u001B[49m\u001B[43m[\u001B[49m\u001B[38;5;124;43m'\u001B[39;49m\u001B[38;5;124;43mtriplet_imbalance_price\u001B[39;49m\u001B[38;5;124;43m'\u001B[39;49m\u001B[43m]\u001B[49m),df_train[\u001B[38;5;124m'\u001B[39m\u001B[38;5;124mtarget\u001B[39m\u001B[38;5;124m'\u001B[39m]\u001B[38;5;241m.\u001B[39mfillna(\u001B[38;5;241m0\u001B[39m))[\u001B[38;5;241m0\u001B[39m,\u001B[38;5;241m1\u001B[39m]\n",
      "\u001B[1;31mKeyError\u001B[0m: 'triplet_imbalance_price'"
     ]
    }
   ],
   "source": [
    "np.corrcoef(np.sign(new_factors['triplet_imbalance_price']),df_train['target'].fillna(0))[0,1]"
   ],
   "metadata": {
    "collapsed": false,
    "ExecuteTime": {
     "end_time": "2023-12-16T09:27:21.639710400Z",
     "start_time": "2023-12-16T09:27:21.060186700Z"
    }
   },
   "id": "cac56a671328dd6c"
  },
  {
   "cell_type": "code",
   "execution_count": null,
   "outputs": [],
   "source": [
    "opt = [np.corrcoef(np.sign(new_factors['triplet_imbalance_price'])*np.abs(new_factors['triplet_imbalance_price'])**i,df_train['target'].fillna(0))[0,1] for i in np.linspace(0.05,5,100)]\n",
    "plt.plot(np.linspace(0.05,5,100),opt)"
   ],
   "metadata": {
    "collapsed": false,
    "ExecuteTime": {
     "end_time": "2023-12-16T09:27:21.646712400Z",
     "start_time": "2023-12-16T09:27:21.641708200Z"
    }
   },
   "id": "27274722fb19c094"
  },
  {
   "cell_type": "code",
   "execution_count": null,
   "outputs": [],
   "source": [
    "max(opt)"
   ],
   "metadata": {
    "collapsed": false,
    "ExecuteTime": {
     "start_time": "2023-12-16T09:27:21.645708800Z"
    }
   },
   "id": "6d1175a1093096bd"
  },
  {
   "cell_type": "code",
   "execution_count": null,
   "outputs": [],
   "source": [
    "np.linspace(0.05,5,100)[np.argmax(opt)]"
   ],
   "metadata": {
    "collapsed": false,
    "ExecuteTime": {
     "end_time": "2023-12-16T09:27:21.648712200Z",
     "start_time": "2023-12-16T09:27:21.647711700Z"
    }
   },
   "id": "23dfa0970638ef11"
  },
  {
   "cell_type": "markdown",
   "source": [
    "### hedging"
   ],
   "metadata": {
    "collapsed": false
   },
   "id": "eea351023e61431a"
  },
  {
   "cell_type": "code",
   "execution_count": null,
   "outputs": [],
   "source": [
    "opt = [utils.ols_res(np.sign(new_factors['s1_imbalance']),new_factors['triplet_imbalance_bid_ask_wap_signed_pow_opt_hedged'],i) for i in np.linspace(0.05,1,50)]\n",
    "performance_opt = [np.corrcoef(item,df_train['target'].fillna(0))[0,1] for item in opt]\n",
    "pairwise_opt = [np.corrcoef(item,np.sign(new_factors['s1_imbalance']))[0,1] for item in opt]"
   ],
   "metadata": {
    "collapsed": false,
    "ExecuteTime": {
     "start_time": "2023-12-16T09:27:21.649712Z"
    }
   },
   "id": "53cb6d7546f0a25a"
  },
  {
   "cell_type": "code",
   "execution_count": null,
   "outputs": [],
   "source": [
    "plt.plot(np.linspace(0.05,1,50),performance_opt,label='performance')\n",
    "plt.plot(np.linspace(0.05,1,50),pairwise_opt,label='pairwise')\n",
    "plt.legend()\n",
    "plt.hlines(0.4,0,1,linestyles='dashed',colors='r')\n",
    "plt.hlines(0.05,0,1,linestyles='dashed',colors='r')\n",
    "plt.show()"
   ],
   "metadata": {
    "collapsed": false,
    "ExecuteTime": {
     "start_time": "2023-12-16T09:27:21.652715600Z"
    }
   },
   "id": "4297c7bdeb1faed4"
  },
  {
   "cell_type": "code",
   "execution_count": null,
   "outputs": [],
   "source": [
    "np.abs(np.array(pairwise_opt)-0.4)"
   ],
   "metadata": {
    "collapsed": false,
    "ExecuteTime": {
     "end_time": "2023-12-16T09:27:21.667707700Z",
     "start_time": "2023-12-16T09:27:21.654714200Z"
    }
   },
   "id": "13d4f92d716b0d4a"
  },
  {
   "cell_type": "code",
   "execution_count": null,
   "outputs": [],
   "source": [
    "np.linspace(0.05,1,50)[np.argmin(np.abs(np.array(pairwise_opt)-0.4))]"
   ],
   "metadata": {
    "collapsed": false,
    "ExecuteTime": {
     "start_time": "2023-12-16T09:27:21.656712Z"
    }
   },
   "id": "4ee5eba7ae8126f3"
  },
  {
   "cell_type": "markdown",
   "source": [
    "# Factor Backtesting"
   ],
   "metadata": {
    "collapsed": false
   },
   "id": "5ae6ff23be397586"
  },
  {
   "cell_type": "code",
   "execution_count": 64,
   "outputs": [],
   "source": [
    "demo_backtest = factor_backtest.Factor_Backtest(\n",
    "    existed_factors=existed_factors,\n",
    "    testing_factors=new_factors,\n",
    "    factor_performance=factor_performance\n",
    ")"
   ],
   "metadata": {
    "collapsed": false,
    "ExecuteTime": {
     "end_time": "2023-12-16T09:45:21.659069900Z",
     "start_time": "2023-12-16T09:45:21.591555900Z"
    }
   },
   "id": "73ef5c0409178a6"
  },
  {
   "cell_type": "code",
   "execution_count": 65,
   "outputs": [
    {
     "name": "stdout",
     "output_type": "stream",
     "text": [
      "\n",
      "Start testing factor: triplet_imbalance_bid_ask_wap_signed_pow_opt_hedged..........\n",
      "==============================================================================================================\n",
      "\n",
      "_______________________________________Factor Performance_______________________________________________________\n",
      "Factor triplet_imbalance_bid_ask_wap_signed_pow_opt_hedged PASSED in-sample performance check with correlation coefficient 0.10468547554709652\n",
      "\n",
      "___________________________________Factor pairwise Correlation__________________________________________________\n",
      "Factor triplet_imbalance_bid_ask_wap_signed_pow_opt_hedged PASSED in-sample pairwise correlation check with all existed factors\n",
      "______________________________________________________________________________________________\n",
      "\n",
      "_______________________________________Factor Conclusion_______________________________________________________\n",
      "Factor triplet_imbalance_bid_ask_wap_signed_pow_opt_hedged PASSED\n",
      "==============================================================================================================\n",
      "\n",
      "\n",
      "______________________________________Overall Conclusion________________________________________________________\n",
      "Factors passed all the tests: ['triplet_imbalance_bid_ask_wap_signed_pow_opt_hedged']\n",
      "Factors failed at least one of the tests: []\n"
     ]
    }
   ],
   "source": [
    "demo_backtest.run_testing()"
   ],
   "metadata": {
    "collapsed": false,
    "ExecuteTime": {
     "end_time": "2023-12-16T09:45:24.000740400Z",
     "start_time": "2023-12-16T09:45:22.149173500Z"
    }
   },
   "id": "9214bd1148ba3755"
  }
 ],
 "metadata": {
  "kernelspec": {
   "display_name": "Python 3",
   "language": "python",
   "name": "python3"
  },
  "language_info": {
   "codemirror_mode": {
    "name": "ipython",
    "version": 2
   },
   "file_extension": ".py",
   "mimetype": "text/x-python",
   "name": "python",
   "nbconvert_exporter": "python",
   "pygments_lexer": "ipython2",
   "version": "2.7.6"
  }
 },
 "nbformat": 4,
 "nbformat_minor": 5
}
