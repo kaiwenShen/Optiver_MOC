{
 "cells": [
  {
   "cell_type": "code",
   "execution_count": 23,
   "metadata": {
    "ExecuteTime": {
     "end_time": "2023-12-16T09:46:04.525904900Z",
     "start_time": "2023-12-16T09:46:04.305426700Z"
    }
   },
   "outputs": [
    {
     "name": "stdout",
     "output_type": "stream",
     "text": [
      "The autoreload extension is already loaded. To reload it, use:\n",
      "  %reload_ext autoreload\n"
     ]
    }
   ],
   "source": [
    "%load_ext autoreload\n",
    "%autoreload 2"
   ]
  },
  {
   "cell_type": "code",
   "execution_count": 24,
   "metadata": {
    "ExecuteTime": {
     "end_time": "2023-12-16T09:46:04.686030400Z",
     "start_time": "2023-12-16T09:46:04.491883Z"
    }
   },
   "outputs": [],
   "source": [
    "# We will import the necessary libraries here. You can import any librariese you need for your beautiful factors!\n",
    "from in_house_validation import utils, factor_design, factor_backtest\n",
    "import numpy as np\n",
    "import pandas as pd\n",
    "from tqdm import tqdm\n",
    "import queue\n",
    "from scipy.stats import stats"
   ]
  },
  {
   "cell_type": "markdown",
   "metadata": {},
   "source": [
    "# Load data"
   ]
  },
  {
   "cell_type": "code",
   "execution_count": 25,
   "outputs": [],
   "source": [
    "df_train = pd.read_csv('research_train_set.csv')\n",
    "df_test = pd.read_csv('research_test_set.csv')"
   ],
   "metadata": {
    "collapsed": false,
    "ExecuteTime": {
     "end_time": "2023-12-16T09:46:16.345854700Z",
     "start_time": "2023-12-16T09:46:04.582040900Z"
    }
   }
  },
  {
   "cell_type": "code",
   "execution_count": 26,
   "outputs": [],
   "source": [
    "col2index_map = utils.load_json('./in_house_validation/col2index_map.json')"
   ],
   "metadata": {
    "collapsed": false,
    "ExecuteTime": {
     "end_time": "2023-12-16T09:46:16.437774800Z",
     "start_time": "2023-12-16T09:46:16.347854100Z"
    }
   }
  },
  {
   "cell_type": "code",
   "execution_count": 27,
   "outputs": [],
   "source": [
    "df_train_dic_sorted = utils.load_json('./in_house_validation/df_train_dic_sorted.json')\n",
    "df_test_dic_sorted = utils.load_json('./in_house_validation/test_data_dic_sorted.json')"
   ],
   "metadata": {
    "collapsed": false,
    "ExecuteTime": {
     "end_time": "2023-12-16T09:47:39.537869200Z",
     "start_time": "2023-12-16T09:46:16.438775700Z"
    }
   }
  },
  {
   "cell_type": "code",
   "execution_count": 28,
   "outputs": [],
   "source": [
    "existed_factor_train = utils.load_json('./in_house_validation/existed_factors.json')\n",
    "existed_factor_test = utils.load_json('./in_house_validation/existed_factor_test.json')"
   ],
   "metadata": {
    "collapsed": false,
    "ExecuteTime": {
     "end_time": "2023-12-16T09:48:07.545312900Z",
     "start_time": "2023-12-16T09:47:39.540869600Z"
    }
   }
  },
  {
   "cell_type": "code",
   "execution_count": 29,
   "outputs": [],
   "source": [
    "factor_performance_train = utils.load_json('./in_house_validation/factor_performance.json')\n",
    "factor_performance_test = utils.load_json('./in_house_validation/factor_performance_test.json')"
   ],
   "metadata": {
    "collapsed": false,
    "ExecuteTime": {
     "end_time": "2023-12-16T09:48:07.643368600Z",
     "start_time": "2023-12-16T09:48:07.549316400Z"
    }
   }
  },
  {
   "cell_type": "markdown",
   "source": [
    "# New factor here"
   ],
   "metadata": {
    "collapsed": false
   }
  },
  {
   "cell_type": "code",
   "execution_count": 30,
   "outputs": [],
   "source": [
    "def s1_imbalance_signed_pow_opt(current_data: dict, hist_list=[]) -> np.ndarray:\n",
    "    '''\n",
    "    This will be the main function to design your factors for the competition. Please\n",
    "    define only one factor here each time. We provide you with:\n",
    "\n",
    "    Current_data: a dictionary in the format of {column_name: column_value}, where column_name is from the original\n",
    "    dataframe\n",
    "\n",
    "    hist_list: A list for you to save the previous factor values (optional). For instance,\n",
    "    if you are calculating a 100-day Moving Average (MA), then you can save the first calculated\n",
    "    MA in hist_list, and then for the next MA calculation, you can use the saved ones.\n",
    "    '''\n",
    "    ###################### ADD YOUR CODE HERE FOR FACTORS DESIGN ######################\n",
    "    # convert the current_data to your choice of numpy or pandas dataframe\n",
    "    # current_data = pd.DataFrame(current_data)\n",
    "    current_data = np.array(list(current_data.values()),\n",
    "                            dtype=float).T  # this is faster than pd.DataFrame(current_data).values\n",
    "    res = (current_data[:, col2index_map['bid_size']] - current_data[:, col2index_map['ask_size']]) / \\\n",
    "          (current_data[:, col2index_map['bid_size']] + current_data[:, col2index_map['ask_size']])\n",
    "    ############################## NAN/Inf handling ######################################\n",
    "    # if you have nan in your factor value, please fill it reasonably\n",
    "    # res = np.nan_to_num(res) # this is slow because it also checks for inf.\n",
    "    # res = np.where(np.isnan(res), 0, res)  # this is slightly faster than np.nan_to_num\n",
    "    res[np.isnan(res)] = 0  # this is the fastest way to fill nan\n",
    "    ############################## END OF YOUR CODE ##############################\n",
    "    return np.sign(-res) * np.abs(\n",
    "        res) ** 1.4242424242424243  # The return value MUSE BE a numpy array, with no NaN value\n",
    "    # reason: s1_imbalance have most information in sign, sign can be think of as sign*abs**0. we optimize the power and get 1.424 as the best\n",
    "    ####################################################################################\n"
   ],
   "metadata": {
    "collapsed": false,
    "ExecuteTime": {
     "end_time": "2023-12-16T09:48:07.760583100Z",
     "start_time": "2023-12-16T09:48:07.655382400Z"
    }
   }
  },
  {
   "cell_type": "code",
   "execution_count": 31,
   "outputs": [],
   "source": [
    "def past_10s_ret(current_data: dict, hist_list=[]):\n",
    "    current_data = np.array(list(current_data.values()),\n",
    "                            dtype=float).T  # this is faster than pd.DataFrame(current_data).values\n",
    "    current_time = current_data[0, col2index_map['seconds_in_bucket']]\n",
    "    current_wap = current_data[:, col2index_map['wap']]\n",
    "    if current_time < 10:\n",
    "        if len(hist_list) == 0:\n",
    "            hist_list.append(\n",
    "                queue.Queue())  # if we directly claim hist_list = [queue.Queue()], it will be a local variable\n",
    "        else:\n",
    "            hist_list[0].queue.clear()\n",
    "        hist_list[0].put(current_wap)\n",
    "        res = np.zeros(current_wap.shape)\n",
    "    else:\n",
    "        hist_list[0].put(current_wap)\n",
    "        # calculate the past 60s return\n",
    "        past_wap = hist_list[0].get()\n",
    "        res = (current_wap - past_wap) / past_wap\n",
    "    res[np.isnan(res)] = 0  # this is the easiest way to fill nan\n",
    "    return -res"
   ],
   "metadata": {
    "collapsed": false,
    "ExecuteTime": {
     "end_time": "2023-12-16T09:48:08.521429200Z",
     "start_time": "2023-12-16T09:48:07.750582600Z"
    }
   }
  },
  {
   "cell_type": "code",
   "execution_count": 32,
   "outputs": [],
   "source": [
    "def past_30s_ret_rank(current_data: dict, hist_list=[]):\n",
    "    current_data = np.array(list(current_data.values()),\n",
    "                            dtype=float).T  # this is faster than pd.DataFrame(current_data).values\n",
    "    current_time = current_data[0, col2index_map['seconds_in_bucket']]\n",
    "    current_wap = current_data[:, col2index_map['wap']]\n",
    "    if current_time < 30:\n",
    "        if current_time == 0:\n",
    "            if len(hist_list) == 0:\n",
    "                hist_list.append(queue.Queue())\n",
    "            else:\n",
    "                hist_list[0].queue.clear()\n",
    "        hist_list[0].put(current_wap)\n",
    "        res = np.zeros(current_wap.shape)\n",
    "    else:\n",
    "        hist_list[0].put(current_wap)\n",
    "        # calculate the past 60s return\n",
    "        past_wap = hist_list[0].get()\n",
    "        res = (current_wap - past_wap) / past_wap\n",
    "    res[np.isnan(res)] = 0  # this is the easiest way to fill nan\n",
    "    return -stats.rankdata(res, method='min') / (len(res) + 1)"
   ],
   "metadata": {
    "collapsed": false,
    "ExecuteTime": {
     "end_time": "2023-12-16T09:48:08.597995700Z",
     "start_time": "2023-12-16T09:48:08.526433700Z"
    }
   }
  },
  {
   "cell_type": "code",
   "execution_count": 33,
   "outputs": [],
   "source": [
    "def stock_20s_ret_deviate_from_index(current_data: dict, hist_list=[]):\n",
    "    current_data = np.array(list(current_data.values()),\n",
    "                            dtype=float).T  # this is faster than pd.DataFrame(current_data).values\n",
    "    current_time = current_data[0, col2index_map['seconds_in_bucket']]\n",
    "    current_wap = current_data[:, col2index_map['wap']]\n",
    "    if len(hist_list) == 0:\n",
    "        hist_list.append([\n",
    "            0.004, 0.001, 0.002, 0.006, 0.004, 0.004, 0.002, 0.006, 0.006, 0.002, 0.002, 0.008,\n",
    "            0.006, 0.002, 0.008, 0.006, 0.002, 0.006, 0.004, 0.002, 0.004, 0.001, 0.006, 0.004,\n",
    "            0.002, 0.002, 0.004, 0.002, 0.004, 0.004, 0.001, 0.001, 0.002, 0.002, 0.006, 0.004,\n",
    "            0.004, 0.004, 0.006, 0.002, 0.002, 0.04, 0.002, 0.002, 0.004, 0.04, 0.002, 0.001,\n",
    "            0.006, 0.004, 0.004, 0.006, 0.001, 0.004, 0.004, 0.002, 0.006, 0.004, 0.006, 0.004,\n",
    "            0.006, 0.004, 0.002, 0.001, 0.002, 0.004, 0.002, 0.008, 0.004, 0.004, 0.002, 0.004,\n",
    "            0.006, 0.002, 0.004, 0.004, 0.002, 0.004, 0.004, 0.004, 0.001, 0.002, 0.002, 0.008,\n",
    "            0.02, 0.004, 0.006, 0.002, 0.02, 0.002, 0.002, 0.006, 0.004, 0.002, 0.001, 0.02,\n",
    "            0.006, 0.001, 0.002, 0.004, 0.001, 0.002, 0.006, 0.006, 0.004, 0.006, 0.001, 0.002,\n",
    "            0.004, 0.006, 0.006, 0.001, 0.04, 0.006, 0.002, 0.004, 0.002, 0.002, 0.006, 0.002,\n",
    "            0.002, 0.004, 0.006, 0.006, 0.002, 0.002, 0.008, 0.006, 0.004, 0.002, 0.006, 0.002,\n",
    "            0.004, 0.006, 0.002, 0.004, 0.001, 0.004, 0.002, 0.004, 0.008, 0.006, 0.008, 0.002,\n",
    "            0.004, 0.002, 0.001, 0.004, 0.004, 0.004, 0.006, 0.008, 0.004, 0.001, 0.001, 0.002,\n",
    "            0.006, 0.004, 0.001, 0.002, 0.006, 0.004, 0.006, 0.008, 0.002, 0.002, 0.004, 0.002,\n",
    "            0.04, 0.002, 0.002, 0.004, 0.002, 0.002, 0.006, 0.02, 0.004, 0.002, 0.006, 0.02,\n",
    "            0.001, 0.002, 0.006, 0.004, 0.006, 0.004, 0.004, 0.004, 0.004, 0.002, 0.004, 0.04,\n",
    "            0.002, 0.008, 0.002, 0.004, 0.001, 0.004, 0.006, 0.004,\n",
    "        ])\n",
    "    if current_time < 20:\n",
    "        if current_time == 0:\n",
    "            if len(hist_list) == 1:\n",
    "                hist_list.append(queue.Queue())\n",
    "            else:\n",
    "                hist_list[1].queue.clear()\n",
    "        hist_list[1].put(current_wap)\n",
    "        ret = np.zeros(current_wap.shape)\n",
    "    else:\n",
    "        hist_list[1].put(current_wap)\n",
    "        # calculate the past 60s return\n",
    "        past_wap = hist_list[1].get()\n",
    "        ret = (current_wap - past_wap) / past_wap\n",
    "    # for robustness, if the stock_id is larger than 200, we use the average weight\n",
    "    weight = [hist_list[0][int(stock_id)] if stock_id <= 200 else np.mean(hist_list[0]) for stock_id in\n",
    "              current_data[:, col2index_map['stock_id']]]\n",
    "    synthetic_index = np.sum(np.array(weight, dtype=float) * ret)\n",
    "    res = ret - synthetic_index\n",
    "    # if result is nan, we assign res=0\n",
    "    res[np.isnan(res)] = 0  # this is the easiest way to fill nan\n",
    "    return -res"
   ],
   "metadata": {
    "collapsed": false,
    "ExecuteTime": {
     "end_time": "2023-12-16T09:48:09.248299Z",
     "start_time": "2023-12-16T09:48:08.599990900Z"
    }
   }
  },
  {
   "cell_type": "code",
   "execution_count": 34,
   "outputs": [],
   "source": [
    "def stock_40s_ret_deviate_from_index_rank_hedged_opt(current_data: dict, hist_list=[]):\n",
    "    current_data = np.array(list(current_data.values()),\n",
    "                            dtype=float).T  # this is faster than pd.DataFrame(current_data).values\n",
    "    current_time = current_data[0, col2index_map['seconds_in_bucket']]\n",
    "    current_wap = current_data[:, col2index_map['wap']]\n",
    "    if len(hist_list) == 0:\n",
    "        hist_list.append([\n",
    "            0.004, 0.001, 0.002, 0.006, 0.004, 0.004, 0.002, 0.006, 0.006, 0.002, 0.002, 0.008,\n",
    "            0.006, 0.002, 0.008, 0.006, 0.002, 0.006, 0.004, 0.002, 0.004, 0.001, 0.006, 0.004,\n",
    "            0.002, 0.002, 0.004, 0.002, 0.004, 0.004, 0.001, 0.001, 0.002, 0.002, 0.006, 0.004,\n",
    "            0.004, 0.004, 0.006, 0.002, 0.002, 0.04, 0.002, 0.002, 0.004, 0.04, 0.002, 0.001,\n",
    "            0.006, 0.004, 0.004, 0.006, 0.001, 0.004, 0.004, 0.002, 0.006, 0.004, 0.006, 0.004,\n",
    "            0.006, 0.004, 0.002, 0.001, 0.002, 0.004, 0.002, 0.008, 0.004, 0.004, 0.002, 0.004,\n",
    "            0.006, 0.002, 0.004, 0.004, 0.002, 0.004, 0.004, 0.004, 0.001, 0.002, 0.002, 0.008,\n",
    "            0.02, 0.004, 0.006, 0.002, 0.02, 0.002, 0.002, 0.006, 0.004, 0.002, 0.001, 0.02,\n",
    "            0.006, 0.001, 0.002, 0.004, 0.001, 0.002, 0.006, 0.006, 0.004, 0.006, 0.001, 0.002,\n",
    "            0.004, 0.006, 0.006, 0.001, 0.04, 0.006, 0.002, 0.004, 0.002, 0.002, 0.006, 0.002,\n",
    "            0.002, 0.004, 0.006, 0.006, 0.002, 0.002, 0.008, 0.006, 0.004, 0.002, 0.006, 0.002,\n",
    "            0.004, 0.006, 0.002, 0.004, 0.001, 0.004, 0.002, 0.004, 0.008, 0.006, 0.008, 0.002,\n",
    "            0.004, 0.002, 0.001, 0.004, 0.004, 0.004, 0.006, 0.008, 0.004, 0.001, 0.001, 0.002,\n",
    "            0.006, 0.004, 0.001, 0.002, 0.006, 0.004, 0.006, 0.008, 0.002, 0.002, 0.004, 0.002,\n",
    "            0.04, 0.002, 0.002, 0.004, 0.002, 0.002, 0.006, 0.02, 0.004, 0.002, 0.006, 0.02,\n",
    "            0.001, 0.002, 0.006, 0.004, 0.006, 0.004, 0.004, 0.004, 0.004, 0.002, 0.004, 0.04,\n",
    "            0.002, 0.008, 0.002, 0.004, 0.001, 0.004, 0.006, 0.004,\n",
    "        ])\n",
    "    if current_time == 0:\n",
    "        if len(hist_list) == 1:\n",
    "            # then we are at the very start, initialize the hist_list with two queues, one for 40s ret one for 20s ret\n",
    "            hist_list.append(queue.Queue())  # for the 40s ret\n",
    "            hist_list.append(queue.Queue())  # for the 20s ret\n",
    "        else:\n",
    "            # its a new day, we clear the queue\n",
    "            hist_list[1].queue.clear()\n",
    "            hist_list[2].queue.clear()\n",
    "    if current_time < 20:\n",
    "        hist_list[2].put(current_wap)\n",
    "        hedge_20s_ret = np.zeros(current_wap.shape)\n",
    "    else:\n",
    "        hist_list[2].put(current_wap)\n",
    "        # calculate the past 60s return\n",
    "        past_wap = hist_list[2].get()\n",
    "        hedge_20s_ret = (current_wap - past_wap) / past_wap\n",
    "    if current_time < 40:\n",
    "        hist_list[1].put(current_wap)\n",
    "        ret = np.zeros(current_wap.shape)\n",
    "    else:\n",
    "        hist_list[1].put(current_wap)\n",
    "        # calculate the past 60s return\n",
    "        past_wap = hist_list[1].get()\n",
    "        ret = (current_wap - past_wap) / past_wap\n",
    "    # for robustness, if the stock_id is larger than 200, we use the average weight\n",
    "    weight = [hist_list[0][int(stock_id)] if stock_id <= 200 else np.mean(hist_list[0]) for stock_id in\n",
    "              current_data[:, col2index_map['stock_id']]]\n",
    "    synthetic_index = np.sum(np.array(weight, dtype=float) * ret)\n",
    "    res = ret - synthetic_index\n",
    "    hedge_20s_ret = (hedge_20s_ret - np.sum(np.array(weight, dtype=float) * hedge_20s_ret))\n",
    "    # if result is nan, we assign res=0\n",
    "    res[np.isnan(res)] = 0  # this is the easiest way to fill nan\n",
    "    res = stats.rankdata(-res) / len(res)\n",
    "    res = (res - 0.5) * 2\n",
    "    res = utils.ols_res(hedge_20s_ret, res, 0.33)\n",
    "    res[np.isnan(res)] = 0  # this is the easiest way to fill nan\n",
    "\n",
    "    return res"
   ],
   "metadata": {
    "collapsed": false,
    "ExecuteTime": {
     "end_time": "2023-12-16T09:48:09.336660600Z",
     "start_time": "2023-12-16T09:48:09.253305Z"
    }
   }
  },
  {
   "cell_type": "code",
   "execution_count": 35,
   "outputs": [],
   "source": [
    "def stock_40s_ret_deviate_from_index_rank(current_data: dict, hist_list=[]):\n",
    "    current_data = np.array(list(current_data.values()),\n",
    "                            dtype=float).T  # this is faster than pd.DataFrame(current_data).values\n",
    "    current_time = current_data[0, col2index_map['seconds_in_bucket']]\n",
    "    current_wap = current_data[:, col2index_map['wap']]\n",
    "    if len(hist_list) == 0:\n",
    "        hist_list.append([\n",
    "            0.004, 0.001, 0.002, 0.006, 0.004, 0.004, 0.002, 0.006, 0.006, 0.002, 0.002, 0.008,\n",
    "            0.006, 0.002, 0.008, 0.006, 0.002, 0.006, 0.004, 0.002, 0.004, 0.001, 0.006, 0.004,\n",
    "            0.002, 0.002, 0.004, 0.002, 0.004, 0.004, 0.001, 0.001, 0.002, 0.002, 0.006, 0.004,\n",
    "            0.004, 0.004, 0.006, 0.002, 0.002, 0.04, 0.002, 0.002, 0.004, 0.04, 0.002, 0.001,\n",
    "            0.006, 0.004, 0.004, 0.006, 0.001, 0.004, 0.004, 0.002, 0.006, 0.004, 0.006, 0.004,\n",
    "            0.006, 0.004, 0.002, 0.001, 0.002, 0.004, 0.002, 0.008, 0.004, 0.004, 0.002, 0.004,\n",
    "            0.006, 0.002, 0.004, 0.004, 0.002, 0.004, 0.004, 0.004, 0.001, 0.002, 0.002, 0.008,\n",
    "            0.02, 0.004, 0.006, 0.002, 0.02, 0.002, 0.002, 0.006, 0.004, 0.002, 0.001, 0.02,\n",
    "            0.006, 0.001, 0.002, 0.004, 0.001, 0.002, 0.006, 0.006, 0.004, 0.006, 0.001, 0.002,\n",
    "            0.004, 0.006, 0.006, 0.001, 0.04, 0.006, 0.002, 0.004, 0.002, 0.002, 0.006, 0.002,\n",
    "            0.002, 0.004, 0.006, 0.006, 0.002, 0.002, 0.008, 0.006, 0.004, 0.002, 0.006, 0.002,\n",
    "            0.004, 0.006, 0.002, 0.004, 0.001, 0.004, 0.002, 0.004, 0.008, 0.006, 0.008, 0.002,\n",
    "            0.004, 0.002, 0.001, 0.004, 0.004, 0.004, 0.006, 0.008, 0.004, 0.001, 0.001, 0.002,\n",
    "            0.006, 0.004, 0.001, 0.002, 0.006, 0.004, 0.006, 0.008, 0.002, 0.002, 0.004, 0.002,\n",
    "            0.04, 0.002, 0.002, 0.004, 0.002, 0.002, 0.006, 0.02, 0.004, 0.002, 0.006, 0.02,\n",
    "            0.001, 0.002, 0.006, 0.004, 0.006, 0.004, 0.004, 0.004, 0.004, 0.002, 0.004, 0.04,\n",
    "            0.002, 0.008, 0.002, 0.004, 0.001, 0.004, 0.006, 0.004,\n",
    "        ])\n",
    "    if current_time < 40:\n",
    "        if current_time == 0:\n",
    "            if len(hist_list) == 1:\n",
    "                hist_list.append(queue.Queue())\n",
    "            else:\n",
    "                hist_list[1].queue.clear()\n",
    "        hist_list[1].put(current_wap)\n",
    "        ret = np.zeros(current_wap.shape)\n",
    "    else:\n",
    "        hist_list[1].put(current_wap)\n",
    "        # calculate the past 60s return\n",
    "        past_wap = hist_list[1].get()\n",
    "        ret = (current_wap - past_wap) / past_wap\n",
    "    # for robustness, if the stock_id is larger than 200, we use the average weight\n",
    "    weight = [hist_list[0][int(stock_id)] if stock_id <= 200 else np.mean(hist_list[0]) for stock_id in\n",
    "              current_data[:, col2index_map['stock_id']]]\n",
    "    synthetic_index = np.sum(np.array(weight, dtype=float) * ret)\n",
    "    res = ret - synthetic_index\n",
    "    # if result is nan, we assign res=0\n",
    "    res[np.isnan(res)] = 0  # this is the easiest way to fill nan\n",
    "    return stats.rankdata(-res) / len(res)"
   ],
   "metadata": {
    "collapsed": false,
    "ExecuteTime": {
     "end_time": "2023-12-16T09:48:09.422680800Z",
     "start_time": "2023-12-16T09:48:09.347663600Z"
    }
   }
  },
  {
   "cell_type": "code",
   "execution_count": 36,
   "outputs": [],
   "source": [
    "def triplet_imbalance_bid_ask_wap_signed_pow_opt_hedged(current_data: dict,hist_list=[])->np.ndarray:\n",
    "    def triplet_imbalance_cal(data,col):\n",
    "        assert len(col)==3\n",
    "        temp= np.vstack([data[:,col2index_map[col[0]]],data[:,col2index_map[col[1]]],data[:,col2index_map[col[2]]]])\n",
    "        max_val = np.max(temp,axis=0)\n",
    "        min_val = np.min(temp,axis=0)\n",
    "        mid_val = np.sum(temp,axis=0)-max_val-min_val\n",
    "        \n",
    "        # print(max_val.shape)\n",
    "        return (max_val-mid_val)/(max_val+mid_val+min_val)\n",
    "    current_data = np.array(list(current_data.values()),\n",
    "                            dtype=float).T  # this is faster than pd.DataFrame(current_data).values\n",
    "    res = triplet_imbalance_cal(current_data,['bid_price','ask_price','wap'])\n",
    "    res = np.sign(res)*np.abs(res)**0.65\n",
    "    # s1_imbalance = np.sign(current_data[:, col2index_map['ask_size']] - current_data[:, col2index_map['bid_size']])\n",
    "    # s1_imbalance[np.isnan(s1_imbalance)] = 0  # this is the fastest w to fill nan\n",
    "    # res = utils.ols_res(s1_imbalance,res,0.5) # The return value MUSE BE a numpy array, with no NaN value\n",
    "    res[np.isnan(res)] = 0  # this is the fastest way to fill nan\n",
    "    return res"
   ],
   "metadata": {
    "collapsed": false,
    "ExecuteTime": {
     "end_time": "2023-12-16T09:48:09.520269100Z",
     "start_time": "2023-12-16T09:48:09.425679500Z"
    }
   }
  },
  {
   "cell_type": "code",
   "execution_count": 50,
   "outputs": [],
   "source": [
    "def price_pressure(current_data: dict, hist_list=[]) -> np.ndarray:\n",
    "    '''\n",
    "    This will be the main function to design your factors for the competition. Please\n",
    "    define only one factor here each time. We provide you with:\n",
    "\n",
    "    Current_data: a dictionary in the format of {column_name: column_value}, where column_name is from the original\n",
    "    dataframe\n",
    "\n",
    "    hist_list: A list for you to save the previous factor values (optional). For instance,\n",
    "    if you are calculating a 100-day Moving Average (MA), then you can save the first calculated\n",
    "    MA in hist_list, and then for the next MA calculation, you can use the saved ones.\n",
    "    '''\n",
    "    ###################### ADD YOUR CODE HERE FOR FACTORS DESIGN ######################\n",
    "    # convert the current_data to your choice of numpy or pandas dataframe\n",
    "    # current_data = pd.DataFrame(current_data)\n",
    "    current_data = np.array(list(current_data.values()),\n",
    "                            dtype=float).T  # this is faster than pd.DataFrame(current_data).values\n",
    "    res = ((current_data[:, col2index_map['bid_size']] - current_data[:, col2index_map['ask_size']]) / \\\n",
    "          (current_data[:, col2index_map['bid_size']] + current_data[:, col2index_map['ask_size']])) * \\\n",
    "          (current_data[:, col2index_map['ask_price']] - current_data[:, col2index_map['bid_price']])\n",
    "    ############################## NAN/Inf handling ######################################\n",
    "    # if you have nan in your factor value, please fill it reasonably\n",
    "    # res = np.nan_to_num(res) # this is slow because it also checks for inf.\n",
    "    # res = np.where(np.isnan(res), 0, res)  # this is slightly faster than np.nan_to_num\n",
    "    res[np.isnan(res)] = 0  # this is the fastest way to fill nan\n",
    "    ############################## END OF YOUR CODE ##############################\n",
    "    return -res  # The return value MUSE BE a numpy array, with no NaN value\n",
    "    ####################################################################################\n"
   ],
   "metadata": {
    "collapsed": false,
    "ExecuteTime": {
     "end_time": "2023-12-16T21:00:31.585777Z",
     "start_time": "2023-12-16T21:00:31.523295500Z"
    }
   }
  },
  {
   "cell_type": "code",
   "execution_count": 51,
   "outputs": [],
   "source": [
    "# new_factor_list = ['s1_imbalance_signed_pow_opt',\n",
    "#                    \"past_10s_ret\",\n",
    "#                    \"past_30s_ret_rank\",\n",
    "#                    \"stock_20s_ret_deviate_from_index\",\n",
    "#                    \"stock_40s_ret_deviate_from_index_rank_hedged_opt\",\n",
    "#                    \"stock_40s_ret_deviate_from_index_rank\", ]  # fine toned factor set\n",
    "new_factor_list = ['price_pressure']  "
   ],
   "metadata": {
    "collapsed": false,
    "ExecuteTime": {
     "end_time": "2023-12-16T21:00:33.898679300Z",
     "start_time": "2023-12-16T21:00:33.812860700Z"
    }
   }
  },
  {
   "cell_type": "markdown",
   "source": [
    "### Factor value calculation in train set"
   ],
   "metadata": {
    "collapsed": false
   }
  },
  {
   "cell_type": "code",
   "execution_count": 52,
   "outputs": [
    {
     "name": "stderr",
     "output_type": "stream",
     "text": [
      "  0%|          | 0/1 [00:00<?, ?it/s]"
     ]
    },
    {
     "name": "stdout",
     "output_type": "stream",
     "text": [
      "Number of dates: 401\n",
      "Start calculating factor price_pressure\n",
      "Finished calculating factor price_pressure for 0 dates\n"
     ]
    },
    {
     "name": "stderr",
     "output_type": "stream",
     "text": [
      "C:\\Users\\kevin\\AppData\\Local\\Temp\\ipykernel_16656\\2557319847.py:18: RuntimeWarning: invalid value encountered in divide\n",
      "  res = ((current_data[:, col2index_map['bid_size']] - current_data[:, col2index_map['ask_size']]) / \\\n"
     ]
    },
    {
     "name": "stdout",
     "output_type": "stream",
     "text": [
      "Finished calculating factor price_pressure for 100 dates\n",
      "Finished calculating factor price_pressure for 200 dates\n",
      "Finished calculating factor price_pressure for 300 dates\n",
      "Finished calculating factor price_pressure for 400 dates\n",
      "Accepted!!: Used 14.43 seconds for calculation factors. The limit is 300 seconds.\n"
     ]
    },
    {
     "name": "stderr",
     "output_type": "stream",
     "text": [
      "100%|██████████| 1/1 [00:15<00:00, 15.10s/it]\n"
     ]
    }
   ],
   "source": [
    "new_factors_train = {factor_name: utils.flatten_factor_value(\n",
    "    factor_design.run_factor_value(df_train_dic_sorted, eval(factor_name), factor_name), factor_name)[factor_name] for\n",
    "                     factor_name in tqdm(new_factor_list)}"
   ],
   "metadata": {
    "collapsed": false,
    "ExecuteTime": {
     "end_time": "2023-12-16T21:00:50.823655900Z",
     "start_time": "2023-12-16T21:00:35.631552300Z"
    }
   }
  },
  {
   "cell_type": "markdown",
   "source": [
    "### Factor value calculation in test set"
   ],
   "metadata": {
    "collapsed": false
   }
  },
  {
   "cell_type": "code",
   "execution_count": 53,
   "outputs": [
    {
     "name": "stderr",
     "output_type": "stream",
     "text": [
      "  0%|          | 0/1 [00:00<?, ?it/s]"
     ]
    },
    {
     "name": "stdout",
     "output_type": "stream",
     "text": [
      "Number of dates: 80\n",
      "Start calculating factor price_pressure\n"
     ]
    },
    {
     "name": "stderr",
     "output_type": "stream",
     "text": [
      "C:\\Users\\kevin\\AppData\\Local\\Temp\\ipykernel_16656\\2557319847.py:18: RuntimeWarning: invalid value encountered in divide\n",
      "  res = ((current_data[:, col2index_map['bid_size']] - current_data[:, col2index_map['ask_size']]) / \\\n",
      "100%|██████████| 1/1 [00:02<00:00,  2.33s/it]"
     ]
    },
    {
     "name": "stdout",
     "output_type": "stream",
     "text": [
      "Finished calculating factor price_pressure for 480 dates\n",
      "Accepted!!: Used 2.21 seconds for calculation factors. The limit is 300 seconds.\n"
     ]
    },
    {
     "name": "stderr",
     "output_type": "stream",
     "text": [
      "\n"
     ]
    }
   ],
   "source": [
    "new_factors_test = {factor_name: utils.flatten_factor_value(\n",
    "    factor_design.run_factor_value(df_test_dic_sorted, eval(factor_name), factor_name), factor_name)[factor_name] for\n",
    "                    factor_name in tqdm(new_factor_list)}"
   ],
   "metadata": {
    "collapsed": false,
    "ExecuteTime": {
     "end_time": "2023-12-16T21:00:53.243819100Z",
     "start_time": "2023-12-16T21:00:50.825656700Z"
    }
   }
  },
  {
   "cell_type": "markdown",
   "metadata": {},
   "source": [
    "## Factor Backtesting"
   ]
  },
  {
   "cell_type": "code",
   "execution_count": 54,
   "metadata": {
    "ExecuteTime": {
     "end_time": "2023-12-16T21:01:00.451176Z",
     "start_time": "2023-12-16T21:00:53.246817800Z"
    }
   },
   "outputs": [],
   "source": [
    "demo_backtest = factor_backtest.Factor_Backtest(existed_factors=existed_factor_train, testing_factors=new_factors_train,\n",
    "                                                factor_performance=factor_performance_train)  # just a formality "
   ]
  },
  {
   "cell_type": "code",
   "execution_count": 41,
   "outputs": [
    {
     "name": "stdout",
     "output_type": "stream",
     "text": [
      "dict_keys(['origin_seconds_in_bucket', 'origin_imbalance_size', 'origin_imbalance_buy_sell_flag', 'origin_reference_price', 'origin_matched_size', 'origin_far_price', 'origin_near_price', 'origin_bid_price', 'origin_bid_size', 'origin_ask_price', 'origin_ask_size', 'origin_wap', 's1_imbalance_signed_pow_opt', 'stock_20s_ret_deviate_from_index', 'stock_40s_ret_deviate_from_index_rank_hedged_opt'])\n"
     ]
    }
   ],
   "source": [
    "print(existed_factor_train.keys())"
   ],
   "metadata": {
    "collapsed": false,
    "ExecuteTime": {
     "end_time": "2023-12-16T09:48:21.023631400Z",
     "start_time": "2023-12-16T09:48:20.925387100Z"
    }
   }
  },
  {
   "cell_type": "code",
   "execution_count": 55,
   "outputs": [
    {
     "name": "stdout",
     "output_type": "stream",
     "text": [
      "\n",
      "_______________________________________Factor Performance_______________________________________________________\n",
      "Factor price_pressure PASSED in-sample performance check with correlation coefficient 0.15130224198627285\n",
      "\n",
      "___________________________________Factor pairwise Correlation__________________________________________________\n",
      "Factor price_pressure passed in-sample pairwise correlation check with all existed factors\n",
      "______________________________________________________________________________________________\n",
      "Factor price_pressure passed In-sample tests\n",
      "Out of sample correlation coefficient for factor price_pressure is 0.10690736685966976\n",
      "Factor price_pressure passed out-of-sample performance \n",
      " in-sample corr = 0.15130224198627285 \n",
      " out-of-sample corr = 0.10690736685966976\n",
      "Factor price_pressure passed Out-of-sample tests\n",
      "Factor price_pressure passed all the tests, add to the factor pool\n",
      "No temporary files found, creating one\n",
      "==============================================================================================================\n",
      "\n",
      "\n",
      "______________________________________Overall Conclusion________________________________________________________\n",
      "passed factors:  ['price_pressure']\n",
      "failed outsample factors:  []\n",
      "failed insample factors:  []\n"
     ]
    }
   ],
   "source": [
    "demo_backtest.validate_new_factors(new_factors_train, new_factors_test)"
   ],
   "metadata": {
    "collapsed": false,
    "ExecuteTime": {
     "end_time": "2023-12-16T21:01:30.085591900Z",
     "start_time": "2023-12-16T21:01:00.454176600Z"
    }
   }
  },
  {
   "cell_type": "code",
   "execution_count": 43,
   "outputs": [
    {
     "data": {
      "text/plain": "dict_keys(['origin_seconds_in_bucket', 'origin_imbalance_size', 'origin_imbalance_buy_sell_flag', 'origin_reference_price', 'origin_matched_size', 'origin_far_price', 'origin_near_price', 'origin_bid_price', 'origin_bid_size', 'origin_ask_price', 'origin_ask_size', 'origin_wap', 's1_imbalance_signed_pow_opt', 'stock_20s_ret_deviate_from_index', 'stock_40s_ret_deviate_from_index_rank_hedged_opt'])"
     },
     "execution_count": 43,
     "metadata": {},
     "output_type": "execute_result"
    }
   ],
   "source": [
    "existed_factor_test.keys()"
   ],
   "metadata": {
    "collapsed": false,
    "ExecuteTime": {
     "end_time": "2023-12-16T09:48:34.564877200Z",
     "start_time": "2023-12-16T09:48:34.475032Z"
    }
   }
  },
  {
   "cell_type": "code",
   "execution_count": 44,
   "outputs": [
    {
     "data": {
      "text/plain": "[-0.0,\n -0.0,\n -0.0,\n -0.0,\n -0.0,\n -0.0,\n -0.0,\n -0.0,\n -0.0,\n -0.0,\n -0.0,\n -0.0,\n -0.0,\n -0.0,\n -0.0,\n -0.0,\n -0.0,\n -0.0,\n -0.0,\n -0.0,\n -0.0,\n -0.0,\n -0.0,\n -0.0,\n -0.0,\n -0.0,\n -0.0,\n -0.0,\n -0.0,\n -0.0,\n -0.0,\n -0.0,\n -0.0,\n -0.0,\n -0.0,\n -0.0,\n -0.0,\n -0.0,\n -0.0,\n -0.0,\n -0.0,\n -0.0,\n -0.0,\n -0.0,\n -0.0,\n -0.0,\n -0.0,\n -0.0,\n -0.0,\n -0.0,\n -0.0,\n -0.0,\n -0.0,\n -0.0,\n -0.0,\n -0.0,\n -0.0,\n -0.0,\n -0.0,\n -0.0,\n -0.0,\n -0.0,\n -0.0,\n -0.0,\n -0.0,\n -0.0,\n -0.0,\n -0.0,\n -0.0,\n -0.0,\n -0.0,\n -0.0,\n -0.0,\n -0.0,\n -0.0,\n -0.0,\n -0.0,\n -0.0,\n -0.0,\n -0.0,\n -0.0,\n -0.0,\n -0.0,\n -0.0,\n -0.0,\n -0.0,\n -0.0,\n -0.0,\n -0.0,\n -0.0,\n -0.0,\n -0.0,\n -0.0,\n -0.0,\n -0.0,\n -0.0,\n -0.0,\n -0.0,\n -0.0,\n -0.0,\n -0.0,\n -0.0,\n -0.0,\n -0.0,\n -0.0,\n -0.0,\n -0.0,\n -0.0,\n -0.0,\n -0.0,\n -0.0,\n -0.0,\n -0.0,\n -0.0,\n -0.0,\n -0.0,\n -0.0,\n -0.0,\n -0.0,\n -0.0,\n -0.0,\n -0.0,\n -0.0,\n -0.0,\n -0.0,\n -0.0,\n -0.0,\n -0.0,\n -0.0,\n -0.0,\n -0.0,\n -0.0,\n -0.0,\n -0.0,\n -0.0,\n -0.0,\n -0.0,\n -0.0,\n -0.0,\n -0.0,\n -0.0,\n -0.0,\n -0.0,\n -0.0,\n -0.0,\n -0.0,\n -0.0,\n -0.0,\n -0.0,\n -0.0,\n -0.0,\n -0.0,\n -0.0,\n -0.0,\n -0.0,\n -0.0,\n -0.0,\n -0.0,\n -0.0,\n -0.0,\n -0.0,\n -0.0,\n -0.0,\n -0.0,\n -0.0,\n -0.0,\n -0.0,\n -0.0,\n -0.0,\n -0.0,\n -0.0,\n -0.0,\n -0.0,\n -0.0,\n -0.0,\n -0.0,\n -0.0,\n -0.0,\n -0.0,\n -0.0,\n -0.0,\n -0.0,\n -0.0,\n -0.0,\n -0.0,\n -0.0,\n -0.0,\n -0.0,\n -0.0,\n -0.0,\n -0.0,\n -0.0,\n -0.0,\n -0.0,\n -0.0,\n -0.0,\n -0.0,\n -0.0,\n -0.0,\n -0.0,\n -0.0,\n -0.0,\n -0.0,\n -0.0,\n -0.0,\n -0.0,\n -0.0,\n -0.0,\n -0.0,\n -0.0,\n -0.0,\n -0.0,\n -0.0,\n -0.0,\n -0.0,\n -0.0,\n -0.0,\n -0.0,\n -0.0,\n -0.0,\n -0.0,\n -0.0,\n -0.0,\n -0.0,\n -0.0,\n -0.0,\n -0.0,\n -0.0,\n -0.0,\n -0.0,\n -0.0,\n -0.0,\n -0.0,\n -0.0,\n -0.0,\n -0.0,\n -0.0,\n -0.0,\n -0.0,\n -0.0,\n -0.0,\n -0.0,\n -0.0,\n -0.0,\n -0.0,\n -0.0,\n -0.0,\n -0.0,\n -0.0,\n -0.0,\n -0.0,\n -0.0,\n -0.0,\n -0.0,\n -0.0,\n -0.0,\n -0.0,\n -0.0,\n -0.0,\n -0.0,\n -0.0,\n -0.0,\n -0.0,\n -0.0,\n -0.0,\n -0.0,\n -0.0,\n -0.0,\n -0.0,\n -0.0,\n -0.0,\n -0.0,\n -0.0,\n -0.0,\n -0.0,\n -0.0,\n -0.0,\n -0.0,\n -0.0,\n -0.0,\n -0.0,\n -0.0,\n -0.0,\n -0.0,\n -0.0,\n -0.0,\n -0.0,\n -0.0,\n -0.0,\n -0.0,\n -0.0,\n -0.0,\n -0.0,\n -0.0,\n -0.0,\n -0.0,\n -0.0,\n -0.0,\n -0.0,\n -0.0,\n -0.0,\n -0.0,\n -0.0,\n -0.0,\n -0.0,\n -0.0,\n -0.0,\n -0.0,\n -0.0,\n -0.0,\n -0.0,\n -0.0,\n -0.0,\n -0.0,\n -0.0,\n -0.0,\n -0.0,\n -0.0,\n -0.0,\n -0.0,\n -0.0,\n -0.0,\n -0.0,\n -0.0,\n -0.0,\n -0.0,\n -0.0,\n -0.0,\n -0.0,\n -0.0,\n -0.0,\n -0.0,\n -0.0,\n -0.0,\n -0.0,\n -0.0,\n -0.0,\n -0.0,\n -0.0,\n -0.0,\n -0.0,\n -0.0,\n -0.0,\n -0.0,\n -0.0,\n -0.0,\n -0.0,\n -0.0,\n -0.0,\n -0.0,\n -0.0,\n -0.0,\n -0.0,\n -0.0,\n -0.0,\n -0.0,\n -0.0,\n -0.0,\n -0.0,\n -0.0,\n -0.0,\n -0.0,\n -0.0,\n -0.0,\n -0.0,\n -0.0,\n -0.0,\n -0.0,\n -0.0,\n -0.0,\n -0.0,\n -0.0,\n -0.0,\n -0.0,\n -0.0,\n -0.0,\n -0.0,\n -0.0,\n -0.0,\n -0.0,\n -0.0,\n -0.0,\n 0.000662379000000001,\n 0.0005313790000000088,\n 0.0006473790000000138,\n 0.00044037899999994554,\n 0.0006093790000000313,\n -7.062099999998264e-05,\n 0.0003523790000000796,\n -0.0005396210000000353,\n 0.0005473790000000248,\n -0.0010696209999999547,\n -8.162099999996588e-05,\n -0.0003946209999999736,\n -0.0004846209999998971,\n 0.0008523790000000245,\n -0.00034462100000009013,\n -0.00017862099999997963,\n 0.0004913789999999688,\n -0.00048762100000009437,\n 0.0009523790000000135,\n -0.001024620999999882,\n 2.9379000000006347e-05,\n 0.0004983790000000591,\n -0.0015116210000000081,\n -0.0001536210000000379,\n 0.0003393790000000388,\n 0.00048637899999993603,\n -0.0001776210000000619,\n -0.00028962099999995186,\n 0.00010737900000002884,\n -0.0007126210000000141,\n -0.0002806210000000261,\n -0.0011786210000000914,\n -0.00037562099999998236,\n 0.00020837899999993556,\n 0.0006953790000000618,\n 6.937900000004635e-05,\n -3.462100000005766e-05,\n 0.00031037899999998206,\n -0.00034562100000000786,\n 0.0005403790000000455,\n -2.062100000009917e-05,\n -0.00040562099999995685,\n 0.0005163790000000215,\n 0.00028737900000009784,\n 0.0003853790000000293,\n 0.00010537899999997133,\n -0.0021656209999999405,\n -0.0005686210000000921,\n 0.0003443790000000716,\n -0.0012016209999999757,\n -5.162099999999139e-05,\n -0.0003906210000000806,\n -0.0002456210000000189,\n 0.00034637899999990704,\n 0.0004173790000000613,\n 0.00040837899999991354,\n -0.00015862100000007065,\n -0.000956620999999925,\n 8.83790000000376e-05,\n 0.0003213789999999653,\n 0.00015437899999993707,\n -0.0007446210000000461,\n -0.0005886210000000011,\n 0.0002753789999999748,\n 0.0013083790000000366,\n -0.0005476210000000433,\n 0.0008083789999999805,\n 0.0010793790000000018,\n -1.6209999998858778e-06,\n -0.002076620999999935,\n 0.001658378999999998,\n 0.0005333789999999553,\n 5.137899999997284e-05,\n -0.00010162100000009691,\n 0.0006923789999999755,\n -0.0002926209999999271,\n 0.0002143790000001081,\n 0.000922379000000039,\n -0.0005726209999999851,\n -0.00026762099999998537,\n 0.0002503790000000331,\n 3.5378999999956836e-05,\n 0.00027937900000008984,\n -0.0006036210000000994,\n -0.0011026209999999044,\n 0.0002523790000000906,\n -0.0003166209999999511,\n -8.562100000008091e-05,\n 0.00016737899999997783,\n 0.0006613789999999723,\n -0.0012716209999999901,\n 0.0005833790000000608,\n -0.00014162099999991487,\n -0.00016062099999990611,\n -0.0006066210000000746,\n 5.937899999998084e-05,\n -0.0006146210000000826,\n 0.0003953790000000948,\n -0.0010656210000000617,\n 0.00019737899999995232,\n 0.0002613790000000163,\n 0.00030437900000003157,\n 0.0006613789999999723,\n -0.0012786210000000804,\n 0.00012337900000004484,\n 0.0004883789999999935,\n 0.00011737900000009435,\n 7.379000000039856e-06,\n 0.0003193789999999078,\n 0.0005043790000000095,\n 0.0006693789999999803,\n -0.00043162100000003836,\n -3.620999999943389e-06,\n 9.537899999990582e-05,\n 0.0006853789999999963,\n -0.0004686209999998811,\n -4.862100000001615e-05,\n 0.00045237900000006856,\n 0.0002913789999999908,\n -0.00027362099999993586,\n 0.00023437900000001708,\n -0.00043362100000009587,\n 0.00027137900000008184,\n -0.0004026209999999816,\n 6.43790000000136e-05,\n -0.0014696209999999106,\n 2.437899999997359e-05,\n -3.462100000005766e-05,\n 0.0015083790000000145,\n 0.00051037899999996,\n 9.379000000097368e-06,\n 0.00013737900000000333,\n -0.0007516209999999143,\n 0.0007243790000000075,\n 0.00016437900000000258,\n 7.037899999996408e-05,\n 2.437899999997359e-05,\n 0.0002033789999999028,\n 0.0004733790000001173,\n 0.0002503790000000331,\n -0.0009456209999999418,\n 0.0004233790000000118,\n -0.0005216209999999618,\n -0.0005046210000000281,\n 0.0003193789999999078,\n 0.0004833789999999608,\n 0.0007393789999999948,\n 0.0004073789999999958,\n -5.662100000002415e-05,\n 2.7378999999948836e-05,\n 0.0008013790000000013,\n -0.0003796210000000974,\n 0.0003893789999999223,\n 0.00010837899999994658,\n 0.00021037899999999307,\n 0.00040437900000002056,\n -0.0004426210000000216,\n -0.00031562100000003337,\n -0.0005766210000001001,\n 0.00020037899999992756,\n -0.00018062100000003714,\n 0.0006473790000000138,\n -0.0007646209999999551,\n 0.00014737900000006885,\n 0.0003993789999999878,\n -0.0003266210000000166,\n -0.002567620999999954,\n 1.5379000000047857e-05,\n -0.0001856210000000699,\n -0.0010866209999998884,\n 0.00034237900000001406,\n 0.0008153789999999597,\n -0.0002846209999999191,\n 0.00019437899999997707,\n -4.362099999998339e-05,\n -9.362100000008891e-05,\n 0.0001343790000000281,\n -0.00027362099999993586,\n 0.00015337900000001934,\n -4.5621000000040904e-05,\n -0.002595621000000093,\n -0.00035762099999990884,\n 0.0005173790000000503,\n -0.0009836209999999242,\n 0.00017337899999992832,\n 0.0008513789999999958,\n -0.0005576209999998868,\n 0.00011637899999995458,\n 3.237899999998159e-05,\n 0.00045437899999990403,\n 0.00010337899999991382,\n -9.518196969841858e-06,\n 3.649868017437788e-05,\n 0.0006033808845930656,\n 3.5484295005473786e-05,\n 0.00045041243377429965,\n -0.0007643674925090825,\n 0.0002684731645127685,\n 0.000689096657293125,\n 0.0007044406576584379,\n 6.96498609368231e-05,\n -8.043268656131948e-05,\n -0.000805133532603754,\n -0.00012526855125885133,\n 0.0003765437670395222,\n -0.0002223021586060936,\n 8.155056676017948e-05,\n -0.0004130587149622422,\n -9.138684514182609e-05,\n -2.46011945366102e-05,\n 0.00027436372270002517,\n -0.00045560024628469025,\n 0.0004645782586204399,\n 0.000386070369766102,\n -0.00012241047139242714,\n -0.00033749474573157765,\n -0.00023048782893747436,\n -0.00031738465107606327,\n -0.0009911175501837739,\n 0.0010005842495627104,\n -2.5179527763046004e-05,\n 5.2600171627190166e-05,\n 0.001161866824380656,\n 0.0002634440522331574,\n 0.00038447491510876355,\n -0.00024157428964440225,\n 0.0006501531280730433,\n -8.738818171380019e-05,\n 0.0003584412458340873,\n -0.00047412513339339035,\n 2.250329327878724e-05,\n -5.7385337804721716e-05,\n -0.00026924426519340426,\n 0.000183502649281441,\n 0.0007500737549544308,\n -0.0006744252847721239,\n -0.00019750230378291355,\n -0.0001077160110528411,\n -0.00027485152968038896,\n 0.00011350376926350679,\n 0.00015154914163503452,\n -0.0005001104257180162,\n -0.0001431817735660545,\n -3.034573221601377e-05,\n 0.00036847046488140635,\n 2.462458358958432e-06,\n 0.0001535053790330591,\n 0.00019349405667115136,\n -0.0004779430592150015,\n -0.00025948583301799036,\n 0.00012750337727192112,\n -8.150344585881799e-05,\n -0.000251082756241875,\n 0.0001825031520284195,\n 0.00010251827926485646,\n 0.00011239428012691728,\n -0.00025704050746514856,\n 0.00014450011411664402,\n 0.0005174989753218,\n -4.839485202299241e-05,\n -0.0002515059660842436,\n 0.0017804723068579067,\n 0.00024650630349342057,\n 6.354367525066156e-05,\n -0.0001633045259292391,\n 0.0003085012742964965,\n 6.557222823002089e-05,\n 8.952708292865422e-05,\n 0.00045060307904293756,\n -0.0010344011363196599,\n -0.0003760049840013861,\n -9.84508283948579e-05,\n 1.1609223205768962e-05,\n 0.0019031647521653699,\n -0.0007273379536129365,\n 0.00025536725636177366,\n -8.847994383242761e-05,\n -0.0005133788808583829,\n 0.00010654774485532993,\n -0.0001624406160230065,\n 0.0005115541533675775,\n 0.00011461706823146824,\n -0.0002908118212124709,\n -8.943184643955365e-05,\n 7.355201711522912e-05,\n -0.0011358456586719288,\n 0.0008352458624554364,\n -0.00013214004319066355,\n -0.00010246618011616315,\n -2.2224145534971277e-05,\n -2.1427469548048904e-05,\n 0.00028148148585267307,\n -9.467247414562127e-06,\n 0.0004824829165837373,\n 0.0006546625711407937,\n -0.0002532444741339001,\n -9.249817872098598e-05,\n 5.6509125951142606e-05,\n 0.0012048867546657507,\n 1.4487775972615087e-05,\n -0.000957541406029087,\n -0.00033171322617041646,\n 0.0001755066392904185,\n 8.156075616047344e-05,\n -0.00043318900489156226,\n 0.001489819445597026,\n -0.000503303671336249,\n -0.0002363185069058881,\n -0.00012850234279852227,\n -0.0002354437255827457,\n -7.628510412395375e-05,\n 0.0014316416739955657,\n -0.0008229749888243622,\n 0.0003254629004112112,\n -0.0010004795909848067,\n -0.00036933592185581265,\n 0.00012857625065546154,\n 0.0002344915846822602,\n -9.427702861323155e-06,\n -0.00023382537054214103,\n -0.00013349132783289452,\n 0.00018650105113322924,\n 0.0002714624516516238,\n -0.0003261441654759425,\n 0.0005064761654530771,\n 0.0002464665709542467,\n -0.00014552992494331994,\n 0.0007751529839336985,\n 0.0001265191175221457,\n 0.0003414866928929167,\n -7.845465167848704e-05,\n -7.92537755128989e-05,\n -0.00033260779835442506,\n 0.00031236631152683114,\n -3.227876414675025e-05,\n -1.2476380962185877e-05,\n 0.00011750099924017946,\n 0.0012666012112506364,\n 0.0005273778225934288,\n -0.0005041927016781059,\n 0.0001395055090956201,\n 0.0002425329908770524,\n 0.0006830720204834098,\n -2.949777671931871e-05,\n 0.00013551267918514312,\n 0.00026945374310908356,\n -2.252289788633627e-05,\n 2.6758813251563792e-06,\n -6.321763136984401e-06,\n -8.528017419726297e-05,\n 0.00016950816310903443,\n -0.00023235180166070115,\n 7.246745112365274e-05,\n -0.0002531742098428278,\n 0.00014650812447104816,\n 0.0001855024393035462,\n 7.35598195530673e-05,\n -0.0011706725412711188,\n -0.00015645043719263255,\n -0.00021136941217057175,\n 0.0022404765300089572,\n -0.0007666037626365892,\n 0.0006805170626995108,\n 0.00010555697741470961,\n -5.7403397360526406e-05,\n -3.9410860276712636e-05,\n -5.141254633292741e-05,\n 0.0001185201945442383,\n -0.0004011582473985423,\n 0.00033545311343028046,\n -0.00016244199957469947,\n -0.0002916264390994777,\n -0.00013126410855084845,\n -0.0006924833349426883,\n -0.00016610194791919755,\n 0.0003483994239005002,\n 0.0003535449898241286,\n 0.0006229528970215141,\n 0.00015051363462315043,\n 0.00042038302469190144,\n 4.949125831324122e-05,\n -2.3451406918150938e-05,\n -0.0003692823815646552,\n -0.00016921474490549487,\n 0.000565858469702912,\n -0.00016419004081083094,\n -4.222286133689759e-05,\n -0.0004618809073919711,\n -4.190602246097514e-06,\n 0.0009988603176815296,\n -0.00014421807016734263,\n -2.9993592112356063e-05,\n 0.00015776222614108593,\n -0.0008523459530735231,\n -2.8074924643783295e-05,\n 0.0002728508165264475,\n -5.806820181590801e-05,\n 0.00022171350637080597,\n 0.00033678967733414146,\n 0.00023466483911350854,\n -0.00040543635031062877,\n -9.03175314634469e-06,\n 0.0006565310795553302,\n 0.0005837898123121971,\n 0.0005239496757920359,\n -9.707383353883978e-05,\n -0.0008840439966533393,\n -0.0004211978338756783,\n -0.00010506351577922782,\n 5.083631564840188e-05,\n -0.0004409902468829748,\n 0.0002056711282238703,\n -0.0003708331684138135,\n 0.0011859747338988228,\n -0.0001669672909302787,\n 0.0006476322957688728,\n -0.00023427227211090574,\n -0.00012410731320776803,\n -0.00031198213907737693,\n 6.811882569698205e-06,\n -0.0004707172862334897,\n -0.00024021977615348985,\n -9.14697638509739e-06,\n -4.706821628916741e-05,\n 2.779174428386714e-05,\n 0.0001697787953078949,\n -0.0010870653695970517,\n -2.7154273870216034e-05,\n -0.0006511861861315844,\n -0.0014075834670987685,\n 7.079827939914684e-05,\n -0.00015076962441310893,\n -0.0007477327595603401,\n -0.0001749560495917163,\n 5.183314994277643e-05,\n 8.179647169616741e-05,\n -0.0001811823528772515,\n -0.00029916844343709964,\n 0.000255693296186769,\n 0.00036241775106656525,\n 7.78043234513187e-05,\n 0.00024076797981519477,\n 0.00011378988127467587,\n -0.00036162351687463726,\n 0.000660186727601388,\n -7.181448629495286e-06,\n 0.0007443060450402934,\n -0.0009051438145124647,\n -7.326175225241288e-05,\n -0.00034746794456432006,\n -0.00013108745835487516,\n 0.0012348785097690493,\n -0.0005129213156563246,\n 1.779012822102362e-05,\n 4.1821659167517504e-05,\n -0.00040889541871680916,\n -0.00012725113194172848,\n 0.00029763977815798395,\n 0.00020276455845013745,\n 0.0008230925116244741,\n -0.0014525290072475118,\n -0.0005447051353912367,\n -0.00039308060589032535,\n -0.00023904559055599984,\n 0.0012735299394116566,\n 0.0003475248410609575,\n 0.00018167074424620615,\n -0.00021612619614828107,\n 5.5833696620502e-05,\n -0.0005528187389675894,\n -0.0004440220321469467,\n 0.004984558646551762,\n -9.185629512456455e-05,\n 0.00021580137098151846,\n -0.0001560381769711798,\n 0.0001627548004850581,\n 0.00014974385054501802,\n 0.0007924871012776666,\n -0.00046357020263894556,\n -8.218682993845081e-05,\n 0.00014173624889245978,\n -0.0002051118720073826,\n 0.0003037445779837928,\n -9.616692778340905e-05,\n -7.923636926564997e-05,\n 0.00016069478983384128,\n -5.16504481169584e-06,\n -0.00014220335176850222,\n 0.00020575399526610595,\n 0.0012612184336955057,\n -0.00013416292791726587,\n -0.00023720731970497145,\n 0.0003548337720752092,\n 0.0008171268714920961,\n 9.841423533349657e-06,\n -0.0005479399430619687,\n 0.0014170300142525192,\n 0.0005943173457954405,\n -0.0002640028227917637,\n -0.00016619317644048898,\n -0.0003261153233002114,\n -0.00018498109770574592,\n 0.00043170468405393333,\n -0.0004816562925682543,\n -2.4177036760878706e-05,\n 8.28135223911233e-05,\n -0.0004949429960074899,\n 0.001041944716176065,\n 0.0003526741771766158,\n -0.0006907779681254273,\n -0.0005228384653752042,\n -0.00038621027172263826,\n 2.0834734478077354e-05,\n -8.713651469031734e-05,\n 0.0002885631206217825,\n -0.00012925903108158837,\n -0.00013212642720839858,\n 1.4832157161987237e-05,\n 0.0004256391539877362,\n -0.0004480406158827831,\n 0.00024978821643331244,\n -0.0002171252985384388,\n 7.28404610130199e-05,\n -0.0003071738694144595,\n 0.0001287691064816275,\n -0.0006144805640014658,\n -0.000356121865513977,\n -0.0001052028887979995,\n 0.0014631116502530036,\n 0.00016578686085944497,\n -0.0005488400707317354,\n 0.00011878648225151824,\n 0.0012841426502360957,\n 0.0005124332100667387,\n -0.00020417167380407824,\n 0.0004546545310022854,\n 0.00030073536714502207,\n 4.802779285205009e-06,\n 0.00015574537509314244,\n -0.0002159434960403277,\n -5.1037785970918495e-05,\n -0.00010014471473682801,\n -7.708205051442902e-05,\n 1.978038053611472e-05,\n 5.086238683727035e-05,\n 0.0002547395062780895,\n 1.7801919324824615e-05,\n 0.00030662578798264006,\n -0.00011851823656852622,\n 8.980050047092872e-05,\n -0.00031391771952897556,\n 0.0027865276309883952,\n -0.0007870626771371179,\n 0.00019181943461563496,\n 0.00012477770111357615,\n -0.00032007530063093964,\n -0.00021503150804979198,\n 8.980224257697217e-05,\n 0.00010779194056876697,\n -0.00028290491297739605,\n 0.00012778496100444823,\n -0.00014207099468377686,\n 0.0011056929893370675,\n 8.281248921961147e-05,\n -0.0009572211388846748,\n 4.488331343281293e-05,\n 0.0004026944058238524,\n 0.0001828194085697158,\n 0.0007381211474627623,\n -0.0002790579976418074,\n 0.000124783716525901,\n 0.00017378928046507026,\n -1.6158417314803187e-05,\n -0.00023324366233114848,\n -1.2257966652789878e-05,\n -0.0009104067221513088,\n -0.0003262627170643224,\n -1.226423745501323e-05,\n 6.578086639275681e-05,\n 0.0003146745508469552,\n 8.173677019201197e-05,\n -0.00042849210075771406,\n -0.0001988307425230256,\n 9.073939371664535e-05,\n 0.0003963458749362375,\n -0.00017496809530070869,\n 0.0001387360169830801,\n 0.00010373730975755487,\n 0.0002346586461029352,\n -0.00027840930172172315,\n 0.0004265162706341517,\n -0.00036541333655305407,\n -0.00010795167534162007,\n 0.00022967220922499588,\n -6.137072838174141e-05,\n 0.0002804086742501033,\n -0.0002350663569207277,\n -0.00047296367368612465,\n -7.219597288482982e-06,\n -7.613403393482815e-05,\n -0.0003639634449920812,\n -0.0003611274074604526,\n 0.0005799226876968154,\n -0.0001810133805208717,\n 0.0002226526823931898,\n -0.0004658935268178541,\n -0.000705325051068509,\n -9.522185336889786e-05,\n -0.00018618818481918486,\n -0.0003649493491692183,\n -0.0001202317961188576,\n -0.00016193346879344738,\n -6.824296981821859e-05,\n 0.0004255079695964987,\n -0.00011304181110159033,\n 3.772573917917338e-05,\n -0.00020221291628734277,\n -0.000571625838741581,\n ...]"
     },
     "execution_count": 44,
     "metadata": {},
     "output_type": "execute_result"
    }
   ],
   "source": [
    "existed_factor_train['stock_20s_ret_deviate_from_index']"
   ],
   "metadata": {
    "collapsed": false,
    "ExecuteTime": {
     "end_time": "2023-12-16T09:48:34.651027900Z",
     "start_time": "2023-12-16T09:48:34.564877200Z"
    }
   }
  },
  {
   "cell_type": "code",
   "execution_count": 56,
   "outputs": [
    {
     "name": "stdout",
     "output_type": "stream",
     "text": [
      "matching files: ['./in_house_validation\\\\test_tmp20231216.json']\n",
      "Factor price_pressure is a new factor, adding the value\n",
      "./in_house_validation\\test_tmp20231216.json added to existed_factors\n",
      "storing the updated existed_factors\n",
      "existed_factors updated, all temporary files deleted\n"
     ]
    }
   ],
   "source": [
    "existed_factor_test = utils.add_factor_to_existed_test()"
   ],
   "metadata": {
    "collapsed": false,
    "ExecuteTime": {
     "end_time": "2023-12-16T21:05:14.403564600Z",
     "start_time": "2023-12-16T21:04:43.930217300Z"
    }
   }
  },
  {
   "cell_type": "code",
   "execution_count": 46,
   "outputs": [
    {
     "data": {
      "text/plain": "dict_keys(['origin_seconds_in_bucket', 'origin_imbalance_size', 'origin_imbalance_buy_sell_flag', 'origin_reference_price', 'origin_matched_size', 'origin_far_price', 'origin_near_price', 'origin_bid_price', 'origin_bid_size', 'origin_ask_price', 'origin_ask_size', 'origin_wap', 's1_imbalance_signed_pow_opt', 'stock_20s_ret_deviate_from_index', 'stock_40s_ret_deviate_from_index_rank_hedged_opt', 'triplet_imbalance_bid_ask_wap_signed_pow_opt_hedged'])"
     },
     "execution_count": 46,
     "metadata": {},
     "output_type": "execute_result"
    }
   ],
   "source": [
    "existed_factor_test.keys()"
   ],
   "metadata": {
    "collapsed": false,
    "ExecuteTime": {
     "end_time": "2023-12-16T09:49:00.448518800Z",
     "start_time": "2023-12-16T09:49:00.359258700Z"
    }
   }
  },
  {
   "cell_type": "code",
   "execution_count": 57,
   "outputs": [
    {
     "name": "stdout",
     "output_type": "stream",
     "text": [
      "matching files: ['./in_house_validation\\\\tmp20231216.json']\n",
      "Factor price_pressure is a new factor, adding the value\n",
      "./in_house_validation\\tmp20231216.json added to existed_factors\n",
      "storing the updated existed_factors\n",
      "existed_factors updated, all temporary files deleted\n"
     ]
    }
   ],
   "source": [
    "existed_factor_train = utils.add_factor_to_existed_train()"
   ],
   "metadata": {
    "collapsed": false,
    "ExecuteTime": {
     "end_time": "2023-12-16T21:07:57.883086700Z",
     "start_time": "2023-12-16T21:05:14.385876200Z"
    }
   }
  },
  {
   "cell_type": "code",
   "execution_count": 58,
   "outputs": [
    {
     "data": {
      "text/plain": "dict_keys(['origin_seconds_in_bucket', 'origin_imbalance_size', 'origin_imbalance_buy_sell_flag', 'origin_reference_price', 'origin_matched_size', 'origin_far_price', 'origin_near_price', 'origin_bid_price', 'origin_bid_size', 'origin_ask_price', 'origin_ask_size', 'origin_wap', 's1_imbalance_signed_pow_opt', 'stock_20s_ret_deviate_from_index', 'stock_40s_ret_deviate_from_index_rank_hedged_opt', 'triplet_imbalance_bid_ask_wap_signed_pow_opt_hedged', 'price_pressure'])"
     },
     "execution_count": 58,
     "metadata": {},
     "output_type": "execute_result"
    }
   ],
   "source": [
    "existed_factor_train.keys()"
   ],
   "metadata": {
    "collapsed": false,
    "ExecuteTime": {
     "end_time": "2023-12-16T21:07:58.383187300Z",
     "start_time": "2023-12-16T21:07:57.942084700Z"
    }
   }
  }
 ],
 "metadata": {
  "kernelspec": {
   "display_name": "Python 3",
   "language": "python",
   "name": "python3"
  },
  "language_info": {
   "codemirror_mode": {
    "name": "ipython",
    "version": 3
   },
   "file_extension": ".py",
   "mimetype": "text/x-python",
   "name": "python",
   "nbconvert_exporter": "python",
   "pygments_lexer": "ipython3",
   "version": "3.10.3"
  }
 },
 "nbformat": 4,
 "nbformat_minor": 2
}
