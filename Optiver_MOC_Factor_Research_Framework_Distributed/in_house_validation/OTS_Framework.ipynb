{
 "cells": [
  {
   "cell_type": "code",
   "execution_count": 20,
   "outputs": [],
   "source": [
    "%load_ext autoreload\n",
    "%autoreload 2"
   ],
   "metadata": {
    "collapsed": false,
    "ExecuteTime": {
     "end_time": "2023-11-08T03:52:51.176614900Z",
     "start_time": "2023-11-08T03:52:50.951405700Z"
    }
   },
   "id": "157611b7dcf44d79"
  },
  {
   "cell_type": "code",
   "execution_count": 21,
   "id": "initial_id",
   "metadata": {
    "collapsed": true,
    "ExecuteTime": {
     "end_time": "2023-11-08T03:52:51.254748800Z",
     "start_time": "2023-11-08T03:52:51.159616800Z"
    }
   },
   "outputs": [],
   "source": [
    "import numpy as np\n",
    "import pandas as pd\n",
    "from tqdm import tqdm"
   ]
  },
  {
   "cell_type": "code",
   "execution_count": 22,
   "outputs": [],
   "source": [
    "import factor_design\n",
    "import utils"
   ],
   "metadata": {
    "collapsed": false,
    "ExecuteTime": {
     "end_time": "2023-11-08T03:52:51.306361100Z",
     "start_time": "2023-11-08T03:52:51.238757900Z"
    }
   },
   "id": "571ed0d411506006"
  },
  {
   "cell_type": "code",
   "execution_count": 23,
   "outputs": [],
   "source": [
    "all_data = pd.read_csv('train.csv')"
   ],
   "metadata": {
    "collapsed": false,
    "ExecuteTime": {
     "end_time": "2023-11-08T03:53:02.963957400Z",
     "start_time": "2023-11-08T03:52:51.301365900Z"
    }
   },
   "id": "420272068a40ed26"
  },
  {
   "cell_type": "code",
   "execution_count": 60,
   "outputs": [],
   "source": [
    "test_data = all_data.iloc[-880000:,:]"
   ],
   "metadata": {
    "collapsed": false,
    "ExecuteTime": {
     "end_time": "2023-11-08T04:25:04.121530200Z",
     "start_time": "2023-11-08T04:25:04.029890900Z"
    }
   },
   "id": "ec37c8914476bd81"
  },
  {
   "cell_type": "code",
   "execution_count": 24,
   "outputs": [
    {
     "name": "stderr",
     "output_type": "stream",
     "text": [
      "  0%|          | 0/12 [09:03<?, ?it/s]\n"
     ]
    }
   ],
   "source": [
    "all_data['slice_index'] = all_data['date_id'].astype(str) + '_' + all_data['seconds_in_bucket'].astype(str)  # 3 seconds\n",
    "all_data_dic_sorted = all_data.drop(columns=['target']).groupby('slice_index').agg(lambda x: x.tolist()).to_dict('index')  # 1min"
   ],
   "metadata": {
    "collapsed": false,
    "ExecuteTime": {
     "end_time": "2023-11-08T03:53:38.662332700Z",
     "start_time": "2023-11-08T03:53:02.973957800Z"
    }
   },
   "id": "4f64f41afe7d2725"
  },
  {
   "cell_type": "code",
   "execution_count": 61,
   "outputs": [
    {
     "name": "stderr",
     "output_type": "stream",
     "text": [
      "C:\\Users\\kevin\\AppData\\Local\\Temp\\ipykernel_22028\\1042900487.py:1: SettingWithCopyWarning: \n",
      "A value is trying to be set on a copy of a slice from a DataFrame.\n",
      "Try using .loc[row_indexer,col_indexer] = value instead\n",
      "\n",
      "See the caveats in the documentation: https://pandas.pydata.org/pandas-docs/stable/user_guide/indexing.html#returning-a-view-versus-a-copy\n",
      "  test_data['slice_index'] = test_data['date_id'].astype(str) + '_' + test_data['seconds_in_bucket'].astype(str)  # 3 seconds\n"
     ]
    }
   ],
   "source": [
    "test_data['slice_index'] = test_data['date_id'].astype(str) + '_' + test_data['seconds_in_bucket'].astype(str)  # 3 seconds\n",
    "test_data_dic_sorted = test_data.drop(columns=['target']).groupby('slice_index').agg(lambda x: x.tolist()).to_dict('index')  # 1min"
   ],
   "metadata": {
    "collapsed": false,
    "ExecuteTime": {
     "end_time": "2023-11-08T04:25:34.412348600Z",
     "start_time": "2023-11-08T04:25:30.595879900Z"
    }
   },
   "id": "b595e8006c9aadd4"
  },
  {
   "cell_type": "code",
   "execution_count": 62,
   "outputs": [],
   "source": [
    "utils.dump_json(test_data_dic_sorted, 'test_data_dic_sorted.json')"
   ],
   "metadata": {
    "collapsed": false,
    "ExecuteTime": {
     "end_time": "2023-11-08T04:26:06.015916100Z",
     "start_time": "2023-11-08T04:25:50.969197200Z"
    }
   },
   "id": "1deda36da8325519"
  },
  {
   "cell_type": "code",
   "execution_count": 25,
   "outputs": [],
   "source": [
    "col2index_map = utils.load_json('col2index_map.json')"
   ],
   "metadata": {
    "collapsed": false,
    "ExecuteTime": {
     "end_time": "2023-11-08T03:53:38.797004700Z",
     "start_time": "2023-11-08T03:53:38.672335Z"
    }
   },
   "id": "df5f1c5cc47fb862"
  },
  {
   "cell_type": "code",
   "execution_count": 26,
   "outputs": [],
   "source": [
    "def origin_seconds_in_bucket(current_data: dict, hist_list=[]) -> np.ndarray:\n",
    "    current_data = np.array(list(current_data.values()), dtype=float).T\n",
    "    current_data = np.nan_to_num(current_data)\n",
    "    return -current_data[:, col2index_map['seconds_in_bucket']]\n",
    "\n",
    "\n",
    "def origin_imbalance_size(current_data: dict, hist_list=[]) -> np.ndarray:\n",
    "    current_data = np.array(list(current_data.values()), dtype=float).T\n",
    "    current_data = np.nan_to_num(current_data)\n",
    "    return current_data[:, col2index_map['imbalance_size']]\n",
    "\n",
    "\n",
    "def origin_imbalance_buy_sell_flag(current_data: dict, hist_list=[]) -> np.ndarray:\n",
    "    current_data = np.array(list(current_data.values()), dtype=float).T\n",
    "    current_data = np.nan_to_num(current_data)\n",
    "    return current_data[:, col2index_map['imbalance_buy_sell_flag']]\n",
    "\n",
    "\n",
    "def origin_reference_price(current_data: dict, hist_list=[]) -> np.ndarray:\n",
    "    current_data = np.array(list(current_data.values()), dtype=float).T\n",
    "    current_data = np.nan_to_num(current_data)\n",
    "    return -current_data[:, col2index_map['reference_price']]\n",
    "\n",
    "\n",
    "def origin_matched_size(current_data: dict, hist_list=[]) -> np.ndarray:\n",
    "    current_data = np.array(list(current_data.values()), dtype=float).T\n",
    "    current_data = np.nan_to_num(current_data)\n",
    "    return current_data[:, col2index_map['matched_size']]\n",
    "\n",
    "\n",
    "def origin_far_price(current_data: dict, hist_list=[]) -> np.ndarray:\n",
    "    current_data = np.array(list(current_data.values()), dtype=float).T\n",
    "    current_data = np.nan_to_num(current_data)\n",
    "    return current_data[:, col2index_map['far_price']]\n",
    "\n",
    "\n",
    "def origin_near_price(current_data: dict, hist_list=[]) -> np.ndarray:\n",
    "    current_data = np.array(list(current_data.values()), dtype=float).T\n",
    "    current_data = np.nan_to_num(current_data)\n",
    "    return current_data[:, col2index_map['near_price']]\n",
    "\n",
    "\n",
    "def origin_bid_price(current_data: dict, hist_list=[]) -> np.ndarray:\n",
    "    current_data = np.array(list(current_data.values()), dtype=float).T\n",
    "    current_data = np.nan_to_num(current_data)\n",
    "    return -current_data[:, col2index_map['bid_price']]\n",
    "\n",
    "\n",
    "def origin_bid_size(current_data: dict, hist_list=[]) -> np.ndarray:\n",
    "    current_data = np.array(list(current_data.values()), dtype=float).T\n",
    "    current_data = np.nan_to_num(current_data)\n",
    "    return -current_data[:, col2index_map['bid_size']]\n",
    "\n",
    "\n",
    "def origin_ask_price(current_data: dict, hist_list=[]) -> np.ndarray:\n",
    "    current_data = np.array(list(current_data.values()), dtype=float).T\n",
    "    current_data = np.nan_to_num(current_data)\n",
    "    return -current_data[:, col2index_map['ask_price']]\n",
    "\n",
    "\n",
    "def origin_ask_size(current_data: dict, hist_list=[]) -> np.ndarray:\n",
    "    current_data = np.array(list(current_data.values()), dtype=float).T\n",
    "    current_data = np.nan_to_num(current_data)\n",
    "    return current_data[:, col2index_map['ask_size']]\n",
    "\n",
    "\n",
    "def origin_wap(current_data: dict, hist_list=[]) -> np.ndarray:\n",
    "    current_data = np.array(list(current_data.values()), dtype=float).T\n",
    "    current_data = np.nan_to_num(current_data)\n",
    "    return -current_data[:, col2index_map['wap']]"
   ],
   "metadata": {
    "collapsed": false,
    "ExecuteTime": {
     "end_time": "2023-11-08T03:53:56.633099500Z",
     "start_time": "2023-11-08T03:53:38.799004700Z"
    }
   },
   "id": "92dd0577d2a1121a"
  },
  {
   "cell_type": "code",
   "execution_count": 27,
   "outputs": [],
   "source": [
    "# write a list of all factors with string\n",
    "factor_list = [\n",
    "    'origin_seconds_in_bucket',\n",
    "    'origin_imbalance_size',\n",
    "    'origin_imbalance_buy_sell_flag',\n",
    "    'origin_reference_price',\n",
    "    'origin_matched_size',\n",
    "    'origin_far_price',\n",
    "    'origin_near_price',\n",
    "    'origin_bid_price',\n",
    "    'origin_bid_size',\n",
    "    'origin_ask_price',\n",
    "    'origin_ask_size',\n",
    "    'origin_wap',\n",
    "]"
   ],
   "metadata": {
    "collapsed": false,
    "ExecuteTime": {
     "end_time": "2023-11-08T03:53:56.704535900Z",
     "start_time": "2023-11-08T03:53:56.635098300Z"
    }
   },
   "id": "571d643ea128a04f"
  },
  {
   "cell_type": "code",
   "execution_count": 34,
   "outputs": [
    {
     "name": "stderr",
     "output_type": "stream",
     "text": [
      "\n",
      "\n",
      "  0%|          | 0/12 [00:00<?, ?it/s]\u001B[A\u001B[A"
     ]
    },
    {
     "name": "stdout",
     "output_type": "stream",
     "text": [
      "num_dates: 481\n",
      "Start calculating factor origin_seconds_in_bucket\n",
      "Finished calculating factor origin_seconds_in_bucket for 0 dates\n",
      "Finished calculating factor origin_seconds_in_bucket for 100 dates\n",
      "Finished calculating factor origin_seconds_in_bucket for 200 dates\n",
      "Finished calculating factor origin_seconds_in_bucket for 300 dates\n",
      "Finished calculating factor origin_seconds_in_bucket for 400 dates\n",
      "Finished calculating factor origin_seconds_in_bucket for 480 dates\n",
      "Accepted!!: Used 5.17 seconds for calculation factors. The limit is 300 seconds.\n"
     ]
    },
    {
     "name": "stderr",
     "output_type": "stream",
     "text": [
      "\n",
      "\n",
      "  8%|▊         | 1/12 [00:05<01:03,  5.81s/it]\u001B[A\u001B[A"
     ]
    },
    {
     "name": "stdout",
     "output_type": "stream",
     "text": [
      "num_dates: 481\n",
      "Start calculating factor origin_imbalance_size\n",
      "Finished calculating factor origin_imbalance_size for 0 dates\n",
      "Finished calculating factor origin_imbalance_size for 100 dates\n",
      "Finished calculating factor origin_imbalance_size for 200 dates\n",
      "Finished calculating factor origin_imbalance_size for 300 dates\n",
      "Finished calculating factor origin_imbalance_size for 400 dates\n",
      "Finished calculating factor origin_imbalance_size for 480 dates\n",
      "Accepted!!: Used 5.41 seconds for calculation factors. The limit is 300 seconds.\n"
     ]
    },
    {
     "name": "stderr",
     "output_type": "stream",
     "text": [
      "\n",
      "\n",
      " 17%|█▋        | 2/12 [00:12<01:00,  6.07s/it]\u001B[A\u001B[A"
     ]
    },
    {
     "name": "stdout",
     "output_type": "stream",
     "text": [
      "num_dates: 481\n",
      "Start calculating factor origin_imbalance_buy_sell_flag\n",
      "Finished calculating factor origin_imbalance_buy_sell_flag for 0 dates\n",
      "Finished calculating factor origin_imbalance_buy_sell_flag for 100 dates\n",
      "Finished calculating factor origin_imbalance_buy_sell_flag for 200 dates\n",
      "Finished calculating factor origin_imbalance_buy_sell_flag for 300 dates\n",
      "Finished calculating factor origin_imbalance_buy_sell_flag for 400 dates\n",
      "Finished calculating factor origin_imbalance_buy_sell_flag for 480 dates\n",
      "Accepted!!: Used 5.15 seconds for calculation factors. The limit is 300 seconds.\n"
     ]
    },
    {
     "name": "stderr",
     "output_type": "stream",
     "text": [
      "\n",
      "\n",
      " 25%|██▌       | 3/12 [00:18<00:54,  6.05s/it]\u001B[A\u001B[A"
     ]
    },
    {
     "name": "stdout",
     "output_type": "stream",
     "text": [
      "num_dates: 481\n",
      "Start calculating factor origin_reference_price\n",
      "Finished calculating factor origin_reference_price for 0 dates\n",
      "Finished calculating factor origin_reference_price for 100 dates\n",
      "Finished calculating factor origin_reference_price for 200 dates\n",
      "Finished calculating factor origin_reference_price for 300 dates\n",
      "Finished calculating factor origin_reference_price for 400 dates\n",
      "Finished calculating factor origin_reference_price for 480 dates\n",
      "Accepted!!: Used 4.87 seconds for calculation factors. The limit is 300 seconds.\n"
     ]
    },
    {
     "name": "stderr",
     "output_type": "stream",
     "text": [
      "\n",
      "\n",
      " 33%|███▎      | 4/12 [00:23<00:46,  5.83s/it]\u001B[A\u001B[A"
     ]
    },
    {
     "name": "stdout",
     "output_type": "stream",
     "text": [
      "num_dates: 481\n",
      "Start calculating factor origin_matched_size\n",
      "Finished calculating factor origin_matched_size for 0 dates\n",
      "Finished calculating factor origin_matched_size for 100 dates\n",
      "Finished calculating factor origin_matched_size for 200 dates\n",
      "Finished calculating factor origin_matched_size for 300 dates\n",
      "Finished calculating factor origin_matched_size for 400 dates\n",
      "Finished calculating factor origin_matched_size for 480 dates\n",
      "Accepted!!: Used 5.38 seconds for calculation factors. The limit is 300 seconds.\n"
     ]
    },
    {
     "name": "stderr",
     "output_type": "stream",
     "text": [
      "\n",
      "\n",
      " 42%|████▏     | 5/12 [00:29<00:41,  5.98s/it]\u001B[A\u001B[A"
     ]
    },
    {
     "name": "stdout",
     "output_type": "stream",
     "text": [
      "num_dates: 481\n",
      "Start calculating factor origin_far_price\n",
      "Finished calculating factor origin_far_price for 0 dates\n",
      "Finished calculating factor origin_far_price for 100 dates\n",
      "Finished calculating factor origin_far_price for 200 dates\n",
      "Finished calculating factor origin_far_price for 300 dates\n",
      "Finished calculating factor origin_far_price for 400 dates\n",
      "Finished calculating factor origin_far_price for 480 dates\n",
      "Accepted!!: Used 5.02 seconds for calculation factors. The limit is 300 seconds.\n"
     ]
    },
    {
     "name": "stderr",
     "output_type": "stream",
     "text": [
      "\n",
      "\n",
      " 50%|█████     | 6/12 [00:35<00:35,  5.91s/it]\u001B[A\u001B[A"
     ]
    },
    {
     "name": "stdout",
     "output_type": "stream",
     "text": [
      "num_dates: 481\n",
      "Start calculating factor origin_near_price\n",
      "Finished calculating factor origin_near_price for 0 dates\n",
      "Finished calculating factor origin_near_price for 100 dates\n",
      "Finished calculating factor origin_near_price for 200 dates\n",
      "Finished calculating factor origin_near_price for 300 dates\n",
      "Finished calculating factor origin_near_price for 400 dates\n",
      "Finished calculating factor origin_near_price for 480 dates\n",
      "Accepted!!: Used 5.42 seconds for calculation factors. The limit is 300 seconds.\n"
     ]
    },
    {
     "name": "stderr",
     "output_type": "stream",
     "text": [
      "\n",
      "\n",
      " 58%|█████▊    | 7/12 [00:41<00:30,  6.02s/it]\u001B[A\u001B[A"
     ]
    },
    {
     "name": "stdout",
     "output_type": "stream",
     "text": [
      "num_dates: 481\n",
      "Start calculating factor origin_bid_price\n",
      "Finished calculating factor origin_bid_price for 0 dates\n",
      "Finished calculating factor origin_bid_price for 100 dates\n",
      "Finished calculating factor origin_bid_price for 200 dates\n",
      "Finished calculating factor origin_bid_price for 300 dates\n",
      "Finished calculating factor origin_bid_price for 400 dates\n",
      "Finished calculating factor origin_bid_price for 480 dates\n",
      "Accepted!!: Used 5.06 seconds for calculation factors. The limit is 300 seconds.\n"
     ]
    },
    {
     "name": "stderr",
     "output_type": "stream",
     "text": [
      "\n",
      "\n",
      " 67%|██████▋   | 8/12 [00:47<00:23,  5.91s/it]\u001B[A\u001B[A"
     ]
    },
    {
     "name": "stdout",
     "output_type": "stream",
     "text": [
      "num_dates: 481\n",
      "Start calculating factor origin_bid_size\n",
      "Finished calculating factor origin_bid_size for 0 dates\n",
      "Finished calculating factor origin_bid_size for 100 dates\n",
      "Finished calculating factor origin_bid_size for 200 dates\n",
      "Finished calculating factor origin_bid_size for 300 dates\n",
      "Finished calculating factor origin_bid_size for 400 dates\n",
      "Finished calculating factor origin_bid_size for 480 dates\n",
      "Accepted!!: Used 5.02 seconds for calculation factors. The limit is 300 seconds.\n"
     ]
    },
    {
     "name": "stderr",
     "output_type": "stream",
     "text": [
      "\n",
      "\n",
      " 75%|███████▌  | 9/12 [00:53<00:17,  5.84s/it]\u001B[A\u001B[A"
     ]
    },
    {
     "name": "stdout",
     "output_type": "stream",
     "text": [
      "num_dates: 481\n",
      "Start calculating factor origin_ask_price\n",
      "Finished calculating factor origin_ask_price for 0 dates\n",
      "Finished calculating factor origin_ask_price for 100 dates\n",
      "Finished calculating factor origin_ask_price for 200 dates\n",
      "Finished calculating factor origin_ask_price for 300 dates\n",
      "Finished calculating factor origin_ask_price for 400 dates\n",
      "Finished calculating factor origin_ask_price for 480 dates\n",
      "Accepted!!: Used 5.01 seconds for calculation factors. The limit is 300 seconds.\n"
     ]
    },
    {
     "name": "stderr",
     "output_type": "stream",
     "text": [
      "\n",
      "\n",
      " 83%|████████▎ | 10/12 [00:58<00:11,  5.81s/it]\u001B[A\u001B[A"
     ]
    },
    {
     "name": "stdout",
     "output_type": "stream",
     "text": [
      "num_dates: 481\n",
      "Start calculating factor origin_ask_size\n",
      "Finished calculating factor origin_ask_size for 0 dates\n",
      "Finished calculating factor origin_ask_size for 100 dates\n",
      "Finished calculating factor origin_ask_size for 200 dates\n",
      "Finished calculating factor origin_ask_size for 300 dates\n",
      "Finished calculating factor origin_ask_size for 400 dates\n",
      "Finished calculating factor origin_ask_size for 480 dates\n",
      "Accepted!!: Used 5.72 seconds for calculation factors. The limit is 300 seconds.\n"
     ]
    },
    {
     "name": "stderr",
     "output_type": "stream",
     "text": [
      "\n",
      "\n",
      " 92%|█████████▏| 11/12 [01:05<00:06,  6.05s/it]\u001B[A\u001B[A"
     ]
    },
    {
     "name": "stdout",
     "output_type": "stream",
     "text": [
      "num_dates: 481\n",
      "Start calculating factor origin_wap\n",
      "Finished calculating factor origin_wap for 0 dates\n",
      "Finished calculating factor origin_wap for 100 dates\n",
      "Finished calculating factor origin_wap for 200 dates\n",
      "Finished calculating factor origin_wap for 300 dates\n",
      "Finished calculating factor origin_wap for 400 dates\n",
      "Finished calculating factor origin_wap for 480 dates\n",
      "Accepted!!: Used 4.88 seconds for calculation factors. The limit is 300 seconds.\n"
     ]
    },
    {
     "name": "stderr",
     "output_type": "stream",
     "text": [
      "\n",
      "\n",
      "100%|██████████| 12/12 [01:11<00:00,  5.92s/it]\u001B[A\u001B[A\n"
     ]
    }
   ],
   "source": [
    "# DO NOT MODIFY THE FOLLOWING CODE\n",
    "# Run this cell once you want to calculate your factor values and prepare for the test of your factor performance!\n",
    "new_factors = {factor_name: utils.flatten_factor_value(\n",
    "    factor_design.run_factor_value(all_data_dic_sorted, eval(factor_name), factor_name), factor_name)[factor_name] for\n",
    "               factor_name in tqdm(factor_list)}"
   ],
   "metadata": {
    "collapsed": false,
    "ExecuteTime": {
     "end_time": "2023-11-08T03:58:15.390640200Z",
     "start_time": "2023-11-08T03:57:04.277552900Z"
    }
   },
   "id": "d7ac545efc4fa658"
  },
  {
   "cell_type": "code",
   "execution_count": 35,
   "outputs": [
    {
     "data": {
      "text/plain": "array([  -0.,   -0.,   -0., ..., -540., -540., -540.])"
     },
     "execution_count": 35,
     "metadata": {},
     "output_type": "execute_result"
    }
   ],
   "source": [
    "new_factors['origin_seconds_in_bucket']"
   ],
   "metadata": {
    "collapsed": false,
    "ExecuteTime": {
     "end_time": "2023-11-08T03:58:30.406478600Z",
     "start_time": "2023-11-08T03:58:30.335836800Z"
    }
   },
   "id": "22c1dd6607773e96"
  },
  {
   "cell_type": "code",
   "execution_count": 32,
   "outputs": [
    {
     "data": {
      "text/plain": "5237980"
     },
     "execution_count": 32,
     "metadata": {},
     "output_type": "execute_result"
    }
   ],
   "source": [
    "len(all_data)"
   ],
   "metadata": {
    "collapsed": false,
    "ExecuteTime": {
     "end_time": "2023-11-08T03:55:06.990248400Z",
     "start_time": "2023-11-08T03:55:06.910260200Z"
    }
   },
   "id": "1a853266723d4cba"
  },
  {
   "cell_type": "code",
   "execution_count": 42,
   "outputs": [],
   "source": [
    "train_data = pd.read_csv('../research_train_set.csv')"
   ],
   "metadata": {
    "collapsed": false,
    "ExecuteTime": {
     "end_time": "2023-11-08T04:02:18.896831500Z",
     "start_time": "2023-11-08T04:02:11.432659600Z"
    }
   },
   "id": "e816266803fa59aa"
  },
  {
   "cell_type": "code",
   "execution_count": 43,
   "outputs": [
    {
     "data": {
      "text/plain": "880000"
     },
     "execution_count": 43,
     "metadata": {},
     "output_type": "execute_result"
    }
   ],
   "source": [
    "len(all_data)-len(train_data)"
   ],
   "metadata": {
    "collapsed": false,
    "ExecuteTime": {
     "end_time": "2023-11-08T04:02:33.885767Z",
     "start_time": "2023-11-08T04:02:33.821610700Z"
    }
   },
   "id": "2d2c34fdada59499"
  },
  {
   "cell_type": "code",
   "execution_count": 44,
   "outputs": [],
   "source": [
    "test_existed_factor = pd.DataFrame(new_factors).iloc[-880000:,:].to_dict('list')"
   ],
   "metadata": {
    "collapsed": false,
    "ExecuteTime": {
     "end_time": "2023-11-08T04:06:41.709355700Z",
     "start_time": "2023-11-08T04:06:40.460877400Z"
    }
   },
   "id": "52dbf1ea6a46db9a"
  },
  {
   "cell_type": "code",
   "execution_count": 47,
   "outputs": [],
   "source": [
    "utils.dump_json(test_existed_factor, 'test_existed_factor.json')"
   ],
   "metadata": {
    "collapsed": false,
    "ExecuteTime": {
     "end_time": "2023-11-08T04:08:15.674677500Z",
     "start_time": "2023-11-08T04:08:03.895392300Z"
    }
   },
   "id": "e29681fef4ecd4fe"
  },
  {
   "cell_type": "code",
   "execution_count": 49,
   "outputs": [],
   "source": [
    "target_on_test = np.load('target_on_test.npy')\n",
    "target_on_test[np.isnan(target_on_test)] = 0"
   ],
   "metadata": {
    "collapsed": false,
    "ExecuteTime": {
     "end_time": "2023-11-08T04:12:23.758071500Z",
     "start_time": "2023-11-08T04:12:23.693349500Z"
    }
   },
   "id": "489847cb2e205ed7"
  },
  {
   "cell_type": "code",
   "execution_count": 54,
   "outputs": [
    {
     "data": {
      "text/plain": "array([-1.3297796,  0.1502037,  2.7501583, ...,  1.1694431, -1.540184 ,\n       -6.530285 ])"
     },
     "execution_count": 54,
     "metadata": {},
     "output_type": "execute_result"
    }
   ],
   "source": [
    "target_on_test"
   ],
   "metadata": {
    "collapsed": false,
    "ExecuteTime": {
     "end_time": "2023-11-08T04:15:42.028050700Z",
     "start_time": "2023-11-08T04:15:41.962066700Z"
    }
   },
   "id": "c128026c644c927b"
  },
  {
   "cell_type": "code",
   "execution_count": 55,
   "outputs": [
    {
     "data": {
      "text/plain": "array([  -0.,   -0.,   -0., ..., -540., -540., -540.])"
     },
     "execution_count": 55,
     "metadata": {},
     "output_type": "execute_result"
    }
   ],
   "source": [
    "new_factors['origin_seconds_in_bucket']"
   ],
   "metadata": {
    "collapsed": false,
    "ExecuteTime": {
     "end_time": "2023-11-08T04:15:57.577970600Z",
     "start_time": "2023-11-08T04:15:57.513695800Z"
    }
   },
   "id": "123ceb19dad10d80"
  },
  {
   "cell_type": "code",
   "execution_count": 56,
   "outputs": [],
   "source": [
    "factor_performance = {}\n",
    "for keys, item in new_factors.items():\n",
    "    factor_performance[keys] = np.corrcoef(item[-880000:], target_on_test)[0, 1]"
   ],
   "metadata": {
    "collapsed": false,
    "ExecuteTime": {
     "end_time": "2023-11-08T04:16:37.005932300Z",
     "start_time": "2023-11-08T04:16:36.760891600Z"
    }
   },
   "id": "5344c69e1cdd741a"
  },
  {
   "cell_type": "code",
   "execution_count": 59,
   "outputs": [],
   "source": [
    "utils.dump_json(factor_performance, 'factor_performance_test.json')"
   ],
   "metadata": {
    "collapsed": false,
    "ExecuteTime": {
     "end_time": "2023-11-08T04:17:42.382118100Z",
     "start_time": "2023-11-08T04:17:42.318241700Z"
    }
   },
   "id": "979f0ebf8c253484"
  },
  {
   "cell_type": "code",
   "execution_count": null,
   "outputs": [],
   "source": [],
   "metadata": {
    "collapsed": false
   },
   "id": "7d416961830c3698"
  }
 ],
 "metadata": {
  "kernelspec": {
   "display_name": "Python 3",
   "language": "python",
   "name": "python3"
  },
  "language_info": {
   "codemirror_mode": {
    "name": "ipython",
    "version": 2
   },
   "file_extension": ".py",
   "mimetype": "text/x-python",
   "name": "python",
   "nbconvert_exporter": "python",
   "pygments_lexer": "ipython2",
   "version": "2.7.6"
  }
 },
 "nbformat": 4,
 "nbformat_minor": 5
}
