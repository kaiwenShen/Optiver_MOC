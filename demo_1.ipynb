{
 "cells": [
  {
   "cell_type": "code",
   "execution_count": 1,
   "outputs": [],
   "source": [
    "%load_ext autoreload\n",
    "%autoreload 2"
   ],
   "metadata": {
    "collapsed": false,
    "ExecuteTime": {
     "end_time": "2023-10-19T03:22:39.762129400Z",
     "start_time": "2023-10-19T03:22:39.665255700Z"
    }
   },
   "id": "70ef3be52cef60e9"
  },
  {
   "cell_type": "code",
   "execution_count": 2,
   "id": "initial_id",
   "metadata": {
    "collapsed": true,
    "ExecuteTime": {
     "end_time": "2023-10-19T03:22:40.071094Z",
     "start_time": "2023-10-19T03:22:39.763129500Z"
    }
   },
   "outputs": [],
   "source": [
    "from factor_design_ver2_beta import utils\n",
    "from factor_design_ver2_beta import factor_design\n",
    "from factor_design_ver2_beta import factor_backtest\n",
    "from joblib import Parallel, delayed\n",
    "import numpy as np\n",
    "import pandas as pd\n",
    "from tqdm import tqdm"
   ]
  },
  {
   "cell_type": "code",
   "execution_count": 3,
   "outputs": [],
   "source": [
    "df_train = pd.read_csv('research_train_set.csv')  # this is needed for the factor design"
   ],
   "metadata": {
    "collapsed": false,
    "ExecuteTime": {
     "end_time": "2023-10-19T03:22:46.698873400Z",
     "start_time": "2023-10-19T03:22:40.073094200Z"
    }
   },
   "id": "f7fda99f0dfb7205"
  },
  {
   "cell_type": "code",
   "execution_count": 4,
   "outputs": [
    {
     "data": {
      "text/plain": "{'stock_id': 0,\n 'date_id': 1,\n 'seconds_in_bucket': 2,\n 'imbalance_size': 3,\n 'imbalance_buy_sell_flag': 4,\n 'reference_price': 5,\n 'matched_size': 6,\n 'far_price': 7,\n 'near_price': 8,\n 'bid_price': 9,\n 'bid_size': 10,\n 'ask_price': 11,\n 'ask_size': 12,\n 'wap': 13,\n 'time_id': 14,\n 'row_id': 15}"
     },
     "execution_count": 4,
     "metadata": {},
     "output_type": "execute_result"
    }
   ],
   "source": [
    "col2index_map = utils.load_json('./factor_design_ver2_beta/col2index_map.json')\n",
    "col2index_map"
   ],
   "metadata": {
    "collapsed": false,
    "ExecuteTime": {
     "end_time": "2023-10-19T03:22:46.796825100Z",
     "start_time": "2023-10-19T03:22:46.698873400Z"
    }
   },
   "id": "2aeac260b24475df"
  },
  {
   "cell_type": "code",
   "execution_count": 5,
   "outputs": [
    {
     "data": {
      "text/plain": "stock_id                         0\ndate_id                          0\nseconds_in_bucket                0\nimbalance_size                 165\nimbalance_buy_sell_flag          0\nreference_price                165\nmatched_size                   165\nfar_price                  2408871\nnear_price                 2377155\nbid_price                      165\nbid_size                         0\nask_price                      165\nask_size                         0\nwap                            165\ntarget                          87\ntime_id                          0\nrow_id                           0\ndtype: int64"
     },
     "execution_count": 5,
     "metadata": {},
     "output_type": "execute_result"
    }
   ],
   "source": [
    "# count the number of nan in each column of df_train\n",
    "df_train.isna().sum()"
   ],
   "metadata": {
    "collapsed": false,
    "ExecuteTime": {
     "end_time": "2023-10-19T03:22:47.117659600Z",
     "start_time": "2023-10-19T03:22:46.797827300Z"
    }
   },
   "id": "96fe2d6b8172b00a"
  },
  {
   "cell_type": "markdown",
   "source": [
    "# build all original features into base factors"
   ],
   "metadata": {
    "collapsed": false
   },
   "id": "d77c7e58080ace3e"
  },
  {
   "cell_type": "code",
   "execution_count": 6,
   "outputs": [],
   "source": [
    "def origin_seconds_in_bucket(current_data: dict, hist_list: list) -> np.ndarray:\n",
    "    current_data = np.array(list(current_data.values()), dtype=float).T\n",
    "    current_data = np.nan_to_num(current_data)\n",
    "    return current_data[:, col2index_map['seconds_in_bucket']]\n",
    "\n",
    "\n",
    "def origin_imbalance_size(current_data: dict, hist_list: list) -> np.ndarray:\n",
    "    current_data = np.array(list(current_data.values()), dtype=float).T\n",
    "    current_data = np.nan_to_num(current_data)\n",
    "    return current_data[:, col2index_map['imbalance_size']]\n",
    "\n",
    "\n",
    "def origin_imbalance_buy_sell_flag(current_data: dict, hist_list: list) -> np.ndarray:\n",
    "    current_data = np.array(list(current_data.values()), dtype=float).T\n",
    "    current_data = np.nan_to_num(current_data)\n",
    "    return current_data[:, col2index_map['imbalance_buy_sell_flag']]\n",
    "\n",
    "\n",
    "def origin_reference_price(current_data: dict, hist_list: list) -> np.ndarray:\n",
    "    current_data = np.array(list(current_data.values()), dtype=float).T\n",
    "    current_data = np.nan_to_num(current_data)\n",
    "    return current_data[:, col2index_map['reference_price']]\n",
    "\n",
    "\n",
    "def origin_matched_size(current_data: dict, hist_list: list) -> np.ndarray:\n",
    "    current_data = np.array(list(current_data.values()), dtype=float).T\n",
    "    current_data = np.nan_to_num(current_data)\n",
    "    return current_data[:, col2index_map['matched_size']]\n",
    "\n",
    "\n",
    "def origin_far_price(current_data: dict, hist_list: list) -> np.ndarray:\n",
    "    current_data = np.array(list(current_data.values()), dtype=float).T\n",
    "    current_data = np.nan_to_num(current_data)\n",
    "    return current_data[:, col2index_map['far_price']]\n",
    "\n",
    "\n",
    "def origin_near_price(current_data: dict, hist_list: list) -> np.ndarray:\n",
    "    current_data = np.array(list(current_data.values()), dtype=float).T\n",
    "    current_data = np.nan_to_num(current_data)\n",
    "    return current_data[:, col2index_map['near_price']]\n",
    "\n",
    "\n",
    "def origin_bid_price(current_data: dict, hist_list: list) -> np.ndarray:\n",
    "    current_data = np.array(list(current_data.values()), dtype=float).T\n",
    "    current_data = np.nan_to_num(current_data)\n",
    "    return current_data[:, col2index_map['bid_price']]\n",
    "\n",
    "\n",
    "def origin_bid_size(current_data: dict, hist_list: list) -> np.ndarray:\n",
    "    current_data = np.array(list(current_data.values()), dtype=float).T\n",
    "    current_data = np.nan_to_num(current_data)\n",
    "    return current_data[:, col2index_map['bid_size']]\n",
    "\n",
    "\n",
    "def origin_ask_price(current_data: dict, hist_list: list) -> np.ndarray:\n",
    "    current_data = np.array(list(current_data.values()), dtype=float).T\n",
    "    current_data = np.nan_to_num(current_data)\n",
    "    return current_data[:, col2index_map['ask_price']]\n",
    "\n",
    "\n",
    "def origin_ask_size(current_data: dict, hist_list: list) -> np.ndarray:\n",
    "    current_data = np.array(list(current_data.values()), dtype=float).T\n",
    "    current_data = np.nan_to_num(current_data)\n",
    "    return current_data[:, col2index_map['ask_size']]\n",
    "\n",
    "\n",
    "def origin_wap(current_data: dict, hist_list: list) -> np.ndarray:\n",
    "    current_data = np.array(list(current_data.values()), dtype=float).T\n",
    "    current_data = np.nan_to_num(current_data)\n",
    "    return current_data[:, col2index_map['wap']]"
   ],
   "metadata": {
    "collapsed": false,
    "ExecuteTime": {
     "end_time": "2023-10-19T03:22:47.231950800Z",
     "start_time": "2023-10-19T03:22:47.116660700Z"
    }
   },
   "id": "a1c66341eda7bd28"
  },
  {
   "cell_type": "code",
   "execution_count": 7,
   "outputs": [
    {
     "name": "stderr",
     "output_type": "stream",
     "text": [
      "  0%|          | 0/12 [00:00<?, ?it/s]"
     ]
    },
    {
     "name": "stdout",
     "output_type": "stream",
     "text": [
      "Start reading df\n",
      "Finish reading df\n",
      "Start calculating factors\n",
      "Accepted!!: Used 4.01 seconds for calculation factors. The limit is 300 seconds.\n"
     ]
    },
    {
     "name": "stderr",
     "output_type": "stream",
     "text": [
      "  8%|▊         | 1/12 [00:19<03:34, 19.48s/it]"
     ]
    },
    {
     "name": "stdout",
     "output_type": "stream",
     "text": [
      "Start reading df\n",
      "Finish reading df\n",
      "Start calculating factors\n",
      "Accepted!!: Used 4.12 seconds for calculation factors. The limit is 300 seconds.\n"
     ]
    },
    {
     "name": "stderr",
     "output_type": "stream",
     "text": [
      " 17%|█▋        | 2/12 [00:38<03:13, 19.34s/it]"
     ]
    },
    {
     "name": "stdout",
     "output_type": "stream",
     "text": [
      "Start reading df\n",
      "Finish reading df\n",
      "Start calculating factors\n",
      "Accepted!!: Used 3.97 seconds for calculation factors. The limit is 300 seconds.\n"
     ]
    },
    {
     "name": "stderr",
     "output_type": "stream",
     "text": [
      " 25%|██▌       | 3/12 [00:58<02:54, 19.41s/it]"
     ]
    },
    {
     "name": "stdout",
     "output_type": "stream",
     "text": [
      "Start reading df\n",
      "Finish reading df\n",
      "Start calculating factors\n",
      "Accepted!!: Used 4.01 seconds for calculation factors. The limit is 300 seconds.\n"
     ]
    },
    {
     "name": "stderr",
     "output_type": "stream",
     "text": [
      " 33%|███▎      | 4/12 [01:17<02:34, 19.31s/it]"
     ]
    },
    {
     "name": "stdout",
     "output_type": "stream",
     "text": [
      "Start reading df\n",
      "Finish reading df\n",
      "Start calculating factors\n",
      "Accepted!!: Used 4.01 seconds for calculation factors. The limit is 300 seconds.\n"
     ]
    },
    {
     "name": "stderr",
     "output_type": "stream",
     "text": [
      " 42%|████▏     | 5/12 [01:36<02:13, 19.12s/it]"
     ]
    },
    {
     "name": "stdout",
     "output_type": "stream",
     "text": [
      "Start reading df\n",
      "Finish reading df\n",
      "Start calculating factors\n",
      "Accepted!!: Used 3.95 seconds for calculation factors. The limit is 300 seconds.\n"
     ]
    },
    {
     "name": "stderr",
     "output_type": "stream",
     "text": [
      " 50%|█████     | 6/12 [01:55<01:54, 19.06s/it]"
     ]
    },
    {
     "name": "stdout",
     "output_type": "stream",
     "text": [
      "Start reading df\n",
      "Finish reading df\n",
      "Start calculating factors\n",
      "Accepted!!: Used 4.01 seconds for calculation factors. The limit is 300 seconds.\n"
     ]
    },
    {
     "name": "stderr",
     "output_type": "stream",
     "text": [
      " 58%|█████▊    | 7/12 [02:14<01:35, 19.01s/it]"
     ]
    },
    {
     "name": "stdout",
     "output_type": "stream",
     "text": [
      "Start reading df\n",
      "Finish reading df\n",
      "Start calculating factors\n",
      "Accepted!!: Used 4.32 seconds for calculation factors. The limit is 300 seconds.\n"
     ]
    },
    {
     "name": "stderr",
     "output_type": "stream",
     "text": [
      " 67%|██████▋   | 8/12 [02:33<01:17, 19.28s/it]"
     ]
    },
    {
     "name": "stdout",
     "output_type": "stream",
     "text": [
      "Start reading df\n",
      "Finish reading df\n",
      "Start calculating factors\n",
      "Accepted!!: Used 4.97 seconds for calculation factors. The limit is 300 seconds.\n"
     ]
    },
    {
     "name": "stderr",
     "output_type": "stream",
     "text": [
      " 75%|███████▌  | 9/12 [02:56<01:01, 20.39s/it]"
     ]
    },
    {
     "name": "stdout",
     "output_type": "stream",
     "text": [
      "Start reading df\n",
      "Finish reading df\n",
      "Start calculating factors\n",
      "Accepted!!: Used 4.23 seconds for calculation factors. The limit is 300 seconds.\n"
     ]
    },
    {
     "name": "stderr",
     "output_type": "stream",
     "text": [
      " 83%|████████▎ | 10/12 [03:18<00:41, 20.75s/it]"
     ]
    },
    {
     "name": "stdout",
     "output_type": "stream",
     "text": [
      "Start reading df\n",
      "Finish reading df\n",
      "Start calculating factors\n",
      "Accepted!!: Used 4.11 seconds for calculation factors. The limit is 300 seconds.\n"
     ]
    },
    {
     "name": "stderr",
     "output_type": "stream",
     "text": [
      " 92%|█████████▏| 11/12 [03:38<00:20, 20.46s/it]"
     ]
    },
    {
     "name": "stdout",
     "output_type": "stream",
     "text": [
      "Start reading df\n",
      "Finish reading df\n",
      "Start calculating factors\n",
      "Accepted!!: Used 4.14 seconds for calculation factors. The limit is 300 seconds.\n"
     ]
    },
    {
     "name": "stderr",
     "output_type": "stream",
     "text": [
      "100%|██████████| 12/12 [03:57<00:00, 19.83s/it]\n"
     ]
    }
   ],
   "source": [
    "original_factor_name_list = [f'origin_{col}' for col in col2index_map.keys() if '_id' not in col]\n",
    "original_factor_dict = {factor_name: utils.flatten_factor_value(factor_design.run_factor_value(df_train, eval(factor_name)), factor_name)[factor_name] for factor_name in tqdm(original_factor_name_list)}# this takes 4min"
   ],
   "metadata": {
    "collapsed": false,
    "ExecuteTime": {
     "end_time": "2023-10-19T03:26:45.287054400Z",
     "start_time": "2023-10-19T03:22:47.215952700Z"
    }
   },
   "id": "7b83ce7486ba1d60"
  },
  {
   "cell_type": "markdown",
   "source": [
    "# Mid-price as a simple factor for testing"
   ],
   "metadata": {
    "collapsed": false
   },
   "id": "16ec9c70dfadfca4"
  },
  {
   "cell_type": "code",
   "execution_count": 8,
   "outputs": [],
   "source": [
    "def mid_price(current_data: dict, hist_list: list) -> np.ndarray:\n",
    "    '''\n",
    "    This will be the main function to design your factors for the competition. Please\n",
    "    define only one factor here each time. We provide you with:\n",
    "\n",
    "    Current_data: a dictionary in the format of {column_name: column_value}, where column_name is from the original\n",
    "    dataframe\n",
    "\n",
    "    hist_list: A list for you to save the previous factor values (optional). For instance,\n",
    "    if you are calculating a 100-day Moving Average (MA), then you can save the first calculated\n",
    "    MA in hist_list, and then for the next MA calculation, you can use the saved ones.\n",
    "    '''\n",
    "    ###################### ADD YOUR CODE HERE FOR FACTORS DESIGN ######################\n",
    "    # convert the current_data to your choice of numpy or pandas dataframe\n",
    "    # current_data = pd.DataFrame(current_data)\n",
    "    current_data = np.array(list(current_data.values()),\n",
    "                            dtype=float).T  # this is faster than pd.DataFrame(current_data).values\n",
    "    res = current_data[:, col2index_map['ask_price']] - current_data[:, col2index_map['bid_price']]\n",
    "    ############################## NAN/Inf handling ######################################\n",
    "    # if you have nan in your factor value, please fill it reasonably\n",
    "    # res = np.nan_to_num(res) # this is slow because it also checks for inf.\n",
    "    # res = np.where(np.isnan(res), 0, res)  # this is slightly faster than np.nan_to_num\n",
    "    res[np.isnan(res)] = 0  # this is the fastest way to fill nan with 0\n",
    "    ############################## END OF YOUR CODE ##############################\n",
    "    return res  # The return value MUSE BE a numpy array, with no NaN value\n",
    "    ####################################################################################\n"
   ],
   "metadata": {
    "collapsed": false,
    "ExecuteTime": {
     "end_time": "2023-10-19T03:26:45.418290600Z",
     "start_time": "2023-10-19T03:26:45.285019100Z"
    }
   },
   "id": "7bc1591fb2497356"
  },
  {
   "cell_type": "code",
   "execution_count": 9,
   "outputs": [],
   "source": [
    "def s1_imbalance(current_data: dict, hist_list: list) -> np.ndarray:\n",
    "    '''\n",
    "    This will be the main function to design your factors for the competition. Please\n",
    "    define only one factor here each time. We provide you with:\n",
    "\n",
    "    Current_data: a dictionary in the format of {column_name: column_value}, where column_name is from the original\n",
    "    dataframe\n",
    "\n",
    "    hist_list: A list for you to save the previous factor values (optional). For instance,\n",
    "    if you are calculating a 100-day Moving Average (MA), then you can save the first calculated\n",
    "    MA in hist_list, and then for the next MA calculation, you can use the saved ones.\n",
    "    '''\n",
    "    ###################### ADD YOUR CODE HERE FOR FACTORS DESIGN ######################\n",
    "    # convert the current_data to your choice of numpy or pandas dataframe\n",
    "    # current_data = pd.DataFrame(current_data)\n",
    "    current_data = np.array(list(current_data.values()),\n",
    "                            dtype=float).T  # this is faster than pd.DataFrame(current_data).values\n",
    "    res = (current_data[:, col2index_map['bid_size']] - current_data[:, col2index_map['ask_size']])/\\\n",
    "          (current_data[:, col2index_map['bid_size']] + current_data[:, col2index_map['ask_size']])\n",
    "    ############################## NAN/Inf handling ######################################\n",
    "    # if you have nan in your factor value, please fill it reasonably\n",
    "    # res = np.nan_to_num(res) # this is slow because it also checks for inf.\n",
    "    # res = np.where(np.isnan(res), 0, res)  # this is slightly faster than np.nan_to_num\n",
    "    res[np.isnan(res)] = 0  # this is the fastest way to fill nan\n",
    "    ############################## END OF YOUR CODE ##############################\n",
    "    return res  # The return value MUSE BE a numpy array, with no NaN value\n",
    "    ####################################################################################\n"
   ],
   "metadata": {
    "collapsed": false,
    "ExecuteTime": {
     "end_time": "2023-10-19T03:26:45.541726300Z",
     "start_time": "2023-10-19T03:26:45.422729400Z"
    }
   },
   "id": "c02f531a29d485ea"
  },
  {
   "cell_type": "code",
   "execution_count": 10,
   "outputs": [],
   "source": [
    "new_factor_list = ['mid_price', 's1_imbalance']"
   ],
   "metadata": {
    "collapsed": false,
    "ExecuteTime": {
     "end_time": "2023-10-19T03:26:45.658431300Z",
     "start_time": "2023-10-19T03:26:45.546726900Z"
    }
   },
   "id": "a185d78fb85977c8"
  },
  {
   "cell_type": "code",
   "execution_count": 11,
   "outputs": [
    {
     "name": "stderr",
     "output_type": "stream",
     "text": [
      "  0%|          | 0/2 [00:00<?, ?it/s]"
     ]
    },
    {
     "name": "stdout",
     "output_type": "stream",
     "text": [
      "Start reading df\n",
      "Finish reading df\n",
      "Start calculating factors\n",
      "Accepted!!: Used 3.37 seconds for calculation factors. The limit is 300 seconds.\n"
     ]
    },
    {
     "name": "stderr",
     "output_type": "stream",
     "text": [
      " 50%|█████     | 1/2 [00:18<00:18, 18.86s/it]"
     ]
    },
    {
     "name": "stdout",
     "output_type": "stream",
     "text": [
      "Start reading df\n",
      "Finish reading df\n",
      "Start calculating factors\n"
     ]
    },
    {
     "name": "stderr",
     "output_type": "stream",
     "text": [
      "C:\\Users\\kevin\\AppData\\Local\\Temp\\ipykernel_9816\\3348901828.py:18: RuntimeWarning: invalid value encountered in divide\n",
      "  res = (current_data[:, col2index_map['bid_size']] - current_data[:, col2index_map['ask_size']])/\\\n"
     ]
    },
    {
     "name": "stdout",
     "output_type": "stream",
     "text": [
      "Accepted!!: Used 4.04 seconds for calculation factors. The limit is 300 seconds.\n"
     ]
    },
    {
     "name": "stderr",
     "output_type": "stream",
     "text": [
      "100%|██████████| 2/2 [00:38<00:00, 19.30s/it]\n"
     ]
    }
   ],
   "source": [
    "new_factor= {factor_name: utils.flatten_factor_value(factor_design.run_factor_value(df_train, eval(factor_name)), factor_name)[factor_name] for factor_name in tqdm(new_factor_list)}"
   ],
   "metadata": {
    "collapsed": false,
    "ExecuteTime": {
     "end_time": "2023-10-19T03:27:24.372002200Z",
     "start_time": "2023-10-19T03:26:45.660432200Z"
    }
   },
   "id": "4f43e3be2ab6d51c"
  },
  {
   "cell_type": "markdown",
   "source": [
    "# Dump json files"
   ],
   "metadata": {
    "collapsed": false
   },
   "id": "8eb9db454237e81d"
  },
  {
   "cell_type": "code",
   "execution_count": 22,
   "outputs": [],
   "source": [
    "utils.dump_json(original_factor_dict, 'original_factor_dict.json')\n",
    "utils.dump_json(new_factor, 'new_factor.json')"
   ],
   "metadata": {
    "collapsed": false,
    "ExecuteTime": {
     "end_time": "2023-10-19T03:37:27.279523Z",
     "start_time": "2023-10-19T03:36:08.735720900Z"
    }
   },
   "id": "d0d9ba3289c24d54"
  },
  {
   "cell_type": "code",
   "execution_count": 1,
   "outputs": [],
   "source": [
    "import json\n",
    "with open('original_factor_dict.json', 'r') as f:\n",
    "    original_factor_dict = json.load(f)"
   ],
   "metadata": {
    "collapsed": false,
    "ExecuteTime": {
     "end_time": "2023-10-22T22:29:31.550036900Z",
     "start_time": "2023-10-22T22:29:19.141625600Z"
    }
   },
   "id": "74cd164a1c0de899"
  },
  {
   "cell_type": "code",
   "execution_count": 5,
   "outputs": [
    {
     "data": {
      "text/plain": "dict_keys(['origin_seconds_in_bucket', 'origin_imbalance_size', 'origin_imbalance_buy_sell_flag', 'origin_reference_price', 'origin_matched_size', 'origin_far_price', 'origin_near_price', 'origin_bid_price', 'origin_bid_size', 'origin_ask_price', 'origin_ask_size', 'origin_wap'])"
     },
     "execution_count": 5,
     "metadata": {},
     "output_type": "execute_result"
    }
   ],
   "source": [
    "original_factor_dict.keys()"
   ],
   "metadata": {
    "collapsed": false,
    "ExecuteTime": {
     "end_time": "2023-10-22T22:30:31.072207200Z",
     "start_time": "2023-10-22T22:30:31.032451300Z"
    }
   },
   "id": "7c659c023f25b135"
  },
  {
   "cell_type": "code",
   "execution_count": 7,
   "outputs": [
    {
     "data": {
      "text/plain": "4357980"
     },
     "execution_count": 7,
     "metadata": {},
     "output_type": "execute_result"
    }
   ],
   "source": [
    "len(original_factor_dict['origin_imbalance_size'])"
   ],
   "metadata": {
    "collapsed": false,
    "ExecuteTime": {
     "end_time": "2023-10-22T22:30:43.629320400Z",
     "start_time": "2023-10-22T22:30:43.625805600Z"
    }
   },
   "id": "cebf64b17840e17a"
  },
  {
   "cell_type": "code",
   "execution_count": 8,
   "outputs": [
    {
     "data": {
      "text/plain": "[3180602.69,\n 166603.91,\n 302879.87,\n 11917682.27,\n 447549.96,\n 0.0,\n 969969.4,\n 9412959.1,\n 2394875.85,\n 3039700.65]"
     },
     "execution_count": 8,
     "metadata": {},
     "output_type": "execute_result"
    }
   ],
   "source": [
    "original_factor_dict['origin_imbalance_size'][:10]"
   ],
   "metadata": {
    "collapsed": false,
    "ExecuteTime": {
     "end_time": "2023-10-22T22:30:53.632456400Z",
     "start_time": "2023-10-22T22:30:53.578622300Z"
    }
   },
   "id": "2883a8de0d232284"
  },
  {
   "cell_type": "markdown",
   "source": [
    "# Demo backtest"
   ],
   "metadata": {
    "collapsed": false
   },
   "id": "8d1d5402bf576143"
  },
  {
   "cell_type": "code",
   "execution_count": 12,
   "outputs": [
    {
     "data": {
      "text/plain": "dict_keys(['mid_price', 's1_imbalance'])"
     },
     "execution_count": 12,
     "metadata": {},
     "output_type": "execute_result"
    }
   ],
   "source": [
    "new_factor.keys()"
   ],
   "metadata": {
    "collapsed": false,
    "ExecuteTime": {
     "end_time": "2023-10-19T03:27:40.863200100Z",
     "start_time": "2023-10-19T03:27:40.771715200Z"
    }
   },
   "id": "35196e8fd87348e1"
  },
  {
   "cell_type": "code",
   "execution_count": 13,
   "outputs": [
    {
     "data": {
      "text/plain": "dict_keys(['origin_seconds_in_bucket', 'origin_imbalance_size', 'origin_imbalance_buy_sell_flag', 'origin_reference_price', 'origin_matched_size', 'origin_far_price', 'origin_near_price', 'origin_bid_price', 'origin_bid_size', 'origin_ask_price', 'origin_ask_size', 'origin_wap'])"
     },
     "execution_count": 13,
     "metadata": {},
     "output_type": "execute_result"
    }
   ],
   "source": [
    "original_factor_dict.keys()"
   ],
   "metadata": {
    "collapsed": false,
    "ExecuteTime": {
     "end_time": "2023-10-19T03:28:02.273023500Z",
     "start_time": "2023-10-19T03:28:02.185139200Z"
    }
   },
   "id": "94b15b1b3676d39"
  },
  {
   "cell_type": "code",
   "execution_count": 15,
   "outputs": [],
   "source": [
    "# check if all values in new_factor and original_factor_dict does not contain nan\n",
    "for factor_name, factor_value in new_factor.items():\n",
    "    assert not np.isnan(factor_value).any(), f'{factor_name} contains nan'"
   ],
   "metadata": {
    "collapsed": false,
    "ExecuteTime": {
     "end_time": "2023-10-19T03:29:02.296809Z",
     "start_time": "2023-10-19T03:29:02.206293600Z"
    }
   },
   "id": "4b9c8fe6dcbdab2d"
  },
  {
   "cell_type": "code",
   "execution_count": 17,
   "outputs": [],
   "source": [
    "demo_backtest = factor_backtest.Factor_Backtest(original_factor_dict, new_factor, {})"
   ],
   "metadata": {
    "collapsed": false,
    "ExecuteTime": {
     "end_time": "2023-10-19T03:30:42.264428500Z",
     "start_time": "2023-10-19T03:30:42.141487800Z"
    }
   },
   "id": "7b04d496d6d8ef60"
  },
  {
   "cell_type": "code",
   "execution_count": 19,
   "outputs": [
    {
     "name": "stdout",
     "output_type": "stream",
     "text": [
      "!xiaban \n",
      "{'mid_price_train': [1, 1, 1, 1, 1, 1, 1, 1, 1, 1, 1, 1, 1], 's1_imbalance_train': [1, 1, 1, 1, 1, 1, 1, 1, 1, 1, 1, 1, 1]}\n",
      "!xiaban \n",
      "{'mid_price_train': [1, 1, 1, 1, 1, 1, 1, 1, 1, 1, 1, 1, 1], 's1_imbalance_train': [1, 1, 1, 1, 1, 1, 1, 1, 1, 1, 1, 1, 1]}\n"
     ]
    }
   ],
   "source": [
    "demo_backtest.run_testing('train')"
   ],
   "metadata": {
    "collapsed": false,
    "ExecuteTime": {
     "end_time": "2023-10-19T03:31:14.441548500Z",
     "start_time": "2023-10-19T03:31:12.960938300Z"
    }
   },
   "id": "de9e6b8283e3dd52"
  },
  {
   "cell_type": "code",
   "execution_count": null,
   "outputs": [],
   "source": [],
   "metadata": {
    "collapsed": false
   },
   "id": "5fcd99b41a78eba6"
  }
 ],
 "metadata": {
  "kernelspec": {
   "display_name": "Python 3",
   "language": "python",
   "name": "python3"
  },
  "language_info": {
   "codemirror_mode": {
    "name": "ipython",
    "version": 2
   },
   "file_extension": ".py",
   "mimetype": "text/x-python",
   "name": "python",
   "nbconvert_exporter": "python",
   "pygments_lexer": "ipython2",
   "version": "2.7.6"
  }
 },
 "nbformat": 4,
 "nbformat_minor": 5
}
