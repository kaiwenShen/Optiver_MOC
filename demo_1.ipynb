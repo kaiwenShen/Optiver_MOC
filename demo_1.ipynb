{
 "cells": [
  {
   "cell_type": "code",
   "execution_count": 1,
   "outputs": [],
   "source": [
    "%load_ext autoreload\n",
    "%autoreload 2"
   ],
   "metadata": {
    "collapsed": false,
    "ExecuteTime": {
     "end_time": "2023-10-18T04:33:41.876071500Z",
     "start_time": "2023-10-18T04:33:41.779446500Z"
    }
   },
   "id": "70ef3be52cef60e9"
  },
  {
   "cell_type": "code",
   "execution_count": 2,
   "outputs": [],
   "source": [
    "# import sys, os\n",
    "# sys.path.insert(0, os.getcwd())"
   ],
   "metadata": {
    "collapsed": false,
    "ExecuteTime": {
     "end_time": "2023-10-18T04:33:41.968488400Z",
     "start_time": "2023-10-18T04:33:41.879074900Z"
    }
   },
   "id": "e48660b55e1354bc"
  },
  {
   "cell_type": "code",
   "execution_count": 3,
   "id": "initial_id",
   "metadata": {
    "collapsed": true,
    "ExecuteTime": {
     "end_time": "2023-10-18T04:33:42.063488200Z",
     "start_time": "2023-10-18T04:33:41.968488400Z"
    }
   },
   "outputs": [],
   "source": [
    "# from factor_design_ver2_beta import utils\n",
    "# from factor_design_ver2_beta import factor_design\n",
    "# from factor_design_ver2_beta import factor_backtest\n",
    "from factor_design_ver2_beta import *\n",
    "import numpy as np\n",
    "import pandas as pd\n",
    "# from .factor_design_ver2_beta import *"
   ]
  },
  {
   "cell_type": "code",
   "execution_count": 4,
   "outputs": [],
   "source": [
    "df_train = pd.read_csv('research_train_set.csv')"
   ],
   "metadata": {
    "collapsed": false,
    "ExecuteTime": {
     "end_time": "2023-10-18T04:33:49.681001400Z",
     "start_time": "2023-10-18T04:33:42.066488300Z"
    }
   },
   "id": "f7fda99f0dfb7205"
  },
  {
   "cell_type": "code",
   "execution_count": 5,
   "outputs": [],
   "source": [
    "def factor(current_data: dict, hist_list: list) -> np.ndarray:\n",
    "    '''\n",
    "    This will be the main function to design your factors for the competition. Please\n",
    "    define only one factor here each time. We provide you with:\n",
    "\n",
    "    Current_data: a dictionary in the format of {column_name: column_value}, where column_name is from the original\n",
    "    dataframe\n",
    "\n",
    "    hist_list: A list for you to save the previous factor values (optional). For instance,\n",
    "    if you are calculating a 100-day Moving Average (MA), then you can save the first calculated\n",
    "    MA in hist_list, and then for the next MA calculation, you can use the saved ones.\n",
    "    '''\n",
    "    ###################### ADD YOUR CODE HERE FOR FACTORS DESIGN ######################\n",
    "    # convert the current_data to your choice of numpy or pandas dataframe\n",
    "    # current_data = pd.DataFrame(current_data)\n",
    "    col2index_map = utils.load_json('./factor_design_ver2_beta/col2index_map.json')\n",
    "    current_data = np.array(list(current_data.values()),dtype=object).T  # this is faster than pd.DataFrame(current_data).values\n",
    "    # res = current_data[:,[col2index_map['stock_id'],col2index_map['date_id'],col2index_map['seconds_in_bucket']]]\n",
    "    res = current_data[:, col2index_map['ask_price']] - current_data[:, col2index_map['bid_price']]\n",
    "    return res # The return value MUSE BE a numpy array\n",
    "    ####################################################################################\n"
   ],
   "metadata": {
    "collapsed": false,
    "ExecuteTime": {
     "end_time": "2023-10-18T04:33:49.783370100Z",
     "start_time": "2023-10-18T04:33:49.684001100Z"
    }
   },
   "id": "7bc1591fb2497356"
  },
  {
   "cell_type": "code",
   "execution_count": 10,
   "outputs": [
    {
     "name": "stdout",
     "output_type": "stream",
     "text": [
      "D:\\Road2KaggleLord\\Optiver_MOC\n",
      "Start calculating factors\n",
      "At date 0 now\n",
      "At date 20 now\n",
      "At date 40 now\n",
      "At date 60 now\n",
      "At date 80 now\n",
      "At date 100 now\n",
      "At date 120 now\n",
      "At date 140 now\n",
      "At date 160 now\n",
      "At date 180 now\n",
      "At date 200 now\n",
      "At date 220 now\n",
      "At date 240 now\n",
      "At date 260 now\n",
      "At date 280 now\n",
      "At date 300 now\n",
      "At date 320 now\n",
      "At date 340 now\n",
      "At date 360 now\n",
      "At date 380 now\n",
      "At date 400 now\n",
      "Accepted!!: Used 5.90 seconds for calculation factors. The limit is 300 seconds.\n"
     ]
    }
   ],
   "source": [
    "from Optiver_MOC.factor_design_ver2_beta import factor_design\n",
    "from Optiver_MOC.factor_design_ver2_beta import utils\n",
    "from Optiver_MOC.factor_design_ver2_beta import factor_backtest\n",
    "factor_value_dict = factor_design.run_factor_value(df_train,factor)"
   ],
   "metadata": {
    "collapsed": false,
    "ExecuteTime": {
     "end_time": "2023-10-18T04:36:00.562448600Z",
     "start_time": "2023-10-18T04:35:36.086270100Z"
    }
   },
   "id": "a185d78fb85977c8"
  },
  {
   "cell_type": "code",
   "execution_count": 11,
   "outputs": [],
   "source": [
    "a = utils.flatten_factor_value(factor_value_dict,'test_factor')"
   ],
   "metadata": {
    "collapsed": false,
    "ExecuteTime": {
     "end_time": "2023-10-18T04:36:22.041939500Z",
     "start_time": "2023-10-18T04:36:21.503218300Z"
    }
   },
   "id": "da3b8035b54200dc"
  },
  {
   "cell_type": "code",
   "execution_count": 15,
   "outputs": [
    {
     "data": {
      "text/plain": "dict_keys(['test_factor'])"
     },
     "execution_count": 15,
     "metadata": {},
     "output_type": "execute_result"
    }
   ],
   "source": [
    "a.keys()"
   ],
   "metadata": {
    "collapsed": false,
    "ExecuteTime": {
     "end_time": "2023-10-18T04:40:03.690248Z",
     "start_time": "2023-10-18T04:40:03.503066900Z"
    }
   },
   "id": "9d6d4d260302c1a9"
  },
  {
   "cell_type": "code",
   "execution_count": 33,
   "outputs": [],
   "source": [
    "backtest_instance = factor_backtest.Factor_Backtest(a,a,{})"
   ],
   "metadata": {
    "collapsed": false,
    "ExecuteTime": {
     "end_time": "2023-10-18T04:48:28.721715600Z",
     "start_time": "2023-10-18T04:48:28.312966900Z"
    }
   },
   "id": "98e4bc2ae7f90ca4"
  },
  {
   "cell_type": "code",
   "execution_count": 34,
   "outputs": [
    {
     "name": "stdout",
     "output_type": "stream",
     "text": [
      "!xiaban \n",
      "{'test_factor_train': [1, 0]}\n"
     ]
    }
   ],
   "source": [
    "backtest_instance.run_testing('train')"
   ],
   "metadata": {
    "collapsed": false,
    "ExecuteTime": {
     "end_time": "2023-10-18T04:48:30.785493700Z",
     "start_time": "2023-10-18T04:48:30.591877800Z"
    }
   },
   "id": "6381dad8d6368fc3"
  },
  {
   "cell_type": "code",
   "execution_count": 29,
   "outputs": [],
   "source": [
    "# fillna \n",
    "a['test_factor'] = np.nan_to_num(a['test_factor'])"
   ],
   "metadata": {
    "collapsed": false,
    "ExecuteTime": {
     "end_time": "2023-10-18T04:46:49.361313600Z",
     "start_time": "2023-10-18T04:46:49.245235600Z"
    }
   },
   "id": "e75170caddc9a47b"
  },
  {
   "cell_type": "code",
   "execution_count": 30,
   "outputs": [
    {
     "data": {
      "text/plain": "0"
     },
     "execution_count": 30,
     "metadata": {},
     "output_type": "execute_result"
    }
   ],
   "source": [
    "np.sum(np.isnan(a['test_factor']))"
   ],
   "metadata": {
    "collapsed": false,
    "ExecuteTime": {
     "end_time": "2023-10-18T04:46:52.370985600Z",
     "start_time": "2023-10-18T04:46:52.265161400Z"
    }
   },
   "id": "6ab0101e523d3735"
  }
 ],
 "metadata": {
  "kernelspec": {
   "display_name": "Python 3",
   "language": "python",
   "name": "python3"
  },
  "language_info": {
   "codemirror_mode": {
    "name": "ipython",
    "version": 2
   },
   "file_extension": ".py",
   "mimetype": "text/x-python",
   "name": "python",
   "nbconvert_exporter": "python",
   "pygments_lexer": "ipython2",
   "version": "2.7.6"
  }
 },
 "nbformat": 4,
 "nbformat_minor": 5
}
