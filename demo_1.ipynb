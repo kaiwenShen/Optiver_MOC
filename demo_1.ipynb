{
 "cells": [
  {
   "cell_type": "code",
   "execution_count": 22,
   "outputs": [
    {
     "name": "stdout",
     "output_type": "stream",
     "text": [
      "The autoreload extension is already loaded. To reload it, use:\n",
      "  %reload_ext autoreload\n"
     ]
    }
   ],
   "source": [
    "%load_ext autoreload\n",
    "%autoreload 2"
   ],
   "metadata": {
    "collapsed": false,
    "ExecuteTime": {
     "end_time": "2023-11-04T14:24:30.273447900Z",
     "start_time": "2023-11-04T14:24:29.992959Z"
    }
   },
   "id": "70ef3be52cef60e9"
  },
  {
   "cell_type": "code",
   "execution_count": 23,
   "id": "initial_id",
   "metadata": {
    "collapsed": true,
    "ExecuteTime": {
     "end_time": "2023-11-04T14:24:30.317235800Z",
     "start_time": "2023-11-04T14:24:30.044206600Z"
    }
   },
   "outputs": [],
   "source": [
    "from factor_design_ver2_beta import utils\n",
    "from factor_design_ver2_beta import factor_design\n",
    "from factor_design_ver2_beta import factor_backtest\n",
    "from joblib import Parallel, delayed\n",
    "import numpy as np\n",
    "import pandas as pd\n",
    "from tqdm import tqdm"
   ]
  },
  {
   "cell_type": "code",
   "execution_count": 24,
   "outputs": [],
   "source": [
    "df_train = pd.read_csv('research_train_set.csv')  # this is needed for the factor design"
   ],
   "metadata": {
    "collapsed": false,
    "ExecuteTime": {
     "end_time": "2023-11-04T14:24:37.554758400Z",
     "start_time": "2023-11-04T14:24:30.092248200Z"
    }
   },
   "id": "f7fda99f0dfb7205"
  },
  {
   "cell_type": "code",
   "execution_count": 25,
   "outputs": [
    {
     "data": {
      "text/plain": "{'stock_id': 0,\n 'date_id': 1,\n 'seconds_in_bucket': 2,\n 'imbalance_size': 3,\n 'imbalance_buy_sell_flag': 4,\n 'reference_price': 5,\n 'matched_size': 6,\n 'far_price': 7,\n 'near_price': 8,\n 'bid_price': 9,\n 'bid_size': 10,\n 'ask_price': 11,\n 'ask_size': 12,\n 'wap': 13,\n 'time_id': 14,\n 'row_id': 15}"
     },
     "execution_count": 25,
     "metadata": {},
     "output_type": "execute_result"
    }
   ],
   "source": [
    "col2index_map = utils.load_json('./factor_design_ver2_beta/col2index_map.json')\n",
    "col2index_map"
   ],
   "metadata": {
    "collapsed": false,
    "ExecuteTime": {
     "end_time": "2023-11-04T14:24:37.617458700Z",
     "start_time": "2023-11-04T14:24:37.556794300Z"
    }
   },
   "id": "2aeac260b24475df"
  },
  {
   "cell_type": "code",
   "execution_count": 26,
   "outputs": [
    {
     "data": {
      "text/plain": "stock_id                         0\ndate_id                          0\nseconds_in_bucket                0\nimbalance_size                 165\nimbalance_buy_sell_flag          0\nreference_price                165\nmatched_size                   165\nfar_price                  2408871\nnear_price                 2377155\nbid_price                      165\nbid_size                         0\nask_price                      165\nask_size                         0\nwap                            165\ntarget                          87\ntime_id                          0\nrow_id                           0\ndtype: int64"
     },
     "execution_count": 26,
     "metadata": {},
     "output_type": "execute_result"
    }
   ],
   "source": [
    "# count the number of nan in each column of df_train\n",
    "df_train.isna().sum()"
   ],
   "metadata": {
    "collapsed": false,
    "ExecuteTime": {
     "end_time": "2023-11-04T14:24:37.882480600Z",
     "start_time": "2023-11-04T14:24:37.605461400Z"
    }
   },
   "id": "96fe2d6b8172b00a"
  },
  {
   "cell_type": "markdown",
   "source": [
    "# build all original features into base factors"
   ],
   "metadata": {
    "collapsed": false
   },
   "id": "d77c7e58080ace3e"
  },
  {
   "cell_type": "code",
   "execution_count": 27,
   "outputs": [],
   "source": [
    "def origin_seconds_in_bucket(current_data: dict, hist_list: list) -> np.ndarray:\n",
    "    current_data = np.array(list(current_data.values()), dtype=float).T\n",
    "    current_data = np.nan_to_num(current_data)\n",
    "    return -current_data[:, col2index_map['seconds_in_bucket']]\n",
    "\n",
    "\n",
    "def origin_imbalance_size(current_data: dict, hist_list: list) -> np.ndarray:\n",
    "    current_data = np.array(list(current_data.values()), dtype=float).T\n",
    "    current_data = np.nan_to_num(current_data)\n",
    "    return current_data[:, col2index_map['imbalance_size']]\n",
    "\n",
    "\n",
    "def origin_imbalance_buy_sell_flag(current_data: dict, hist_list: list) -> np.ndarray:\n",
    "    current_data = np.array(list(current_data.values()), dtype=float).T\n",
    "    current_data = np.nan_to_num(current_data)\n",
    "    return current_data[:, col2index_map['imbalance_buy_sell_flag']]\n",
    "\n",
    "\n",
    "def origin_reference_price(current_data: dict, hist_list: list) -> np.ndarray:\n",
    "    current_data = np.array(list(current_data.values()), dtype=float).T\n",
    "    current_data = np.nan_to_num(current_data)\n",
    "    return -current_data[:, col2index_map['reference_price']]\n",
    "\n",
    "\n",
    "def origin_matched_size(current_data: dict, hist_list: list) -> np.ndarray:\n",
    "    current_data = np.array(list(current_data.values()), dtype=float).T\n",
    "    current_data = np.nan_to_num(current_data)\n",
    "    return current_data[:, col2index_map['matched_size']]\n",
    "\n",
    "\n",
    "def origin_far_price(current_data: dict, hist_list: list) -> np.ndarray:\n",
    "    current_data = np.array(list(current_data.values()), dtype=float).T\n",
    "    current_data = np.nan_to_num(current_data)\n",
    "    return current_data[:, col2index_map['far_price']]\n",
    "\n",
    "\n",
    "def origin_near_price(current_data: dict, hist_list: list) -> np.ndarray:\n",
    "    current_data = np.array(list(current_data.values()), dtype=float).T\n",
    "    current_data = np.nan_to_num(current_data)\n",
    "    return current_data[:, col2index_map['near_price']]\n",
    "\n",
    "\n",
    "def origin_bid_price(current_data: dict, hist_list: list) -> np.ndarray:\n",
    "    current_data = np.array(list(current_data.values()), dtype=float).T\n",
    "    current_data = np.nan_to_num(current_data)\n",
    "    return -current_data[:, col2index_map['bid_price']]\n",
    "\n",
    "\n",
    "def origin_bid_size(current_data: dict, hist_list: list) -> np.ndarray:\n",
    "    current_data = np.array(list(current_data.values()), dtype=float).T\n",
    "    current_data = np.nan_to_num(current_data)\n",
    "    return -current_data[:, col2index_map['bid_size']]\n",
    "\n",
    "\n",
    "def origin_ask_price(current_data: dict, hist_list: list) -> np.ndarray:\n",
    "    current_data = np.array(list(current_data.values()), dtype=float).T\n",
    "    current_data = np.nan_to_num(current_data)\n",
    "    return -current_data[:, col2index_map['ask_price']]\n",
    "\n",
    "\n",
    "def origin_ask_size(current_data: dict, hist_list: list) -> np.ndarray:\n",
    "    current_data = np.array(list(current_data.values()), dtype=float).T\n",
    "    current_data = np.nan_to_num(current_data)\n",
    "    return current_data[:, col2index_map['ask_size']]\n",
    "\n",
    "\n",
    "def origin_wap(current_data: dict, hist_list: list) -> np.ndarray:\n",
    "    current_data = np.array(list(current_data.values()), dtype=float).T\n",
    "    current_data = np.nan_to_num(current_data)\n",
    "    return -current_data[:, col2index_map['wap']]"
   ],
   "metadata": {
    "collapsed": false,
    "ExecuteTime": {
     "end_time": "2023-11-04T14:24:37.946243800Z",
     "start_time": "2023-11-04T14:24:37.892480200Z"
    }
   },
   "id": "a1c66341eda7bd28"
  },
  {
   "cell_type": "code",
   "execution_count": 28,
   "outputs": [
    {
     "name": "stderr",
     "output_type": "stream",
     "text": [
      "  0%|          | 0/12 [00:00<?, ?it/s]"
     ]
    },
    {
     "name": "stdout",
     "output_type": "stream",
     "text": [
      "Start reading df\n",
      "Finish reading df\n",
      "Start calculating factors\n",
      "Accepted!!: Used 3.73 seconds for calculation factors. The limit is 300 seconds.\n"
     ]
    },
    {
     "name": "stderr",
     "output_type": "stream",
     "text": [
      "  8%|▊         | 1/12 [00:20<03:42, 20.24s/it]"
     ]
    },
    {
     "name": "stdout",
     "output_type": "stream",
     "text": [
      "Start reading df\n",
      "Finish reading df\n",
      "Start calculating factors\n",
      "Accepted!!: Used 3.95 seconds for calculation factors. The limit is 300 seconds.\n"
     ]
    },
    {
     "name": "stderr",
     "output_type": "stream",
     "text": [
      " 17%|█▋        | 2/12 [00:39<03:17, 19.74s/it]"
     ]
    },
    {
     "name": "stdout",
     "output_type": "stream",
     "text": [
      "Start reading df\n",
      "Finish reading df\n",
      "Start calculating factors\n",
      "Accepted!!: Used 3.98 seconds for calculation factors. The limit is 300 seconds.\n"
     ]
    },
    {
     "name": "stderr",
     "output_type": "stream",
     "text": [
      " 25%|██▌       | 3/12 [00:59<02:56, 19.62s/it]"
     ]
    },
    {
     "name": "stdout",
     "output_type": "stream",
     "text": [
      "Start reading df\n",
      "Finish reading df\n",
      "Start calculating factors\n",
      "Accepted!!: Used 3.80 seconds for calculation factors. The limit is 300 seconds.\n"
     ]
    },
    {
     "name": "stderr",
     "output_type": "stream",
     "text": [
      " 33%|███▎      | 4/12 [01:18<02:35, 19.46s/it]"
     ]
    },
    {
     "name": "stdout",
     "output_type": "stream",
     "text": [
      "Start reading df\n",
      "Finish reading df\n",
      "Start calculating factors\n",
      "Accepted!!: Used 3.94 seconds for calculation factors. The limit is 300 seconds.\n"
     ]
    },
    {
     "name": "stderr",
     "output_type": "stream",
     "text": [
      " 42%|████▏     | 5/12 [01:37<02:16, 19.46s/it]"
     ]
    },
    {
     "name": "stdout",
     "output_type": "stream",
     "text": [
      "Start reading df\n",
      "Finish reading df\n",
      "Start calculating factors\n",
      "Accepted!!: Used 4.00 seconds for calculation factors. The limit is 300 seconds.\n"
     ]
    },
    {
     "name": "stderr",
     "output_type": "stream",
     "text": [
      " 50%|█████     | 6/12 [01:57<01:57, 19.51s/it]"
     ]
    },
    {
     "name": "stdout",
     "output_type": "stream",
     "text": [
      "Start reading df\n",
      "Finish reading df\n",
      "Start calculating factors\n",
      "Accepted!!: Used 4.54 seconds for calculation factors. The limit is 300 seconds.\n"
     ]
    },
    {
     "name": "stderr",
     "output_type": "stream",
     "text": [
      " 58%|█████▊    | 7/12 [02:17<01:39, 19.84s/it]"
     ]
    },
    {
     "name": "stdout",
     "output_type": "stream",
     "text": [
      "Start reading df\n",
      "Finish reading df\n",
      "Start calculating factors\n",
      "Accepted!!: Used 3.75 seconds for calculation factors. The limit is 300 seconds.\n"
     ]
    },
    {
     "name": "stderr",
     "output_type": "stream",
     "text": [
      " 67%|██████▋   | 8/12 [02:37<01:18, 19.63s/it]"
     ]
    },
    {
     "name": "stdout",
     "output_type": "stream",
     "text": [
      "Start reading df\n",
      "Finish reading df\n",
      "Start calculating factors\n",
      "Accepted!!: Used 3.82 seconds for calculation factors. The limit is 300 seconds.\n"
     ]
    },
    {
     "name": "stderr",
     "output_type": "stream",
     "text": [
      " 75%|███████▌  | 9/12 [02:56<00:58, 19.54s/it]"
     ]
    },
    {
     "name": "stdout",
     "output_type": "stream",
     "text": [
      "Start reading df\n",
      "Finish reading df\n",
      "Start calculating factors\n",
      "Accepted!!: Used 3.79 seconds for calculation factors. The limit is 300 seconds.\n"
     ]
    },
    {
     "name": "stderr",
     "output_type": "stream",
     "text": [
      " 83%|████████▎ | 10/12 [03:15<00:38, 19.43s/it]"
     ]
    },
    {
     "name": "stdout",
     "output_type": "stream",
     "text": [
      "Start reading df\n",
      "Finish reading df\n",
      "Start calculating factors\n",
      "Accepted!!: Used 4.08 seconds for calculation factors. The limit is 300 seconds.\n"
     ]
    },
    {
     "name": "stderr",
     "output_type": "stream",
     "text": [
      " 92%|█████████▏| 11/12 [03:35<00:19, 19.57s/it]"
     ]
    },
    {
     "name": "stdout",
     "output_type": "stream",
     "text": [
      "Start reading df\n",
      "Finish reading df\n",
      "Start calculating factors\n",
      "Accepted!!: Used 3.75 seconds for calculation factors. The limit is 300 seconds.\n"
     ]
    },
    {
     "name": "stderr",
     "output_type": "stream",
     "text": [
      "100%|██████████| 12/12 [03:54<00:00, 19.56s/it]\n"
     ]
    }
   ],
   "source": [
    "original_factor_name_list = [f'origin_{col}' for col in col2index_map.keys() if '_id' not in col]\n",
    "original_factor_dict = {factor_name: utils.flatten_factor_value(factor_design.run_factor_value(df_train, eval(factor_name)), factor_name)[factor_name] for factor_name in tqdm(original_factor_name_list)}# this takes 4min"
   ],
   "metadata": {
    "collapsed": false,
    "ExecuteTime": {
     "end_time": "2023-11-04T14:28:32.721408200Z",
     "start_time": "2023-11-04T14:24:37.946243800Z"
    }
   },
   "id": "7b83ce7486ba1d60"
  },
  {
   "cell_type": "markdown",
   "source": [
    "# Mid-price as a simple factor for testing"
   ],
   "metadata": {
    "collapsed": false
   },
   "id": "16ec9c70dfadfca4"
  },
  {
   "cell_type": "code",
   "execution_count": 29,
   "outputs": [],
   "source": [
    "def mid_price(current_data: dict, hist_list: list) -> np.ndarray:\n",
    "    '''\n",
    "    This will be the main function to design your factors for the competition. Please\n",
    "    define only one factor here each time. We provide you with:\n",
    "\n",
    "    Current_data: a dictionary in the format of {column_name: column_value}, where column_name is from the original\n",
    "    dataframe\n",
    "\n",
    "    hist_list: A list for you to save the previous factor values (optional). For instance,\n",
    "    if you are calculating a 100-day Moving Average (MA), then you can save the first calculated\n",
    "    MA in hist_list, and then for the next MA calculation, you can use the saved ones.\n",
    "    '''\n",
    "    ###################### ADD YOUR CODE HERE FOR FACTORS DESIGN ######################\n",
    "    # convert the current_data to your choice of numpy or pandas dataframe\n",
    "    # current_data = pd.DataFrame(current_data)\n",
    "    current_data = np.array(list(current_data.values()),\n",
    "                            dtype=float).T  # this is faster than pd.DataFrame(current_data).values\n",
    "    res = current_data[:, col2index_map['ask_price']] - current_data[:, col2index_map['bid_price']]\n",
    "    ############################## NAN/Inf handling ######################################\n",
    "    # if you have nan in your factor value, please fill it reasonably\n",
    "    # res = np.nan_to_num(res) # this is slow because it also checks for inf.\n",
    "    # res = np.where(np.isnan(res), 0, res)  # this is slightly faster than np.nan_to_num\n",
    "    res[np.isnan(res)] = 0  # this is the fastest way to fill nan with 0\n",
    "    ############################## END OF YOUR CODE ##############################\n",
    "    return res  # The return value MUSE BE a numpy array, with no NaN value\n",
    "    ####################################################################################\n"
   ],
   "metadata": {
    "collapsed": false,
    "ExecuteTime": {
     "end_time": "2023-11-04T14:28:32.813158300Z",
     "start_time": "2023-11-04T14:28:32.725413900Z"
    }
   },
   "id": "7bc1591fb2497356"
  },
  {
   "cell_type": "code",
   "execution_count": 30,
   "outputs": [],
   "source": [
    "def s1_imbalance(current_data: dict, hist_list: list) -> np.ndarray:\n",
    "    '''\n",
    "    This will be the main function to design your factors for the competition. Please\n",
    "    define only one factor here each time. We provide you with:\n",
    "\n",
    "    Current_data: a dictionary in the format of {column_name: column_value}, where column_name is from the original\n",
    "    dataframe\n",
    "\n",
    "    hist_list: A list for you to save the previous factor values (optional). For instance,\n",
    "    if you are calculating a 100-day Moving Average (MA), then you can save the first calculated\n",
    "    MA in hist_list, and then for the next MA calculation, you can use the saved ones.\n",
    "    '''\n",
    "    ###################### ADD YOUR CODE HERE FOR FACTORS DESIGN ######################\n",
    "    # convert the current_data to your choice of numpy or pandas dataframe\n",
    "    # current_data = pd.DataFrame(current_data)\n",
    "    current_data = np.array(list(current_data.values()),\n",
    "                            dtype=float).T  # this is faster than pd.DataFrame(current_data).values\n",
    "    res = (current_data[:, col2index_map['bid_size']] - current_data[:, col2index_map['ask_size']])/\\\n",
    "          (current_data[:, col2index_map['bid_size']] + current_data[:, col2index_map['ask_size']])\n",
    "    ############################## NAN/Inf handling ######################################\n",
    "    # if you have nan in your factor value, please fill it reasonably\n",
    "    # res = np.nan_to_num(res) # this is slow because it also checks for inf.\n",
    "    # res = np.where(np.isnan(res), 0, res)  # this is slightly faster than np.nan_to_num\n",
    "    res[np.isnan(res)] = 0  # this is the fastest way to fill nan\n",
    "    ############################## END OF YOUR CODE ##############################\n",
    "    return -res  # The return value MUSE BE a numpy array, with no NaN value\n",
    "    ####################################################################################\n"
   ],
   "metadata": {
    "collapsed": false,
    "ExecuteTime": {
     "end_time": "2023-11-04T14:28:32.834299800Z",
     "start_time": "2023-11-04T14:28:32.769987400Z"
    }
   },
   "id": "c02f531a29d485ea"
  },
  {
   "cell_type": "code",
   "execution_count": 31,
   "outputs": [],
   "source": [
    "new_factor_list = ['mid_price', 's1_imbalance']"
   ],
   "metadata": {
    "collapsed": false,
    "ExecuteTime": {
     "end_time": "2023-11-04T14:28:32.912616800Z",
     "start_time": "2023-11-04T14:28:32.823300900Z"
    }
   },
   "id": "a185d78fb85977c8"
  },
  {
   "cell_type": "code",
   "execution_count": 32,
   "outputs": [
    {
     "name": "stderr",
     "output_type": "stream",
     "text": [
      "  0%|          | 0/2 [00:00<?, ?it/s]"
     ]
    },
    {
     "name": "stdout",
     "output_type": "stream",
     "text": [
      "Start reading df\n",
      "Finish reading df\n",
      "Start calculating factors\n",
      "Accepted!!: Used 5.20 seconds for calculation factors. The limit is 300 seconds.\n"
     ]
    },
    {
     "name": "stderr",
     "output_type": "stream",
     "text": [
      " 50%|█████     | 1/2 [00:23<00:23, 23.52s/it]"
     ]
    },
    {
     "name": "stdout",
     "output_type": "stream",
     "text": [
      "Start reading df\n",
      "Finish reading df\n",
      "Start calculating factors\n"
     ]
    },
    {
     "name": "stderr",
     "output_type": "stream",
     "text": [
      "C:\\Users\\kevin\\AppData\\Local\\Temp\\ipykernel_28952\\1401449458.py:18: RuntimeWarning: invalid value encountered in divide\n",
      "  res = (current_data[:, col2index_map['bid_size']] - current_data[:, col2index_map['ask_size']])/\\\n"
     ]
    },
    {
     "name": "stdout",
     "output_type": "stream",
     "text": [
      "Accepted!!: Used 3.47 seconds for calculation factors. The limit is 300 seconds.\n"
     ]
    },
    {
     "name": "stderr",
     "output_type": "stream",
     "text": [
      "100%|██████████| 2/2 [00:44<00:00, 22.36s/it]\n"
     ]
    }
   ],
   "source": [
    "new_factor= {factor_name: utils.flatten_factor_value(factor_design.run_factor_value(df_train, eval(factor_name)), factor_name)[factor_name] for factor_name in tqdm(new_factor_list)}"
   ],
   "metadata": {
    "collapsed": false,
    "ExecuteTime": {
     "end_time": "2023-11-04T14:29:17.652475900Z",
     "start_time": "2023-11-04T14:28:32.872613500Z"
    }
   },
   "id": "4f43e3be2ab6d51c"
  },
  {
   "cell_type": "code",
   "execution_count": 33,
   "outputs": [
    {
     "data": {
      "text/plain": "dict_keys(['mid_price', 's1_imbalance'])"
     },
     "execution_count": 33,
     "metadata": {},
     "output_type": "execute_result"
    }
   ],
   "source": [
    "new_factor.keys()"
   ],
   "metadata": {
    "collapsed": false,
    "ExecuteTime": {
     "end_time": "2023-11-04T14:29:17.766506700Z",
     "start_time": "2023-11-04T14:29:17.652475900Z"
    }
   },
   "id": "bcd71e9dc42d33aa"
  },
  {
   "cell_type": "code",
   "execution_count": 34,
   "outputs": [
    {
     "data": {
      "text/plain": "dict_keys(['origin_seconds_in_bucket', 'origin_imbalance_size', 'origin_imbalance_buy_sell_flag', 'origin_reference_price', 'origin_matched_size', 'origin_far_price', 'origin_near_price', 'origin_bid_price', 'origin_bid_size', 'origin_ask_price', 'origin_ask_size', 'origin_wap'])"
     },
     "execution_count": 34,
     "metadata": {},
     "output_type": "execute_result"
    }
   ],
   "source": [
    "original_factor_dict.keys()"
   ],
   "metadata": {
    "collapsed": false,
    "ExecuteTime": {
     "end_time": "2023-11-04T14:29:17.841120800Z",
     "start_time": "2023-11-04T14:29:17.742505500Z"
    }
   },
   "id": "b25d392d681d5d9d"
  },
  {
   "cell_type": "code",
   "execution_count": 35,
   "outputs": [],
   "source": [
    "df_train['target'].fillna(0, inplace=True)"
   ],
   "metadata": {
    "collapsed": false,
    "ExecuteTime": {
     "end_time": "2023-11-04T14:29:18.003987700Z",
     "start_time": "2023-11-04T14:29:17.878123200Z"
    }
   },
   "id": "ae651bfea725bb86"
  },
  {
   "cell_type": "code",
   "execution_count": 37,
   "outputs": [
    {
     "data": {
      "text/plain": "[0.007206974790691211, 0.11723116519487425]"
     },
     "execution_count": 37,
     "metadata": {},
     "output_type": "execute_result"
    }
   ],
   "source": [
    "[np.corrcoef(factor_value,df_train['target'])[0][1] for _, factor_value in new_factor.items()]"
   ],
   "metadata": {
    "collapsed": false,
    "ExecuteTime": {
     "end_time": "2023-11-04T14:32:10.791948600Z",
     "start_time": "2023-11-04T14:32:10.630771500Z"
    }
   },
   "id": "ffd3731d3ebfd4b1"
  },
  {
   "cell_type": "code",
   "execution_count": 36,
   "outputs": [
    {
     "data": {
      "text/plain": "[0.0031411326809556643,\n 0.0002407659908274056,\n 0.016656949485659357,\n 0.007669132333097741,\n 0.0008938218272246639,\n 3.64656727364899e-05,\n 0.0015755408195027897,\n 0.009739357728917175,\n 0.01802849277176966,\n 0.00912818222051981,\n 0.015096386763995221,\n 0.014586401579029696]"
     },
     "execution_count": 36,
     "metadata": {},
     "output_type": "execute_result"
    }
   ],
   "source": [
    "[np.corrcoef(factor_value,df_train['target'])[0][1] for _, factor_value in original_factor_dict.items()]"
   ],
   "metadata": {
    "collapsed": false,
    "ExecuteTime": {
     "start_time": "2023-11-04T14:29:18.002990900Z"
    }
   },
   "id": "23fb5a3899026b2d"
  },
  {
   "cell_type": "markdown",
   "source": [
    "# Dump json files"
   ],
   "metadata": {
    "collapsed": false
   },
   "id": "8eb9db454237e81d"
  },
  {
   "cell_type": "code",
   "execution_count": 38,
   "outputs": [],
   "source": [
    "utils.dump_json(original_factor_dict, 'original_factor_dict.json')\n",
    "utils.dump_json(new_factor, 'new_factor.json')"
   ],
   "metadata": {
    "collapsed": false,
    "ExecuteTime": {
     "end_time": "2023-11-04T14:33:37.810586900Z",
     "start_time": "2023-11-04T14:32:26.673353400Z"
    }
   },
   "id": "d0d9ba3289c24d54"
  },
  {
   "cell_type": "code",
   "execution_count": null,
   "outputs": [],
   "source": [
    "import json\n",
    "with open('original_factor_dict.json', 'r') as f:\n",
    "    original_factor_dict = json.load(f)"
   ],
   "metadata": {
    "collapsed": false,
    "ExecuteTime": {
     "start_time": "2023-11-04T14:14:43.838372900Z"
    }
   },
   "id": "74cd164a1c0de899"
  },
  {
   "cell_type": "code",
   "execution_count": null,
   "outputs": [],
   "source": [
    "original_factor_dict.keys()"
   ],
   "metadata": {
    "collapsed": false,
    "ExecuteTime": {
     "start_time": "2023-11-04T14:14:43.839373Z"
    }
   },
   "id": "7c659c023f25b135"
  },
  {
   "cell_type": "code",
   "execution_count": null,
   "outputs": [],
   "source": [
    "len(original_factor_dict['origin_imbalance_size'])"
   ],
   "metadata": {
    "collapsed": false,
    "ExecuteTime": {
     "start_time": "2023-11-04T14:14:43.841372800Z"
    }
   },
   "id": "cebf64b17840e17a"
  },
  {
   "cell_type": "code",
   "execution_count": null,
   "outputs": [],
   "source": [
    "original_factor_dict['origin_imbalance_size'][:10]"
   ],
   "metadata": {
    "collapsed": false,
    "ExecuteTime": {
     "start_time": "2023-11-04T14:14:43.842371600Z"
    }
   },
   "id": "2883a8de0d232284"
  },
  {
   "cell_type": "markdown",
   "source": [
    "# Demo backtest"
   ],
   "metadata": {
    "collapsed": false
   },
   "id": "8d1d5402bf576143"
  },
  {
   "cell_type": "code",
   "execution_count": null,
   "outputs": [],
   "source": [
    "new_factor.keys()"
   ],
   "metadata": {
    "collapsed": false,
    "ExecuteTime": {
     "start_time": "2023-11-04T14:14:43.844371800Z"
    }
   },
   "id": "35196e8fd87348e1"
  },
  {
   "cell_type": "code",
   "execution_count": null,
   "outputs": [],
   "source": [
    "original_factor_dict.keys()"
   ],
   "metadata": {
    "collapsed": false,
    "ExecuteTime": {
     "start_time": "2023-11-04T14:14:43.846372300Z"
    }
   },
   "id": "94b15b1b3676d39"
  },
  {
   "cell_type": "code",
   "execution_count": null,
   "outputs": [],
   "source": [
    "# check if all values in new_factor and original_factor_dict does not contain nan\n",
    "for factor_name, factor_value in new_factor.items():\n",
    "    assert not np.isnan(factor_value).any(), f'{factor_name} contains nan'"
   ],
   "metadata": {
    "collapsed": false,
    "ExecuteTime": {
     "start_time": "2023-11-04T14:14:43.848372Z"
    }
   },
   "id": "4b9c8fe6dcbdab2d"
  },
  {
   "cell_type": "code",
   "execution_count": null,
   "outputs": [],
   "source": [
    "demo_backtest = factor_backtest.Factor_Backtest(original_factor_dict, new_factor, {})"
   ],
   "metadata": {
    "collapsed": false,
    "ExecuteTime": {
     "start_time": "2023-11-04T14:14:43.849372300Z"
    }
   },
   "id": "7b04d496d6d8ef60"
  },
  {
   "cell_type": "code",
   "execution_count": null,
   "outputs": [],
   "source": [
    "demo_backtest.run_testing('train')"
   ],
   "metadata": {
    "collapsed": false,
    "ExecuteTime": {
     "start_time": "2023-11-04T14:14:43.851372Z"
    }
   },
   "id": "de9e6b8283e3dd52"
  },
  {
   "cell_type": "code",
   "execution_count": null,
   "outputs": [],
   "source": [],
   "metadata": {
    "collapsed": false,
    "ExecuteTime": {
     "start_time": "2023-11-04T14:14:43.853375200Z"
    }
   },
   "id": "5fcd99b41a78eba6"
  }
 ],
 "metadata": {
  "kernelspec": {
   "display_name": "Python 3",
   "language": "python",
   "name": "python3"
  },
  "language_info": {
   "codemirror_mode": {
    "name": "ipython",
    "version": 2
   },
   "file_extension": ".py",
   "mimetype": "text/x-python",
   "name": "python",
   "nbconvert_exporter": "python",
   "pygments_lexer": "ipython2",
   "version": "2.7.6"
  }
 },
 "nbformat": 4,
 "nbformat_minor": 5
}
